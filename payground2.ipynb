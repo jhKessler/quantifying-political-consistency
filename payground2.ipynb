{
 "cells": [
  {
   "cell_type": "code",
   "execution_count": null,
   "id": "75447f30",
   "metadata": {},
   "outputs": [],
   "source": [
    "import pandas as pd\n",
    "from src.prediction import config\n",
    "from loguru import logger\n",
    "data = pd.read_parquet(r\"data\\parquet\\predicted_votes.parquet\")\n",
    "def vote_counts_to_result(votes: pd.Series) -> str:\n",
    "    \"\"\"Convert vote counts to a result string.\"\"\"\n",
    "    max_votes = votes[[\"yes\", \"no\", \"abstain\"]].idxmax()\n",
    "    if max_votes == \"yes\":\n",
    "        return \"zustimmung\"\n",
    "    elif max_votes == \"no\":\n",
    "        return \"ablehnung\"\n",
    "    elif max_votes == \"abstain\":\n",
    "        return \"enthaltung\"\n",
    "    else:\n",
    "        logger.warning(f\"Unexpected vote counts: {votes}\")\n",
    "        return None\n",
    "\n",
    "# TODO flip around for beschlussempfelungen that vote against the recommendation\n",
    "def mirror_decision(decision: str) -> str:\n",
    "    \"\"\"Mirror the decision for beschlussempfehlungen.\"\"\"\n",
    "    if decision == \"zustimmung\":\n",
    "        return \"ablehnung\"\n",
    "    elif decision == \"ablehnung\":\n",
    "        return \"zustimmung\"\n",
    "    else:\n",
    "        return decision\n",
    "\n",
    "for party in config.PARTIES:\n",
    "    real_votes = pd.read_csv(f\"data/csv/vote_counts/{party}.csv\").rename(\n",
    "        columns={\"vote_id\": \"vote\"}\n",
    "    ).drop_duplicates(subset=\"vote\")\n",
    "    real_votes[f\"{party}_ground_truth\"] = real_votes.apply(vote_counts_to_result, axis=1)\n",
    "    data = data.merge(real_votes[[\"vote\", f\"{party}_ground_truth\"]], on=\"vote\", how=\"left\")\n",
    "    data[f\"{party}_prediction\"] = data[f\"{party}_decision\"].str[\"decision\"]\n",
    "    # Flip the decision for beschlussempfehlungen if they are against the underlying decision\n",
    "    # This is necessary because the beschlussempfehlung is a recommendation to vote against, thus changing the context\n",
    "    beschlussempfehlungen_filt = (data[\"beschlussempfehlung\"] == \"ablehnen\")\n",
    "    data.loc[beschlussempfehlungen_filt, f\"{party}_prediction\"] = data.loc[\n",
    "        beschlussempfehlungen_filt, f\"{party}_prediction\"\n",
    "    ].apply(mirror_decision)"
   ]
  },
  {
   "cell_type": "code",
   "execution_count": 14,
   "id": "00902dbb",
   "metadata": {},
   "outputs": [
    {
     "data": {
      "text/html": [
       "<div>\n",
       "<style scoped>\n",
       "    .dataframe tbody tr th:only-of-type {\n",
       "        vertical-align: middle;\n",
       "    }\n",
       "\n",
       "    .dataframe tbody tr th {\n",
       "        vertical-align: top;\n",
       "    }\n",
       "\n",
       "    .dataframe thead th {\n",
       "        text-align: right;\n",
       "    }\n",
       "</style>\n",
       "<table border=\"1\" class=\"dataframe\">\n",
       "  <thead>\n",
       "    <tr style=\"text-align: right;\">\n",
       "      <th></th>\n",
       "      <th>vote</th>\n",
       "      <th>drucksache_id</th>\n",
       "      <th>beschlussempfehlung</th>\n",
       "      <th>title</th>\n",
       "      <th>type</th>\n",
       "      <th>content</th>\n",
       "      <th>summary</th>\n",
       "      <th>embedding</th>\n",
       "      <th>date</th>\n",
       "      <th>AfD_decision</th>\n",
       "      <th>...</th>\n",
       "      <th>DIE_GRÜNEN_prediction</th>\n",
       "      <th>DIE_LINKE_ground_truth</th>\n",
       "      <th>DIE_LINKE_prediction</th>\n",
       "      <th>FDP_ground_truth</th>\n",
       "      <th>FDP_prediction</th>\n",
       "      <th>SPD_ground_truth</th>\n",
       "      <th>SPD_prediction</th>\n",
       "      <th>Union_ground_truth</th>\n",
       "      <th>Union_prediction</th>\n",
       "      <th>category</th>\n",
       "    </tr>\n",
       "  </thead>\n",
       "  <tbody>\n",
       "    <tr>\n",
       "      <th>8</th>\n",
       "      <td>20240613_2</td>\n",
       "      <td>20/11372</td>\n",
       "      <td>ablehnen</td>\n",
       "      <td>Antrag der Abgeordneten Dr. Bernd Baumann, Dr....</td>\n",
       "      <td>Antrag</td>\n",
       "      <td>Antrag der Abgeordneten Dr. Bernd Baumann, Dr....</td>\n",
       "      <td>Der Bundestag soll über ein Verbot des Vereins...</td>\n",
       "      <td>[-0.03824455663561821, 0.018761679530143738, 0...</td>\n",
       "      <td>2024-06-13</td>\n",
       "      <td>{'context': '- Islam:\n",
       "  - Wirken von Islam und...</td>\n",
       "      <td>...</td>\n",
       "      <td>ablehnung</td>\n",
       "      <td>zustimmung</td>\n",
       "      <td>ablehnung</td>\n",
       "      <td>zustimmung</td>\n",
       "      <td>ablehnung</td>\n",
       "      <td>zustimmung</td>\n",
       "      <td>ablehnung</td>\n",
       "      <td>zustimmung</td>\n",
       "      <td>ablehnung</td>\n",
       "      <td>Inneres &amp; Migration - Innere Sicherheit, öffen...</td>\n",
       "    </tr>\n",
       "    <tr>\n",
       "      <th>9</th>\n",
       "      <td>20240606_1</td>\n",
       "      <td>20/11393</td>\n",
       "      <td>ablehnen</td>\n",
       "      <td>Antrag der Fraktion der CDU/CSU Den politische...</td>\n",
       "      <td>Antrag</td>\n",
       "      <td>Antrag der Fraktion der CDU/CSU Den politische...</td>\n",
       "      <td>Der Bundestag soll über Maßnahmen zur Bekämpfu...</td>\n",
       "      <td>[-0.026766983792185783, 0.02231553941965103, 0...</td>\n",
       "      <td>2024-06-06</td>\n",
       "      <td>{'context': '- Islam:\n",
       "  - Wirken von Islam und...</td>\n",
       "      <td>...</td>\n",
       "      <td>ablehnung</td>\n",
       "      <td>zustimmung</td>\n",
       "      <td>zustimmung</td>\n",
       "      <td>zustimmung</td>\n",
       "      <td>ablehnung</td>\n",
       "      <td>zustimmung</td>\n",
       "      <td>ablehnung</td>\n",
       "      <td>ablehnung</td>\n",
       "      <td>ablehnung</td>\n",
       "      <td>Inneres &amp; Migration - Innere Sicherheit, öffen...</td>\n",
       "    </tr>\n",
       "    <tr>\n",
       "      <th>10</th>\n",
       "      <td>20240605_1</td>\n",
       "      <td>20/11149</td>\n",
       "      <td>ablehnen</td>\n",
       "      <td>Antrag der Abgeordneten Kay Gottschalk, Klaus ...</td>\n",
       "      <td>Antrag</td>\n",
       "      <td>Antrag der Abgeordneten Kay Gottschalk, Klaus ...</td>\n",
       "      <td>Es wird die vollständige Abschaffung des Solid...</td>\n",
       "      <td>[0.02055482566356659, 0.006369335111230612, 0....</td>\n",
       "      <td>2024-06-05</td>\n",
       "      <td>{'context': '- Steuern und Finanzen:\n",
       "  - Keine...</td>\n",
       "      <td>...</td>\n",
       "      <td>zustimmung</td>\n",
       "      <td>zustimmung</td>\n",
       "      <td>zustimmung</td>\n",
       "      <td>zustimmung</td>\n",
       "      <td>ablehnung</td>\n",
       "      <td>zustimmung</td>\n",
       "      <td>zustimmung</td>\n",
       "      <td>zustimmung</td>\n",
       "      <td>ablehnung</td>\n",
       "      <td>Finanzen - Steuern, Staatsbudget, Haushalts- u...</td>\n",
       "    </tr>\n",
       "    <tr>\n",
       "      <th>15</th>\n",
       "      <td>20240118_2</td>\n",
       "      <td>20/5551</td>\n",
       "      <td>ablehnen</td>\n",
       "      <td>Antrag der Abgeordneten Dr. Alexander Gauland,...</td>\n",
       "      <td>Antrag</td>\n",
       "      <td>Antrag der Abgeordneten Dr. Alexander Gauland,...</td>\n",
       "      <td>Der Bundestag soll über eine Friedensinitiativ...</td>\n",
       "      <td>[-0.05222005769610405, 0.017403464764356613, -...</td>\n",
       "      <td>2024-01-18</td>\n",
       "      <td>{'context': '- Außen- und Verteidigungspolitik...</td>\n",
       "      <td>...</td>\n",
       "      <td>ablehnung</td>\n",
       "      <td>NaN</td>\n",
       "      <td>ablehnung</td>\n",
       "      <td>zustimmung</td>\n",
       "      <td>zustimmung</td>\n",
       "      <td>zustimmung</td>\n",
       "      <td>ablehnung</td>\n",
       "      <td>zustimmung</td>\n",
       "      <td>zustimmung</td>\n",
       "      <td>Verteidigung &amp; Sicherheit - Militär, Verteidig...</td>\n",
       "    </tr>\n",
       "    <tr>\n",
       "      <th>16</th>\n",
       "      <td>20231130_1</td>\n",
       "      <td>20/7295</td>\n",
       "      <td>ablehnen</td>\n",
       "      <td>Antrag der Abgeordneten Christian Görke, Dr. G...</td>\n",
       "      <td>Antrag</td>\n",
       "      <td>Antrag der Abgeordneten Christian Görke, Dr. G...</td>\n",
       "      <td>Der Bundestag stimmt über einen Antrag zur Ref...</td>\n",
       "      <td>[0.05590945854783058, 0.010546945035457611, 0....</td>\n",
       "      <td>2023-11-30</td>\n",
       "      <td>{'context': '- Steuern und Finanzen:\n",
       "  - Keine...</td>\n",
       "      <td>...</td>\n",
       "      <td>ablehnung</td>\n",
       "      <td>ablehnung</td>\n",
       "      <td>ablehnung</td>\n",
       "      <td>zustimmung</td>\n",
       "      <td>zustimmung</td>\n",
       "      <td>zustimmung</td>\n",
       "      <td>ablehnung</td>\n",
       "      <td>zustimmung</td>\n",
       "      <td>zustimmung</td>\n",
       "      <td>Finanzen - Steuern, Staatsbudget, Haushalts- u...</td>\n",
       "    </tr>\n",
       "    <tr>\n",
       "      <th>...</th>\n",
       "      <td>...</td>\n",
       "      <td>...</td>\n",
       "      <td>...</td>\n",
       "      <td>...</td>\n",
       "      <td>...</td>\n",
       "      <td>...</td>\n",
       "      <td>...</td>\n",
       "      <td>...</td>\n",
       "      <td>...</td>\n",
       "      <td>...</td>\n",
       "      <td>...</td>\n",
       "      <td>...</td>\n",
       "      <td>...</td>\n",
       "      <td>...</td>\n",
       "      <td>...</td>\n",
       "      <td>...</td>\n",
       "      <td>...</td>\n",
       "      <td>...</td>\n",
       "      <td>...</td>\n",
       "      <td>...</td>\n",
       "      <td>...</td>\n",
       "    </tr>\n",
       "    <tr>\n",
       "      <th>206</th>\n",
       "      <td>20140130_1</td>\n",
       "      <td>18/180</td>\n",
       "      <td>ablehnen</td>\n",
       "      <td>Antrag der Abgeordneten Harald Ebner, Bärbel H...</td>\n",
       "      <td>Antrag</td>\n",
       "      <td>Deutscher Bundestag\\nDrucksache 18/180 18. Wah...</td>\n",
       "      <td>Es wird über die Ablehnung der Zulassung der g...</td>\n",
       "      <td>[-0.015334045514464378, 0.04127142205834389, 0...</td>\n",
       "      <td>2014-01-30</td>\n",
       "      <td>{'context': '- Unterstützung eines Europas sou...</td>\n",
       "      <td>...</td>\n",
       "      <td>ablehnung</td>\n",
       "      <td>ablehnung</td>\n",
       "      <td>ablehnung</td>\n",
       "      <td>NaN</td>\n",
       "      <td>zustimmung</td>\n",
       "      <td>zustimmung</td>\n",
       "      <td>ablehnung</td>\n",
       "      <td>zustimmung</td>\n",
       "      <td>ablehnung</td>\n",
       "      <td>Landwirtschaft &amp; Ernährung - Agrarpolitik, Ern...</td>\n",
       "    </tr>\n",
       "    <tr>\n",
       "      <th>211</th>\n",
       "      <td>20130606</td>\n",
       "      <td>17/12485</td>\n",
       "      <td>ablehnen</td>\n",
       "      <td>Antrag der Abgeordneten Michael Groß, Sören Ba...</td>\n",
       "      <td>Antrag</td>\n",
       "      <td>Deutscher Bundestag Drucksache 17/12485 17. Wa...</td>\n",
       "      <td>Der Antrag fordert Maßnahmen für bezahlbares W...</td>\n",
       "      <td>[0.007606168743222952, 0.0040185037069022655, ...</td>\n",
       "      <td>2013-06-06</td>\n",
       "      <td>{'context': '- Nachhaltiges Energiekonzept für...</td>\n",
       "      <td>...</td>\n",
       "      <td>ablehnung</td>\n",
       "      <td>enthaltung</td>\n",
       "      <td>ablehnung</td>\n",
       "      <td>zustimmung</td>\n",
       "      <td>ablehnung</td>\n",
       "      <td>ablehnung</td>\n",
       "      <td>ablehnung</td>\n",
       "      <td>zustimmung</td>\n",
       "      <td>ablehnung</td>\n",
       "      <td>Wohnen &amp; Stadtentwicklung - Wohnungsbau, Städt...</td>\n",
       "    </tr>\n",
       "    <tr>\n",
       "      <th>212</th>\n",
       "      <td>20130606</td>\n",
       "      <td>17/12481</td>\n",
       "      <td>ablehnen</td>\n",
       "      <td>Antrag der Abgeordneten Heidrun Bluhm, Halina ...</td>\n",
       "      <td>Antrag</td>\n",
       "      <td>Deutscher Bundestag Drucksache 17/12481 17. Wa...</td>\n",
       "      <td>Der Antrag fordert Maßnahmen zur Bekämpfung de...</td>\n",
       "      <td>[0.005351749248802662, 0.021321283653378487, 0...</td>\n",
       "      <td>2013-06-06</td>\n",
       "      <td>{'context': '- Nachhaltiges Energiekonzept für...</td>\n",
       "      <td>...</td>\n",
       "      <td>ablehnung</td>\n",
       "      <td>enthaltung</td>\n",
       "      <td>ablehnung</td>\n",
       "      <td>zustimmung</td>\n",
       "      <td>zustimmung</td>\n",
       "      <td>ablehnung</td>\n",
       "      <td>ablehnung</td>\n",
       "      <td>zustimmung</td>\n",
       "      <td>ablehnung</td>\n",
       "      <td>Wohnen &amp; Stadtentwicklung - Wohnungsbau, Städt...</td>\n",
       "    </tr>\n",
       "    <tr>\n",
       "      <th>213</th>\n",
       "      <td>20130606</td>\n",
       "      <td>17/11696</td>\n",
       "      <td>ablehnen</td>\n",
       "      <td>Antrag der Abgeordneten Nicole Gohlke, Agnes A...</td>\n",
       "      <td>Antrag</td>\n",
       "      <td>Deutscher Bundestag Drucksache 17/11696 17. Wa...</td>\n",
       "      <td>Der Antrag fordert Maßnahmen zur Verbesserung ...</td>\n",
       "      <td>[-0.012698019854724407, 0.04128566384315491, 0...</td>\n",
       "      <td>2013-06-06</td>\n",
       "      <td>{'context': '- Nachhaltiges Energiekonzept für...</td>\n",
       "      <td>...</td>\n",
       "      <td>ablehnung</td>\n",
       "      <td>enthaltung</td>\n",
       "      <td>ablehnung</td>\n",
       "      <td>zustimmung</td>\n",
       "      <td>ablehnung</td>\n",
       "      <td>ablehnung</td>\n",
       "      <td>ablehnung</td>\n",
       "      <td>zustimmung</td>\n",
       "      <td>ablehnung</td>\n",
       "      <td>Wohnen &amp; Stadtentwicklung - Wohnungsbau, Städt...</td>\n",
       "    </tr>\n",
       "    <tr>\n",
       "      <th>217</th>\n",
       "      <td>20130315</td>\n",
       "      <td>17/11206</td>\n",
       "      <td>ablehnen</td>\n",
       "      <td>Antrag der Abgeordneten Sylvia Kotting-Uhl, Bä...</td>\n",
       "      <td>Antrag</td>\n",
       "      <td>Deutscher Bundestag Drucksache 17/11206 17. Wa...</td>\n",
       "      <td>Der Bundestag soll über die Aufnahme bilateral...</td>\n",
       "      <td>[0.012956887483596802, 0.02061012014746666, 0....</td>\n",
       "      <td>2013-03-15</td>\n",
       "      <td>None</td>\n",
       "      <td>...</td>\n",
       "      <td>ablehnung</td>\n",
       "      <td>ablehnung</td>\n",
       "      <td>ablehnung</td>\n",
       "      <td>zustimmung</td>\n",
       "      <td>zustimmung</td>\n",
       "      <td>ablehnung</td>\n",
       "      <td>ablehnung</td>\n",
       "      <td>zustimmung</td>\n",
       "      <td>ablehnung</td>\n",
       "      <td>Umwelt, Klima &amp; Naturschutz - Umweltschutz, Kl...</td>\n",
       "    </tr>\n",
       "  </tbody>\n",
       "</table>\n",
       "<p>87 rows × 28 columns</p>\n",
       "</div>"
      ],
      "text/plain": [
       "           vote drucksache_id beschlussempfehlung  \\\n",
       "8    20240613_2      20/11372            ablehnen   \n",
       "9    20240606_1      20/11393            ablehnen   \n",
       "10   20240605_1      20/11149            ablehnen   \n",
       "15   20240118_2       20/5551            ablehnen   \n",
       "16   20231130_1       20/7295            ablehnen   \n",
       "..          ...           ...                 ...   \n",
       "206  20140130_1        18/180            ablehnen   \n",
       "211    20130606      17/12485            ablehnen   \n",
       "212    20130606      17/12481            ablehnen   \n",
       "213    20130606      17/11696            ablehnen   \n",
       "217    20130315      17/11206            ablehnen   \n",
       "\n",
       "                                                 title    type  \\\n",
       "8    Antrag der Abgeordneten Dr. Bernd Baumann, Dr....  Antrag   \n",
       "9    Antrag der Fraktion der CDU/CSU Den politische...  Antrag   \n",
       "10   Antrag der Abgeordneten Kay Gottschalk, Klaus ...  Antrag   \n",
       "15   Antrag der Abgeordneten Dr. Alexander Gauland,...  Antrag   \n",
       "16   Antrag der Abgeordneten Christian Görke, Dr. G...  Antrag   \n",
       "..                                                 ...     ...   \n",
       "206  Antrag der Abgeordneten Harald Ebner, Bärbel H...  Antrag   \n",
       "211  Antrag der Abgeordneten Michael Groß, Sören Ba...  Antrag   \n",
       "212  Antrag der Abgeordneten Heidrun Bluhm, Halina ...  Antrag   \n",
       "213  Antrag der Abgeordneten Nicole Gohlke, Agnes A...  Antrag   \n",
       "217  Antrag der Abgeordneten Sylvia Kotting-Uhl, Bä...  Antrag   \n",
       "\n",
       "                                               content  \\\n",
       "8    Antrag der Abgeordneten Dr. Bernd Baumann, Dr....   \n",
       "9    Antrag der Fraktion der CDU/CSU Den politische...   \n",
       "10   Antrag der Abgeordneten Kay Gottschalk, Klaus ...   \n",
       "15   Antrag der Abgeordneten Dr. Alexander Gauland,...   \n",
       "16   Antrag der Abgeordneten Christian Görke, Dr. G...   \n",
       "..                                                 ...   \n",
       "206  Deutscher Bundestag\\nDrucksache 18/180 18. Wah...   \n",
       "211  Deutscher Bundestag Drucksache 17/12485 17. Wa...   \n",
       "212  Deutscher Bundestag Drucksache 17/12481 17. Wa...   \n",
       "213  Deutscher Bundestag Drucksache 17/11696 17. Wa...   \n",
       "217  Deutscher Bundestag Drucksache 17/11206 17. Wa...   \n",
       "\n",
       "                                               summary  \\\n",
       "8    Der Bundestag soll über ein Verbot des Vereins...   \n",
       "9    Der Bundestag soll über Maßnahmen zur Bekämpfu...   \n",
       "10   Es wird die vollständige Abschaffung des Solid...   \n",
       "15   Der Bundestag soll über eine Friedensinitiativ...   \n",
       "16   Der Bundestag stimmt über einen Antrag zur Ref...   \n",
       "..                                                 ...   \n",
       "206  Es wird über die Ablehnung der Zulassung der g...   \n",
       "211  Der Antrag fordert Maßnahmen für bezahlbares W...   \n",
       "212  Der Antrag fordert Maßnahmen zur Bekämpfung de...   \n",
       "213  Der Antrag fordert Maßnahmen zur Verbesserung ...   \n",
       "217  Der Bundestag soll über die Aufnahme bilateral...   \n",
       "\n",
       "                                             embedding       date  \\\n",
       "8    [-0.03824455663561821, 0.018761679530143738, 0... 2024-06-13   \n",
       "9    [-0.026766983792185783, 0.02231553941965103, 0... 2024-06-06   \n",
       "10   [0.02055482566356659, 0.006369335111230612, 0.... 2024-06-05   \n",
       "15   [-0.05222005769610405, 0.017403464764356613, -... 2024-01-18   \n",
       "16   [0.05590945854783058, 0.010546945035457611, 0.... 2023-11-30   \n",
       "..                                                 ...        ...   \n",
       "206  [-0.015334045514464378, 0.04127142205834389, 0... 2014-01-30   \n",
       "211  [0.007606168743222952, 0.0040185037069022655, ... 2013-06-06   \n",
       "212  [0.005351749248802662, 0.021321283653378487, 0... 2013-06-06   \n",
       "213  [-0.012698019854724407, 0.04128566384315491, 0... 2013-06-06   \n",
       "217  [0.012956887483596802, 0.02061012014746666, 0.... 2013-03-15   \n",
       "\n",
       "                                          AfD_decision  ...  \\\n",
       "8    {'context': '- Islam:\n",
       "  - Wirken von Islam und...  ...   \n",
       "9    {'context': '- Islam:\n",
       "  - Wirken von Islam und...  ...   \n",
       "10   {'context': '- Steuern und Finanzen:\n",
       "  - Keine...  ...   \n",
       "15   {'context': '- Außen- und Verteidigungspolitik...  ...   \n",
       "16   {'context': '- Steuern und Finanzen:\n",
       "  - Keine...  ...   \n",
       "..                                                 ...  ...   \n",
       "206  {'context': '- Unterstützung eines Europas sou...  ...   \n",
       "211  {'context': '- Nachhaltiges Energiekonzept für...  ...   \n",
       "212  {'context': '- Nachhaltiges Energiekonzept für...  ...   \n",
       "213  {'context': '- Nachhaltiges Energiekonzept für...  ...   \n",
       "217                                               None  ...   \n",
       "\n",
       "    DIE_GRÜNEN_prediction DIE_LINKE_ground_truth DIE_LINKE_prediction  \\\n",
       "8               ablehnung             zustimmung            ablehnung   \n",
       "9               ablehnung             zustimmung           zustimmung   \n",
       "10             zustimmung             zustimmung           zustimmung   \n",
       "15              ablehnung                    NaN            ablehnung   \n",
       "16              ablehnung              ablehnung            ablehnung   \n",
       "..                    ...                    ...                  ...   \n",
       "206             ablehnung              ablehnung            ablehnung   \n",
       "211             ablehnung             enthaltung            ablehnung   \n",
       "212             ablehnung             enthaltung            ablehnung   \n",
       "213             ablehnung             enthaltung            ablehnung   \n",
       "217             ablehnung              ablehnung            ablehnung   \n",
       "\n",
       "    FDP_ground_truth FDP_prediction SPD_ground_truth SPD_prediction  \\\n",
       "8         zustimmung      ablehnung       zustimmung      ablehnung   \n",
       "9         zustimmung      ablehnung       zustimmung      ablehnung   \n",
       "10        zustimmung      ablehnung       zustimmung     zustimmung   \n",
       "15        zustimmung     zustimmung       zustimmung      ablehnung   \n",
       "16        zustimmung     zustimmung       zustimmung      ablehnung   \n",
       "..               ...            ...              ...            ...   \n",
       "206              NaN     zustimmung       zustimmung      ablehnung   \n",
       "211       zustimmung      ablehnung        ablehnung      ablehnung   \n",
       "212       zustimmung     zustimmung        ablehnung      ablehnung   \n",
       "213       zustimmung      ablehnung        ablehnung      ablehnung   \n",
       "217       zustimmung     zustimmung        ablehnung      ablehnung   \n",
       "\n",
       "    Union_ground_truth Union_prediction  \\\n",
       "8           zustimmung        ablehnung   \n",
       "9            ablehnung        ablehnung   \n",
       "10          zustimmung        ablehnung   \n",
       "15          zustimmung       zustimmung   \n",
       "16          zustimmung       zustimmung   \n",
       "..                 ...              ...   \n",
       "206         zustimmung        ablehnung   \n",
       "211         zustimmung        ablehnung   \n",
       "212         zustimmung        ablehnung   \n",
       "213         zustimmung        ablehnung   \n",
       "217         zustimmung        ablehnung   \n",
       "\n",
       "                                              category  \n",
       "8    Inneres & Migration - Innere Sicherheit, öffen...  \n",
       "9    Inneres & Migration - Innere Sicherheit, öffen...  \n",
       "10   Finanzen - Steuern, Staatsbudget, Haushalts- u...  \n",
       "15   Verteidigung & Sicherheit - Militär, Verteidig...  \n",
       "16   Finanzen - Steuern, Staatsbudget, Haushalts- u...  \n",
       "..                                                 ...  \n",
       "206  Landwirtschaft & Ernährung - Agrarpolitik, Ern...  \n",
       "211  Wohnen & Stadtentwicklung - Wohnungsbau, Städt...  \n",
       "212  Wohnen & Stadtentwicklung - Wohnungsbau, Städt...  \n",
       "213  Wohnen & Stadtentwicklung - Wohnungsbau, Städt...  \n",
       "217  Umwelt, Klima & Naturschutz - Umweltschutz, Kl...  \n",
       "\n",
       "[87 rows x 28 columns]"
      ]
     },
     "execution_count": 14,
     "metadata": {},
     "output_type": "execute_result"
    }
   ],
   "source": [
    "data[(data[\"beschlussempfehlung\"] == \"ablehnen\")]"
   ]
  },
  {
   "cell_type": "code",
   "execution_count": 12,
   "id": "6c24e31c",
   "metadata": {},
   "outputs": [
    {
     "data": {
      "text/html": [
       "<div>\n",
       "<style scoped>\n",
       "    .dataframe tbody tr th:only-of-type {\n",
       "        vertical-align: middle;\n",
       "    }\n",
       "\n",
       "    .dataframe tbody tr th {\n",
       "        vertical-align: top;\n",
       "    }\n",
       "\n",
       "    .dataframe thead th {\n",
       "        text-align: right;\n",
       "    }\n",
       "</style>\n",
       "<table border=\"1\" class=\"dataframe\">\n",
       "  <thead>\n",
       "    <tr style=\"text-align: right;\">\n",
       "      <th></th>\n",
       "      <th>vote</th>\n",
       "      <th>drucksache_id</th>\n",
       "      <th>beschlussempfehlung</th>\n",
       "      <th>title</th>\n",
       "      <th>type</th>\n",
       "      <th>content</th>\n",
       "      <th>summary</th>\n",
       "      <th>embedding</th>\n",
       "      <th>date</th>\n",
       "      <th>AfD_decision</th>\n",
       "      <th>...</th>\n",
       "      <th>DIE_GRÜNEN_prediction</th>\n",
       "      <th>DIE_LINKE_ground_truth</th>\n",
       "      <th>DIE_LINKE_prediction</th>\n",
       "      <th>FDP_ground_truth</th>\n",
       "      <th>FDP_prediction</th>\n",
       "      <th>SPD_ground_truth</th>\n",
       "      <th>SPD_prediction</th>\n",
       "      <th>Union_ground_truth</th>\n",
       "      <th>Union_prediction</th>\n",
       "      <th>category</th>\n",
       "    </tr>\n",
       "  </thead>\n",
       "  <tbody>\n",
       "    <tr>\n",
       "      <th>0</th>\n",
       "      <td>20250130_4</td>\n",
       "      <td>20/14047</td>\n",
       "      <td>annehmen</td>\n",
       "      <td>Antrag der Bundesregierung Fortsetzung der Bet...</td>\n",
       "      <td>Antrag</td>\n",
       "      <td>Antrag der Bundesregierung Fortsetzung der Bet...</td>\n",
       "      <td>Es wird über die Fortsetzung der deutschen Bet...</td>\n",
       "      <td>[-0.032250940799713135, 0.04619118571281433, 0...</td>\n",
       "      <td>2025-01-30</td>\n",
       "      <td>{'context': '- Außen- und Verteidigungspolitik...</td>\n",
       "      <td>...</td>\n",
       "      <td>zustimmung</td>\n",
       "      <td>ablehnung</td>\n",
       "      <td>ablehnung</td>\n",
       "      <td>zustimmung</td>\n",
       "      <td>zustimmung</td>\n",
       "      <td>zustimmung</td>\n",
       "      <td>zustimmung</td>\n",
       "      <td>zustimmung</td>\n",
       "      <td>zustimmung</td>\n",
       "      <td>Verteidigung &amp; Sicherheit - Militär, Verteidig...</td>\n",
       "    </tr>\n",
       "    <tr>\n",
       "      <th>1</th>\n",
       "      <td>20250130_3</td>\n",
       "      <td>20/14046</td>\n",
       "      <td>annehmen</td>\n",
       "      <td>Antrag der Bundesregierung Fortsetzung der Bet...</td>\n",
       "      <td>Antrag</td>\n",
       "      <td>Antrag der Bundesregierung Fortsetzung der Bet...</td>\n",
       "      <td>Der Bundestag stimmt über die Fortsetzung der ...</td>\n",
       "      <td>[-0.023844607174396515, 0.07453092187643051, 0...</td>\n",
       "      <td>2025-01-30</td>\n",
       "      <td>{'context': '- Außen- und Verteidigungspolitik...</td>\n",
       "      <td>...</td>\n",
       "      <td>zustimmung</td>\n",
       "      <td>ablehnung</td>\n",
       "      <td>ablehnung</td>\n",
       "      <td>zustimmung</td>\n",
       "      <td>zustimmung</td>\n",
       "      <td>zustimmung</td>\n",
       "      <td>zustimmung</td>\n",
       "      <td>zustimmung</td>\n",
       "      <td>zustimmung</td>\n",
       "      <td>Verteidigung &amp; Sicherheit - Militär, Verteidig...</td>\n",
       "    </tr>\n",
       "    <tr>\n",
       "      <th>2</th>\n",
       "      <td>20250130_2</td>\n",
       "      <td>20/14045</td>\n",
       "      <td>annehmen</td>\n",
       "      <td>Antrag der Bundesregierung Fortsetzung der Bet...</td>\n",
       "      <td>Antrag</td>\n",
       "      <td>Antrag der Bundesregierung Fortsetzung der Bet...</td>\n",
       "      <td>Der Bundestag stimmt über die Fortsetzung der ...</td>\n",
       "      <td>[-0.026726506650447845, 0.04273178055882454, 0...</td>\n",
       "      <td>2025-01-30</td>\n",
       "      <td>{'context': '- Außen- und Verteidigungspolitik...</td>\n",
       "      <td>...</td>\n",
       "      <td>zustimmung</td>\n",
       "      <td>ablehnung</td>\n",
       "      <td>ablehnung</td>\n",
       "      <td>zustimmung</td>\n",
       "      <td>zustimmung</td>\n",
       "      <td>zustimmung</td>\n",
       "      <td>zustimmung</td>\n",
       "      <td>zustimmung</td>\n",
       "      <td>zustimmung</td>\n",
       "      <td>Verteidigung &amp; Sicherheit - Militär, Verteidig...</td>\n",
       "    </tr>\n",
       "    <tr>\n",
       "      <th>3</th>\n",
       "      <td>20250130_1</td>\n",
       "      <td>20/14044</td>\n",
       "      <td>annehmen</td>\n",
       "      <td>Antrag der Bundesregierung Fortsetzung der Bet...</td>\n",
       "      <td>Antrag</td>\n",
       "      <td>Antrag der Bundesregierung Fortsetzung der Bet...</td>\n",
       "      <td>Der Bundestag stimmt über die Fortsetzung der ...</td>\n",
       "      <td>[-0.03594012185931206, 0.025598490610718727, 0...</td>\n",
       "      <td>2025-01-30</td>\n",
       "      <td>{'context': '- Außen- und Verteidigungspolitik...</td>\n",
       "      <td>...</td>\n",
       "      <td>zustimmung</td>\n",
       "      <td>ablehnung</td>\n",
       "      <td>ablehnung</td>\n",
       "      <td>zustimmung</td>\n",
       "      <td>zustimmung</td>\n",
       "      <td>zustimmung</td>\n",
       "      <td>zustimmung</td>\n",
       "      <td>zustimmung</td>\n",
       "      <td>zustimmung</td>\n",
       "      <td>Verteidigung &amp; Sicherheit - Militär, Verteidig...</td>\n",
       "    </tr>\n",
       "    <tr>\n",
       "      <th>4</th>\n",
       "      <td>20241017_3</td>\n",
       "      <td>20/12893</td>\n",
       "      <td>annehmen</td>\n",
       "      <td>Antrag der Bundesregierung Fortsetzung des Ein...</td>\n",
       "      <td>Antrag</td>\n",
       "      <td>Antrag der Bundesregierung Fortsetzung des Ein...</td>\n",
       "      <td>Der Bundestag stimmt über die Fortsetzung des ...</td>\n",
       "      <td>[-0.0020443603862076998, 0.058881428092718124,...</td>\n",
       "      <td>2024-10-17</td>\n",
       "      <td>{'context': '- Außen- und Verteidigungspolitik...</td>\n",
       "      <td>...</td>\n",
       "      <td>zustimmung</td>\n",
       "      <td>ablehnung</td>\n",
       "      <td>ablehnung</td>\n",
       "      <td>zustimmung</td>\n",
       "      <td>zustimmung</td>\n",
       "      <td>zustimmung</td>\n",
       "      <td>zustimmung</td>\n",
       "      <td>zustimmung</td>\n",
       "      <td>zustimmung</td>\n",
       "      <td>Verteidigung &amp; Sicherheit - Militär, Verteidig...</td>\n",
       "    </tr>\n",
       "    <tr>\n",
       "      <th>...</th>\n",
       "      <td>...</td>\n",
       "      <td>...</td>\n",
       "      <td>...</td>\n",
       "      <td>...</td>\n",
       "      <td>...</td>\n",
       "      <td>...</td>\n",
       "      <td>...</td>\n",
       "      <td>...</td>\n",
       "      <td>...</td>\n",
       "      <td>...</td>\n",
       "      <td>...</td>\n",
       "      <td>...</td>\n",
       "      <td>...</td>\n",
       "      <td>...</td>\n",
       "      <td>...</td>\n",
       "      <td>...</td>\n",
       "      <td>...</td>\n",
       "      <td>...</td>\n",
       "      <td>...</td>\n",
       "      <td>...</td>\n",
       "      <td>...</td>\n",
       "    </tr>\n",
       "    <tr>\n",
       "      <th>618</th>\n",
       "      <td>20121025_5</td>\n",
       "      <td>17/11196</td>\n",
       "      <td>None</td>\n",
       "      <td>Änderungsantrag der Abgeordneten Volker Beck (...</td>\n",
       "      <td>Änderungsantrag</td>\n",
       "      <td>Deutscher Bundestag Drucksache 17/11196 17. Wa...</td>\n",
       "      <td>Der Antrag fordert die steuerrechtliche Gleich...</td>\n",
       "      <td>[0.027212975546717644, 0.02205045148730278, 0....</td>\n",
       "      <td>2012-10-25</td>\n",
       "      <td>None</td>\n",
       "      <td>...</td>\n",
       "      <td>zustimmung</td>\n",
       "      <td>zustimmung</td>\n",
       "      <td>zustimmung</td>\n",
       "      <td>ablehnung</td>\n",
       "      <td>zustimmung</td>\n",
       "      <td>zustimmung</td>\n",
       "      <td>zustimmung</td>\n",
       "      <td>ablehnung</td>\n",
       "      <td>zustimmung</td>\n",
       "      <td>Arbeit &amp; Soziales - Arbeitsmarktpolitik, Sozia...</td>\n",
       "    </tr>\n",
       "    <tr>\n",
       "      <th>619</th>\n",
       "      <td>20121025_4</td>\n",
       "      <td>17/11193</td>\n",
       "      <td>None</td>\n",
       "      <td>Änderungsantrag der Fraktion der SPD zu der zw...</td>\n",
       "      <td>Änderungsantrag</td>\n",
       "      <td>Deutscher Bundestag Drucksache 17/11193 17. Wa...</td>\n",
       "      <td>Es wird die Abschaffung des ermäßigten Umsatzs...</td>\n",
       "      <td>[-0.007618354167789221, 0.011488755233585835, ...</td>\n",
       "      <td>2012-10-25</td>\n",
       "      <td>None</td>\n",
       "      <td>...</td>\n",
       "      <td>ablehnung</td>\n",
       "      <td>zustimmung</td>\n",
       "      <td>ablehnung</td>\n",
       "      <td>ablehnung</td>\n",
       "      <td>ablehnung</td>\n",
       "      <td>zustimmung</td>\n",
       "      <td>ablehnung</td>\n",
       "      <td>ablehnung</td>\n",
       "      <td>ablehnung</td>\n",
       "      <td>Finanzen - Steuern, Staatsbudget, Haushalts- u...</td>\n",
       "    </tr>\n",
       "    <tr>\n",
       "      <th>620</th>\n",
       "      <td>20121025_3</td>\n",
       "      <td>17/11172</td>\n",
       "      <td>None</td>\n",
       "      <td>Änderungsantrag der Abgeordneten Dr. Gerhard S...</td>\n",
       "      <td>Änderungsantrag</td>\n",
       "      <td>Deutscher Bundestag Drucksache 17/11172 17. Wa...</td>\n",
       "      <td>Es wird über eine Änderung des Wertpapierhande...</td>\n",
       "      <td>[-0.010517100803554058, 0.019554799422621727, ...</td>\n",
       "      <td>2012-10-25</td>\n",
       "      <td>None</td>\n",
       "      <td>...</td>\n",
       "      <td>zustimmung</td>\n",
       "      <td>zustimmung</td>\n",
       "      <td>zustimmung</td>\n",
       "      <td>ablehnung</td>\n",
       "      <td>zustimmung</td>\n",
       "      <td>enthaltung</td>\n",
       "      <td>zustimmung</td>\n",
       "      <td>ablehnung</td>\n",
       "      <td>zustimmung</td>\n",
       "      <td>Justiz &amp; Verbraucherschutz - Rechtsprechung, G...</td>\n",
       "    </tr>\n",
       "    <tr>\n",
       "      <th>621</th>\n",
       "      <td>20121025_2</td>\n",
       "      <td>17/10059</td>\n",
       "      <td>None</td>\n",
       "      <td>Gesetzentwurf der Bundesregierung Entwurf eine...</td>\n",
       "      <td>Gesetzentwurf</td>\n",
       "      <td>A. Problem und Ziel Die intensiven langjährige...</td>\n",
       "      <td>Es wird über ein Abkommen mit der Schweiz abge...</td>\n",
       "      <td>[0.020592067390680313, 0.05659760162234306, 0....</td>\n",
       "      <td>2012-10-25</td>\n",
       "      <td>None</td>\n",
       "      <td>...</td>\n",
       "      <td>zustimmung</td>\n",
       "      <td>ablehnung</td>\n",
       "      <td>zustimmung</td>\n",
       "      <td>zustimmung</td>\n",
       "      <td>zustimmung</td>\n",
       "      <td>ablehnung</td>\n",
       "      <td>zustimmung</td>\n",
       "      <td>zustimmung</td>\n",
       "      <td>zustimmung</td>\n",
       "      <td>Finanzen - Steuern, Staatsbudget, Haushalts- u...</td>\n",
       "    </tr>\n",
       "    <tr>\n",
       "      <th>622</th>\n",
       "      <td>20121025</td>\n",
       "      <td>17/10773</td>\n",
       "      <td>None</td>\n",
       "      <td>Gesetzentwurf der Fraktionen der CDU/CSU und F...</td>\n",
       "      <td>Gesetzentwurf</td>\n",
       "      <td>A. Problem und Ziel Während die durchschnittli...</td>\n",
       "      <td>Der Gesetzentwurf sieht eine Anpassung der Ver...</td>\n",
       "      <td>[-0.025487294420599937, 0.02351684868335724, 0...</td>\n",
       "      <td>2012-10-25</td>\n",
       "      <td>None</td>\n",
       "      <td>...</td>\n",
       "      <td>ablehnung</td>\n",
       "      <td>ablehnung</td>\n",
       "      <td>ablehnung</td>\n",
       "      <td>zustimmung</td>\n",
       "      <td>zustimmung</td>\n",
       "      <td>ablehnung</td>\n",
       "      <td>zustimmung</td>\n",
       "      <td>zustimmung</td>\n",
       "      <td>zustimmung</td>\n",
       "      <td>Arbeit &amp; Soziales - Arbeitsmarktpolitik, Sozia...</td>\n",
       "    </tr>\n",
       "  </tbody>\n",
       "</table>\n",
       "<p>623 rows × 28 columns</p>\n",
       "</div>"
      ],
      "text/plain": [
       "           vote drucksache_id beschlussempfehlung  \\\n",
       "0    20250130_4      20/14047            annehmen   \n",
       "1    20250130_3      20/14046            annehmen   \n",
       "2    20250130_2      20/14045            annehmen   \n",
       "3    20250130_1      20/14044            annehmen   \n",
       "4    20241017_3      20/12893            annehmen   \n",
       "..          ...           ...                 ...   \n",
       "618  20121025_5      17/11196                None   \n",
       "619  20121025_4      17/11193                None   \n",
       "620  20121025_3      17/11172                None   \n",
       "621  20121025_2      17/10059                None   \n",
       "622    20121025      17/10773                None   \n",
       "\n",
       "                                                 title             type  \\\n",
       "0    Antrag der Bundesregierung Fortsetzung der Bet...           Antrag   \n",
       "1    Antrag der Bundesregierung Fortsetzung der Bet...           Antrag   \n",
       "2    Antrag der Bundesregierung Fortsetzung der Bet...           Antrag   \n",
       "3    Antrag der Bundesregierung Fortsetzung der Bet...           Antrag   \n",
       "4    Antrag der Bundesregierung Fortsetzung des Ein...           Antrag   \n",
       "..                                                 ...              ...   \n",
       "618  Änderungsantrag der Abgeordneten Volker Beck (...  Änderungsantrag   \n",
       "619  Änderungsantrag der Fraktion der SPD zu der zw...  Änderungsantrag   \n",
       "620  Änderungsantrag der Abgeordneten Dr. Gerhard S...  Änderungsantrag   \n",
       "621  Gesetzentwurf der Bundesregierung Entwurf eine...    Gesetzentwurf   \n",
       "622  Gesetzentwurf der Fraktionen der CDU/CSU und F...    Gesetzentwurf   \n",
       "\n",
       "                                               content  \\\n",
       "0    Antrag der Bundesregierung Fortsetzung der Bet...   \n",
       "1    Antrag der Bundesregierung Fortsetzung der Bet...   \n",
       "2    Antrag der Bundesregierung Fortsetzung der Bet...   \n",
       "3    Antrag der Bundesregierung Fortsetzung der Bet...   \n",
       "4    Antrag der Bundesregierung Fortsetzung des Ein...   \n",
       "..                                                 ...   \n",
       "618  Deutscher Bundestag Drucksache 17/11196 17. Wa...   \n",
       "619  Deutscher Bundestag Drucksache 17/11193 17. Wa...   \n",
       "620  Deutscher Bundestag Drucksache 17/11172 17. Wa...   \n",
       "621  A. Problem und Ziel Die intensiven langjährige...   \n",
       "622  A. Problem und Ziel Während die durchschnittli...   \n",
       "\n",
       "                                               summary  \\\n",
       "0    Es wird über die Fortsetzung der deutschen Bet...   \n",
       "1    Der Bundestag stimmt über die Fortsetzung der ...   \n",
       "2    Der Bundestag stimmt über die Fortsetzung der ...   \n",
       "3    Der Bundestag stimmt über die Fortsetzung der ...   \n",
       "4    Der Bundestag stimmt über die Fortsetzung des ...   \n",
       "..                                                 ...   \n",
       "618  Der Antrag fordert die steuerrechtliche Gleich...   \n",
       "619  Es wird die Abschaffung des ermäßigten Umsatzs...   \n",
       "620  Es wird über eine Änderung des Wertpapierhande...   \n",
       "621  Es wird über ein Abkommen mit der Schweiz abge...   \n",
       "622  Der Gesetzentwurf sieht eine Anpassung der Ver...   \n",
       "\n",
       "                                             embedding       date  \\\n",
       "0    [-0.032250940799713135, 0.04619118571281433, 0... 2025-01-30   \n",
       "1    [-0.023844607174396515, 0.07453092187643051, 0... 2025-01-30   \n",
       "2    [-0.026726506650447845, 0.04273178055882454, 0... 2025-01-30   \n",
       "3    [-0.03594012185931206, 0.025598490610718727, 0... 2025-01-30   \n",
       "4    [-0.0020443603862076998, 0.058881428092718124,... 2024-10-17   \n",
       "..                                                 ...        ...   \n",
       "618  [0.027212975546717644, 0.02205045148730278, 0.... 2012-10-25   \n",
       "619  [-0.007618354167789221, 0.011488755233585835, ... 2012-10-25   \n",
       "620  [-0.010517100803554058, 0.019554799422621727, ... 2012-10-25   \n",
       "621  [0.020592067390680313, 0.05659760162234306, 0.... 2012-10-25   \n",
       "622  [-0.025487294420599937, 0.02351684868335724, 0... 2012-10-25   \n",
       "\n",
       "                                          AfD_decision  ...  \\\n",
       "0    {'context': '- Außen- und Verteidigungspolitik...  ...   \n",
       "1    {'context': '- Außen- und Verteidigungspolitik...  ...   \n",
       "2    {'context': '- Außen- und Verteidigungspolitik...  ...   \n",
       "3    {'context': '- Außen- und Verteidigungspolitik...  ...   \n",
       "4    {'context': '- Außen- und Verteidigungspolitik...  ...   \n",
       "..                                                 ...  ...   \n",
       "618                                               None  ...   \n",
       "619                                               None  ...   \n",
       "620                                               None  ...   \n",
       "621                                               None  ...   \n",
       "622                                               None  ...   \n",
       "\n",
       "    DIE_GRÜNEN_prediction DIE_LINKE_ground_truth DIE_LINKE_prediction  \\\n",
       "0              zustimmung              ablehnung            ablehnung   \n",
       "1              zustimmung              ablehnung            ablehnung   \n",
       "2              zustimmung              ablehnung            ablehnung   \n",
       "3              zustimmung              ablehnung            ablehnung   \n",
       "4              zustimmung              ablehnung            ablehnung   \n",
       "..                    ...                    ...                  ...   \n",
       "618            zustimmung             zustimmung           zustimmung   \n",
       "619             ablehnung             zustimmung            ablehnung   \n",
       "620            zustimmung             zustimmung           zustimmung   \n",
       "621            zustimmung              ablehnung           zustimmung   \n",
       "622             ablehnung              ablehnung            ablehnung   \n",
       "\n",
       "    FDP_ground_truth FDP_prediction SPD_ground_truth SPD_prediction  \\\n",
       "0         zustimmung     zustimmung       zustimmung     zustimmung   \n",
       "1         zustimmung     zustimmung       zustimmung     zustimmung   \n",
       "2         zustimmung     zustimmung       zustimmung     zustimmung   \n",
       "3         zustimmung     zustimmung       zustimmung     zustimmung   \n",
       "4         zustimmung     zustimmung       zustimmung     zustimmung   \n",
       "..               ...            ...              ...            ...   \n",
       "618        ablehnung     zustimmung       zustimmung     zustimmung   \n",
       "619        ablehnung      ablehnung       zustimmung      ablehnung   \n",
       "620        ablehnung     zustimmung       enthaltung     zustimmung   \n",
       "621       zustimmung     zustimmung        ablehnung     zustimmung   \n",
       "622       zustimmung     zustimmung        ablehnung     zustimmung   \n",
       "\n",
       "    Union_ground_truth Union_prediction  \\\n",
       "0           zustimmung       zustimmung   \n",
       "1           zustimmung       zustimmung   \n",
       "2           zustimmung       zustimmung   \n",
       "3           zustimmung       zustimmung   \n",
       "4           zustimmung       zustimmung   \n",
       "..                 ...              ...   \n",
       "618          ablehnung       zustimmung   \n",
       "619          ablehnung        ablehnung   \n",
       "620          ablehnung       zustimmung   \n",
       "621         zustimmung       zustimmung   \n",
       "622         zustimmung       zustimmung   \n",
       "\n",
       "                                              category  \n",
       "0    Verteidigung & Sicherheit - Militär, Verteidig...  \n",
       "1    Verteidigung & Sicherheit - Militär, Verteidig...  \n",
       "2    Verteidigung & Sicherheit - Militär, Verteidig...  \n",
       "3    Verteidigung & Sicherheit - Militär, Verteidig...  \n",
       "4    Verteidigung & Sicherheit - Militär, Verteidig...  \n",
       "..                                                 ...  \n",
       "618  Arbeit & Soziales - Arbeitsmarktpolitik, Sozia...  \n",
       "619  Finanzen - Steuern, Staatsbudget, Haushalts- u...  \n",
       "620  Justiz & Verbraucherschutz - Rechtsprechung, G...  \n",
       "621  Finanzen - Steuern, Staatsbudget, Haushalts- u...  \n",
       "622  Arbeit & Soziales - Arbeitsmarktpolitik, Sozia...  \n",
       "\n",
       "[623 rows x 28 columns]"
      ]
     },
     "execution_count": 12,
     "metadata": {},
     "output_type": "execute_result"
    }
   ],
   "source": [
    "data"
   ]
  },
  {
   "cell_type": "code",
   "execution_count": 3,
   "id": "bc77b5ba",
   "metadata": {},
   "outputs": [],
   "source": [
    "from src.utils.openai_utils import get_embedding\n",
    "import os\n",
    "\n",
    "if os.path.exists(\"data/parquet/kategorien.parquet\"):\n",
    "    categories = pd.read_parquet(\"data/parquet/kategorien.parquet\")\n",
    "else:\n",
    "    categories = pd.DataFrame({\n",
    "        \"kategorie\": [\n",
    "        \"Finanzen - Steuern, Staatsbudget, Haushalts- und Finanzpolitik\",\n",
    "        \"Inneres & Migration - Innere Sicherheit, öffentliche Verwaltung, Migration, Staatsbürgerschaft\",\n",
    "        \"Außenpolitik & Europäische Angelegenheiten - Diplomatie, internationale Beziehungen, EU-Politik\",\n",
    "        \"Verteidigung & Sicherheit - Militär, Verteidigungsstrategie, Bundeswehr, Rüstung\",\n",
    "        \"Wirtschaft & Energie - Industriepolitik, Mittelstand, Energieversorgung, Wirtschaftsordnungen\",\n",
    "        \"Forschung & Technologie - Innovationsförderung, Raumfahrt, Forschungseinrichtungen, Technologietransfer\",\n",
    "        \"Justiz & Verbraucherschutz - Rechtsprechung, Gesetzgebung, Verbraucherschutz, Datenschutz\",\n",
    "        \"Bildung, Familie & Jugend - Schulen, Hochschulen, Familienförderung, Kinder- und Jugendpolitik\",\n",
    "        \"Arbeit & Soziales - Arbeitsmarktpolitik, Sozialversicherung, Renten, Integration\",\n",
    "        \"Digitalisierung & Modernisierung - E-Government, IT-Infrastruktur, digitale Verwaltung, Cybersecurity\",\n",
    "        \"Verkehr & Infrastruktur - Straßen-, Schienen- und Luftverkehr, Mobilitätskonzepte, Infrastrukturprojekte\",\n",
    "        \"Umwelt, Klima & Naturschutz - Umweltschutz, Klimapläne, Artenschutz, nukleare Sicherheit\",\n",
    "        \"Gesundheit - Gesundheitssystem, Krankenversicherung, Arzneimittelregulierung, Pandemie- und Präventionspolitik\",\n",
    "        \"Landwirtschaft & Ernährung - Agrarpolitik, Ernährungssicherheit, Ländliche Entwicklung\",\n",
    "        \"Entwicklungszusammenarbeit - Entwicklungsprojekte, humanitäre Hilfe, internationale Zusammenarbeit\",\n",
    "        \"Wohnen & Stadtentwicklung - Wohnungsbau, Städtebau, Bauordnung, Städtebauförderung\"\n",
    "    ]})\n",
    "    categories[\"embedding\"] = categories[\"kategorie\"].apply(get_embedding)\n",
    "    categories.to_parquet(\"data/parquet/kategorien.parquet\", index=False)"
   ]
  },
  {
   "cell_type": "code",
   "execution_count": 4,
   "id": "b7879e76",
   "metadata": {},
   "outputs": [],
   "source": [
    "import numpy as np\n",
    "def get_closest_category(summary_embedding: np.array) -> str:\n",
    "    distances = categories[\"embedding\"].apply(\n",
    "        lambda x: np.linalg.norm(np.array(x) - summary_embedding)\n",
    "    )\n",
    "    closest_index = distances.idxmin()\n",
    "    return categories.iloc[closest_index][\"kategorie\"]\n",
    "\n",
    "\n",
    "data[\"category\"] = data[\"embedding\"].apply(get_closest_category)"
   ]
  },
  {
   "cell_type": "code",
   "execution_count": 5,
   "id": "14075fbc",
   "metadata": {},
   "outputs": [],
   "source": [
    "percentage_partyline = {}\n",
    "\n",
    "for party in config.PARTIES:\n",
    "    party_votes = data[data[f\"{party}_ground_truth\"].notna()]\n",
    "    partyline_correct = (party_votes[f\"{party}_ground_truth\"] == party_votes[f\"{party}_prediction\"]).sum() / len(party_votes)\n",
    "    percentage_partyline[party] = round(partyline_correct * 100)"
   ]
  },
  {
   "cell_type": "code",
   "execution_count": 6,
   "id": "c2d98f7c",
   "metadata": {},
   "outputs": [
    {
     "data": {
      "application/vnd.plotly.v1+json": {
       "config": {
        "plotlyServerURL": "https://plot.ly"
       },
       "data": [
        {
         "marker": {
          "color": [
           "#009EE0",
           "#00A65A",
           "#BE3075",
           "#FFD700",
           "#E3000F",
           "#000000"
          ]
         },
         "text": [
          "55",
          "58",
          "59",
          "65",
          "70",
          "67"
         ],
         "textposition": "auto",
         "type": "bar",
         "width": 0.4,
         "x": [
          "AfD",
          "DIE_GRÜNEN",
          "DIE_LINKE",
          "FDP",
          "SPD",
          "Union"
         ],
         "y": [
          55,
          58,
          59,
          65,
          70,
          67
         ]
        }
       ],
       "layout": {
        "template": {
         "data": {
          "bar": [
           {
            "error_x": {
             "color": "#f2f5fa"
            },
            "error_y": {
             "color": "#f2f5fa"
            },
            "marker": {
             "line": {
              "color": "rgb(17,17,17)",
              "width": 0.5
             },
             "pattern": {
              "fillmode": "overlay",
              "size": 10,
              "solidity": 0.2
             }
            },
            "type": "bar"
           }
          ],
          "barpolar": [
           {
            "marker": {
             "line": {
              "color": "rgb(17,17,17)",
              "width": 0.5
             },
             "pattern": {
              "fillmode": "overlay",
              "size": 10,
              "solidity": 0.2
             }
            },
            "type": "barpolar"
           }
          ],
          "carpet": [
           {
            "aaxis": {
             "endlinecolor": "#A2B1C6",
             "gridcolor": "#506784",
             "linecolor": "#506784",
             "minorgridcolor": "#506784",
             "startlinecolor": "#A2B1C6"
            },
            "baxis": {
             "endlinecolor": "#A2B1C6",
             "gridcolor": "#506784",
             "linecolor": "#506784",
             "minorgridcolor": "#506784",
             "startlinecolor": "#A2B1C6"
            },
            "type": "carpet"
           }
          ],
          "choropleth": [
           {
            "colorbar": {
             "outlinewidth": 0,
             "ticks": ""
            },
            "type": "choropleth"
           }
          ],
          "contour": [
           {
            "colorbar": {
             "outlinewidth": 0,
             "ticks": ""
            },
            "colorscale": [
             [
              0,
              "#0d0887"
             ],
             [
              0.1111111111111111,
              "#46039f"
             ],
             [
              0.2222222222222222,
              "#7201a8"
             ],
             [
              0.3333333333333333,
              "#9c179e"
             ],
             [
              0.4444444444444444,
              "#bd3786"
             ],
             [
              0.5555555555555556,
              "#d8576b"
             ],
             [
              0.6666666666666666,
              "#ed7953"
             ],
             [
              0.7777777777777778,
              "#fb9f3a"
             ],
             [
              0.8888888888888888,
              "#fdca26"
             ],
             [
              1,
              "#f0f921"
             ]
            ],
            "type": "contour"
           }
          ],
          "contourcarpet": [
           {
            "colorbar": {
             "outlinewidth": 0,
             "ticks": ""
            },
            "type": "contourcarpet"
           }
          ],
          "heatmap": [
           {
            "colorbar": {
             "outlinewidth": 0,
             "ticks": ""
            },
            "colorscale": [
             [
              0,
              "#0d0887"
             ],
             [
              0.1111111111111111,
              "#46039f"
             ],
             [
              0.2222222222222222,
              "#7201a8"
             ],
             [
              0.3333333333333333,
              "#9c179e"
             ],
             [
              0.4444444444444444,
              "#bd3786"
             ],
             [
              0.5555555555555556,
              "#d8576b"
             ],
             [
              0.6666666666666666,
              "#ed7953"
             ],
             [
              0.7777777777777778,
              "#fb9f3a"
             ],
             [
              0.8888888888888888,
              "#fdca26"
             ],
             [
              1,
              "#f0f921"
             ]
            ],
            "type": "heatmap"
           }
          ],
          "histogram": [
           {
            "marker": {
             "pattern": {
              "fillmode": "overlay",
              "size": 10,
              "solidity": 0.2
             }
            },
            "type": "histogram"
           }
          ],
          "histogram2d": [
           {
            "colorbar": {
             "outlinewidth": 0,
             "ticks": ""
            },
            "colorscale": [
             [
              0,
              "#0d0887"
             ],
             [
              0.1111111111111111,
              "#46039f"
             ],
             [
              0.2222222222222222,
              "#7201a8"
             ],
             [
              0.3333333333333333,
              "#9c179e"
             ],
             [
              0.4444444444444444,
              "#bd3786"
             ],
             [
              0.5555555555555556,
              "#d8576b"
             ],
             [
              0.6666666666666666,
              "#ed7953"
             ],
             [
              0.7777777777777778,
              "#fb9f3a"
             ],
             [
              0.8888888888888888,
              "#fdca26"
             ],
             [
              1,
              "#f0f921"
             ]
            ],
            "type": "histogram2d"
           }
          ],
          "histogram2dcontour": [
           {
            "colorbar": {
             "outlinewidth": 0,
             "ticks": ""
            },
            "colorscale": [
             [
              0,
              "#0d0887"
             ],
             [
              0.1111111111111111,
              "#46039f"
             ],
             [
              0.2222222222222222,
              "#7201a8"
             ],
             [
              0.3333333333333333,
              "#9c179e"
             ],
             [
              0.4444444444444444,
              "#bd3786"
             ],
             [
              0.5555555555555556,
              "#d8576b"
             ],
             [
              0.6666666666666666,
              "#ed7953"
             ],
             [
              0.7777777777777778,
              "#fb9f3a"
             ],
             [
              0.8888888888888888,
              "#fdca26"
             ],
             [
              1,
              "#f0f921"
             ]
            ],
            "type": "histogram2dcontour"
           }
          ],
          "mesh3d": [
           {
            "colorbar": {
             "outlinewidth": 0,
             "ticks": ""
            },
            "type": "mesh3d"
           }
          ],
          "parcoords": [
           {
            "line": {
             "colorbar": {
              "outlinewidth": 0,
              "ticks": ""
             }
            },
            "type": "parcoords"
           }
          ],
          "pie": [
           {
            "automargin": true,
            "type": "pie"
           }
          ],
          "scatter": [
           {
            "marker": {
             "line": {
              "color": "#283442"
             }
            },
            "type": "scatter"
           }
          ],
          "scatter3d": [
           {
            "line": {
             "colorbar": {
              "outlinewidth": 0,
              "ticks": ""
             }
            },
            "marker": {
             "colorbar": {
              "outlinewidth": 0,
              "ticks": ""
             }
            },
            "type": "scatter3d"
           }
          ],
          "scattercarpet": [
           {
            "marker": {
             "colorbar": {
              "outlinewidth": 0,
              "ticks": ""
             }
            },
            "type": "scattercarpet"
           }
          ],
          "scattergeo": [
           {
            "marker": {
             "colorbar": {
              "outlinewidth": 0,
              "ticks": ""
             }
            },
            "type": "scattergeo"
           }
          ],
          "scattergl": [
           {
            "marker": {
             "line": {
              "color": "#283442"
             }
            },
            "type": "scattergl"
           }
          ],
          "scattermap": [
           {
            "marker": {
             "colorbar": {
              "outlinewidth": 0,
              "ticks": ""
             }
            },
            "type": "scattermap"
           }
          ],
          "scattermapbox": [
           {
            "marker": {
             "colorbar": {
              "outlinewidth": 0,
              "ticks": ""
             }
            },
            "type": "scattermapbox"
           }
          ],
          "scatterpolar": [
           {
            "marker": {
             "colorbar": {
              "outlinewidth": 0,
              "ticks": ""
             }
            },
            "type": "scatterpolar"
           }
          ],
          "scatterpolargl": [
           {
            "marker": {
             "colorbar": {
              "outlinewidth": 0,
              "ticks": ""
             }
            },
            "type": "scatterpolargl"
           }
          ],
          "scatterternary": [
           {
            "marker": {
             "colorbar": {
              "outlinewidth": 0,
              "ticks": ""
             }
            },
            "type": "scatterternary"
           }
          ],
          "surface": [
           {
            "colorbar": {
             "outlinewidth": 0,
             "ticks": ""
            },
            "colorscale": [
             [
              0,
              "#0d0887"
             ],
             [
              0.1111111111111111,
              "#46039f"
             ],
             [
              0.2222222222222222,
              "#7201a8"
             ],
             [
              0.3333333333333333,
              "#9c179e"
             ],
             [
              0.4444444444444444,
              "#bd3786"
             ],
             [
              0.5555555555555556,
              "#d8576b"
             ],
             [
              0.6666666666666666,
              "#ed7953"
             ],
             [
              0.7777777777777778,
              "#fb9f3a"
             ],
             [
              0.8888888888888888,
              "#fdca26"
             ],
             [
              1,
              "#f0f921"
             ]
            ],
            "type": "surface"
           }
          ],
          "table": [
           {
            "cells": {
             "fill": {
              "color": "#506784"
             },
             "line": {
              "color": "rgb(17,17,17)"
             }
            },
            "header": {
             "fill": {
              "color": "#2a3f5f"
             },
             "line": {
              "color": "rgb(17,17,17)"
             }
            },
            "type": "table"
           }
          ]
         },
         "layout": {
          "annotationdefaults": {
           "arrowcolor": "#f2f5fa",
           "arrowhead": 0,
           "arrowwidth": 1
          },
          "autotypenumbers": "strict",
          "coloraxis": {
           "colorbar": {
            "outlinewidth": 0,
            "ticks": ""
           }
          },
          "colorscale": {
           "diverging": [
            [
             0,
             "#8e0152"
            ],
            [
             0.1,
             "#c51b7d"
            ],
            [
             0.2,
             "#de77ae"
            ],
            [
             0.3,
             "#f1b6da"
            ],
            [
             0.4,
             "#fde0ef"
            ],
            [
             0.5,
             "#f7f7f7"
            ],
            [
             0.6,
             "#e6f5d0"
            ],
            [
             0.7,
             "#b8e186"
            ],
            [
             0.8,
             "#7fbc41"
            ],
            [
             0.9,
             "#4d9221"
            ],
            [
             1,
             "#276419"
            ]
           ],
           "sequential": [
            [
             0,
             "#0d0887"
            ],
            [
             0.1111111111111111,
             "#46039f"
            ],
            [
             0.2222222222222222,
             "#7201a8"
            ],
            [
             0.3333333333333333,
             "#9c179e"
            ],
            [
             0.4444444444444444,
             "#bd3786"
            ],
            [
             0.5555555555555556,
             "#d8576b"
            ],
            [
             0.6666666666666666,
             "#ed7953"
            ],
            [
             0.7777777777777778,
             "#fb9f3a"
            ],
            [
             0.8888888888888888,
             "#fdca26"
            ],
            [
             1,
             "#f0f921"
            ]
           ],
           "sequentialminus": [
            [
             0,
             "#0d0887"
            ],
            [
             0.1111111111111111,
             "#46039f"
            ],
            [
             0.2222222222222222,
             "#7201a8"
            ],
            [
             0.3333333333333333,
             "#9c179e"
            ],
            [
             0.4444444444444444,
             "#bd3786"
            ],
            [
             0.5555555555555556,
             "#d8576b"
            ],
            [
             0.6666666666666666,
             "#ed7953"
            ],
            [
             0.7777777777777778,
             "#fb9f3a"
            ],
            [
             0.8888888888888888,
             "#fdca26"
            ],
            [
             1,
             "#f0f921"
            ]
           ]
          },
          "colorway": [
           "#636efa",
           "#EF553B",
           "#00cc96",
           "#ab63fa",
           "#FFA15A",
           "#19d3f3",
           "#FF6692",
           "#B6E880",
           "#FF97FF",
           "#FECB52"
          ],
          "font": {
           "color": "#f2f5fa"
          },
          "geo": {
           "bgcolor": "rgb(17,17,17)",
           "lakecolor": "rgb(17,17,17)",
           "landcolor": "rgb(17,17,17)",
           "showlakes": true,
           "showland": true,
           "subunitcolor": "#506784"
          },
          "hoverlabel": {
           "align": "left"
          },
          "hovermode": "closest",
          "mapbox": {
           "style": "dark"
          },
          "paper_bgcolor": "rgb(17,17,17)",
          "plot_bgcolor": "rgb(17,17,17)",
          "polar": {
           "angularaxis": {
            "gridcolor": "#506784",
            "linecolor": "#506784",
            "ticks": ""
           },
           "bgcolor": "rgb(17,17,17)",
           "radialaxis": {
            "gridcolor": "#506784",
            "linecolor": "#506784",
            "ticks": ""
           }
          },
          "scene": {
           "xaxis": {
            "backgroundcolor": "rgb(17,17,17)",
            "gridcolor": "#506784",
            "gridwidth": 2,
            "linecolor": "#506784",
            "showbackground": true,
            "ticks": "",
            "zerolinecolor": "#C8D4E3"
           },
           "yaxis": {
            "backgroundcolor": "rgb(17,17,17)",
            "gridcolor": "#506784",
            "gridwidth": 2,
            "linecolor": "#506784",
            "showbackground": true,
            "ticks": "",
            "zerolinecolor": "#C8D4E3"
           },
           "zaxis": {
            "backgroundcolor": "rgb(17,17,17)",
            "gridcolor": "#506784",
            "gridwidth": 2,
            "linecolor": "#506784",
            "showbackground": true,
            "ticks": "",
            "zerolinecolor": "#C8D4E3"
           }
          },
          "shapedefaults": {
           "line": {
            "color": "#f2f5fa"
           }
          },
          "sliderdefaults": {
           "bgcolor": "#C8D4E3",
           "bordercolor": "rgb(17,17,17)",
           "borderwidth": 1,
           "tickwidth": 0
          },
          "ternary": {
           "aaxis": {
            "gridcolor": "#506784",
            "linecolor": "#506784",
            "ticks": ""
           },
           "baxis": {
            "gridcolor": "#506784",
            "linecolor": "#506784",
            "ticks": ""
           },
           "bgcolor": "rgb(17,17,17)",
           "caxis": {
            "gridcolor": "#506784",
            "linecolor": "#506784",
            "ticks": ""
           }
          },
          "title": {
           "x": 0.05
          },
          "updatemenudefaults": {
           "bgcolor": "#506784",
           "borderwidth": 0
          },
          "xaxis": {
           "automargin": true,
           "gridcolor": "#283442",
           "linecolor": "#506784",
           "ticks": "",
           "title": {
            "standoff": 15
           },
           "zerolinecolor": "#283442",
           "zerolinewidth": 2
          },
          "yaxis": {
           "automargin": true,
           "gridcolor": "#283442",
           "linecolor": "#506784",
           "ticks": "",
           "title": {
            "standoff": 15
           },
           "zerolinecolor": "#283442",
           "zerolinewidth": 2
          }
         }
        },
        "title": {
         "text": "Percentage of Party-Line Agreement"
        },
        "xaxis": {
         "title": {
          "text": "Political Party"
         }
        },
        "yaxis": {
         "range": [
          0,
          100
         ],
         "title": {
          "text": "Agreement (%)"
         }
        }
       }
      }
     },
     "metadata": {},
     "output_type": "display_data"
    }
   ],
   "source": [
    "import plotly.graph_objects as go\n",
    "\n",
    "percentage_partyline = {\n",
    "    'AfD': 55,\n",
    "    'DIE_GRÜNEN': 58,\n",
    "    'DIE_LINKE': 59,\n",
    "    'FDP': 65,\n",
    "    'SPD': 70,\n",
    "    'Union': 67\n",
    "}\n",
    "\n",
    "colors = {\n",
    "    'AfD': '#009EE0',\n",
    "    'DIE_GRÜNEN': '#00A65A',\n",
    "    'DIE_LINKE': '#BE3075',\n",
    "    'FDP': '#FFD700',\n",
    "    'SPD': '#E3000F',\n",
    "    'Union': '#000000'\n",
    "}\n",
    "\n",
    "fig = go.Figure(go.Bar(\n",
    "    x=list(percentage_partyline.keys()),\n",
    "    y=list(percentage_partyline.values()),\n",
    "    marker_color=[colors[party] for party in percentage_partyline],\n",
    "    width=0.4\n",
    "))\n",
    "\n",
    "fig.update_layout(\n",
    "    title='Percentage of Party-Line Agreement',\n",
    "    xaxis_title='Political Party',\n",
    "    yaxis_title='Agreement (%)',\n",
    "    yaxis=dict(range=[0, 100]),\n",
    "    template='plotly_dark'\n",
    ")\n",
    "\n",
    "fig.update_traces(text=list(percentage_partyline.values()), textposition='auto')\n",
    "\n",
    "fig.show()\n"
   ]
  },
  {
   "cell_type": "code",
   "execution_count": 7,
   "id": "d19d4866",
   "metadata": {},
   "outputs": [],
   "source": [
    "percentage_partyline_by_category = {}\n",
    "\n",
    "for party in config.PARTIES:\n",
    "    party_votes = data[data[f\"{party}_ground_truth\"].notna()].copy()\n",
    "    party_votes[\"partyline_correct\"] = (party_votes[f\"{party}_ground_truth\"] == party_votes[f\"{party}_prediction\"])\n",
    "    categories_vc = party_votes[\"category\"].value_counts()\n",
    "    relevant_categories = categories_vc[categories_vc > 20].index.tolist()\n",
    "    party_votes = party_votes[party_votes[\"category\"].isin(relevant_categories)]\n",
    "    party_votes.groupby(\"category\")[\"partyline_correct\"].mean().reset_index()\n",
    "    percentage_partyline_by_category[party] = party_votes.groupby(\"category\")[\"partyline_correct\"].mean().reset_index().to_dict(orient=\"records\")"
   ]
  },
  {
   "cell_type": "code",
   "execution_count": 8,
   "id": "08537101",
   "metadata": {},
   "outputs": [
    {
     "data": {
      "application/vnd.plotly.v1+json": {
       "config": {
        "plotlyServerURL": "https://plot.ly"
       },
       "data": [
        {
         "alignmentgroup": "True",
         "hovertemplate": "Category=Finanzen - Steuern, Staatsbudget, Haushalts- und Finanzpolitik<br>Party=%{x}<br>Correctness=%{y}<extra></extra>",
         "legendgroup": "Finanzen - Steuern, Staatsbudget, Haushalts- und Finanzpolitik",
         "marker": {
          "color": "#636efa",
          "pattern": {
           "shape": ""
          }
         },
         "name": "Finanzen - Steuern, Staatsbudget, Haushalts- und Finanzpolitik",
         "offsetgroup": "Finanzen - Steuern, Staatsbudget, Haushalts- und Finanzpolitik",
         "orientation": "v",
         "showlegend": true,
         "textposition": "auto",
         "type": "bar",
         "x": [
          "AfD",
          "DIE_GRÜNEN",
          "DIE_LINKE",
          "FDP",
          "SPD",
          "Union"
         ],
         "xaxis": "x",
         "y": {
          "bdata": "ntiJndiJ5T8zMzMzMzPhP6K8hvIayts/c08jLPc04j9mZmZmZmbiP5qZmZmZmeM/",
          "dtype": "f8"
         },
         "yaxis": "y"
        },
        {
         "alignmentgroup": "True",
         "hovertemplate": "Category=Gesundheit - Gesundheitssystem, Krankenversicherung, Arzneimittelregulierung, Pandemie- und Präventionspolitik<br>Party=%{x}<br>Correctness=%{y}<extra></extra>",
         "legendgroup": "Gesundheit - Gesundheitssystem, Krankenversicherung, Arzneimittelregulierung, Pandemie- und Präventionspolitik",
         "marker": {
          "color": "#EF553B",
          "pattern": {
           "shape": ""
          }
         },
         "name": "Gesundheit - Gesundheitssystem, Krankenversicherung, Arzneimittelregulierung, Pandemie- und Präventionspolitik",
         "offsetgroup": "Gesundheit - Gesundheitssystem, Krankenversicherung, Arzneimittelregulierung, Pandemie- und Präventionspolitik",
         "orientation": "v",
         "showlegend": true,
         "textposition": "auto",
         "type": "bar",
         "x": [
          "AfD",
          "DIE_GRÜNEN",
          "DIE_LINKE",
          "FDP",
          "SPD",
          "Union"
         ],
         "xaxis": "x",
         "y": {
          "bdata": "9Umf9Emf5D9QUFBQUFDgP/Hw8PDw8OA/Tm9605ve5D8yMjIyMjLiP1BQUFBQUOA/",
          "dtype": "f8"
         },
         "yaxis": "y"
        },
        {
         "alignmentgroup": "True",
         "hovertemplate": "Category=Inneres & Migration - Innere Sicherheit, öffentliche Verwaltung, Migration, Staatsbürgerschaft<br>Party=%{x}<br>Correctness=%{y}<extra></extra>",
         "legendgroup": "Inneres & Migration - Innere Sicherheit, öffentliche Verwaltung, Migration, Staatsbürgerschaft",
         "marker": {
          "color": "#00cc96",
          "pattern": {
           "shape": ""
          }
         },
         "name": "Inneres & Migration - Innere Sicherheit, öffentliche Verwaltung, Migration, Staatsbürgerschaft",
         "offsetgroup": "Inneres & Migration - Innere Sicherheit, öffentliche Verwaltung, Migration, Staatsbürgerschaft",
         "orientation": "v",
         "showlegend": true,
         "textposition": "auto",
         "type": "bar",
         "x": [
          "AfD",
          "DIE_GRÜNEN",
          "DIE_LINKE",
          "FDP",
          "SPD",
          "Union"
         ],
         "xaxis": "x",
         "y": {
          "bdata": "F2zBFmzB5j8AAAAAAIDlP23ep7hkCOY/AAAAAAAA3D8AAAAAAADgPwAAAAAAgOM/",
          "dtype": "f8"
         },
         "yaxis": "y"
        },
        {
         "alignmentgroup": "True",
         "hovertemplate": "Category=Justiz & Verbraucherschutz - Rechtsprechung, Gesetzgebung, Verbraucherschutz, Datenschutz<br>Party=%{x}<br>Correctness=%{y}<extra></extra>",
         "legendgroup": "Justiz & Verbraucherschutz - Rechtsprechung, Gesetzgebung, Verbraucherschutz, Datenschutz",
         "marker": {
          "color": "#ab63fa",
          "pattern": {
           "shape": ""
          }
         },
         "name": "Justiz & Verbraucherschutz - Rechtsprechung, Gesetzgebung, Verbraucherschutz, Datenschutz",
         "offsetgroup": "Justiz & Verbraucherschutz - Rechtsprechung, Gesetzgebung, Verbraucherschutz, Datenschutz",
         "orientation": "v",
         "showlegend": true,
         "textposition": "auto",
         "type": "bar",
         "x": [
          "AfD",
          "DIE_GRÜNEN",
          "DIE_LINKE",
          "FDP",
          "SPD",
          "Union"
         ],
         "xaxis": "x",
         "y": {
          "bdata": "IQtZyEIW4j8UFBQUFBTkPzIyMjIyMuI/1AjLPY2w3D9QUFBQUFDgP93c3Nzc3Nw/",
          "dtype": "f8"
         },
         "yaxis": "y"
        },
        {
         "alignmentgroup": "True",
         "hovertemplate": "Category=Umwelt, Klima & Naturschutz - Umweltschutz, Klimapläne, Artenschutz, nukleare Sicherheit<br>Party=%{x}<br>Correctness=%{y}<extra></extra>",
         "legendgroup": "Umwelt, Klima & Naturschutz - Umweltschutz, Klimapläne, Artenschutz, nukleare Sicherheit",
         "marker": {
          "color": "#FFA15A",
          "pattern": {
           "shape": ""
          }
         },
         "name": "Umwelt, Klima & Naturschutz - Umweltschutz, Klimapläne, Artenschutz, nukleare Sicherheit",
         "offsetgroup": "Umwelt, Klima & Naturschutz - Umweltschutz, Klimapläne, Artenschutz, nukleare Sicherheit",
         "orientation": "v",
         "showlegend": true,
         "textposition": "auto",
         "type": "bar",
         "x": [
          "AfD",
          "DIE_GRÜNEN",
          "DIE_LINKE",
          "FDP",
          "SPD",
          "Union"
         ],
         "xaxis": "x",
         "y": {
          "bdata": "eHh4eHh46D9VVVVVVVXlP0d9Z6O+s+E/RT7rBlPk4z+rqqqqqqrkP6uqqqqqqt4/",
          "dtype": "f8"
         },
         "yaxis": "y"
        },
        {
         "alignmentgroup": "True",
         "hovertemplate": "Category=Verteidigung & Sicherheit - Militär, Verteidigungsstrategie, Bundeswehr, Rüstung<br>Party=%{x}<br>Correctness=%{y}<extra></extra>",
         "legendgroup": "Verteidigung & Sicherheit - Militär, Verteidigungsstrategie, Bundeswehr, Rüstung",
         "marker": {
          "color": "#19d3f3",
          "pattern": {
           "shape": ""
          }
         },
         "name": "Verteidigung & Sicherheit - Militär, Verteidigungsstrategie, Bundeswehr, Rüstung",
         "offsetgroup": "Verteidigung & Sicherheit - Militär, Verteidigungsstrategie, Bundeswehr, Rüstung",
         "orientation": "v",
         "showlegend": true,
         "textposition": "auto",
         "type": "bar",
         "x": [
          "AfD",
          "DIE_GRÜNEN",
          "DIE_LINKE",
          "FDP",
          "SPD",
          "Union"
         ],
         "xaxis": "x",
         "y": {
          "bdata": "4eUUvJyC5z9VVVVVVVXlP1n+kuUvWe4/t23btm3b7D9VVVVVVVXtP1VVVVVVVe0/",
          "dtype": "f8"
         },
         "yaxis": "y"
        },
        {
         "alignmentgroup": "True",
         "hovertemplate": "Category=Arbeit & Soziales - Arbeitsmarktpolitik, Sozialversicherung, Renten, Integration<br>Party=%{x}<br>Correctness=%{y}<extra></extra>",
         "legendgroup": "Arbeit & Soziales - Arbeitsmarktpolitik, Sozialversicherung, Renten, Integration",
         "marker": {
          "color": "#FF6692",
          "pattern": {
           "shape": ""
          }
         },
         "name": "Arbeit & Soziales - Arbeitsmarktpolitik, Sozialversicherung, Renten, Integration",
         "offsetgroup": "Arbeit & Soziales - Arbeitsmarktpolitik, Sozialversicherung, Renten, Integration",
         "orientation": "v",
         "showlegend": true,
         "textposition": "auto",
         "type": "bar",
         "x": [
          "AfD",
          "DIE_GRÜNEN",
          "DIE_LINKE",
          "FDP",
          "SPD",
          "Union"
         ],
         "xaxis": "x",
         "y": {
          "bdata": "AAAAAAAA+H8UFBQUFBTkP7W0tLS0tOQ/lnsaYbmn4T/d3Nzc3NzcPzIyMjIyMuI/",
          "dtype": "f8"
         },
         "yaxis": "y"
        },
        {
         "alignmentgroup": "True",
         "hovertemplate": "Category=Wirtschaft & Energie - Industriepolitik, Mittelstand, Energieversorgung, Wirtschaftsordnungen<br>Party=%{x}<br>Correctness=%{y}<extra></extra>",
         "legendgroup": "Wirtschaft & Energie - Industriepolitik, Mittelstand, Energieversorgung, Wirtschaftsordnungen",
         "marker": {
          "color": "#B6E880",
          "pattern": {
           "shape": ""
          }
         },
         "name": "Wirtschaft & Energie - Industriepolitik, Mittelstand, Energieversorgung, Wirtschaftsordnungen",
         "offsetgroup": "Wirtschaft & Energie - Industriepolitik, Mittelstand, Energieversorgung, Wirtschaftsordnungen",
         "orientation": "v",
         "showlegend": true,
         "textposition": "auto",
         "type": "bar",
         "x": [
          "AfD",
          "DIE_GRÜNEN",
          "DIE_LINKE",
          "FDP",
          "SPD",
          "Union"
         ],
         "xaxis": "x",
         "y": {
          "bdata": "AAAAAAAA+H8AAAAAAADgP1100UUXXeQ/AAAAAAAA+H/poosuuujiP3TRRRdddOE/",
          "dtype": "f8"
         },
         "yaxis": "y"
        }
       ],
       "layout": {
        "barmode": "group",
        "legend": {
         "title": {
          "text": "Category"
         },
         "tracegroupgap": 0
        },
        "margin": {
         "t": 60
        },
        "template": {
         "data": {
          "bar": [
           {
            "error_x": {
             "color": "#2a3f5f"
            },
            "error_y": {
             "color": "#2a3f5f"
            },
            "marker": {
             "line": {
              "color": "#E5ECF6",
              "width": 0.5
             },
             "pattern": {
              "fillmode": "overlay",
              "size": 10,
              "solidity": 0.2
             }
            },
            "type": "bar"
           }
          ],
          "barpolar": [
           {
            "marker": {
             "line": {
              "color": "#E5ECF6",
              "width": 0.5
             },
             "pattern": {
              "fillmode": "overlay",
              "size": 10,
              "solidity": 0.2
             }
            },
            "type": "barpolar"
           }
          ],
          "carpet": [
           {
            "aaxis": {
             "endlinecolor": "#2a3f5f",
             "gridcolor": "white",
             "linecolor": "white",
             "minorgridcolor": "white",
             "startlinecolor": "#2a3f5f"
            },
            "baxis": {
             "endlinecolor": "#2a3f5f",
             "gridcolor": "white",
             "linecolor": "white",
             "minorgridcolor": "white",
             "startlinecolor": "#2a3f5f"
            },
            "type": "carpet"
           }
          ],
          "choropleth": [
           {
            "colorbar": {
             "outlinewidth": 0,
             "ticks": ""
            },
            "type": "choropleth"
           }
          ],
          "contour": [
           {
            "colorbar": {
             "outlinewidth": 0,
             "ticks": ""
            },
            "colorscale": [
             [
              0,
              "#0d0887"
             ],
             [
              0.1111111111111111,
              "#46039f"
             ],
             [
              0.2222222222222222,
              "#7201a8"
             ],
             [
              0.3333333333333333,
              "#9c179e"
             ],
             [
              0.4444444444444444,
              "#bd3786"
             ],
             [
              0.5555555555555556,
              "#d8576b"
             ],
             [
              0.6666666666666666,
              "#ed7953"
             ],
             [
              0.7777777777777778,
              "#fb9f3a"
             ],
             [
              0.8888888888888888,
              "#fdca26"
             ],
             [
              1,
              "#f0f921"
             ]
            ],
            "type": "contour"
           }
          ],
          "contourcarpet": [
           {
            "colorbar": {
             "outlinewidth": 0,
             "ticks": ""
            },
            "type": "contourcarpet"
           }
          ],
          "heatmap": [
           {
            "colorbar": {
             "outlinewidth": 0,
             "ticks": ""
            },
            "colorscale": [
             [
              0,
              "#0d0887"
             ],
             [
              0.1111111111111111,
              "#46039f"
             ],
             [
              0.2222222222222222,
              "#7201a8"
             ],
             [
              0.3333333333333333,
              "#9c179e"
             ],
             [
              0.4444444444444444,
              "#bd3786"
             ],
             [
              0.5555555555555556,
              "#d8576b"
             ],
             [
              0.6666666666666666,
              "#ed7953"
             ],
             [
              0.7777777777777778,
              "#fb9f3a"
             ],
             [
              0.8888888888888888,
              "#fdca26"
             ],
             [
              1,
              "#f0f921"
             ]
            ],
            "type": "heatmap"
           }
          ],
          "histogram": [
           {
            "marker": {
             "pattern": {
              "fillmode": "overlay",
              "size": 10,
              "solidity": 0.2
             }
            },
            "type": "histogram"
           }
          ],
          "histogram2d": [
           {
            "colorbar": {
             "outlinewidth": 0,
             "ticks": ""
            },
            "colorscale": [
             [
              0,
              "#0d0887"
             ],
             [
              0.1111111111111111,
              "#46039f"
             ],
             [
              0.2222222222222222,
              "#7201a8"
             ],
             [
              0.3333333333333333,
              "#9c179e"
             ],
             [
              0.4444444444444444,
              "#bd3786"
             ],
             [
              0.5555555555555556,
              "#d8576b"
             ],
             [
              0.6666666666666666,
              "#ed7953"
             ],
             [
              0.7777777777777778,
              "#fb9f3a"
             ],
             [
              0.8888888888888888,
              "#fdca26"
             ],
             [
              1,
              "#f0f921"
             ]
            ],
            "type": "histogram2d"
           }
          ],
          "histogram2dcontour": [
           {
            "colorbar": {
             "outlinewidth": 0,
             "ticks": ""
            },
            "colorscale": [
             [
              0,
              "#0d0887"
             ],
             [
              0.1111111111111111,
              "#46039f"
             ],
             [
              0.2222222222222222,
              "#7201a8"
             ],
             [
              0.3333333333333333,
              "#9c179e"
             ],
             [
              0.4444444444444444,
              "#bd3786"
             ],
             [
              0.5555555555555556,
              "#d8576b"
             ],
             [
              0.6666666666666666,
              "#ed7953"
             ],
             [
              0.7777777777777778,
              "#fb9f3a"
             ],
             [
              0.8888888888888888,
              "#fdca26"
             ],
             [
              1,
              "#f0f921"
             ]
            ],
            "type": "histogram2dcontour"
           }
          ],
          "mesh3d": [
           {
            "colorbar": {
             "outlinewidth": 0,
             "ticks": ""
            },
            "type": "mesh3d"
           }
          ],
          "parcoords": [
           {
            "line": {
             "colorbar": {
              "outlinewidth": 0,
              "ticks": ""
             }
            },
            "type": "parcoords"
           }
          ],
          "pie": [
           {
            "automargin": true,
            "type": "pie"
           }
          ],
          "scatter": [
           {
            "fillpattern": {
             "fillmode": "overlay",
             "size": 10,
             "solidity": 0.2
            },
            "type": "scatter"
           }
          ],
          "scatter3d": [
           {
            "line": {
             "colorbar": {
              "outlinewidth": 0,
              "ticks": ""
             }
            },
            "marker": {
             "colorbar": {
              "outlinewidth": 0,
              "ticks": ""
             }
            },
            "type": "scatter3d"
           }
          ],
          "scattercarpet": [
           {
            "marker": {
             "colorbar": {
              "outlinewidth": 0,
              "ticks": ""
             }
            },
            "type": "scattercarpet"
           }
          ],
          "scattergeo": [
           {
            "marker": {
             "colorbar": {
              "outlinewidth": 0,
              "ticks": ""
             }
            },
            "type": "scattergeo"
           }
          ],
          "scattergl": [
           {
            "marker": {
             "colorbar": {
              "outlinewidth": 0,
              "ticks": ""
             }
            },
            "type": "scattergl"
           }
          ],
          "scattermap": [
           {
            "marker": {
             "colorbar": {
              "outlinewidth": 0,
              "ticks": ""
             }
            },
            "type": "scattermap"
           }
          ],
          "scattermapbox": [
           {
            "marker": {
             "colorbar": {
              "outlinewidth": 0,
              "ticks": ""
             }
            },
            "type": "scattermapbox"
           }
          ],
          "scatterpolar": [
           {
            "marker": {
             "colorbar": {
              "outlinewidth": 0,
              "ticks": ""
             }
            },
            "type": "scatterpolar"
           }
          ],
          "scatterpolargl": [
           {
            "marker": {
             "colorbar": {
              "outlinewidth": 0,
              "ticks": ""
             }
            },
            "type": "scatterpolargl"
           }
          ],
          "scatterternary": [
           {
            "marker": {
             "colorbar": {
              "outlinewidth": 0,
              "ticks": ""
             }
            },
            "type": "scatterternary"
           }
          ],
          "surface": [
           {
            "colorbar": {
             "outlinewidth": 0,
             "ticks": ""
            },
            "colorscale": [
             [
              0,
              "#0d0887"
             ],
             [
              0.1111111111111111,
              "#46039f"
             ],
             [
              0.2222222222222222,
              "#7201a8"
             ],
             [
              0.3333333333333333,
              "#9c179e"
             ],
             [
              0.4444444444444444,
              "#bd3786"
             ],
             [
              0.5555555555555556,
              "#d8576b"
             ],
             [
              0.6666666666666666,
              "#ed7953"
             ],
             [
              0.7777777777777778,
              "#fb9f3a"
             ],
             [
              0.8888888888888888,
              "#fdca26"
             ],
             [
              1,
              "#f0f921"
             ]
            ],
            "type": "surface"
           }
          ],
          "table": [
           {
            "cells": {
             "fill": {
              "color": "#EBF0F8"
             },
             "line": {
              "color": "white"
             }
            },
            "header": {
             "fill": {
              "color": "#C8D4E3"
             },
             "line": {
              "color": "white"
             }
            },
            "type": "table"
           }
          ]
         },
         "layout": {
          "annotationdefaults": {
           "arrowcolor": "#2a3f5f",
           "arrowhead": 0,
           "arrowwidth": 1
          },
          "autotypenumbers": "strict",
          "coloraxis": {
           "colorbar": {
            "outlinewidth": 0,
            "ticks": ""
           }
          },
          "colorscale": {
           "diverging": [
            [
             0,
             "#8e0152"
            ],
            [
             0.1,
             "#c51b7d"
            ],
            [
             0.2,
             "#de77ae"
            ],
            [
             0.3,
             "#f1b6da"
            ],
            [
             0.4,
             "#fde0ef"
            ],
            [
             0.5,
             "#f7f7f7"
            ],
            [
             0.6,
             "#e6f5d0"
            ],
            [
             0.7,
             "#b8e186"
            ],
            [
             0.8,
             "#7fbc41"
            ],
            [
             0.9,
             "#4d9221"
            ],
            [
             1,
             "#276419"
            ]
           ],
           "sequential": [
            [
             0,
             "#0d0887"
            ],
            [
             0.1111111111111111,
             "#46039f"
            ],
            [
             0.2222222222222222,
             "#7201a8"
            ],
            [
             0.3333333333333333,
             "#9c179e"
            ],
            [
             0.4444444444444444,
             "#bd3786"
            ],
            [
             0.5555555555555556,
             "#d8576b"
            ],
            [
             0.6666666666666666,
             "#ed7953"
            ],
            [
             0.7777777777777778,
             "#fb9f3a"
            ],
            [
             0.8888888888888888,
             "#fdca26"
            ],
            [
             1,
             "#f0f921"
            ]
           ],
           "sequentialminus": [
            [
             0,
             "#0d0887"
            ],
            [
             0.1111111111111111,
             "#46039f"
            ],
            [
             0.2222222222222222,
             "#7201a8"
            ],
            [
             0.3333333333333333,
             "#9c179e"
            ],
            [
             0.4444444444444444,
             "#bd3786"
            ],
            [
             0.5555555555555556,
             "#d8576b"
            ],
            [
             0.6666666666666666,
             "#ed7953"
            ],
            [
             0.7777777777777778,
             "#fb9f3a"
            ],
            [
             0.8888888888888888,
             "#fdca26"
            ],
            [
             1,
             "#f0f921"
            ]
           ]
          },
          "colorway": [
           "#636efa",
           "#EF553B",
           "#00cc96",
           "#ab63fa",
           "#FFA15A",
           "#19d3f3",
           "#FF6692",
           "#B6E880",
           "#FF97FF",
           "#FECB52"
          ],
          "font": {
           "color": "#2a3f5f"
          },
          "geo": {
           "bgcolor": "white",
           "lakecolor": "white",
           "landcolor": "#E5ECF6",
           "showlakes": true,
           "showland": true,
           "subunitcolor": "white"
          },
          "hoverlabel": {
           "align": "left"
          },
          "hovermode": "closest",
          "mapbox": {
           "style": "light"
          },
          "paper_bgcolor": "white",
          "plot_bgcolor": "#E5ECF6",
          "polar": {
           "angularaxis": {
            "gridcolor": "white",
            "linecolor": "white",
            "ticks": ""
           },
           "bgcolor": "#E5ECF6",
           "radialaxis": {
            "gridcolor": "white",
            "linecolor": "white",
            "ticks": ""
           }
          },
          "scene": {
           "xaxis": {
            "backgroundcolor": "#E5ECF6",
            "gridcolor": "white",
            "gridwidth": 2,
            "linecolor": "white",
            "showbackground": true,
            "ticks": "",
            "zerolinecolor": "white"
           },
           "yaxis": {
            "backgroundcolor": "#E5ECF6",
            "gridcolor": "white",
            "gridwidth": 2,
            "linecolor": "white",
            "showbackground": true,
            "ticks": "",
            "zerolinecolor": "white"
           },
           "zaxis": {
            "backgroundcolor": "#E5ECF6",
            "gridcolor": "white",
            "gridwidth": 2,
            "linecolor": "white",
            "showbackground": true,
            "ticks": "",
            "zerolinecolor": "white"
           }
          },
          "shapedefaults": {
           "line": {
            "color": "#2a3f5f"
           }
          },
          "ternary": {
           "aaxis": {
            "gridcolor": "white",
            "linecolor": "white",
            "ticks": ""
           },
           "baxis": {
            "gridcolor": "white",
            "linecolor": "white",
            "ticks": ""
           },
           "bgcolor": "#E5ECF6",
           "caxis": {
            "gridcolor": "white",
            "linecolor": "white",
            "ticks": ""
           }
          },
          "title": {
           "x": 0.05
          },
          "xaxis": {
           "automargin": true,
           "gridcolor": "white",
           "linecolor": "white",
           "ticks": "",
           "title": {
            "standoff": 15
           },
           "zerolinecolor": "white",
           "zerolinewidth": 2
          },
          "yaxis": {
           "automargin": true,
           "gridcolor": "white",
           "linecolor": "white",
           "ticks": "",
           "title": {
            "standoff": 15
           },
           "zerolinecolor": "white",
           "zerolinewidth": 2
          }
         }
        },
        "xaxis": {
         "anchor": "y",
         "domain": [
          0,
          1
         ],
         "title": {
          "text": "Party"
         }
        },
        "yaxis": {
         "anchor": "x",
         "domain": [
          0,
          1
         ],
         "title": {
          "text": "Partyline Correctness"
         }
        }
       }
      }
     },
     "metadata": {},
     "output_type": "display_data"
    }
   ],
   "source": [
    "import pandas as pd\n",
    "import plotly.express as px\n",
    "\n",
    "# build a DataFrame: rows = parties, columns = categories\n",
    "df = pd.DataFrame({\n",
    "    party: {item['category']: item['partyline_correct'] for item in entries}\n",
    "    for party, entries in percentage_partyline_by_category.items()\n",
    "}).T\n",
    "\n",
    "# reshape to long form for px.bar\n",
    "df_long = df.reset_index().melt(\n",
    "    id_vars='index',\n",
    "    var_name='Category',\n",
    "    value_name='Correctness'\n",
    ")\n",
    "df_long.rename(columns={'index': 'Party'}, inplace=True)\n",
    "\n",
    "fig = px.bar(\n",
    "    df_long,\n",
    "    x='Party',\n",
    "    y='Correctness',\n",
    "    color='Category',\n",
    "    barmode='group'\n",
    ")\n",
    "\n",
    "fig.update_layout(\n",
    "    xaxis_title='Party',\n",
    "    yaxis_title='Partyline Correctness',\n",
    "    legend_title_text='Category'\n",
    ")\n",
    "\n",
    "fig.show()\n"
   ]
  },
  {
   "cell_type": "code",
   "execution_count": 9,
   "id": "c191f9f7",
   "metadata": {},
   "outputs": [
    {
     "data": {
      "text/plain": [
       "vote                                                              20121025_3\n",
       "drucksache_id                                                       17/11172\n",
       "beschlussempfehlung                                                     None\n",
       "title                      Änderungsantrag der Abgeordneten Dr. Gerhard S...\n",
       "type                                                         Änderungsantrag\n",
       "content                    Deutscher Bundestag Drucksache 17/11172 17. Wa...\n",
       "summary                    Es wird über eine Änderung des Wertpapierhande...\n",
       "embedding                  [-0.010517100803554058, 0.019554799422621727, ...\n",
       "date                                                     2012-10-25 00:00:00\n",
       "AfD_decision                                                            None\n",
       "DIE_GRÜNEN_decision        {'context': '- Verbraucherschutz und Verbrauch...\n",
       "DIE_LINKE_decision         {'context': '- Schutzschirm für Menschen: Scha...\n",
       "FDP_decision               {'context': '- Stärkung des Mittelstandes durc...\n",
       "SPD_decision               {'context': 'Steuerrechtsoffensive zur Verbess...\n",
       "Union_decision             {'context': '- Bildung als Schlüssel zu Chance...\n",
       "AfD_ground_truth                                                         NaN\n",
       "AfD_prediction                                                          None\n",
       "DIE_GRÜNEN_ground_truth                                           zustimmung\n",
       "DIE_GRÜNEN_prediction                                             zustimmung\n",
       "DIE_LINKE_ground_truth                                            zustimmung\n",
       "DIE_LINKE_prediction                                              zustimmung\n",
       "FDP_ground_truth                                                   ablehnung\n",
       "FDP_prediction                                                    zustimmung\n",
       "SPD_ground_truth                                                  enthaltung\n",
       "SPD_prediction                                                    zustimmung\n",
       "Union_ground_truth                                                 ablehnung\n",
       "Union_prediction                                                  zustimmung\n",
       "category                   Justiz & Verbraucherschutz - Rechtsprechung, G...\n",
       "Name: 620, dtype: object"
      ]
     },
     "execution_count": 9,
     "metadata": {},
     "output_type": "execute_result"
    }
   ],
   "source": [
    "data.iloc[620]"
   ]
  },
  {
   "cell_type": "code",
   "execution_count": null,
   "id": "14723909",
   "metadata": {},
   "outputs": [],
   "source": []
  }
 ],
 "metadata": {
  "kernelspec": {
   "display_name": "langchain",
   "language": "python",
   "name": "python3"
  },
  "language_info": {
   "codemirror_mode": {
    "name": "ipython",
    "version": 3
   },
   "file_extension": ".py",
   "mimetype": "text/x-python",
   "name": "python",
   "nbconvert_exporter": "python",
   "pygments_lexer": "ipython3",
   "version": "3.13.2"
  }
 },
 "nbformat": 4,
 "nbformat_minor": 5
}
