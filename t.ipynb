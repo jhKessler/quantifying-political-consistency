{
 "cells": [
  {
   "cell_type": "code",
   "execution_count": 1,
   "id": "42cf95ee",
   "metadata": {},
   "outputs": [
    {
     "name": "stderr",
     "output_type": "stream",
     "text": [
      "\u001b[32m2025-05-28 19:50:58.572\u001b[0m | \u001b[1mINFO    \u001b[0m | \u001b[36msrc.run_prediction\u001b[0m:\u001b[36mrun_prediction\u001b[0m:\u001b[36m43\u001b[0m - \u001b[1mProcessing party: AfD\u001b[0m\n",
      "\u001b[32m2025-05-28 19:50:58.573\u001b[0m | \u001b[1mINFO    \u001b[0m | \u001b[36msrc.manifestos.embed\u001b[0m:\u001b[36mget_rag_embeddings\u001b[0m:\u001b[36m19\u001b[0m - \u001b[1mCreating RAG embeddings for party: AfD\u001b[0m\n",
      " 52%|█████▏    | 347/664 [12:14<16:16,  3.08s/it]\u001b[32m2025-05-28 20:03:15.500\u001b[0m | \u001b[33m\u001b[1mWARNING \u001b[0m | \u001b[36msrc.prediction.predict_partyline\u001b[0m:\u001b[36mget_correct_manifesto_year\u001b[0m:\u001b[36m32\u001b[0m - \u001b[33m\u001b[1mNo manifesto found for AfD before 2012-12-13\u001b[0m\n",
      " 52%|█████▏    | 348/664 [12:16<15:26,  2.93s/it]\u001b[32m2025-05-28 20:03:15.505\u001b[0m | \u001b[33m\u001b[1mWARNING \u001b[0m | \u001b[36msrc.prediction.predict_partyline\u001b[0m:\u001b[36mget_correct_manifesto_year\u001b[0m:\u001b[36m32\u001b[0m - \u001b[33m\u001b[1mNo manifesto found for AfD before 2012-12-13\u001b[0m\n",
      "\u001b[32m2025-05-28 20:03:15.509\u001b[0m | \u001b[33m\u001b[1mWARNING \u001b[0m | \u001b[36msrc.prediction.predict_partyline\u001b[0m:\u001b[36mget_correct_manifesto_year\u001b[0m:\u001b[36m32\u001b[0m - \u001b[33m\u001b[1mNo manifesto found for AfD before 2012-12-13\u001b[0m\n",
      "\u001b[32m2025-05-28 20:03:15.512\u001b[0m | \u001b[33m\u001b[1mWARNING \u001b[0m | \u001b[36msrc.prediction.predict_partyline\u001b[0m:\u001b[36mget_correct_manifesto_year\u001b[0m:\u001b[36m32\u001b[0m - \u001b[33m\u001b[1mNo manifesto found for AfD before 2012-12-12\u001b[0m\n",
      "\u001b[32m2025-05-28 20:03:15.515\u001b[0m | \u001b[33m\u001b[1mWARNING \u001b[0m | \u001b[36msrc.prediction.predict_partyline\u001b[0m:\u001b[36mget_correct_manifesto_year\u001b[0m:\u001b[36m32\u001b[0m - \u001b[33m\u001b[1mNo manifesto found for AfD before 2012-12-12\u001b[0m\n",
      "\u001b[32m2025-05-28 20:03:15.519\u001b[0m | \u001b[33m\u001b[1mWARNING \u001b[0m | \u001b[36msrc.prediction.predict_partyline\u001b[0m:\u001b[36mget_correct_manifesto_year\u001b[0m:\u001b[36m32\u001b[0m - \u001b[33m\u001b[1mNo manifesto found for AfD before 2012-12-12\u001b[0m\n",
      "\u001b[32m2025-05-28 20:03:15.522\u001b[0m | \u001b[33m\u001b[1mWARNING \u001b[0m | \u001b[36msrc.prediction.predict_partyline\u001b[0m:\u001b[36mget_correct_manifesto_year\u001b[0m:\u001b[36m32\u001b[0m - \u001b[33m\u001b[1mNo manifesto found for AfD before 2012-12-12\u001b[0m\n",
      "\u001b[32m2025-05-28 20:03:15.525\u001b[0m | \u001b[33m\u001b[1mWARNING \u001b[0m | \u001b[36msrc.prediction.predict_partyline\u001b[0m:\u001b[36mget_correct_manifesto_year\u001b[0m:\u001b[36m32\u001b[0m - \u001b[33m\u001b[1mNo manifesto found for AfD before 2012-12-12\u001b[0m\n",
      "\u001b[32m2025-05-28 20:03:15.528\u001b[0m | \u001b[33m\u001b[1mWARNING \u001b[0m | \u001b[36msrc.prediction.predict_partyline\u001b[0m:\u001b[36mget_correct_manifesto_year\u001b[0m:\u001b[36m32\u001b[0m - \u001b[33m\u001b[1mNo manifesto found for AfD before 2012-11-30\u001b[0m\n",
      "\u001b[32m2025-05-28 20:03:15.532\u001b[0m | \u001b[33m\u001b[1mWARNING \u001b[0m | \u001b[36msrc.prediction.predict_partyline\u001b[0m:\u001b[36mget_correct_manifesto_year\u001b[0m:\u001b[36m32\u001b[0m - \u001b[33m\u001b[1mNo manifesto found for AfD before 2012-11-22\u001b[0m\n",
      "\u001b[32m2025-05-28 20:03:15.534\u001b[0m | \u001b[33m\u001b[1mWARNING \u001b[0m | \u001b[36msrc.prediction.predict_partyline\u001b[0m:\u001b[36mget_correct_manifesto_year\u001b[0m:\u001b[36m32\u001b[0m - \u001b[33m\u001b[1mNo manifesto found for AfD before 2012-11-21\u001b[0m\n",
      "\u001b[32m2025-05-28 20:03:15.538\u001b[0m | \u001b[33m\u001b[1mWARNING \u001b[0m | \u001b[36msrc.prediction.predict_partyline\u001b[0m:\u001b[36mget_correct_manifesto_year\u001b[0m:\u001b[36m32\u001b[0m - \u001b[33m\u001b[1mNo manifesto found for AfD before 2012-10-25\u001b[0m\n",
      "\u001b[32m2025-05-28 20:03:15.541\u001b[0m | \u001b[33m\u001b[1mWARNING \u001b[0m | \u001b[36msrc.prediction.predict_partyline\u001b[0m:\u001b[36mget_correct_manifesto_year\u001b[0m:\u001b[36m32\u001b[0m - \u001b[33m\u001b[1mNo manifesto found for AfD before 2012-10-25\u001b[0m\n",
      "\u001b[32m2025-05-28 20:03:15.544\u001b[0m | \u001b[33m\u001b[1mWARNING \u001b[0m | \u001b[36msrc.prediction.predict_partyline\u001b[0m:\u001b[36mget_correct_manifesto_year\u001b[0m:\u001b[36m32\u001b[0m - \u001b[33m\u001b[1mNo manifesto found for AfD before 2012-10-25\u001b[0m\n",
      "\u001b[32m2025-05-28 20:03:15.547\u001b[0m | \u001b[33m\u001b[1mWARNING \u001b[0m | \u001b[36msrc.prediction.predict_partyline\u001b[0m:\u001b[36mget_correct_manifesto_year\u001b[0m:\u001b[36m32\u001b[0m - \u001b[33m\u001b[1mNo manifesto found for AfD before 2012-10-25\u001b[0m\n",
      "\u001b[32m2025-05-28 20:03:15.550\u001b[0m | \u001b[33m\u001b[1mWARNING \u001b[0m | \u001b[36msrc.prediction.predict_partyline\u001b[0m:\u001b[36mget_correct_manifesto_year\u001b[0m:\u001b[36m32\u001b[0m - \u001b[33m\u001b[1mNo manifesto found for AfD before 2012-10-18\u001b[0m\n",
      " 92%|█████████▏| 613/664 [20:24<01:54,  2.25s/it]\u001b[32m2025-05-28 20:11:26.971\u001b[0m | \u001b[33m\u001b[1mWARNING \u001b[0m | \u001b[36msrc.prediction.predict_partyline\u001b[0m:\u001b[36mget_correct_manifesto_year\u001b[0m:\u001b[36m32\u001b[0m - \u001b[33m\u001b[1mNo manifesto found for AfD before 2013-03-15\u001b[0m\n",
      " 92%|█████████▏| 614/664 [20:28<02:13,  2.66s/it]\u001b[32m2025-05-28 20:11:26.975\u001b[0m | \u001b[33m\u001b[1mWARNING \u001b[0m | \u001b[36msrc.prediction.predict_partyline\u001b[0m:\u001b[36mget_correct_manifesto_year\u001b[0m:\u001b[36m32\u001b[0m - \u001b[33m\u001b[1mNo manifesto found for AfD before 2013-03-01\u001b[0m\n",
      "\u001b[32m2025-05-28 20:11:26.978\u001b[0m | \u001b[33m\u001b[1mWARNING \u001b[0m | \u001b[36msrc.prediction.predict_partyline\u001b[0m:\u001b[36mget_correct_manifesto_year\u001b[0m:\u001b[36m32\u001b[0m - \u001b[33m\u001b[1mNo manifesto found for AfD before 2013-03-01\u001b[0m\n",
      "\u001b[32m2025-05-28 20:11:26.981\u001b[0m | \u001b[33m\u001b[1mWARNING \u001b[0m | \u001b[36msrc.prediction.predict_partyline\u001b[0m:\u001b[36mget_correct_manifesto_year\u001b[0m:\u001b[36m32\u001b[0m - \u001b[33m\u001b[1mNo manifesto found for AfD before 2013-03-01\u001b[0m\n",
      "\u001b[32m2025-05-28 20:11:26.983\u001b[0m | \u001b[33m\u001b[1mWARNING \u001b[0m | \u001b[36msrc.prediction.predict_partyline\u001b[0m:\u001b[36mget_correct_manifesto_year\u001b[0m:\u001b[36m32\u001b[0m - \u001b[33m\u001b[1mNo manifesto found for AfD before 2013-03-01\u001b[0m\n",
      "\u001b[32m2025-05-28 20:11:26.986\u001b[0m | \u001b[33m\u001b[1mWARNING \u001b[0m | \u001b[36msrc.prediction.predict_partyline\u001b[0m:\u001b[36mget_correct_manifesto_year\u001b[0m:\u001b[36m32\u001b[0m - \u001b[33m\u001b[1mNo manifesto found for AfD before 2013-03-01\u001b[0m\n",
      "\u001b[32m2025-05-28 20:11:26.990\u001b[0m | \u001b[33m\u001b[1mWARNING \u001b[0m | \u001b[36msrc.prediction.predict_partyline\u001b[0m:\u001b[36mget_correct_manifesto_year\u001b[0m:\u001b[36m32\u001b[0m - \u001b[33m\u001b[1mNo manifesto found for AfD before 2013-03-01\u001b[0m\n",
      "\u001b[32m2025-05-28 20:11:26.992\u001b[0m | \u001b[33m\u001b[1mWARNING \u001b[0m | \u001b[36msrc.prediction.predict_partyline\u001b[0m:\u001b[36mget_correct_manifesto_year\u001b[0m:\u001b[36m32\u001b[0m - \u001b[33m\u001b[1mNo manifesto found for AfD before 2013-03-01\u001b[0m\n",
      "\u001b[32m2025-05-28 20:11:26.996\u001b[0m | \u001b[33m\u001b[1mWARNING \u001b[0m | \u001b[36msrc.prediction.predict_partyline\u001b[0m:\u001b[36mget_correct_manifesto_year\u001b[0m:\u001b[36m32\u001b[0m - \u001b[33m\u001b[1mNo manifesto found for AfD before 2013-03-01\u001b[0m\n",
      "\u001b[32m2025-05-28 20:11:27.000\u001b[0m | \u001b[33m\u001b[1mWARNING \u001b[0m | \u001b[36msrc.prediction.predict_partyline\u001b[0m:\u001b[36mget_correct_manifesto_year\u001b[0m:\u001b[36m32\u001b[0m - \u001b[33m\u001b[1mNo manifesto found for AfD before 2013-03-01\u001b[0m\n",
      "\u001b[32m2025-05-28 20:11:27.003\u001b[0m | \u001b[33m\u001b[1mWARNING \u001b[0m | \u001b[36msrc.prediction.predict_partyline\u001b[0m:\u001b[36mget_correct_manifesto_year\u001b[0m:\u001b[36m32\u001b[0m - \u001b[33m\u001b[1mNo manifesto found for AfD before 2013-03-01\u001b[0m\n",
      "\u001b[32m2025-05-28 20:11:27.006\u001b[0m | \u001b[33m\u001b[1mWARNING \u001b[0m | \u001b[36msrc.prediction.predict_partyline\u001b[0m:\u001b[36mget_correct_manifesto_year\u001b[0m:\u001b[36m32\u001b[0m - \u001b[33m\u001b[1mNo manifesto found for AfD before 2013-03-01\u001b[0m\n",
      "\u001b[32m2025-05-28 20:11:27.009\u001b[0m | \u001b[33m\u001b[1mWARNING \u001b[0m | \u001b[36msrc.prediction.predict_partyline\u001b[0m:\u001b[36mget_correct_manifesto_year\u001b[0m:\u001b[36m32\u001b[0m - \u001b[33m\u001b[1mNo manifesto found for AfD before 2013-03-01\u001b[0m\n",
      "\u001b[32m2025-05-28 20:11:27.015\u001b[0m | \u001b[33m\u001b[1mWARNING \u001b[0m | \u001b[36msrc.prediction.predict_partyline\u001b[0m:\u001b[36mget_correct_manifesto_year\u001b[0m:\u001b[36m32\u001b[0m - \u001b[33m\u001b[1mNo manifesto found for AfD before 2013-03-01\u001b[0m\n",
      "\u001b[32m2025-05-28 20:11:27.012\u001b[0m | \u001b[33m\u001b[1mWARNING \u001b[0m | \u001b[36msrc.prediction.predict_partyline\u001b[0m:\u001b[36mget_correct_manifesto_year\u001b[0m:\u001b[36m32\u001b[0m - \u001b[33m\u001b[1mNo manifesto found for AfD before 2013-03-01\u001b[0m\n",
      "\u001b[32m2025-05-28 20:11:27.018\u001b[0m | \u001b[33m\u001b[1mWARNING \u001b[0m | \u001b[36msrc.prediction.predict_partyline\u001b[0m:\u001b[36mget_correct_manifesto_year\u001b[0m:\u001b[36m32\u001b[0m - \u001b[33m\u001b[1mNo manifesto found for AfD before 2013-03-01\u001b[0m\n",
      "\u001b[32m2025-05-28 20:11:27.025\u001b[0m | \u001b[33m\u001b[1mWARNING \u001b[0m | \u001b[36msrc.prediction.predict_partyline\u001b[0m:\u001b[36mget_correct_manifesto_year\u001b[0m:\u001b[36m32\u001b[0m - \u001b[33m\u001b[1mNo manifesto found for AfD before 2013-03-01\u001b[0m\n",
      "\u001b[32m2025-05-28 20:11:27.022\u001b[0m | \u001b[33m\u001b[1mWARNING \u001b[0m | \u001b[36msrc.prediction.predict_partyline\u001b[0m:\u001b[36mget_correct_manifesto_year\u001b[0m:\u001b[36m32\u001b[0m - \u001b[33m\u001b[1mNo manifesto found for AfD before 2013-03-01\u001b[0m\n",
      "\u001b[32m2025-05-28 20:11:27.033\u001b[0m | \u001b[33m\u001b[1mWARNING \u001b[0m | \u001b[36msrc.prediction.predict_partyline\u001b[0m:\u001b[36mget_correct_manifesto_year\u001b[0m:\u001b[36m32\u001b[0m - \u001b[33m\u001b[1mNo manifesto found for AfD before 2013-03-01\u001b[0m\n",
      "\u001b[32m2025-05-28 20:11:27.029\u001b[0m | \u001b[33m\u001b[1mWARNING \u001b[0m | \u001b[36msrc.prediction.predict_partyline\u001b[0m:\u001b[36mget_correct_manifesto_year\u001b[0m:\u001b[36m32\u001b[0m - \u001b[33m\u001b[1mNo manifesto found for AfD before 2013-03-01\u001b[0m\n",
      "\u001b[32m2025-05-28 20:11:27.041\u001b[0m | \u001b[33m\u001b[1mWARNING \u001b[0m | \u001b[36msrc.prediction.predict_partyline\u001b[0m:\u001b[36mget_correct_manifesto_year\u001b[0m:\u001b[36m32\u001b[0m - \u001b[33m\u001b[1mNo manifesto found for AfD before 2013-03-01\u001b[0m\n",
      "\u001b[32m2025-05-28 20:11:27.037\u001b[0m | \u001b[33m\u001b[1mWARNING \u001b[0m | \u001b[36msrc.prediction.predict_partyline\u001b[0m:\u001b[36mget_correct_manifesto_year\u001b[0m:\u001b[36m32\u001b[0m - \u001b[33m\u001b[1mNo manifesto found for AfD before 2013-03-01\u001b[0m\n",
      "\u001b[32m2025-05-28 20:11:27.049\u001b[0m | \u001b[33m\u001b[1mWARNING \u001b[0m | \u001b[36msrc.prediction.predict_partyline\u001b[0m:\u001b[36mget_correct_manifesto_year\u001b[0m:\u001b[36m32\u001b[0m - \u001b[33m\u001b[1mNo manifesto found for AfD before 2013-03-01\u001b[0m\n",
      "\u001b[32m2025-05-28 20:11:27.046\u001b[0m | \u001b[33m\u001b[1mWARNING \u001b[0m | \u001b[36msrc.prediction.predict_partyline\u001b[0m:\u001b[36mget_correct_manifesto_year\u001b[0m:\u001b[36m32\u001b[0m - \u001b[33m\u001b[1mNo manifesto found for AfD before 2013-03-01\u001b[0m\n",
      "\u001b[32m2025-05-28 20:11:27.056\u001b[0m | \u001b[33m\u001b[1mWARNING \u001b[0m | \u001b[36msrc.prediction.predict_partyline\u001b[0m:\u001b[36mget_correct_manifesto_year\u001b[0m:\u001b[36m32\u001b[0m - \u001b[33m\u001b[1mNo manifesto found for AfD before 2013-02-28\u001b[0m\n",
      "\u001b[32m2025-05-28 20:11:27.052\u001b[0m | \u001b[33m\u001b[1mWARNING \u001b[0m | \u001b[36msrc.prediction.predict_partyline\u001b[0m:\u001b[36mget_correct_manifesto_year\u001b[0m:\u001b[36m32\u001b[0m - \u001b[33m\u001b[1mNo manifesto found for AfD before 2013-03-01\u001b[0m\n",
      "\u001b[32m2025-05-28 20:11:27.061\u001b[0m | \u001b[33m\u001b[1mWARNING \u001b[0m | \u001b[36msrc.prediction.predict_partyline\u001b[0m:\u001b[36mget_correct_manifesto_year\u001b[0m:\u001b[36m32\u001b[0m - \u001b[33m\u001b[1mNo manifesto found for AfD before 2013-02-28\u001b[0m\n",
      "\u001b[32m2025-05-28 20:11:27.067\u001b[0m | \u001b[33m\u001b[1mWARNING \u001b[0m | \u001b[36msrc.prediction.predict_partyline\u001b[0m:\u001b[36mget_correct_manifesto_year\u001b[0m:\u001b[36m32\u001b[0m - \u001b[33m\u001b[1mNo manifesto found for AfD before 2013-02-28\u001b[0m\n",
      "\u001b[32m2025-05-28 20:11:27.065\u001b[0m | \u001b[33m\u001b[1mWARNING \u001b[0m | \u001b[36msrc.prediction.predict_partyline\u001b[0m:\u001b[36mget_correct_manifesto_year\u001b[0m:\u001b[36m32\u001b[0m - \u001b[33m\u001b[1mNo manifesto found for AfD before 2013-02-28\u001b[0m\n",
      "\u001b[32m2025-05-28 20:11:27.074\u001b[0m | \u001b[33m\u001b[1mWARNING \u001b[0m | \u001b[36msrc.prediction.predict_partyline\u001b[0m:\u001b[36mget_correct_manifesto_year\u001b[0m:\u001b[36m32\u001b[0m - \u001b[33m\u001b[1mNo manifesto found for AfD before 2013-01-31\u001b[0m\n",
      " 97%|█████████▋| 644/664 [20:28<00:03,  5.12it/s]\u001b[32m2025-05-28 20:11:27.071\u001b[0m | \u001b[33m\u001b[1mWARNING \u001b[0m | \u001b[36msrc.prediction.predict_partyline\u001b[0m:\u001b[36mget_correct_manifesto_year\u001b[0m:\u001b[36m32\u001b[0m - \u001b[33m\u001b[1mNo manifesto found for AfD before 2013-02-28\u001b[0m\n",
      "\u001b[32m2025-05-28 20:11:27.080\u001b[0m | \u001b[33m\u001b[1mWARNING \u001b[0m | \u001b[36msrc.prediction.predict_partyline\u001b[0m:\u001b[36mget_correct_manifesto_year\u001b[0m:\u001b[36m32\u001b[0m - \u001b[33m\u001b[1mNo manifesto found for AfD before 2012-12-13\u001b[0m\n",
      "\u001b[32m2025-05-28 20:11:27.077\u001b[0m | \u001b[33m\u001b[1mWARNING \u001b[0m | \u001b[36msrc.prediction.predict_partyline\u001b[0m:\u001b[36mget_correct_manifesto_year\u001b[0m:\u001b[36m32\u001b[0m - \u001b[33m\u001b[1mNo manifesto found for AfD before 2012-12-14\u001b[0m\n",
      "\u001b[32m2025-05-28 20:11:27.087\u001b[0m | \u001b[33m\u001b[1mWARNING \u001b[0m | \u001b[36msrc.prediction.predict_partyline\u001b[0m:\u001b[36mget_correct_manifesto_year\u001b[0m:\u001b[36m32\u001b[0m - \u001b[33m\u001b[1mNo manifesto found for AfD before 2012-12-13\u001b[0m\n",
      "\u001b[32m2025-05-28 20:11:27.084\u001b[0m | \u001b[33m\u001b[1mWARNING \u001b[0m | \u001b[36msrc.prediction.predict_partyline\u001b[0m:\u001b[36mget_correct_manifesto_year\u001b[0m:\u001b[36m32\u001b[0m - \u001b[33m\u001b[1mNo manifesto found for AfD before 2012-12-13\u001b[0m\n",
      "100%|██████████| 664/664 [21:14<00:00,  1.92s/it]\n",
      "\u001b[32m2025-05-28 20:12:13.195\u001b[0m | \u001b[1mINFO    \u001b[0m | \u001b[36msrc.run_prediction\u001b[0m:\u001b[36mrun_prediction\u001b[0m:\u001b[36m43\u001b[0m - \u001b[1mProcessing party: DIE_GRÜNEN\u001b[0m\n",
      "\u001b[32m2025-05-28 20:12:13.197\u001b[0m | \u001b[1mINFO    \u001b[0m | \u001b[36msrc.manifestos.embed\u001b[0m:\u001b[36mget_rag_embeddings\u001b[0m:\u001b[36m19\u001b[0m - \u001b[1mCreating RAG embeddings for party: DIE_GRÜNEN\u001b[0m\n",
      "100%|██████████| 664/664 [21:03<00:00,  1.90s/it]\n",
      "\u001b[32m2025-05-28 20:33:16.455\u001b[0m | \u001b[1mINFO    \u001b[0m | \u001b[36msrc.run_prediction\u001b[0m:\u001b[36mrun_prediction\u001b[0m:\u001b[36m43\u001b[0m - \u001b[1mProcessing party: DIE_LINKE\u001b[0m\n",
      "\u001b[32m2025-05-28 20:33:16.456\u001b[0m | \u001b[1mINFO    \u001b[0m | \u001b[36msrc.manifestos.embed\u001b[0m:\u001b[36mget_rag_embeddings\u001b[0m:\u001b[36m19\u001b[0m - \u001b[1mCreating RAG embeddings for party: DIE_LINKE\u001b[0m\n",
      "100%|██████████| 664/664 [21:29<00:00,  1.94s/it]\n",
      "\u001b[32m2025-05-28 20:54:46.626\u001b[0m | \u001b[1mINFO    \u001b[0m | \u001b[36msrc.run_prediction\u001b[0m:\u001b[36mrun_prediction\u001b[0m:\u001b[36m43\u001b[0m - \u001b[1mProcessing party: FDP\u001b[0m\n",
      "\u001b[32m2025-05-28 20:54:46.627\u001b[0m | \u001b[1mINFO    \u001b[0m | \u001b[36msrc.manifestos.embed\u001b[0m:\u001b[36mget_rag_embeddings\u001b[0m:\u001b[36m19\u001b[0m - \u001b[1mCreating RAG embeddings for party: FDP\u001b[0m\n",
      "100%|██████████| 664/664 [21:31<00:00,  1.94s/it]\n",
      "\u001b[32m2025-05-28 21:16:18.144\u001b[0m | \u001b[1mINFO    \u001b[0m | \u001b[36msrc.run_prediction\u001b[0m:\u001b[36mrun_prediction\u001b[0m:\u001b[36m43\u001b[0m - \u001b[1mProcessing party: SPD\u001b[0m\n",
      "\u001b[32m2025-05-28 21:16:18.146\u001b[0m | \u001b[1mINFO    \u001b[0m | \u001b[36msrc.manifestos.embed\u001b[0m:\u001b[36mget_rag_embeddings\u001b[0m:\u001b[36m19\u001b[0m - \u001b[1mCreating RAG embeddings for party: SPD\u001b[0m\n",
      "100%|██████████| 664/664 [21:19<00:00,  1.93s/it]\n",
      "\u001b[32m2025-05-28 21:37:38.047\u001b[0m | \u001b[1mINFO    \u001b[0m | \u001b[36msrc.run_prediction\u001b[0m:\u001b[36mrun_prediction\u001b[0m:\u001b[36m43\u001b[0m - \u001b[1mProcessing party: Union\u001b[0m\n",
      "\u001b[32m2025-05-28 21:37:38.049\u001b[0m | \u001b[1mINFO    \u001b[0m | \u001b[36msrc.manifestos.embed\u001b[0m:\u001b[36mget_rag_embeddings\u001b[0m:\u001b[36m19\u001b[0m - \u001b[1mCreating RAG embeddings for party: Union\u001b[0m\n",
      "100%|██████████| 664/664 [20:52<00:00,  1.89s/it]\n"
     ]
    }
   ],
   "source": [
    "from src.run_prediction import run_prediction\n",
    "\n",
    "run_prediction()"
   ]
  },
  {
   "cell_type": "code",
   "execution_count": null,
   "id": "f2315a36",
   "metadata": {},
   "outputs": [],
   "source": []
  }
 ],
 "metadata": {
  "kernelspec": {
   "display_name": "langchain",
   "language": "python",
   "name": "python3"
  },
  "language_info": {
   "codemirror_mode": {
    "name": "ipython",
    "version": 3
   },
   "file_extension": ".py",
   "mimetype": "text/x-python",
   "name": "python",
   "nbconvert_exporter": "python",
   "pygments_lexer": "ipython3",
   "version": "3.13.2"
  }
 },
 "nbformat": 4,
 "nbformat_minor": 5
}
