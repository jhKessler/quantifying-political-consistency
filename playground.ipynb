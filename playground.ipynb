{
 "cells": [
  {
   "cell_type": "code",
   "execution_count": 4,
   "id": "7a1afd18",
   "metadata": {},
   "outputs": [],
   "source": [
    "import pandas as pd\n",
    "\n",
    "\n",
    "data = pd.read_parquet(r\"data\\parquet\\final.parquet\")\n",
    "parties = [\"AfD\", \"DIE_GRÜNEN\", \"DIE_LINKE\", \"FDP\", \"SPD\", \"Union\"]\n",
    "\n"
   ]
  },
  {
   "cell_type": "code",
   "execution_count": 22,
   "id": "36151a14",
   "metadata": {},
   "outputs": [],
   "source": [
    "all_data = None\n",
    "\n",
    "for party in parties:\n",
    "    party_data = data[[\n",
    "        \"vote\", \"drucksache_id\", \"beschlussempfehlung\", \"type\", \"summary\", \"date\", \"category\",\n",
    "        f\"{party}_prediction\", f\"{party}_ground_truth\", \n",
    "    ]].rename(\n",
    "        columns={\n",
    "            f\"{party}_prediction\": \"prediction\",\n",
    "            f\"{party}_ground_truth\": \"ground_truth\",\n",
    "        }\n",
    "    )\n",
    "    party_data = party_data[party_data[\"ground_truth\"].notna()]\n",
    "    party_data[\"party\"] = party\n",
    "    if all_data is None:\n",
    "        all_data = party_data\n",
    "    else:\n",
    "        all_data = pd.concat([all_data, party_data], ignore_index=True)\n",
    "\n",
    "all_data[\"partyline_correct\"] = all_data[\"prediction\"] == all_data[\"ground_truth\"]"
   ]
  },
  {
   "cell_type": "code",
   "execution_count": 40,
   "id": "11bbdb7c",
   "metadata": {},
   "outputs": [
    {
     "data": {
      "text/plain": [
       "category\n",
       "Entwicklungszusammenarbeit - Entwicklungsprojekte, humanitäre Hilfe, internationale Zusammenarbeit                0.887640\n",
       "Verteidigung & Sicherheit - Militär, Verteidigungsstrategie, Bundeswehr, Rüstung                                  0.827131\n",
       "Außenpolitik & Europäische Angelegenheiten - Diplomatie, internationale Beziehungen, EU-Politik                   0.775000\n",
       "Wirtschaft & Energie - Industriepolitik, Mittelstand, Energieversorgung, Wirtschaftsordnungen                     0.647541\n",
       "Inneres & Migration - Innere Sicherheit, öffentliche Verwaltung, Migration, Staatsbürgerschaft                    0.627168\n",
       "Umwelt, Klima & Naturschutz - Umweltschutz, Klimapläne, Artenschutz, nukleare Sicherheit                          0.625954\n",
       "Finanzen - Steuern, Staatsbudget, Haushalts- und Finanzpolitik                                                    0.605634\n",
       "Wohnen & Stadtentwicklung - Wohnungsbau, Städtebau, Bauordnung, Städtebauförderung                                0.588235\n",
       "Verkehr & Infrastruktur - Straßen-, Schienen- und Luftverkehr, Mobilitätskonzepte, Infrastrukturprojekte          0.583333\n",
       "Arbeit & Soziales - Arbeitsmarktpolitik, Sozialversicherung, Renten, Integration                                  0.563492\n",
       "Justiz & Verbraucherschutz - Rechtsprechung, Gesetzgebung, Verbraucherschutz, Datenschutz                         0.562500\n",
       "Gesundheit - Gesundheitssystem, Krankenversicherung, Arzneimittelregulierung, Pandemie- und Präventionspolitik    0.525424\n",
       "Digitalisierung & Modernisierung - E-Government, IT-Infrastruktur, digitale Verwaltung, Cybersecurity             0.517857\n",
       "Bildung, Familie & Jugend - Schulen, Hochschulen, Familienförderung, Kinder- und Jugendpolitik                    0.463415\n",
       "Landwirtschaft & Ernährung - Agrarpolitik, Ernährungssicherheit, Ländliche Entwicklung                            0.446154\n",
       "Name: partyline_correct, dtype: float64"
      ]
     },
     "execution_count": 40,
     "metadata": {},
     "output_type": "execute_result"
    }
   ],
   "source": [
    "filtered = all_data.groupby([\"category\"]).filter(lambda x: len(x) >= 20)\n",
    "result = filtered.groupby([\"category\"])[\"partyline_correct\"].mean()\n",
    "result.sort_values(ascending=False, inplace=True)\n",
    "result"
   ]
  },
  {
   "cell_type": "code",
   "execution_count": 68,
   "id": "7f9cf2c2",
   "metadata": {},
   "outputs": [
    {
     "data": {
      "text/plain": [
       "array(['Verteidigung & Sicherheit - Militär, Verteidigungsstrategie, Bundeswehr, Rüstung',\n",
       "       'Inneres & Migration - Innere Sicherheit, öffentliche Verwaltung, Migration, Staatsbürgerschaft',\n",
       "       'Finanzen - Steuern, Staatsbudget, Haushalts- und Finanzpolitik',\n",
       "       'Umwelt, Klima & Naturschutz - Umweltschutz, Klimapläne, Artenschutz, nukleare Sicherheit',\n",
       "       'Wohnen & Stadtentwicklung - Wohnungsbau, Städtebau, Bauordnung, Städtebauförderung',\n",
       "       'Gesundheit - Gesundheitssystem, Krankenversicherung, Arzneimittelregulierung, Pandemie- und Präventionspolitik',\n",
       "       'Entwicklungszusammenarbeit - Entwicklungsprojekte, humanitäre Hilfe, internationale Zusammenarbeit',\n",
       "       'Wirtschaft & Energie - Industriepolitik, Mittelstand, Energieversorgung, Wirtschaftsordnungen',\n",
       "       'Landwirtschaft & Ernährung - Agrarpolitik, Ernährungssicherheit, Ländliche Entwicklung',\n",
       "       'Justiz & Verbraucherschutz - Rechtsprechung, Gesetzgebung, Verbraucherschutz, Datenschutz',\n",
       "       'Arbeit & Soziales - Arbeitsmarktpolitik, Sozialversicherung, Renten, Integration',\n",
       "       'Außenpolitik & Europäische Angelegenheiten - Diplomatie, internationale Beziehungen, EU-Politik',\n",
       "       'Verkehr & Infrastruktur - Straßen-, Schienen- und Luftverkehr, Mobilitätskonzepte, Infrastrukturprojekte',\n",
       "       'Digitalisierung & Modernisierung - E-Government, IT-Infrastruktur, digitale Verwaltung, Cybersecurity',\n",
       "       'Bildung, Familie & Jugend - Schulen, Hochschulen, Familienförderung, Kinder- und Jugendpolitik'],\n",
       "      dtype=object)"
      ]
     },
     "execution_count": 68,
     "metadata": {},
     "output_type": "execute_result"
    }
   ],
   "source": [
    "all_data[\"category\"].unique()"
   ]
  },
  {
   "cell_type": "code",
   "execution_count": null,
   "id": "1d381c7b",
   "metadata": {},
   "outputs": [],
   "source": []
  },
  {
   "cell_type": "code",
   "execution_count": null,
   "id": "8c746eac",
   "metadata": {},
   "outputs": [],
   "source": []
  },
  {
   "cell_type": "code",
   "execution_count": 1,
   "id": "27548ea4",
   "metadata": {},
   "outputs": [],
   "source": [
    "from src.utils.openai_utils import classify_lobbyregister_entry\n",
    "import pandas as pd\n",
    "with open(r\"data/tmp/lobbyregister.json\", \"r\") as f:\n",
    "    import json\n",
    "    data = json.load(f)\n",
    "data = pd.DataFrame(data[\"results\"])"
   ]
  },
  {
   "cell_type": "code",
   "execution_count": 2,
   "id": "e50ac671",
   "metadata": {},
   "outputs": [
    {
     "data": {
      "text/plain": [
       "LobbyregisterEntryDistribution(categories=[CategoryEntry(category='Entwicklungszusammenarbeit - Entwicklungsprojekte, humanitäre Hilfe, internationale Zusammenarbeit', percentage=50), CategoryEntry(category='Gesundheit - Gesundheitssystem, Krankenversicherung, Arzneimittelregulierung, Pandemie- und Präventionspolitik', percentage=25), CategoryEntry(category='Arbeit & Soziales - Arbeitsmarktpolitik, Sozialversicherung, Renten, Integration', percentage=10), CategoryEntry(category='Bildung, Familie & Jugend - Schulen, Hochschulen, Familienförderung, Kinder- und Jugendpolitik', percentage=10), CategoryEntry(category='Inneres & Migration - Innere Sicherheit, öffentliche Verwaltung, Migration, Staatsbürgerschaft', percentage=5)])"
      ]
     },
     "execution_count": 2,
     "metadata": {},
     "output_type": "execute_result"
    }
   ],
   "source": [
    "classify_lobbyregister_entry(data[\"activitiesAndInterests\"].iloc[0])"
   ]
  },
  {
   "cell_type": "code",
   "execution_count": 4,
   "id": "28b14062",
   "metadata": {},
   "outputs": [
    {
     "data": {
      "text/plain": [
       "{'activity': {'code': 'ACT_NONPROFIT_ORGA_V2',\n",
       "  'de': 'Nichtregierungsorganisation (NGO)',\n",
       "  'en': 'Non-governmental organization (NGO)'},\n",
       " 'typesOfExercisingLobbyWork': [{'code': 'SELF_OPERATED_OWN_INTEREST',\n",
       "   'de': 'Die Interessenvertretung wird in eigenem Interesse selbst wahrgenommen',\n",
       "   'en': 'Interest representation is self-performed in its own interest'}],\n",
       " 'fieldsOfInterest': [{'code': 'FOI_OTHER',\n",
       "   'de': 'Sonstige Interessenbereiche',\n",
       "   'en': 'Other areas',\n",
       "   'fieldOfInterestText': 'humanitäre Hilfe, Katastrophenvorsorge, globale Gesundheit, gemeindebasierte Entwicklung, Inklusion'},\n",
       "  {'code': 'FOI_FA_INTERNATIONAL',\n",
       "   'de': 'Internationale Beziehungen',\n",
       "   'en': 'International relations'},\n",
       "  {'code': 'FOI_REFUGEE_INTEGRATION_POLICY',\n",
       "   'de': 'Migration, Flüchtlingspolitik und Integration',\n",
       "   'en': 'Migration, refugee policy and integration'},\n",
       "  {'code': 'FOI_HEALTH_OTHER',\n",
       "   'de': 'Sonstiges im Bereich \"Gesundheit\"',\n",
       "   'en': 'Other in the field of \"Health\"'},\n",
       "  {'code': 'FOI_FOREIGN_AFFAIRS',\n",
       "   'de': 'Außenpolitik und internationale Beziehungen',\n",
       "   'en': 'Foreign policy and international relations'},\n",
       "  {'code': 'FOI_EP_OTHER',\n",
       "   'de': 'Sonstiges im Bereich \"Bildung und Erziehung\"',\n",
       "   'en': 'Other in the field of \"Education and parenting\"'},\n",
       "  {'code': 'FOI_SP_DISABILITY',\n",
       "   'de': 'Rechte von Menschen mit Behinderung',\n",
       "   'en': 'Rights of people with disabilities'},\n",
       "  {'code': 'FOI_RPI_OTHER',\n",
       "   'de': 'Sonstiges im Bereich \"Migration, Flüchtlingspolitik und Integration\"',\n",
       "   'en': 'Other in the field of \"Migration, refugee policy and integration\"'},\n",
       "  {'code': 'FOI_FA_HUMAN_RIGHTS',\n",
       "   'de': 'Menschenrechte',\n",
       "   'en': 'Human rights'},\n",
       "  {'code': 'FOI_SOCIAL_POLICY',\n",
       "   'de': 'Gesellschaftspolitik und soziale Gruppen',\n",
       "   'en': 'Social politics and social groups'},\n",
       "  {'code': 'FOI_EDUCATION_PARENTING',\n",
       "   'de': 'Bildung und Erziehung',\n",
       "   'en': 'Education and parenting'},\n",
       "  {'code': 'FOI_HEALTH', 'de': 'Gesundheit', 'en': 'Health'},\n",
       "  {'code': 'FOI_DEVELOPMENT_POLICY',\n",
       "   'de': 'Entwicklungspolitik',\n",
       "   'en': 'Development policy'}],\n",
       " 'activityDescription': 'Light for the World - Licht für die Welt e.V. ist eine unabhängige gemeinnützige Fachorganisation für Augengesundheit und inklusive Entwicklungszusammenarbeit. Unser Tätigkeitschwerpunkt liegt in Afrika. Wir unterhalten eigene Länderbüros in Äthiopien, Burkina Faso, Kenia, Mosambik, Südsudan und Uganda.\\r\\n\\r\\nWir retten Augenlicht und ermöglichen Menschen mit Behinderungen ein selbstbestimmtes Leben. Unsere Vision ist eine Welt, in der die Rechte von Menschen mit Behinderungen auf Gesundheit, Bildung, Arbeit und Schutz in humanitären Krisen verwirklicht sind und alle Menschen augenmedizinische Versorgung erhalten. '}"
      ]
     },
     "execution_count": 4,
     "metadata": {},
     "output_type": "execute_result"
    }
   ],
   "source": [
    "data[\"activitiesAndInterests\"].iloc[0]"
   ]
  },
  {
   "cell_type": "code",
   "execution_count": null,
   "id": "c21cb074",
   "metadata": {},
   "outputs": [],
   "source": []
  }
 ],
 "metadata": {
  "kernelspec": {
   "display_name": "langchain",
   "language": "python",
   "name": "python3"
  },
  "language_info": {
   "codemirror_mode": {
    "name": "ipython",
    "version": 3
   },
   "file_extension": ".py",
   "mimetype": "text/x-python",
   "name": "python",
   "nbconvert_exporter": "python",
   "pygments_lexer": "ipython3",
   "version": "3.13.2"
  }
 },
 "nbformat": 4,
 "nbformat_minor": 5
}
