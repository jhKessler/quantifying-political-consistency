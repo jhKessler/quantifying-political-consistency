{
 "cells": [
  {
   "cell_type": "code",
   "execution_count": 1,
   "id": "72eacb5d",
   "metadata": {},
   "outputs": [
    {
     "name": "stderr",
     "output_type": "stream",
     "text": [
      "\u001b[32m2025-05-18 13:47:23.047\u001b[0m | \u001b[1mINFO    \u001b[0m | \u001b[36msrc.gather_vote_texts\u001b[0m:\u001b[36mgather_vote_texts\u001b[0m:\u001b[36m137\u001b[0m - \u001b[1mGathering vote texts from Bundestag website...\u001b[0m\n",
      "Downloading vote texts:  13%|█▎        | 89/706 [00:03<00:18, 33.93vote/s]\u001b[32m2025-05-18 13:47:27.085\u001b[0m | \u001b[31m\u001b[1mERROR   \u001b[0m | \u001b[36msrc.gather_vote_texts\u001b[0m:\u001b[36mgather_vote_texts\u001b[0m:\u001b[36m148\u001b[0m - \u001b[31m\u001b[1mFailed to download or process Wahl zum Europäischen Parlament: 404 Client Error: Not Found for url: https://dserver.bundestag.de/btd/76/007/7600787.pdf\u001b[0m\n",
      "\u001b[32m2025-05-18 13:47:27.086\u001b[0m | \u001b[31m\u001b[1mERROR   \u001b[0m | \u001b[36msrc.gather_vote_texts\u001b[0m:\u001b[36mgather_vote_texts\u001b[0m:\u001b[36m149\u001b[0m - \u001b[31m\u001b[1mVote data: id                                                20230615_3\n",
      "name                         Wahl zum Europäischen Parlament\n",
      "date                                     2023-06-15 00:00:00\n",
      "xls_url    https://www.bundestag.de/resource/blob/953456/...\n",
      "pdf_url    https://www.bundestag.de/resource/blob/953458/...\n",
      "Name: 89, dtype: object\u001b[0m\n",
      "Downloading vote texts:  15%|█▌        | 108/706 [00:04<00:15, 38.17vote/s]\u001b[32m2025-05-18 13:47:27.330\u001b[0m | \u001b[31m\u001b[1mERROR   \u001b[0m | \u001b[36msrc.utils.pdf_utils\u001b[0m:\u001b[36mextract_first_page_text\u001b[0m:\u001b[36m23\u001b[0m - \u001b[31m\u001b[1mPDF file data/tmp/vote_pdf/20221215_1/drucksachen/0.pdf has no pages.\u001b[0m\n",
      "\u001b[32m2025-05-18 13:47:27.331\u001b[0m | \u001b[31m\u001b[1mERROR   \u001b[0m | \u001b[36msrc.gather_vote_texts\u001b[0m:\u001b[36mdownload_vote_texts\u001b[0m:\u001b[36m109\u001b[0m - \u001b[31m\u001b[1mFailed to extract text from data/tmp/vote_pdf/20221215_1/drucksachen/0.pdf\u001b[0m\n",
      "Downloading vote texts:  16%|█▋        | 116/706 [00:04<00:13, 43.22vote/s]\u001b[32m2025-05-18 13:47:27.533\u001b[0m | \u001b[31m\u001b[1mERROR   \u001b[0m | \u001b[36msrc.gather_vote_texts\u001b[0m:\u001b[36mdownload_vote_texts\u001b[0m:\u001b[36m117\u001b[0m - \u001b[31m\u001b[1mFailed to extract drucksache or date from data/tmp/vote_pdf/20221125_2/drucksachen/7.pdf drucksache: None date: 05.08.2022\u001b[0m\n",
      "\u001b[32m2025-05-18 13:47:27.705\u001b[0m | \u001b[31m\u001b[1mERROR   \u001b[0m | \u001b[36msrc.gather_vote_texts\u001b[0m:\u001b[36mdownload_vote_texts\u001b[0m:\u001b[36m117\u001b[0m - \u001b[31m\u001b[1mFailed to extract drucksache or date from data/tmp/vote_pdf/20221123_1/drucksachen/1.pdf drucksache: None date: 05.08.2022\u001b[0m\n",
      "Downloading vote texts:  17%|█▋        | 123/706 [00:04<00:17, 33.78vote/s]\u001b[32m2025-05-18 13:47:27.762\u001b[0m | \u001b[33m\u001b[1mWARNING \u001b[0m | \u001b[36msrc.gather_vote_texts\u001b[0m:\u001b[36mextract_relevant_ids\u001b[0m:\u001b[36m68\u001b[0m - \u001b[33m\u001b[1mNo relevant IDs found in the first page of data/tmp/vote_pdf/20221110_8/vote.pdf\u001b[0m\n",
      "Downloading vote texts:  28%|██▊       | 196/706 [00:05<00:07, 64.83vote/s]\u001b[32m2025-05-18 13:47:28.906\u001b[0m | \u001b[33m\u001b[1mWARNING \u001b[0m | \u001b[36msrc.gather_vote_texts\u001b[0m:\u001b[36mextract_relevant_ids\u001b[0m:\u001b[36m68\u001b[0m - \u001b[33m\u001b[1mNo relevant IDs found in the first page of data/tmp/vote_pdf/20210520_1/vote.pdf\u001b[0m\n",
      "Downloading vote texts:  34%|███▎      | 238/706 [00:06<00:09, 50.78vote/s]\u001b[32m2025-05-18 13:47:29.601\u001b[0m | \u001b[33m\u001b[1mWARNING \u001b[0m | \u001b[36msrc.gather_vote_texts\u001b[0m:\u001b[36mextract_relevant_ids\u001b[0m:\u001b[36m68\u001b[0m - \u001b[33m\u001b[1mNo relevant IDs found in the first page of data/tmp/vote_pdf/20201118_4/vote.pdf\u001b[0m\n",
      "Downloading vote texts:  35%|███▍      | 246/706 [00:06<00:08, 55.13vote/s]\u001b[32m2025-05-18 13:47:29.691\u001b[0m | \u001b[31m\u001b[1mERROR   \u001b[0m | \u001b[36msrc.gather_vote_texts\u001b[0m:\u001b[36mdownload_vote_texts\u001b[0m:\u001b[36m117\u001b[0m - \u001b[31m\u001b[1mFailed to extract drucksache or date from data/tmp/vote_pdf/20201030_2/drucksachen/1.pdf drucksache: 19_22832 date: None\u001b[0m\n",
      "Downloading vote texts:  36%|███▋      | 256/706 [00:06<00:06, 64.58vote/s]\u001b[32m2025-05-18 13:47:29.812\u001b[0m | \u001b[33m\u001b[1mWARNING \u001b[0m | \u001b[36msrc.gather_vote_texts\u001b[0m:\u001b[36mextract_relevant_ids\u001b[0m:\u001b[36m68\u001b[0m - \u001b[33m\u001b[1mNo relevant IDs found in the first page of data/tmp/vote_pdf/20200703_2/vote.pdf\u001b[0m\n",
      "Downloading vote texts:  53%|█████▎    | 376/706 [00:08<00:06, 49.78vote/s]\u001b[32m2025-05-18 13:47:32.035\u001b[0m | \u001b[33m\u001b[1mWARNING \u001b[0m | \u001b[36msrc.gather_vote_texts\u001b[0m:\u001b[36mextract_relevant_ids\u001b[0m:\u001b[36m68\u001b[0m - \u001b[33m\u001b[1mNo relevant IDs found in the first page of data/tmp/vote_pdf/20181108_4/vote.pdf\u001b[0m\n",
      "Downloading vote texts:  57%|█████▋    | 400/706 [00:09<00:06, 49.00vote/s]\u001b[32m2025-05-18 13:47:32.596\u001b[0m | \u001b[33m\u001b[1mWARNING \u001b[0m | \u001b[36msrc.gather_vote_texts\u001b[0m:\u001b[36mextract_relevant_ids\u001b[0m:\u001b[36m68\u001b[0m - \u001b[33m\u001b[1mNo relevant IDs found in the first page of data/tmp/vote_pdf/20180517/vote.pdf\u001b[0m\n",
      "Downloading vote texts:  58%|█████▊    | 410/706 [00:09<00:05, 59.06vote/s]\u001b[32m2025-05-18 13:47:32.671\u001b[0m | \u001b[33m\u001b[1mWARNING \u001b[0m | \u001b[36msrc.gather_vote_texts\u001b[0m:\u001b[36mextract_relevant_ids\u001b[0m:\u001b[36m68\u001b[0m - \u001b[33m\u001b[1mNo relevant IDs found in the first page of data/tmp/vote_pdf/20180322_5/vote.pdf\u001b[0m\n",
      "Downloading vote texts:  64%|██████▍   | 451/706 [00:09<00:03, 82.83vote/s]\u001b[32m2025-05-18 13:47:33.697\u001b[0m | \u001b[31m\u001b[1mERROR   \u001b[0m | \u001b[36msrc.gather_vote_texts\u001b[0m:\u001b[36mgather_vote_texts\u001b[0m:\u001b[36m148\u001b[0m - \u001b[31m\u001b[1mFailed to download or process Bundeswehreinsatz EU NAFVOR Operation Atalanta: 404 Client Error: Not Found for url: https://dserver.bundestag.de/btd/11/122/1112207.pdf\u001b[0m\n",
      "\u001b[32m2025-05-18 13:47:33.698\u001b[0m | \u001b[31m\u001b[1mERROR   \u001b[0m | \u001b[36msrc.gather_vote_texts\u001b[0m:\u001b[36mgather_vote_texts\u001b[0m:\u001b[36m149\u001b[0m - \u001b[31m\u001b[1mVote data: id                                                20170518_2\n",
      "name          Bundeswehreinsatz EU NAFVOR Operation Atalanta\n",
      "date                                     2017-05-18 00:00:00\n",
      "xls_url    https://www.bundestag.de/resource/blob/507470/...\n",
      "pdf_url    https://www.bundestag.de/resource/blob/507468/...\n",
      "Name: 451, dtype: object\u001b[0m\n",
      "Downloading vote texts:  73%|███████▎  | 517/706 [00:11<00:02, 68.13vote/s]\u001b[32m2025-05-18 13:47:34.790\u001b[0m | \u001b[33m\u001b[1mWARNING \u001b[0m | \u001b[36msrc.gather_vote_texts\u001b[0m:\u001b[36mextract_relevant_ids\u001b[0m:\u001b[36m68\u001b[0m - \u001b[33m\u001b[1mNo relevant IDs found in the first page of data/tmp/vote_pdf/20151127_1/vote.pdf\u001b[0m\n",
      "Downloading vote texts:  75%|███████▍  | 526/706 [00:11<00:03, 53.47vote/s]\u001b[32m2025-05-18 13:47:34.893\u001b[0m | \u001b[33m\u001b[1mWARNING \u001b[0m | \u001b[36msrc.gather_vote_texts\u001b[0m:\u001b[36mextract_relevant_ids\u001b[0m:\u001b[36m68\u001b[0m - \u001b[33m\u001b[1mNo relevant IDs found in the first page of data/tmp/vote_pdf/20151106_1/vote.pdf\u001b[0m\n",
      "Downloading vote texts:  88%|████████▊ | 621/706 [00:13<00:01, 63.82vote/s]\u001b[32m2025-05-18 13:47:36.292\u001b[0m | \u001b[33m\u001b[1mWARNING \u001b[0m | \u001b[36msrc.gather_vote_texts\u001b[0m:\u001b[36mextract_relevant_ids\u001b[0m:\u001b[36m68\u001b[0m - \u001b[33m\u001b[1mNo relevant IDs found in the first page of data/tmp/vote_pdf/20140409/vote.pdf\u001b[0m\n",
      "Downloading vote texts: 100%|██████████| 706/706 [00:14<00:00, 49.15vote/s]\n",
      "\u001b[32m2025-05-18 13:47:37.439\u001b[0m | \u001b[1mINFO    \u001b[0m | \u001b[36msrc.gather_vote_texts\u001b[0m:\u001b[36mgather_vote_texts\u001b[0m:\u001b[36m152\u001b[0m - \u001b[1mVote texts gathered successfully.\u001b[0m\n",
      "\u001b[32m2025-05-18 13:47:37.440\u001b[0m | \u001b[1mINFO    \u001b[0m | \u001b[36msrc.gather_vote_texts\u001b[0m:\u001b[36mgather_vote_texts\u001b[0m:\u001b[36m153\u001b[0m - \u001b[1mBuilding dataframe of vote texts...\u001b[0m\n",
      "\u001b[32m2025-05-18 13:47:37.450\u001b[0m | \u001b[1mINFO    \u001b[0m | \u001b[36msrc.gather_vote_texts\u001b[0m:\u001b[36mgather_vote_texts\u001b[0m:\u001b[36m155\u001b[0m - \u001b[1mDataframe of vote texts built successfully. Saved to data/parquet/vote_texts.parquet\u001b[0m\n",
      "\u001b[32m2025-05-18 13:47:37.451\u001b[0m | \u001b[1mINFO    \u001b[0m | \u001b[36msrc.gather_vote_texts\u001b[0m:\u001b[36mgather_vote_texts\u001b[0m:\u001b[36m156\u001b[0m - \u001b[1mGathering vote texts completed.\u001b[0m\n"
     ]
    }
   ],
   "source": [
    "from src.gather_vote_texts import gather_vote_texts, download_vote_texts\n",
    "import pandas as pd\n",
    "\n",
    "\n",
    "# votes = pd.read_parquet(\"data/parquet/votes.parquet\")\n",
    "# download_vote_texts(votes.iloc[0])\n",
    "\n",
    "gather_vote_texts()"
   ]
  },
  {
   "cell_type": "code",
   "execution_count": 2,
   "id": "8d4595b7",
   "metadata": {},
   "outputs": [],
   "source": [
    "texts = pd.read_parquet(\"data/parquet/vote_texts.parquet\")"
   ]
  },
  {
   "cell_type": "code",
   "execution_count": 6,
   "id": "36fb543c",
   "metadata": {},
   "outputs": [
    {
     "data": {
      "text/plain": [
       "'20130613'"
      ]
     },
     "execution_count": 6,
     "metadata": {},
     "output_type": "execute_result"
    }
   ],
   "source": [
    "def count_gesetzes_entwürfe(documents: pd.DataFrame) -> int:\n",
    "    return (documents[\"document_type\"] == \"Gesetzentwurf\").sum()\n",
    "\n",
    "texts.groupby(\"vote_id\").apply(count_gesetzes_entwürfe).idxmax()"
   ]
  },
  {
   "cell_type": "code",
   "execution_count": 7,
   "id": "03599d45",
   "metadata": {},
   "outputs": [
    {
     "data": {
      "text/html": [
       "<div>\n",
       "<style scoped>\n",
       "    .dataframe tbody tr th:only-of-type {\n",
       "        vertical-align: middle;\n",
       "    }\n",
       "\n",
       "    .dataframe tbody tr th {\n",
       "        vertical-align: top;\n",
       "    }\n",
       "\n",
       "    .dataframe thead th {\n",
       "        text-align: right;\n",
       "    }\n",
       "</style>\n",
       "<table border=\"1\" class=\"dataframe\">\n",
       "  <thead>\n",
       "    <tr style=\"text-align: right;\">\n",
       "      <th></th>\n",
       "      <th>vote_id</th>\n",
       "      <th>filename</th>\n",
       "      <th>drucksache</th>\n",
       "      <th>date</th>\n",
       "      <th>document_type</th>\n",
       "    </tr>\n",
       "  </thead>\n",
       "  <tbody>\n",
       "    <tr>\n",
       "      <th>1656</th>\n",
       "      <td>20130613</td>\n",
       "      <td>data/tmp/vote_pdf/20130613/drucksachen/0.pdf</td>\n",
       "      <td>17_13829</td>\n",
       "      <td>10.06.2013</td>\n",
       "      <td>Gesetzentwurf</td>\n",
       "    </tr>\n",
       "    <tr>\n",
       "      <th>1657</th>\n",
       "      <td>20130613</td>\n",
       "      <td>data/tmp/vote_pdf/20130613/drucksachen/1.pdf</td>\n",
       "      <td>17_13901</td>\n",
       "      <td>12.06.2013</td>\n",
       "      <td>12. 06. 2013</td>\n",
       "    </tr>\n",
       "    <tr>\n",
       "      <th>1658</th>\n",
       "      <td>20130613</td>\n",
       "      <td>data/tmp/vote_pdf/20130613/drucksachen/2.pdf</td>\n",
       "      <td>17_13470</td>\n",
       "      <td>14.05.2013</td>\n",
       "      <td>Gesetzentwurf</td>\n",
       "    </tr>\n",
       "    <tr>\n",
       "      <th>1659</th>\n",
       "      <td>20130613</td>\n",
       "      <td>data/tmp/vote_pdf/20130613/drucksachen/3.pdf</td>\n",
       "      <td>17_13961</td>\n",
       "      <td>12.06.2013</td>\n",
       "      <td>Beschlussempfehlung und Bericht</td>\n",
       "    </tr>\n",
       "    <tr>\n",
       "      <th>1660</th>\n",
       "      <td>20130613</td>\n",
       "      <td>data/tmp/vote_pdf/20130613/drucksachen/4.pdf</td>\n",
       "      <td>17_13965</td>\n",
       "      <td>12.06.2013</td>\n",
       "      <td>Entschließungsantrag</td>\n",
       "    </tr>\n",
       "  </tbody>\n",
       "</table>\n",
       "</div>"
      ],
      "text/plain": [
       "       vote_id                                      filename drucksache  \\\n",
       "1656  20130613  data/tmp/vote_pdf/20130613/drucksachen/0.pdf   17_13829   \n",
       "1657  20130613  data/tmp/vote_pdf/20130613/drucksachen/1.pdf   17_13901   \n",
       "1658  20130613  data/tmp/vote_pdf/20130613/drucksachen/2.pdf   17_13470   \n",
       "1659  20130613  data/tmp/vote_pdf/20130613/drucksachen/3.pdf   17_13961   \n",
       "1660  20130613  data/tmp/vote_pdf/20130613/drucksachen/4.pdf   17_13965   \n",
       "\n",
       "            date                    document_type  \n",
       "1656  10.06.2013                    Gesetzentwurf  \n",
       "1657  12.06.2013                     12. 06. 2013  \n",
       "1658  14.05.2013                    Gesetzentwurf  \n",
       "1659  12.06.2013  Beschlussempfehlung und Bericht  \n",
       "1660  12.06.2013             Entschließungsantrag  "
      ]
     },
     "execution_count": 7,
     "metadata": {},
     "output_type": "execute_result"
    }
   ],
   "source": [
    "texts.query(\"vote_id == '20130613'\")"
   ]
  },
  {
   "cell_type": "code",
   "execution_count": 10,
   "id": "de30673d",
   "metadata": {},
   "outputs": [
    {
     "data": {
      "text/plain": [
       "20_13413    9\n",
       "18_11131    8\n",
       "18_12588    8\n",
       "20_12805    6\n",
       "19_28692    6\n",
       "           ..\n",
       "19_23310    1\n",
       "19_23320    1\n",
       "19_23313    1\n",
       "19_23312    1\n",
       "17_11053    1\n",
       "Name: drucksache, Length: 1394, dtype: int64"
      ]
     },
     "execution_count": 10,
     "metadata": {},
     "output_type": "execute_result"
    }
   ],
   "source": [
    "texts[\"drucksache\"].value_counts()"
   ]
  },
  {
   "cell_type": "code",
   "execution_count": null,
   "id": "14e737e6",
   "metadata": {},
   "outputs": [],
   "source": []
  }
 ],
 "metadata": {
  "kernelspec": {
   "display_name": "base",
   "language": "python",
   "name": "python3"
  },
  "language_info": {
   "codemirror_mode": {
    "name": "ipython",
    "version": 3
   },
   "file_extension": ".py",
   "mimetype": "text/x-python",
   "name": "python",
   "nbconvert_exporter": "python",
   "pygments_lexer": "ipython3",
   "version": "3.11.5"
  }
 },
 "nbformat": 4,
 "nbformat_minor": 5
}
