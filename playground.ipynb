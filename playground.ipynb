{
 "cells": [
  {
   "cell_type": "code",
   "execution_count": 1,
   "id": "3ae0d759",
   "metadata": {},
   "outputs": [
    {
     "name": "stderr",
     "output_type": "stream",
     "text": [
      "\u001b[32m2025-05-18 15:47:28.500\u001b[0m | \u001b[1mINFO    \u001b[0m | \u001b[36msrc.gather_vote_texts\u001b[0m:\u001b[36mgather_vote_texts\u001b[0m:\u001b[36m187\u001b[0m - \u001b[1mGathering vote texts from Bundestag website...\u001b[0m\n",
      "Downloading vote texts:  16%|█▌        | 112/706 [00:04<00:11, 51.14vote/s]\u001b[32m2025-05-18 15:47:32.659\u001b[0m | \u001b[31m\u001b[1mERROR   \u001b[0m | \u001b[36msrc.utils.pdf_utils\u001b[0m:\u001b[36mextract_first_page_text\u001b[0m:\u001b[36m23\u001b[0m - \u001b[31m\u001b[1mPDF file data/tmp/vote_pdf/20221215_1/drucksachen/0.pdf has no pages.\u001b[0m\n",
      "\u001b[32m2025-05-18 15:47:32.661\u001b[0m | \u001b[31m\u001b[1mERROR   \u001b[0m | \u001b[36msrc.gather_vote_texts\u001b[0m:\u001b[36mgather_vote_texts\u001b[0m:\u001b[36m198\u001b[0m - \u001b[31m\u001b[1mFailed to download or process Energiepreisbremse: 'NoneType' object has no attribute 'strip'\u001b[0m\n",
      "\u001b[32m2025-05-18 15:47:32.662\u001b[0m | \u001b[31m\u001b[1mERROR   \u001b[0m | \u001b[36msrc.gather_vote_texts\u001b[0m:\u001b[36mgather_vote_texts\u001b[0m:\u001b[36m199\u001b[0m - \u001b[31m\u001b[1mVote data: id                                                20221215_1\n",
      "name                                      Energiepreisbremse\n",
      "date                                     2022-12-15 00:00:00\n",
      "xls_url    https://www.bundestag.de/resource/blob/924716/...\n",
      "pdf_url    https://www.bundestag.de/resource/blob/926644/...\n",
      "Name: 112, dtype: object\u001b[0m\n",
      "\u001b[32m2025-05-18 15:47:32.868\u001b[0m | \u001b[31m\u001b[1mERROR   \u001b[0m | \u001b[36msrc.gather_vote_texts\u001b[0m:\u001b[36mdownload_vote_texts\u001b[0m:\u001b[36m162\u001b[0m - \u001b[31m\u001b[1mFailed to extract drucksache or date from data/tmp/vote_pdf/20221125_2/drucksachen/7.pdf drucksache: None date: 05.08.2022\u001b[0m\n",
      "Downloading vote texts:  17%|█▋        | 121/706 [00:04<00:14, 40.98vote/s]\u001b[32m2025-05-18 15:47:33.066\u001b[0m | \u001b[31m\u001b[1mERROR   \u001b[0m | \u001b[36msrc.gather_vote_texts\u001b[0m:\u001b[36mdownload_vote_texts\u001b[0m:\u001b[36m162\u001b[0m - \u001b[31m\u001b[1mFailed to extract drucksache or date from data/tmp/vote_pdf/20221123_1/drucksachen/1.pdf drucksache: None date: 05.08.2022\u001b[0m\n",
      "\u001b[32m2025-05-18 15:47:33.126\u001b[0m | \u001b[33m\u001b[1mWARNING \u001b[0m | \u001b[36msrc.gather_vote_texts\u001b[0m:\u001b[36mextract_relevant_ids\u001b[0m:\u001b[36m68\u001b[0m - \u001b[33m\u001b[1mNo relevant IDs found in the first page of data/tmp/vote_pdf/20221110_8/vote.pdf\u001b[0m\n",
      "Downloading vote texts:  28%|██▊       | 198/706 [00:05<00:08, 62.65vote/s]\u001b[32m2025-05-18 15:47:34.344\u001b[0m | \u001b[33m\u001b[1mWARNING \u001b[0m | \u001b[36msrc.gather_vote_texts\u001b[0m:\u001b[36mextract_relevant_ids\u001b[0m:\u001b[36m68\u001b[0m - \u001b[33m\u001b[1mNo relevant IDs found in the first page of data/tmp/vote_pdf/20210520_1/vote.pdf\u001b[0m\n",
      "Downloading vote texts:  34%|███▍      | 239/706 [00:06<00:09, 47.32vote/s]\u001b[32m2025-05-18 15:47:35.088\u001b[0m | \u001b[33m\u001b[1mWARNING \u001b[0m | \u001b[36msrc.gather_vote_texts\u001b[0m:\u001b[36mextract_relevant_ids\u001b[0m:\u001b[36m68\u001b[0m - \u001b[33m\u001b[1mNo relevant IDs found in the first page of data/tmp/vote_pdf/20201118_4/vote.pdf\u001b[0m\n",
      "Downloading vote texts:  35%|███▍      | 245/706 [00:06<00:09, 49.76vote/s]\u001b[32m2025-05-18 15:47:35.184\u001b[0m | \u001b[31m\u001b[1mERROR   \u001b[0m | \u001b[36msrc.gather_vote_texts\u001b[0m:\u001b[36mdownload_vote_texts\u001b[0m:\u001b[36m162\u001b[0m - \u001b[31m\u001b[1mFailed to extract drucksache or date from data/tmp/vote_pdf/20201030_2/drucksachen/1.pdf drucksache: 19_22832 date: None\u001b[0m\n",
      "Downloading vote texts:  36%|███▌      | 253/706 [00:06<00:08, 56.40vote/s]\u001b[32m2025-05-18 15:47:35.313\u001b[0m | \u001b[33m\u001b[1mWARNING \u001b[0m | \u001b[36msrc.gather_vote_texts\u001b[0m:\u001b[36mextract_relevant_ids\u001b[0m:\u001b[36m68\u001b[0m - \u001b[33m\u001b[1mNo relevant IDs found in the first page of data/tmp/vote_pdf/20200703_2/vote.pdf\u001b[0m\n",
      "Downloading vote texts:  53%|█████▎    | 376/706 [00:09<00:07, 45.95vote/s]\u001b[32m2025-05-18 15:47:37.666\u001b[0m | \u001b[33m\u001b[1mWARNING \u001b[0m | \u001b[36msrc.gather_vote_texts\u001b[0m:\u001b[36mextract_relevant_ids\u001b[0m:\u001b[36m68\u001b[0m - \u001b[33m\u001b[1mNo relevant IDs found in the first page of data/tmp/vote_pdf/20181108_4/vote.pdf\u001b[0m\n",
      "Downloading vote texts:  57%|█████▋    | 401/706 [00:09<00:06, 47.48vote/s]\u001b[32m2025-05-18 15:47:38.244\u001b[0m | \u001b[33m\u001b[1mWARNING \u001b[0m | \u001b[36msrc.gather_vote_texts\u001b[0m:\u001b[36mextract_relevant_ids\u001b[0m:\u001b[36m68\u001b[0m - \u001b[33m\u001b[1mNo relevant IDs found in the first page of data/tmp/vote_pdf/20180517/vote.pdf\u001b[0m\n",
      "Downloading vote texts:  58%|█████▊    | 411/706 [00:09<00:05, 56.96vote/s]\u001b[32m2025-05-18 15:47:38.322\u001b[0m | \u001b[33m\u001b[1mWARNING \u001b[0m | \u001b[36msrc.gather_vote_texts\u001b[0m:\u001b[36mextract_relevant_ids\u001b[0m:\u001b[36m68\u001b[0m - \u001b[33m\u001b[1mNo relevant IDs found in the first page of data/tmp/vote_pdf/20180322_5/vote.pdf\u001b[0m\n",
      "Downloading vote texts:  74%|███████▎  | 519/706 [00:11<00:02, 73.79vote/s]\u001b[32m2025-05-18 15:47:39.930\u001b[0m | \u001b[33m\u001b[1mWARNING \u001b[0m | \u001b[36msrc.gather_vote_texts\u001b[0m:\u001b[36mextract_relevant_ids\u001b[0m:\u001b[36m68\u001b[0m - \u001b[33m\u001b[1mNo relevant IDs found in the first page of data/tmp/vote_pdf/20151127_1/vote.pdf\u001b[0m\n",
      "Downloading vote texts:  75%|███████▍  | 527/706 [00:11<00:03, 52.22vote/s]\u001b[32m2025-05-18 15:47:40.037\u001b[0m | \u001b[33m\u001b[1mWARNING \u001b[0m | \u001b[36msrc.gather_vote_texts\u001b[0m:\u001b[36mextract_relevant_ids\u001b[0m:\u001b[36m68\u001b[0m - \u001b[33m\u001b[1mNo relevant IDs found in the first page of data/tmp/vote_pdf/20151106_1/vote.pdf\u001b[0m\n",
      "Downloading vote texts:  89%|████████▉ | 628/706 [00:13<00:01, 65.80vote/s]\u001b[32m2025-05-18 15:47:41.542\u001b[0m | \u001b[33m\u001b[1mWARNING \u001b[0m | \u001b[36msrc.gather_vote_texts\u001b[0m:\u001b[36mextract_relevant_ids\u001b[0m:\u001b[36m68\u001b[0m - \u001b[33m\u001b[1mNo relevant IDs found in the first page of data/tmp/vote_pdf/20140409/vote.pdf\u001b[0m\n",
      "Downloading vote texts: 100%|██████████| 706/706 [00:14<00:00, 49.71vote/s]\n",
      "\u001b[32m2025-05-18 15:47:42.734\u001b[0m | \u001b[1mINFO    \u001b[0m | \u001b[36msrc.gather_vote_texts\u001b[0m:\u001b[36mgather_vote_texts\u001b[0m:\u001b[36m202\u001b[0m - \u001b[1mVote texts gathered successfully.\u001b[0m\n",
      "\u001b[32m2025-05-18 15:47:42.735\u001b[0m | \u001b[1mINFO    \u001b[0m | \u001b[36msrc.gather_vote_texts\u001b[0m:\u001b[36mgather_vote_texts\u001b[0m:\u001b[36m203\u001b[0m - \u001b[1mBuilding dataframe of vote texts...\u001b[0m\n",
      "\u001b[32m2025-05-18 15:47:42.744\u001b[0m | \u001b[1mINFO    \u001b[0m | \u001b[36msrc.gather_vote_texts\u001b[0m:\u001b[36mgather_vote_texts\u001b[0m:\u001b[36m209\u001b[0m - \u001b[1mDataframe of vote texts built successfully. Saved to data/parquet/vote_texts.parquet\u001b[0m\n",
      "\u001b[32m2025-05-18 15:47:42.745\u001b[0m | \u001b[1mINFO    \u001b[0m | \u001b[36msrc.gather_vote_texts\u001b[0m:\u001b[36mgather_vote_texts\u001b[0m:\u001b[36m212\u001b[0m - \u001b[1mGathering vote texts completed.\u001b[0m\n"
     ]
    }
   ],
   "source": [
    "from src.gather_vote_texts import gather_vote_texts\n",
    "\n",
    "gather_vote_texts()"
   ]
  },
  {
   "cell_type": "code",
   "execution_count": 2,
   "id": "14e737e6",
   "metadata": {},
   "outputs": [
    {
     "data": {
      "text/plain": [
       "Beschlussempfehlung und Bericht           489\n",
       "Gesetzentwurf                             352\n",
       "Antrag                                    315\n",
       "Beschlussempfehlung                       224\n",
       "Unterrichtung                             147\n",
       "Änderungsantrag                            89\n",
       "Bericht                                    76\n",
       "Entschließungsantrag                       45\n",
       "Ergänzung zu den Beschlussempfehlungen     27\n",
       "Antwort                                     3\n",
       "Große Anfrage                               3\n",
       "Kleine Anfrage                              2\n",
       "Verordnung                                  1\n",
       "Name: document_type, dtype: int64"
      ]
     },
     "execution_count": 2,
     "metadata": {},
     "output_type": "execute_result"
    }
   ],
   "source": [
    "import pandas as pd\n",
    "\n",
    "data = pd.read_parquet(\"data/parquet/vote_texts.parquet\")\n",
    "data[\"document_type\"].value_counts().head(50)"
   ]
  },
  {
   "cell_type": "code",
   "execution_count": null,
   "id": "e004447a",
   "metadata": {},
   "outputs": [
    {
     "data": {
      "text/html": [
       "<div>\n",
       "<style scoped>\n",
       "    .dataframe tbody tr th:only-of-type {\n",
       "        vertical-align: middle;\n",
       "    }\n",
       "\n",
       "    .dataframe tbody tr th {\n",
       "        vertical-align: top;\n",
       "    }\n",
       "\n",
       "    .dataframe thead th {\n",
       "        text-align: right;\n",
       "    }\n",
       "</style>\n",
       "<table border=\"1\" class=\"dataframe\">\n",
       "  <thead>\n",
       "    <tr style=\"text-align: right;\">\n",
       "      <th></th>\n",
       "      <th>vote_id</th>\n",
       "      <th>filename</th>\n",
       "      <th>drucksache</th>\n",
       "      <th>date</th>\n",
       "      <th>document_type</th>\n",
       "    </tr>\n",
       "  </thead>\n",
       "  <tbody>\n",
       "    <tr>\n",
       "      <th>1</th>\n",
       "      <td>20250318_3</td>\n",
       "      <td>data/tmp/vote_pdf/20250318_3/drucksachen/1.pdf</td>\n",
       "      <td>20_15096</td>\n",
       "      <td>10.03.2025</td>\n",
       "      <td>Gesetzentwurf</td>\n",
       "    </tr>\n",
       "  </tbody>\n",
       "</table>\n",
       "</div>"
      ],
      "text/plain": [
       "      vote_id                                        filename drucksache  \\\n",
       "1  20250318_3  data/tmp/vote_pdf/20250318_3/drucksachen/1.pdf   20_15096   \n",
       "\n",
       "         date  document_type  \n",
       "1  10.03.2025  Gesetzentwurf  "
      ]
     },
     "execution_count": 4,
     "metadata": {},
     "output_type": "execute_result"
    }
   ],
   "source": []
  },
  {
   "cell_type": "code",
   "execution_count": 3,
   "id": "cb76913e",
   "metadata": {},
   "outputs": [
    {
     "data": {
      "text/plain": [
       "(['Deutscher Bundestag',\n",
       "  'Drucksache 19/10706',\n",
       "  '19. Wahlperiode ',\n",
       "  '05.06.2019',\n",
       "  'Beschlussempfehlung und Bericht ',\n",
       "  'des Ausschusses für Inneres und Heimat (4. Ausschuss)  ',\n",
       "  'zu dem Gesetzentwurf der Bundesregierung ',\n",
       "  '– Drucksachen 19/10047, 19/10506 – ',\n",
       "  'Entwurf eines Zweiten Gesetzes zur besseren Durchsetzung der Ausreisepflicht ',\n",
       "  'A. Problem ',\n",
       "  'Die Rechtspflicht, Deutschland zu verlassen, wird von einer hohen Zahl vollzieh-',\n",
       "  'bar Ausreisepflichtiger nicht befolgt. Sofern die Betroffenen innerhalb der ihnen ',\n",
       "  'gesetzten Frist ihrer vollziehbaren Ausreisepflicht nicht freiwillig nachkommen, ',\n",
       "  'muss diese im Wege der Abschiebung durchgesetzt werden.  ',\n",
       "  'Wesentlicher Teil der Migrationspolitik ist die Rückkehr derer, die unter keinem ',\n",
       "  'rechtlichen Gesichtspunkt ein Bleiberecht in Deutschland haben. ',\n",
       "  'Im Bereich der Rückkehr ist eine stärkere Durchsetzung des Rechts erforderlich. ',\n",
       "  'Die Zuführungsquote zu Rückführungsmaßnahmen soll deutlich gesteigert wer-',\n",
       "  'den. Einer Pflicht zur Ausreise muss die tatsächliche Ausreise so schnell wie mög-',\n",
       "  'lich folgen. ',\n",
       "  'Das zur Durchsetzung der vollziehbaren Ausreisepflicht zur Verfügung stehende ',\n",
       "  'rechtliche Instrumentarium hat sich als noch nicht effektiv genug erwiesen, um ',\n",
       "  'eine ausreichende Durchsetzung der Ausreisepflicht zu gewährleisten. Zwar wur-',\n",
       "  'den in den vergangenen Jahren viele Regelungen neu gefasst. Diese haben in der ',\n",
       "  'Praxis jedoch nicht immer den gewünschten Erfolg bewirkt. Zudem ist die Zahl ',\n",
       "  'der zur Verfügung stehenden Haftplätze noch nicht ausreichend. ',\n",
       "  'Bei nicht beliebig steigerbaren personellen Ressourcen bei den mit der Rückkehr ',\n",
       "  'betrauten Behörden und Gerichten sind gesetzliche Regelungen auch auf ihre ',\n",
       "  'Handhabbarkeit zu überprüfen und entsprechend zu optimieren. ',\n",
       "  'Deutsche Behörden müssen wissen, wer sich in unserem Land aufhält. Die Pflicht, ',\n",
       "  'ein Passdokument vorzulegen, ist bei vollziehbar Ausreisepflichtigen stärker ein-',\n",
       "  'zufordern. ',\n",
       "  'Aktuell hat die Bundespolizei die Aufgabe inne, im Wege der Amtshilfe Heim-',\n",
       "  'reisedokumente für Ausländer zu beschaffen. Jedoch hat das Bundesamt für Mig-',\n",
       "  'ration und Flüchtlinge die größere Sachnähe zur Feststellung der Identität und der ',\n",
       "  'Herkunft von Ausländern, da dort alle hierfür notwendigen tatsächlichen, rechtli-',\n",
       "  'chen und technischen Voraussetzungen vorliegen. Zukünftig soll das Bundesamt'],\n",
       " 'Beschlussempfehlung')"
      ]
     },
     "execution_count": 3,
     "metadata": {},
     "output_type": "execute_result"
    }
   ],
   "source": [
    "from src.utils import pdf_utils\n",
    "sample_row = data.sample(1).iloc[0]\n",
    "pdf_utils.extract_first_page_text(\n",
    "    sample_row[\"filename\"],\n",
    ").strip().splitlines(), sample_row[\"document_type\"]"
   ]
  },
  {
   "cell_type": "code",
   "execution_count": null,
   "id": "0f0d05ec",
   "metadata": {},
   "outputs": [],
   "source": []
  }
 ],
 "metadata": {
  "kernelspec": {
   "display_name": "base",
   "language": "python",
   "name": "python3"
  },
  "language_info": {
   "codemirror_mode": {
    "name": "ipython",
    "version": 3
   },
   "file_extension": ".py",
   "mimetype": "text/x-python",
   "name": "python",
   "nbconvert_exporter": "python",
   "pygments_lexer": "ipython3",
   "version": "3.11.5"
  }
 },
 "nbformat": 4,
 "nbformat_minor": 5
}
