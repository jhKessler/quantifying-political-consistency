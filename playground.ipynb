{
 "cells": [
  {
   "cell_type": "code",
   "execution_count": null,
   "id": "76497fb5",
   "metadata": {},
   "outputs": [
    {
     "name": "stderr",
     "output_type": "stream",
     "text": [
      "\u001b[32m2025-05-01 14:23:01.654\u001b[0m | \u001b[1mINFO    \u001b[0m | \u001b[36msrc.gather_votes\u001b[0m:\u001b[36mgather_vote_urls\u001b[0m:\u001b[36m129\u001b[0m - \u001b[1mScraping vote URLs from Bundestag website...\u001b[0m\n",
      "\n",
      "\u001b[A"
     ]
    }
   ],
   "source": [
    "from src.gather_votes import gather_vote_urls\n",
    "\n",
    "gather_vote_urls()"
   ]
  },
  {
   "cell_type": "code",
   "execution_count": null,
   "id": "8ab5719b",
   "metadata": {},
   "outputs": [],
   "source": []
  },
  {
   "cell_type": "code",
   "execution_count": 4,
   "id": "f83d7341",
   "metadata": {},
   "outputs": [
    {
     "name": "stderr",
     "output_type": "stream",
     "text": [
      "Downloading manifestos:   0%|          | 0/19 [00:00<?, ?manifesto/s]\u001b[32m2025-05-01 14:43:44.924\u001b[0m | \u001b[1mINFO    \u001b[0m | \u001b[36msrc.utils.download\u001b[0m:\u001b[36mdownload_file\u001b[0m:\u001b[36m14\u001b[0m - \u001b[1mFile already exists: data/tmp/manifestos/FDP_2009.pdf\u001b[0m\n",
      "Downloading manifestos:  11%|█         | 2/19 [00:00<00:01,  8.83manifesto/s]\u001b[32m2025-05-01 14:43:45.150\u001b[0m | \u001b[1mINFO    \u001b[0m | \u001b[36msrc.utils.download\u001b[0m:\u001b[36mdownload_file\u001b[0m:\u001b[36m14\u001b[0m - \u001b[1mFile already exists: data/tmp/manifestos/FDP_2013.pdf\u001b[0m\n",
      "Downloading manifestos:  16%|█▌        | 3/19 [00:00<00:02,  6.69manifesto/s]\u001b[32m2025-05-01 14:43:45.350\u001b[0m | \u001b[1mINFO    \u001b[0m | \u001b[36msrc.utils.download\u001b[0m:\u001b[36mdownload_file\u001b[0m:\u001b[36m14\u001b[0m - \u001b[1mFile already exists: data/tmp/manifestos/FDP_2017.pdf\u001b[0m\n",
      "Downloading manifestos:  21%|██        | 4/19 [00:00<00:02,  5.58manifesto/s]\u001b[32m2025-05-01 14:43:45.580\u001b[0m | \u001b[1mINFO    \u001b[0m | \u001b[36msrc.utils.download\u001b[0m:\u001b[36mdownload_file\u001b[0m:\u001b[36m14\u001b[0m - \u001b[1mFile already exists: data/tmp/manifestos/FDP_2021.pdf\u001b[0m\n",
      "Downloading manifestos:  26%|██▋       | 5/19 [00:00<00:02,  5.25manifesto/s]\u001b[32m2025-05-01 14:43:45.791\u001b[0m | \u001b[1mINFO    \u001b[0m | \u001b[36msrc.utils.download\u001b[0m:\u001b[36mdownload_file\u001b[0m:\u001b[36m14\u001b[0m - \u001b[1mFile already exists: data/tmp/manifestos/SPD_2009.pdf\u001b[0m\n",
      "Downloading manifestos:  32%|███▏      | 6/19 [00:00<00:02,  5.86manifesto/s]\u001b[32m2025-05-01 14:43:45.921\u001b[0m | \u001b[1mINFO    \u001b[0m | \u001b[36msrc.utils.download\u001b[0m:\u001b[36mdownload_file\u001b[0m:\u001b[36m14\u001b[0m - \u001b[1mFile already exists: data/tmp/manifestos/SPD_2013.pdf\u001b[0m\n",
      "Downloading manifestos:  37%|███▋      | 7/19 [00:01<00:01,  6.20manifesto/s]\u001b[32m2025-05-01 14:43:46.062\u001b[0m | \u001b[1mINFO    \u001b[0m | \u001b[36msrc.utils.download\u001b[0m:\u001b[36mdownload_file\u001b[0m:\u001b[36m14\u001b[0m - \u001b[1mFile already exists: data/tmp/manifestos/SPD_2017.pdf\u001b[0m\n",
      "Downloading manifestos:  42%|████▏     | 8/19 [00:01<00:01,  6.21manifesto/s]\u001b[32m2025-05-01 14:43:46.224\u001b[0m | \u001b[1mINFO    \u001b[0m | \u001b[36msrc.utils.download\u001b[0m:\u001b[36mdownload_file\u001b[0m:\u001b[36m14\u001b[0m - \u001b[1mFile already exists: data/tmp/manifestos/SPD_2021.pdf\u001b[0m\n",
      "Downloading manifestos:  47%|████▋     | 9/19 [00:01<00:01,  6.95manifesto/s]\u001b[32m2025-05-01 14:43:46.330\u001b[0m | \u001b[1mINFO    \u001b[0m | \u001b[36msrc.utils.download\u001b[0m:\u001b[36mdownload_file\u001b[0m:\u001b[36m14\u001b[0m - \u001b[1mFile already exists: data/tmp/manifestos/Union_2009.pdf\u001b[0m\n",
      "\u001b[32m2025-05-01 14:43:46.411\u001b[0m | \u001b[1mINFO    \u001b[0m | \u001b[36msrc.utils.download\u001b[0m:\u001b[36mdownload_file\u001b[0m:\u001b[36m14\u001b[0m - \u001b[1mFile already exists: data/tmp/manifestos/Union_2013.pdf\u001b[0m\n",
      "Downloading manifestos:  58%|█████▊    | 11/19 [00:01<00:01,  7.32manifesto/s]\u001b[32m2025-05-01 14:43:46.586\u001b[0m | \u001b[1mINFO    \u001b[0m | \u001b[36msrc.utils.download\u001b[0m:\u001b[36mdownload_file\u001b[0m:\u001b[36m14\u001b[0m - \u001b[1mFile already exists: data/tmp/manifestos/Union_2017.pdf\u001b[0m\n",
      "\u001b[32m2025-05-01 14:43:46.682\u001b[0m | \u001b[1mINFO    \u001b[0m | \u001b[36msrc.utils.download\u001b[0m:\u001b[36mdownload_file\u001b[0m:\u001b[36m14\u001b[0m - \u001b[1mFile already exists: data/tmp/manifestos/Union_2021.pdf\u001b[0m\n",
      "Downloading manifestos:  68%|██████▊   | 13/19 [00:02<00:00,  6.65manifesto/s]\u001b[32m2025-05-01 14:43:46.929\u001b[0m | \u001b[1mINFO    \u001b[0m | \u001b[36msrc.utils.download\u001b[0m:\u001b[36mdownload_file\u001b[0m:\u001b[36m14\u001b[0m - \u001b[1mFile already exists: data/tmp/manifestos/Die Linke_2009.pdf\u001b[0m\n",
      "\u001b[32m2025-05-01 14:43:47.016\u001b[0m | \u001b[1mINFO    \u001b[0m | \u001b[36msrc.utils.download\u001b[0m:\u001b[36mdownload_file\u001b[0m:\u001b[36m14\u001b[0m - \u001b[1mFile already exists: data/tmp/manifestos/Die Linke_2013.pdf\u001b[0m\n",
      "Downloading manifestos:  79%|███████▉  | 15/19 [00:02<00:00,  6.83manifesto/s]\u001b[32m2025-05-01 14:43:47.207\u001b[0m | \u001b[1mINFO    \u001b[0m | \u001b[36msrc.utils.download\u001b[0m:\u001b[36mdownload_file\u001b[0m:\u001b[36m14\u001b[0m - \u001b[1mFile already exists: data/tmp/manifestos/Die Linke_2017.pdf\u001b[0m\n",
      "Downloading manifestos:  84%|████████▍ | 16/19 [00:02<00:00,  5.85manifesto/s]\u001b[32m2025-05-01 14:43:47.473\u001b[0m | \u001b[1mINFO    \u001b[0m | \u001b[36msrc.utils.download\u001b[0m:\u001b[36mdownload_file\u001b[0m:\u001b[36m14\u001b[0m - \u001b[1mFile already exists: data/tmp/manifestos/Die Linke_2021.pdf\u001b[0m\n",
      "Downloading manifestos:  89%|████████▉ | 17/19 [00:03<00:00,  3.85manifesto/s]\u001b[32m2025-05-01 14:43:48.034\u001b[0m | \u001b[1mINFO    \u001b[0m | \u001b[36msrc.utils.download\u001b[0m:\u001b[36mdownload_file\u001b[0m:\u001b[36m14\u001b[0m - \u001b[1mFile already exists: data/tmp/manifestos/AfD_2013.pdf\u001b[0m\n",
      "\u001b[32m2025-05-01 14:43:48.044\u001b[0m | \u001b[1mINFO    \u001b[0m | \u001b[36msrc.utils.download\u001b[0m:\u001b[36mdownload_file\u001b[0m:\u001b[36m14\u001b[0m - \u001b[1mFile already exists: data/tmp/manifestos/AfD_2017.pdf\u001b[0m\n",
      "Downloading manifestos: 100%|██████████| 19/19 [00:03<00:00,  5.47manifesto/s]\u001b[32m2025-05-01 14:43:48.163\u001b[0m | \u001b[1mINFO    \u001b[0m | \u001b[36msrc.utils.download\u001b[0m:\u001b[36mdownload_file\u001b[0m:\u001b[36m14\u001b[0m - \u001b[1mFile already exists: data/tmp/manifestos/AfD_2021.pdf\u001b[0m\n",
      "Downloading manifestos: 100%|██████████| 19/19 [00:03<00:00,  5.58manifesto/s]\n"
     ]
    }
   ],
   "source": [
    "from src.gather_manifestos import download_manifestos\n",
    "\n",
    "download_manifestos()"
   ]
  },
  {
   "cell_type": "code",
   "execution_count": null,
   "id": "d536edeb",
   "metadata": {},
   "outputs": [
    {
     "data": {
      "text/plain": [
       "'https://www.bundestag.de/resource/blob/1057522/3108b8ae92d6ef722d4a8ca803af0321/20250318_3.pdf'"
      ]
     },
     "execution_count": 6,
     "metadata": {},
     "output_type": "execute_result"
    }
   ],
   "source": [
    "df.iloc[0][\"pdf_url\"]"
   ]
  },
  {
   "cell_type": "code",
   "execution_count": 1,
   "id": "3912ddf0",
   "metadata": {},
   "outputs": [
    {
     "name": "stderr",
     "output_type": "stream",
     "text": [
      "\u001b[32m2025-05-01 14:35:00.648\u001b[0m | \u001b[1mINFO    \u001b[0m | \u001b[36msrc.utils.download\u001b[0m:\u001b[36mdownload_file\u001b[0m:\u001b[36m14\u001b[0m - \u001b[1mFile already exists: data/tmp/vote_xls/66e2e55e-85a8-4b05-9182-d37e232e5e43..xlsx\u001b[0m\n",
      "c:\\Users\\johnn\\Desktop\\quantifying-political-consistency\\src\\gather_vote_results.py:33: FutureWarning: Indexing with multiple keys (implicitly converted to a tuple of keys) will be deprecated, use a list instead.\n",
      "  votes.groupby(\"Fraktion/Gruppe\")[\"ja\", \"nein\", \"Enthaltung\"]\n"
     ]
    }
   ],
   "source": [
    "from src.gather_vote_results import calculate_votes_per_party\n",
    "\n",
    "import pandas as pd\n",
    "\n",
    "df = pd.read_parquet(\"data/parquet/votes.parquet\")\n",
    "calculate_votes_per_party(df.iloc[0])"
   ]
  },
  {
   "cell_type": "code",
   "execution_count": 5,
   "id": "79ffbbf7",
   "metadata": {},
   "outputs": [
    {
     "name": "stderr",
     "output_type": "stream",
     "text": [
      "C:\\Users\\johnn\\AppData\\Local\\Temp\\ipykernel_22144\\1293291073.py:5: FutureWarning: The default value of numeric_only in DataFrameGroupBy.sum is deprecated. In a future version, numeric_only will default to False. Either specify numeric_only or select only columns which should be valid for the function.\n",
      "  vote_counts = votes.groupby(\"Fraktion/Gruppe\").sum().loc[:, [\"ja\", \"nein\", \"Enthaltung\"]]\n"
     ]
    }
   ],
   "source": [
    "import pandas as pd\n",
    "\n",
    "votes = pd.read_excel(r\"data\\tmp\\vote_xls\\66e2e55e-85a8-4b05-9182-d37e232e5e43..xlsx\")\n",
    "\n",
    "vote_counts = votes.groupby(\"Fraktion/Gruppe\").sum().loc[:, [\"ja\", \"nein\", \"Enthaltung\"]]"
   ]
  },
  {
   "cell_type": "code",
   "execution_count": 7,
   "id": "ca89378c",
   "metadata": {},
   "outputs": [
    {
     "name": "stdout",
     "output_type": "stream",
     "text": [
      "AfD: 73 votes\n",
      "ja             0\n",
      "nein          73\n",
      "Enthaltung     0\n",
      "Name: AfD, dtype: int64\n",
      "\n",
      "BSW: 9 votes\n",
      "ja            0\n",
      "nein          9\n",
      "Enthaltung    0\n",
      "Name: BSW, dtype: int64\n",
      "\n",
      "BÜ90/GR: 113 votes\n",
      "ja            112\n",
      "nein            1\n",
      "Enthaltung      0\n",
      "Name: BÜ90/GR, dtype: int64\n",
      "\n",
      "CDU/CSU: 194 votes\n",
      "ja            193\n",
      "nein            1\n",
      "Enthaltung      0\n",
      "Name: CDU/CSU, dtype: int64\n",
      "\n",
      "Die Linke: 28 votes\n",
      "ja             0\n",
      "nein          28\n",
      "Enthaltung     0\n",
      "Name: Die Linke, dtype: int64\n",
      "\n",
      "FDP: 87 votes\n",
      "ja             0\n",
      "nein          87\n",
      "Enthaltung     0\n",
      "Name: FDP, dtype: int64\n",
      "\n",
      "Fraktionslos: 8 votes\n",
      "ja            2\n",
      "nein          6\n",
      "Enthaltung    0\n",
      "Name: Fraktionslos, dtype: int64\n",
      "\n",
      "SPD: 206 votes\n",
      "ja            205\n",
      "nein            1\n",
      "Enthaltung      0\n",
      "Name: SPD, dtype: int64\n",
      "\n"
     ]
    }
   ],
   "source": [
    "for party in vote_counts.index:\n",
    "    print(f\"{party}: {vote_counts.loc[party].sum()} votes\")\n",
    "    print(vote_counts.loc[party])\n",
    "    print()"
   ]
  },
  {
   "cell_type": "code",
   "execution_count": 1,
   "id": "d55a9502",
   "metadata": {},
   "outputs": [
    {
     "name": "stderr",
     "output_type": "stream",
     "text": [
      "Calculating votes per party:   0%|          | 0/706 [00:00<?, ?vote/s]\u001b[32m2025-05-01 14:37:04.714\u001b[0m | \u001b[1mINFO    \u001b[0m | \u001b[36msrc.utils.download\u001b[0m:\u001b[36mdownload_file\u001b[0m:\u001b[36m14\u001b[0m - \u001b[1mFile already exists: data/tmp/vote_xls/66e2e55e-85a8-4b05-9182-d37e232e5e43..xlsx\u001b[0m\n",
      "Calculating votes per party:   0%|          | 2/706 [00:00<01:58,  5.95vote/s]\u001b[32m2025-05-01 14:37:05.050\u001b[0m | \u001b[1mINFO    \u001b[0m | \u001b[36msrc.utils.download\u001b[0m:\u001b[36mdownload_file\u001b[0m:\u001b[36m14\u001b[0m - \u001b[1mFile already exists: data/tmp/vote_xls/1982f8d6-27c9-4f6b-a26f-191a3078d1c1..xlsx\u001b[0m\n",
      "\u001b[32m2025-05-01 14:37:05.147\u001b[0m | \u001b[1mINFO    \u001b[0m | \u001b[36msrc.utils.download\u001b[0m:\u001b[36mdownload_file\u001b[0m:\u001b[36m14\u001b[0m - \u001b[1mFile already exists: data/tmp/vote_xls/bbbe162d-bbaf-4a80-8688-58e4541e85c0..xlsx\u001b[0m\n",
      "Calculating votes per party:   1%|          | 4/706 [00:00<01:28,  7.95vote/s]\u001b[32m2025-05-01 14:37:05.242\u001b[0m | \u001b[1mINFO    \u001b[0m | \u001b[36msrc.utils.download\u001b[0m:\u001b[36mdownload_file\u001b[0m:\u001b[36m14\u001b[0m - \u001b[1mFile already exists: data/tmp/vote_xls/f60cd685-0d42-4b41-93be-39eb5c809845..xlsx\u001b[0m\n",
      "\u001b[32m2025-05-01 14:37:05.337\u001b[0m | \u001b[1mINFO    \u001b[0m | \u001b[36msrc.utils.download\u001b[0m:\u001b[36mdownload_file\u001b[0m:\u001b[36m14\u001b[0m - \u001b[1mFile already exists: data/tmp/vote_xls/6bff8d86-38e8-4bfe-80bd-8472b275a9f0..xlsx\u001b[0m\n",
      "Calculating votes per party:   1%|          | 6/706 [00:00<01:18,  8.97vote/s]\u001b[32m2025-05-01 14:37:05.431\u001b[0m | \u001b[1mINFO    \u001b[0m | \u001b[36msrc.utils.download\u001b[0m:\u001b[36mdownload_file\u001b[0m:\u001b[36m14\u001b[0m - \u001b[1mFile already exists: data/tmp/vote_xls/b0fcee43-a33b-4820-9873-c419f38848b0..xlsx\u001b[0m\n",
      "Calculating votes per party:   1%|          | 7/706 [00:00<01:20,  8.67vote/s]\u001b[32m2025-05-01 14:37:05.558\u001b[0m | \u001b[1mINFO    \u001b[0m | \u001b[36msrc.utils.download\u001b[0m:\u001b[36mdownload_file\u001b[0m:\u001b[36m14\u001b[0m - \u001b[1mFile already exists: data/tmp/vote_xls/9e877200-a166-4292-b08b-31d7e0e6f381..xlsx\u001b[0m\n",
      "\u001b[32m2025-05-01 14:37:05.653\u001b[0m | \u001b[1mINFO    \u001b[0m | \u001b[36msrc.utils.download\u001b[0m:\u001b[36mdownload_file\u001b[0m:\u001b[36m14\u001b[0m - \u001b[1mFile already exists: data/tmp/vote_xls/4a0c4fff-514c-469a-ba6f-5e596164d513..xlsx\u001b[0m\n",
      "Calculating votes per party:  50%|████▉     | 350/706 [02:33<02:24,  2.46vote/s]"
     ]
    },
    {
     "name": "stdout",
     "output_type": "stream",
     "text": [
      "WARNING *** OLE2 inconsistency: SSCS size is 0 but SSAT size is non-zero\n"
     ]
    },
    {
     "name": "stderr",
     "output_type": "stream",
     "text": [
      "Calculating votes per party:  70%|██████▉   | 491/706 [03:29<01:22,  2.61vote/s]"
     ]
    },
    {
     "name": "stdout",
     "output_type": "stream",
     "text": [
      "WARNING *** OLE2 inconsistency: SSCS size is 0 but SSAT size is non-zero\n"
     ]
    },
    {
     "name": "stderr",
     "output_type": "stream",
     "text": [
      "Calculating votes per party:  86%|████████▌ | 607/706 [04:14<00:38,  2.60vote/s]"
     ]
    },
    {
     "name": "stdout",
     "output_type": "stream",
     "text": [
      "WARNING *** OLE2 inconsistency: SSCS size is 0 but SSAT size is non-zero\n"
     ]
    },
    {
     "name": "stderr",
     "output_type": "stream",
     "text": [
      "Calculating votes per party:  86%|████████▌ | 608/706 [04:15<00:37,  2.60vote/s]"
     ]
    },
    {
     "name": "stdout",
     "output_type": "stream",
     "text": [
      "WARNING *** OLE2 inconsistency: SSCS size is 0 but SSAT size is non-zero\n"
     ]
    },
    {
     "name": "stderr",
     "output_type": "stream",
     "text": [
      "Calculating votes per party:  86%|████████▋ | 609/706 [04:15<00:37,  2.62vote/s]"
     ]
    },
    {
     "name": "stdout",
     "output_type": "stream",
     "text": [
      "WARNING *** OLE2 inconsistency: SSCS size is 0 but SSAT size is non-zero\n"
     ]
    },
    {
     "name": "stderr",
     "output_type": "stream",
     "text": [
      "Calculating votes per party:  86%|████████▋ | 610/706 [04:15<00:37,  2.54vote/s]"
     ]
    },
    {
     "name": "stdout",
     "output_type": "stream",
     "text": [
      "WARNING *** OLE2 inconsistency: SSCS size is 0 but SSAT size is non-zero\n"
     ]
    },
    {
     "name": "stderr",
     "output_type": "stream",
     "text": [
      "Calculating votes per party:  87%|████████▋ | 611/706 [04:16<00:37,  2.50vote/s]"
     ]
    },
    {
     "name": "stdout",
     "output_type": "stream",
     "text": [
      "WARNING *** OLE2 inconsistency: SSCS size is 0 but SSAT size is non-zero\n"
     ]
    },
    {
     "name": "stderr",
     "output_type": "stream",
     "text": [
      "Calculating votes per party:  87%|████████▋ | 612/706 [04:16<00:37,  2.49vote/s]"
     ]
    },
    {
     "name": "stdout",
     "output_type": "stream",
     "text": [
      "WARNING *** OLE2 inconsistency: SSCS size is 0 but SSAT size is non-zero\n"
     ]
    },
    {
     "name": "stderr",
     "output_type": "stream",
     "text": [
      "Calculating votes per party:  91%|█████████ | 640/706 [04:27<00:26,  2.50vote/s]"
     ]
    },
    {
     "name": "stdout",
     "output_type": "stream",
     "text": [
      "WARNING *** OLE2 inconsistency: SSCS size is 0 but SSAT size is non-zero\n"
     ]
    },
    {
     "name": "stderr",
     "output_type": "stream",
     "text": [
      "Calculating votes per party:  91%|█████████ | 641/706 [04:28<00:25,  2.51vote/s]"
     ]
    },
    {
     "name": "stdout",
     "output_type": "stream",
     "text": [
      "WARNING *** OLE2 inconsistency: SSCS size is 0 but SSAT size is non-zero\n"
     ]
    },
    {
     "name": "stderr",
     "output_type": "stream",
     "text": [
      "Calculating votes per party:  91%|█████████ | 644/706 [04:29<00:24,  2.54vote/s]"
     ]
    },
    {
     "name": "stdout",
     "output_type": "stream",
     "text": [
      "WARNING *** OLE2 inconsistency: SSCS size is 0 but SSAT size is non-zero\n"
     ]
    },
    {
     "name": "stderr",
     "output_type": "stream",
     "text": [
      "Calculating votes per party:  93%|█████████▎| 656/706 [04:33<00:19,  2.52vote/s]"
     ]
    },
    {
     "name": "stdout",
     "output_type": "stream",
     "text": [
      "WARNING *** OLE2 inconsistency: SSCS size is 0 but SSAT size is non-zero\n"
     ]
    },
    {
     "name": "stderr",
     "output_type": "stream",
     "text": [
      "Calculating votes per party: 100%|██████████| 706/706 [04:53<00:00,  2.40vote/s]\n"
     ]
    }
   ],
   "source": [
    "from src.gather_vote_results import gather_vote_results\n",
    "\n",
    "gather_vote_results()"
   ]
  },
  {
   "cell_type": "code",
   "execution_count": null,
   "id": "a4cc23ac",
   "metadata": {},
   "outputs": [],
   "source": []
  }
 ],
 "metadata": {
  "kernelspec": {
   "display_name": "base",
   "language": "python",
   "name": "python3"
  },
  "language_info": {
   "codemirror_mode": {
    "name": "ipython",
    "version": 3
   },
   "file_extension": ".py",
   "mimetype": "text/x-python",
   "name": "python",
   "nbconvert_exporter": "python",
   "pygments_lexer": "ipython3",
   "version": "3.11.5"
  }
 },
 "nbformat": 4,
 "nbformat_minor": 5
}
