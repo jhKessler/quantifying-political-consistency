{
 "cells": [
  {
   "cell_type": "code",
   "execution_count": null,
   "id": "7a1afd18",
   "metadata": {},
   "outputs": [],
   "source": []
  },
  {
   "cell_type": "code",
   "execution_count": null,
   "id": "96fba55a",
   "metadata": {},
   "outputs": [
    {
     "name": "stderr",
     "output_type": "stream",
     "text": [
      "  0%|          | 0/623 [00:00<?, ?it/s]"
     ]
    },
    {
     "name": "stderr",
     "output_type": "stream",
     "text": [
      "100%|██████████| 623/623 [38:08<00:00,  3.67s/it] \n"
     ]
    }
   ],
   "source": [
    "from concurrent.futures import ThreadPoolExecutor, as_completed\n",
    "from tqdm import tqdm\n",
    "from loguru import logger\n",
    "\n",
    "SYSTEM_PROMPT = \"\"\"\n",
    "    Fasse den Folgenden Text über den im Bundestag abgestimmt wird zusammen.\n",
    "    Das Ergebnis sollte eine kurze Zusammenfassung sein, die genau beschreibt, für was abgestimmt wird.\n",
    "    Versuche dich kurz zu halten, aber nenne die Wichtigsten Aspekte.\n",
    "    Falls im Text enthalten ist, von wem der Antrag kommt, nenne AUF KEINEN FALL den Namen oder die Fraktion, lass unbedingt aus von wem der Antrag ist.\n",
    "    Fange direkt mit der Zusammenfassung an, ohne Einleitung oder Erklärung.\n",
    "\"\"\"\n",
    "\n",
    "\n",
    "def process(idx: int, text: str) -> tuple[int, str | None]:\n",
    "    try:\n",
    "        return idx, deepseek_utils.prompt_deepseek(\n",
    "            system_prompt=SYSTEM_PROMPT,\n",
    "            text=text,\n",
    "        )\n",
    "    except Exception:\n",
    "        logger.error(f\"Error processing row: {text}\")\n",
    "        return idx, None\n",
    "\n",
    "\n",
    "def summarize_texts():\n",
    "    content = pd.read_parquet(\"data/parquet/votes_content.parquet\")\n",
    "    summarizations = [None] * len(content)\n",
    "\n",
    "    with ThreadPoolExecutor(max_workers=4) as pool, tqdm(total=len(content)) as pbar:\n",
    "        futures = [pool.submit(process, i, row[\"content\"]) for i, (_, row) in enumerate(content.iterrows())]\n",
    "        for future in as_completed(futures):\n",
    "            i, summary = future.result()\n",
    "            summarizations[i] = summary\n",
    "            pbar.update(1)\n",
    "    content[\"summary\"] = summarizations\n",
    "    content.to_parquet(\"data/parquet/votes_content_summarized.parquet\", index=False)"
   ]
  },
  {
   "cell_type": "code",
   "execution_count": null,
   "id": "36151a14",
   "metadata": {},
   "outputs": [],
   "source": []
  },
  {
   "cell_type": "code",
   "execution_count": null,
   "id": "996247e5",
   "metadata": {},
   "outputs": [],
   "source": []
  }
 ],
 "metadata": {
  "kernelspec": {
   "display_name": "base",
   "language": "python",
   "name": "python3"
  },
  "language_info": {
   "codemirror_mode": {
    "name": "ipython",
    "version": 3
   },
   "file_extension": ".py",
   "mimetype": "text/x-python",
   "name": "python",
   "nbconvert_exporter": "python",
   "pygments_lexer": "ipython3",
   "version": "3.11.5"
  }
 },
 "nbformat": 4,
 "nbformat_minor": 5
}
