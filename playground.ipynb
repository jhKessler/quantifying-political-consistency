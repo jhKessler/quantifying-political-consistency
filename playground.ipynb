{
 "cells": [
  {
   "cell_type": "code",
   "execution_count": 3,
   "id": "7a1afd18",
   "metadata": {},
   "outputs": [],
   "source": [
    "import pandas as pd\n",
    "\n",
    "\n",
    "content = pd.read_parquet(\"data/parquet/votes_content.parquet\")"
   ]
  },
  {
   "cell_type": "code",
   "execution_count": null,
   "id": "57fc5fd5",
   "metadata": {},
   "outputs": [],
   "source": [
    "from dotenv import load_dotenv\n",
    "from openai import OpenAI\n",
    "import os\n",
    "deepseek = OpenAI(\n",
    "    api_key=os.getenv(\"DEEPSEEK_API_KEY\"),\n",
    "    base_url=os.getenv(\"DEEPSEEK_API_URL\"),\n",
    ")"
   ]
  },
  {
   "cell_type": "code",
   "execution_count": 10,
   "id": "96fba55a",
   "metadata": {},
   "outputs": [
    {
     "data": {
      "text/plain": [
       "'Der Bundestag stimmt über die Fortsetzung der deutschen Beteiligung an der EU-geführten Operation EUNAVFOR MED IRINI bis spätestens 30. November 2025 ab. Die Mission dient hauptsächlich der Durchsetzung des UN-Waffenembargos gegen Libyen durch Seeraumüberwachung, Kontrolle von Schiffen und Beschlagnahme von Waffenlieferungen. Nebenaufgaben umfassen die Bekämpfung von Schleusernetzwerken und die Verhinderung illegaler Erdölexporte. Es können bis zu 300 Soldatinnen und Soldaten eingesetzt werden, mit voraussichtlichen Kosten von 11,5 Millionen Euro. Die Operation basiert auf UN-Resolutionen und EU-Beschlüssen.'"
      ]
     },
     "execution_count": 10,
     "metadata": {},
     "output_type": "execute_result"
    }
   ],
   "source": [
    "system_prompt = \"\"\"\n",
    "    Fasse den Folgenden Text über den im Bundestag abgestimmt wird zusammen.\n",
    "    Das Ergebnis sollte eine kurze Zusammenfassung sein, die genau beschreibt, für was abgestimmt wird.\n",
    "    Versuche dich kurz zu halten, aber nenne die Wichtigsten Aspekte.\n",
    "    Falls im Text enthalten ist, von wem der Antrag kommt, nenne AUF KEINEN FALL den Namen oder die Fraktion, lass unbedingt aus von wem der Antrag ist.\n",
    "    Fange direkt mit der Zusammenfassung an, ohne Einleitung oder Erklärung.\n",
    "\"\"\"\n",
    "\n",
    "def summarize(text):\n",
    "    \"\"\"\n",
    "    Summarize the text using OpenAI's API.\n",
    "    \"\"\"\n",
    "    response = deepseek.chat.completions.create(\n",
    "        messages=[\n",
    "            {\"role\": \"system\", \"content\": system_prompt},\n",
    "            {\"role\": \"user\", \"content\": text},\n",
    "        ],\n",
    "        model=\"deepseek-chat\",\n",
    "    )\n",
    "    return response.choices[0].message.content\n",
    "\n",
    "summarize(content.iloc[0][\"content\"])"
   ]
  },
  {
   "cell_type": "code",
   "execution_count": null,
   "id": "3989a26a",
   "metadata": {},
   "outputs": [],
   "source": []
  }
 ],
 "metadata": {
  "kernelspec": {
   "display_name": "base",
   "language": "python",
   "name": "python3"
  },
  "language_info": {
   "codemirror_mode": {
    "name": "ipython",
    "version": 3
   },
   "file_extension": ".py",
   "mimetype": "text/x-python",
   "name": "python",
   "nbconvert_exporter": "python",
   "pygments_lexer": "ipython3",
   "version": "3.11.5"
  }
 },
 "nbformat": 4,
 "nbformat_minor": 5
}
