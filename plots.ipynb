{
 "cells": [
  {
   "cell_type": "code",
   "execution_count": 1,
   "id": "9d74ffb8",
   "metadata": {},
   "outputs": [],
   "source": [
    "import pandas as pd\n",
    "import plotly.express as px\n",
    "\n",
    "model = \"deepseek_reasoner\"\n",
    "\n",
    "predictions = pd.read_parquet(f\"output/predictions_{model}.parquet\")\n",
    "predictions[\"ground_truth\"] = predictions[\"ground_truth\"] == \"Annahme\"\n",
    "predictions[\"prediction\"] = predictions[\"prediction\"] == \"Annahme\"\n",
    "predictions[\"vote_correct\"] = predictions[\"prediction\"] == predictions[\"ground_truth\"]\n",
    "predictions = predictions[predictions[\"ground_truth\"].notna()]\n",
    "predictions.drop_duplicates(subset=[\"vote_id\", \"drucksache_id\", \"party\"], inplace=True)\n",
    "\n",
    "category_mapping = {\n",
    "    \"Finanzen - Steuern, Staatsbudget, Haushalts- und Finanzpolitik\": \"Finance\",\n",
    "    \"Inneres & Migration - Innere Sicherheit, öffentliche Verwaltung, Migration, Staatsbürgerschaft\": \"Internal Affairs & Migration\",\n",
    "    \"Außenpolitik & Europäische Angelegenheiten - Diplomatie, internationale Beziehungen, EU-Politik\": \"Foreign Policy & European Affairs\",\n",
    "    \"Verteidigung & Sicherheit - Militär, Verteidigungsstrategie, Bundeswehr, Rüstung\": \"Defense & Security\",\n",
    "    \"Wirtschaft & Energie - Industriepolitik, Mittelstand, Energieversorgung, Wirtschaftsordnungen\": \"Economy & Energy\",\n",
    "    \"Forschung & Technologie - Innovationsförderung, Raumfahrt, Forschungseinrichtungen, Technologietransfer\": \"Research & Technology\",\n",
    "    \"Justiz & Verbraucherschutz - Rechtsprechung, Gesetzgebung, Verbraucherschutz, Datenschutz\": \"Justice & Consumer Protection\",\n",
    "    \"Bildung, Familie & Jugend - Schulen, Hochschulen, Familienförderung, Kinder- und Jugendpolitik\": \"Education, Family & Youth\",\n",
    "    \"Arbeit & Soziales - Arbeitsmarktpolitik, Sozialversicherung, Renten, Integration\": \"Labor & Social Affairs\",\n",
    "    \"Digitalisierung & Modernisierung - E-Government, IT-Infrastruktur, digitale Verwaltung, Cybersecurity\": \"Digitalization & Modernization\",\n",
    "    \"Verkehr & Infrastruktur - Straßen-, Schienen- und Luftverkehr, Mobilitätskonzepte, Infrastrukturprojekte\": \"Transport & Infrastructure\",\n",
    "    \"Umwelt, Klima & Naturschutz - Umweltschutz, Klimapläne, Artenschutz, nukleare Sicherheit\": \"Environment, Climate & Nature Conservation\",\n",
    "    \"Gesundheit - Gesundheitssystem, Krankenversicherung, Arzneimittelregulierung, Pandemie- und Präventionspolitik\": \"Health\",\n",
    "    \"Landwirtschaft & Ernährung - Agrarpolitik, Ernährungssicherheit, Ländliche Entwicklung\": \"Agriculture & Food\",\n",
    "    \"Entwicklungszusammenarbeit - Entwicklungsprojekte, humanitäre Hilfe, internationale Zusammenarbeit\": \"Development Cooperation\",\n",
    "    \"Wohnen & Stadtentwicklung - Wohnungsbau, Städtebau, Bauordnung, Städtebauförderung\": \"Housing & Urban Development\",\n",
    "}\n",
    "\n",
    "predictions[\"category\"] = predictions[\"category\"].replace(category_mapping)\n",
    "predictions.query(\"type == 'Gesetzentwurf'\", inplace=True)\n"
   ]
  },
  {
   "cell_type": "code",
   "execution_count": 2,
   "id": "f6ad6288",
   "metadata": {},
   "outputs": [
    {
     "data": {
      "text/html": [
       "<div>\n",
       "<style scoped>\n",
       "    .dataframe tbody tr th:only-of-type {\n",
       "        vertical-align: middle;\n",
       "    }\n",
       "\n",
       "    .dataframe tbody tr th {\n",
       "        vertical-align: top;\n",
       "    }\n",
       "\n",
       "    .dataframe thead th {\n",
       "        text-align: right;\n",
       "    }\n",
       "</style>\n",
       "<table border=\"1\" class=\"dataframe\">\n",
       "  <thead>\n",
       "    <tr style=\"text-align: right;\">\n",
       "      <th></th>\n",
       "      <th>vote_id</th>\n",
       "      <th>type</th>\n",
       "      <th>title</th>\n",
       "      <th>drucksache_id</th>\n",
       "      <th>beschlussempfehlung</th>\n",
       "      <th>summary</th>\n",
       "      <th>summary_embedding</th>\n",
       "      <th>date</th>\n",
       "      <th>proposers</th>\n",
       "      <th>party</th>\n",
       "      <th>reasoning</th>\n",
       "      <th>prediction</th>\n",
       "      <th>ground_truth</th>\n",
       "      <th>discipline</th>\n",
       "      <th>category</th>\n",
       "      <th>is_governing</th>\n",
       "      <th>bundestag</th>\n",
       "      <th>vote_correct</th>\n",
       "      <th>is_own_proposal</th>\n",
       "      <th>manifesto_context</th>\n",
       "    </tr>\n",
       "  </thead>\n",
       "  <tbody>\n",
       "    <tr>\n",
       "      <th>0</th>\n",
       "      <td>0</td>\n",
       "      <td>Gesetzentwurf</td>\n",
       "      <td>Gesetzentwurf der Fraktionen der SPD und CDU/C...</td>\n",
       "      <td>20/15096</td>\n",
       "      <td>None</td>\n",
       "      <td>Abgestimmt wird über eine Grundgesetzänderung,...</td>\n",
       "      <td>[-0.00992498267441988, 0.019715214148163795, 0...</td>\n",
       "      <td>2025-03-18</td>\n",
       "      <td>[SPD, Union]</td>\n",
       "      <td>AfD</td>\n",
       "      <td>stimmt nicht zu  \\nBegründung: Der Antrag sieh...</td>\n",
       "      <td>False</td>\n",
       "      <td>False</td>\n",
       "      <td>1.000000</td>\n",
       "      <td>Defense &amp; Security</td>\n",
       "      <td>False</td>\n",
       "      <td>20</td>\n",
       "      <td>True</td>\n",
       "      <td>False</td>\n",
       "      <td>- Arbeitslosenversicherung reformieren: Anspru...</td>\n",
       "    </tr>\n",
       "    <tr>\n",
       "      <th>2</th>\n",
       "      <td>2</td>\n",
       "      <td>Gesetzentwurf</td>\n",
       "      <td>Gesetzentwurf der Fraktion der FDP Entwurf ein...</td>\n",
       "      <td>20/15099</td>\n",
       "      <td>None</td>\n",
       "      <td>Im Bundestag wird über die Erweiterung des bes...</td>\n",
       "      <td>[0.014410934410989285, 0.03800387308001518, 0....</td>\n",
       "      <td>2025-03-18</td>\n",
       "      <td>[FDP]</td>\n",
       "      <td>AfD</td>\n",
       "      <td>enthält sich  \\nBegründung: Das Wahlprogramm e...</td>\n",
       "      <td>False</td>\n",
       "      <td>False</td>\n",
       "      <td>1.000000</td>\n",
       "      <td>Defense &amp; Security</td>\n",
       "      <td>False</td>\n",
       "      <td>20</td>\n",
       "      <td>True</td>\n",
       "      <td>False</td>\n",
       "      <td>- Innere Sicherheit stärken: Bundespolizei per...</td>\n",
       "    </tr>\n",
       "    <tr>\n",
       "      <th>3</th>\n",
       "      <td>3</td>\n",
       "      <td>Gesetzentwurf</td>\n",
       "      <td>Gesetzentwurf der Fraktion der CDU/CSU Entwurf...</td>\n",
       "      <td>20/12804</td>\n",
       "      <td>None</td>\n",
       "      <td>Das Gesetz stellt die Begrenzung der Zuwanderu...</td>\n",
       "      <td>[0.03507666289806366, 0.08015237003564835, 0.0...</td>\n",
       "      <td>2025-01-31</td>\n",
       "      <td>[Union]</td>\n",
       "      <td>AfD</td>\n",
       "      <td>stimmt zu  \\nBegründung: Der Antrag zur Begren...</td>\n",
       "      <td>True</td>\n",
       "      <td>True</td>\n",
       "      <td>1.000000</td>\n",
       "      <td>Internal Affairs &amp; Migration</td>\n",
       "      <td>False</td>\n",
       "      <td>20</td>\n",
       "      <td>True</td>\n",
       "      <td>False</td>\n",
       "      <td>- Rückführungsoffensive: Ausreisepflichtige ko...</td>\n",
       "    </tr>\n",
       "    <tr>\n",
       "      <th>4</th>\n",
       "      <td>10</td>\n",
       "      <td>Gesetzentwurf</td>\n",
       "      <td>Gesetzentwurf der Fraktionen SPD, CDU/CSU, BÜN...</td>\n",
       "      <td>20/12977</td>\n",
       "      <td>None</td>\n",
       "      <td>Im Bundestag wird über eine Verfassungsänderun...</td>\n",
       "      <td>[-0.01373820099979639, 0.024543749168515205, 0...</td>\n",
       "      <td>2024-12-19</td>\n",
       "      <td>[SPD, Union, DIE_GRÜNEN, FDP]</td>\n",
       "      <td>AfD</td>\n",
       "      <td>stimmt zu  \\nBegründung: Das Wahlprogramm beto...</td>\n",
       "      <td>True</td>\n",
       "      <td>False</td>\n",
       "      <td>0.982456</td>\n",
       "      <td>Justice &amp; Consumer Protection</td>\n",
       "      <td>False</td>\n",
       "      <td>20</td>\n",
       "      <td>False</td>\n",
       "      <td>False</td>\n",
       "      <td>- Demokratie und Rechtsstaat\\n  - Einführung v...</td>\n",
       "    </tr>\n",
       "    <tr>\n",
       "      <th>5</th>\n",
       "      <td>17</td>\n",
       "      <td>Gesetzentwurf</td>\n",
       "      <td>Gesetzentwurf der Fraktionen SPD, BÜNDNIS 90/D...</td>\n",
       "      <td>20/12806</td>\n",
       "      <td>None</td>\n",
       "      <td>Der Gesetzentwurf zielt darauf ab, die Terrori...</td>\n",
       "      <td>[-0.007711812853813171, 0.020280731841921806, ...</td>\n",
       "      <td>2024-10-18</td>\n",
       "      <td>[SPD, DIE_GRÜNEN, FDP]</td>\n",
       "      <td>AfD</td>\n",
       "      <td>stimmt zu  \\nBegründung: Der Antrag zur Stärku...</td>\n",
       "      <td>True</td>\n",
       "      <td>False</td>\n",
       "      <td>1.000000</td>\n",
       "      <td>Digitalization &amp; Modernization</td>\n",
       "      <td>False</td>\n",
       "      <td>20</td>\n",
       "      <td>False</td>\n",
       "      <td>False</td>\n",
       "      <td>- Innere Sicherheit\\n  - Konsequente Bekämpfun...</td>\n",
       "    </tr>\n",
       "    <tr>\n",
       "      <th>...</th>\n",
       "      <td>...</td>\n",
       "      <td>...</td>\n",
       "      <td>...</td>\n",
       "      <td>...</td>\n",
       "      <td>...</td>\n",
       "      <td>...</td>\n",
       "      <td>...</td>\n",
       "      <td>...</td>\n",
       "      <td>...</td>\n",
       "      <td>...</td>\n",
       "      <td>...</td>\n",
       "      <td>...</td>\n",
       "      <td>...</td>\n",
       "      <td>...</td>\n",
       "      <td>...</td>\n",
       "      <td>...</td>\n",
       "      <td>...</td>\n",
       "      <td>...</td>\n",
       "      <td>...</td>\n",
       "      <td>...</td>\n",
       "    </tr>\n",
       "    <tr>\n",
       "      <th>3301</th>\n",
       "      <td>303</td>\n",
       "      <td>Gesetzentwurf</td>\n",
       "      <td>Gesetzentwurf der Bundesregierung</td>\n",
       "      <td>19/14103</td>\n",
       "      <td>Annahme</td>\n",
       "      <td>Es wird über eine schrittweise Rückführung des...</td>\n",
       "      <td>[0.019990859553217888, -0.0031184873078018427,...</td>\n",
       "      <td>2019-11-14</td>\n",
       "      <td>[Bundesregierung]</td>\n",
       "      <td>Union</td>\n",
       "      <td>stimmt zu\\nBegründung: Das Wahlprogramm der Pa...</td>\n",
       "      <td>True</td>\n",
       "      <td>True</td>\n",
       "      <td>1.000000</td>\n",
       "      <td>Labor &amp; Social Affairs</td>\n",
       "      <td>True</td>\n",
       "      <td>19</td>\n",
       "      <td>True</td>\n",
       "      <td>True</td>\n",
       "      <td>- Abschaffung des Solidaritätszuschlags schrit...</td>\n",
       "    </tr>\n",
       "    <tr>\n",
       "      <th>3302</th>\n",
       "      <td>303</td>\n",
       "      <td>Gesetzentwurf</td>\n",
       "      <td>Gesetzentwurf der Abgeordneten Christian Dürr,...</td>\n",
       "      <td>19/14286</td>\n",
       "      <td>Ablehnung</td>\n",
       "      <td>Im Bundestag wird darüber abgestimmt, das Soli...</td>\n",
       "      <td>[0.013860349543392658, 0.00022564873506780714,...</td>\n",
       "      <td>2019-11-14</td>\n",
       "      <td>[FDP]</td>\n",
       "      <td>Union</td>\n",
       "      <td>stimmt zu  \\nBegründung: Das Wahlprogramm der ...</td>\n",
       "      <td>True</td>\n",
       "      <td>False</td>\n",
       "      <td>1.000000</td>\n",
       "      <td>Finance</td>\n",
       "      <td>True</td>\n",
       "      <td>19</td>\n",
       "      <td>False</td>\n",
       "      <td>False</td>\n",
       "      <td>- Abschaffung des Solidaritätszuschlags schrit...</td>\n",
       "    </tr>\n",
       "    <tr>\n",
       "      <th>3306</th>\n",
       "      <td>314</td>\n",
       "      <td>Gesetzentwurf</td>\n",
       "      <td>Gesetzentwurf der Abgeordneten Christian Kühn ...</td>\n",
       "      <td>19/8827</td>\n",
       "      <td>Ablehnung</td>\n",
       "      <td>Es wird darüber abgestimmt, die Umlagefähigkei...</td>\n",
       "      <td>[-0.020645294338464737, 0.04964518919587135, 0...</td>\n",
       "      <td>2019-10-18</td>\n",
       "      <td>[DIE_GRÜNEN]</td>\n",
       "      <td>Union</td>\n",
       "      <td>stimmt nicht zu  \\nBegründung: Der Antrag zur ...</td>\n",
       "      <td>False</td>\n",
       "      <td>False</td>\n",
       "      <td>1.000000</td>\n",
       "      <td>Finance</td>\n",
       "      <td>True</td>\n",
       "      <td>19</td>\n",
       "      <td>True</td>\n",
       "      <td>False</td>\n",
       "      <td>- Abschaffung des Solidaritätszuschlags schrit...</td>\n",
       "    </tr>\n",
       "    <tr>\n",
       "      <th>3421</th>\n",
       "      <td>629</td>\n",
       "      <td>Gesetzentwurf</td>\n",
       "      <td>Gesetzentwurf der Fraktionen BÜNDNIS 90/DIE GR...</td>\n",
       "      <td>18/380</td>\n",
       "      <td>Ablehnung</td>\n",
       "      <td>Im Bundestag wird über einen Gesetzentwurf abg...</td>\n",
       "      <td>[-0.0014615601394325495, 0.02150341309607029, ...</td>\n",
       "      <td>2014-04-03</td>\n",
       "      <td>[DIE_GRÜNEN, DIE_LINKE]</td>\n",
       "      <td>Union</td>\n",
       "      <td>enthält sich  \\nDas Wahlprogramm enthält keine...</td>\n",
       "      <td>False</td>\n",
       "      <td>False</td>\n",
       "      <td>1.000000</td>\n",
       "      <td>Justice &amp; Consumer Protection</td>\n",
       "      <td>True</td>\n",
       "      <td>18</td>\n",
       "      <td>True</td>\n",
       "      <td>False</td>\n",
       "      <td>- **Wirtschaft und Innovationsförderung:**\\n  ...</td>\n",
       "    </tr>\n",
       "    <tr>\n",
       "      <th>3422</th>\n",
       "      <td>629</td>\n",
       "      <td>Gesetzentwurf</td>\n",
       "      <td>Gesetzentwurf der Fraktion DIE LINKE. Entwurf ...</td>\n",
       "      <td>18/838</td>\n",
       "      <td>Ablehnung</td>\n",
       "      <td>Im Bundestag wird über eine Änderung der Quore...</td>\n",
       "      <td>[0.0022878851741552353, 0.0472908616065979, 0....</td>\n",
       "      <td>2014-04-03</td>\n",
       "      <td>[DIE_LINKE]</td>\n",
       "      <td>Union</td>\n",
       "      <td>enthält sich  \\nDas Wahlprogramm der Partei en...</td>\n",
       "      <td>False</td>\n",
       "      <td>False</td>\n",
       "      <td>1.000000</td>\n",
       "      <td>Justice &amp; Consumer Protection</td>\n",
       "      <td>True</td>\n",
       "      <td>18</td>\n",
       "      <td>True</td>\n",
       "      <td>False</td>\n",
       "      <td>- **Wirtschaft und Innovationsförderung:**\\n  ...</td>\n",
       "    </tr>\n",
       "  </tbody>\n",
       "</table>\n",
       "<p>1181 rows × 20 columns</p>\n",
       "</div>"
      ],
      "text/plain": [
       "      vote_id           type  \\\n",
       "0           0  Gesetzentwurf   \n",
       "2           2  Gesetzentwurf   \n",
       "3           3  Gesetzentwurf   \n",
       "4          10  Gesetzentwurf   \n",
       "5          17  Gesetzentwurf   \n",
       "...       ...            ...   \n",
       "3301      303  Gesetzentwurf   \n",
       "3302      303  Gesetzentwurf   \n",
       "3306      314  Gesetzentwurf   \n",
       "3421      629  Gesetzentwurf   \n",
       "3422      629  Gesetzentwurf   \n",
       "\n",
       "                                                  title drucksache_id  \\\n",
       "0     Gesetzentwurf der Fraktionen der SPD und CDU/C...      20/15096   \n",
       "2     Gesetzentwurf der Fraktion der FDP Entwurf ein...      20/15099   \n",
       "3     Gesetzentwurf der Fraktion der CDU/CSU Entwurf...      20/12804   \n",
       "4     Gesetzentwurf der Fraktionen SPD, CDU/CSU, BÜN...      20/12977   \n",
       "5     Gesetzentwurf der Fraktionen SPD, BÜNDNIS 90/D...      20/12806   \n",
       "...                                                 ...           ...   \n",
       "3301                  Gesetzentwurf der Bundesregierung      19/14103   \n",
       "3302  Gesetzentwurf der Abgeordneten Christian Dürr,...      19/14286   \n",
       "3306  Gesetzentwurf der Abgeordneten Christian Kühn ...       19/8827   \n",
       "3421  Gesetzentwurf der Fraktionen BÜNDNIS 90/DIE GR...        18/380   \n",
       "3422  Gesetzentwurf der Fraktion DIE LINKE. Entwurf ...        18/838   \n",
       "\n",
       "     beschlussempfehlung                                            summary  \\\n",
       "0                   None  Abgestimmt wird über eine Grundgesetzänderung,...   \n",
       "2                   None  Im Bundestag wird über die Erweiterung des bes...   \n",
       "3                   None  Das Gesetz stellt die Begrenzung der Zuwanderu...   \n",
       "4                   None  Im Bundestag wird über eine Verfassungsänderun...   \n",
       "5                   None  Der Gesetzentwurf zielt darauf ab, die Terrori...   \n",
       "...                  ...                                                ...   \n",
       "3301             Annahme  Es wird über eine schrittweise Rückführung des...   \n",
       "3302           Ablehnung  Im Bundestag wird darüber abgestimmt, das Soli...   \n",
       "3306           Ablehnung  Es wird darüber abgestimmt, die Umlagefähigkei...   \n",
       "3421           Ablehnung  Im Bundestag wird über einen Gesetzentwurf abg...   \n",
       "3422           Ablehnung  Im Bundestag wird über eine Änderung der Quore...   \n",
       "\n",
       "                                      summary_embedding       date  \\\n",
       "0     [-0.00992498267441988, 0.019715214148163795, 0... 2025-03-18   \n",
       "2     [0.014410934410989285, 0.03800387308001518, 0.... 2025-03-18   \n",
       "3     [0.03507666289806366, 0.08015237003564835, 0.0... 2025-01-31   \n",
       "4     [-0.01373820099979639, 0.024543749168515205, 0... 2024-12-19   \n",
       "5     [-0.007711812853813171, 0.020280731841921806, ... 2024-10-18   \n",
       "...                                                 ...        ...   \n",
       "3301  [0.019990859553217888, -0.0031184873078018427,... 2019-11-14   \n",
       "3302  [0.013860349543392658, 0.00022564873506780714,... 2019-11-14   \n",
       "3306  [-0.020645294338464737, 0.04964518919587135, 0... 2019-10-18   \n",
       "3421  [-0.0014615601394325495, 0.02150341309607029, ... 2014-04-03   \n",
       "3422  [0.0022878851741552353, 0.0472908616065979, 0.... 2014-04-03   \n",
       "\n",
       "                          proposers  party  \\\n",
       "0                      [SPD, Union]    AfD   \n",
       "2                             [FDP]    AfD   \n",
       "3                           [Union]    AfD   \n",
       "4     [SPD, Union, DIE_GRÜNEN, FDP]    AfD   \n",
       "5            [SPD, DIE_GRÜNEN, FDP]    AfD   \n",
       "...                             ...    ...   \n",
       "3301              [Bundesregierung]  Union   \n",
       "3302                          [FDP]  Union   \n",
       "3306                   [DIE_GRÜNEN]  Union   \n",
       "3421        [DIE_GRÜNEN, DIE_LINKE]  Union   \n",
       "3422                    [DIE_LINKE]  Union   \n",
       "\n",
       "                                              reasoning  prediction  \\\n",
       "0     stimmt nicht zu  \\nBegründung: Der Antrag sieh...       False   \n",
       "2     enthält sich  \\nBegründung: Das Wahlprogramm e...       False   \n",
       "3     stimmt zu  \\nBegründung: Der Antrag zur Begren...        True   \n",
       "4     stimmt zu  \\nBegründung: Das Wahlprogramm beto...        True   \n",
       "5     stimmt zu  \\nBegründung: Der Antrag zur Stärku...        True   \n",
       "...                                                 ...         ...   \n",
       "3301  stimmt zu\\nBegründung: Das Wahlprogramm der Pa...        True   \n",
       "3302  stimmt zu  \\nBegründung: Das Wahlprogramm der ...        True   \n",
       "3306  stimmt nicht zu  \\nBegründung: Der Antrag zur ...       False   \n",
       "3421  enthält sich  \\nDas Wahlprogramm enthält keine...       False   \n",
       "3422  enthält sich  \\nDas Wahlprogramm der Partei en...       False   \n",
       "\n",
       "      ground_truth  discipline                        category  is_governing  \\\n",
       "0            False    1.000000              Defense & Security         False   \n",
       "2            False    1.000000              Defense & Security         False   \n",
       "3             True    1.000000    Internal Affairs & Migration         False   \n",
       "4            False    0.982456   Justice & Consumer Protection         False   \n",
       "5            False    1.000000  Digitalization & Modernization         False   \n",
       "...            ...         ...                             ...           ...   \n",
       "3301          True    1.000000          Labor & Social Affairs          True   \n",
       "3302         False    1.000000                         Finance          True   \n",
       "3306         False    1.000000                         Finance          True   \n",
       "3421         False    1.000000   Justice & Consumer Protection          True   \n",
       "3422         False    1.000000   Justice & Consumer Protection          True   \n",
       "\n",
       "      bundestag  vote_correct  is_own_proposal  \\\n",
       "0            20          True            False   \n",
       "2            20          True            False   \n",
       "3            20          True            False   \n",
       "4            20         False            False   \n",
       "5            20         False            False   \n",
       "...         ...           ...              ...   \n",
       "3301         19          True             True   \n",
       "3302         19         False            False   \n",
       "3306         19          True            False   \n",
       "3421         18          True            False   \n",
       "3422         18          True            False   \n",
       "\n",
       "                                      manifesto_context  \n",
       "0     - Arbeitslosenversicherung reformieren: Anspru...  \n",
       "2     - Innere Sicherheit stärken: Bundespolizei per...  \n",
       "3     - Rückführungsoffensive: Ausreisepflichtige ko...  \n",
       "4     - Demokratie und Rechtsstaat\\n  - Einführung v...  \n",
       "5     - Innere Sicherheit\\n  - Konsequente Bekämpfun...  \n",
       "...                                                 ...  \n",
       "3301  - Abschaffung des Solidaritätszuschlags schrit...  \n",
       "3302  - Abschaffung des Solidaritätszuschlags schrit...  \n",
       "3306  - Abschaffung des Solidaritätszuschlags schrit...  \n",
       "3421  - **Wirtschaft und Innovationsförderung:**\\n  ...  \n",
       "3422  - **Wirtschaft und Innovationsförderung:**\\n  ...  \n",
       "\n",
       "[1181 rows x 20 columns]"
      ]
     },
     "execution_count": 2,
     "metadata": {},
     "output_type": "execute_result"
    }
   ],
   "source": [
    "predictions"
   ]
  },
  {
   "cell_type": "code",
   "execution_count": null,
   "id": "968ad77b",
   "metadata": {},
   "outputs": [],
   "source": []
  },
  {
   "cell_type": "code",
   "execution_count": null,
   "id": "b5362908",
   "metadata": {},
   "outputs": [],
   "source": []
  },
  {
   "cell_type": "code",
   "execution_count": 3,
   "id": "328a393a",
   "metadata": {},
   "outputs": [
    {
     "data": {
      "application/vnd.plotly.v1+json": {
       "config": {
        "plotlyServerURL": "https://plot.ly"
       },
       "data": [
        {
         "hovertemplate": "Status=%{x}<br>vote_correct=%{y}<br>Percent=%{text}<extra></extra>",
         "legendgroup": "Opposition",
         "marker": {
          "color": "#ff7f0e",
          "pattern": {
           "shape": ""
          }
         },
         "name": "Opposition",
         "orientation": "v",
         "showlegend": true,
         "text": [
          "58.8%"
         ],
         "textposition": "auto",
         "type": "bar",
         "x": [
          "Opposition"
         ],
         "xaxis": "x",
         "y": {
          "bdata": "27pLfF/U4j8=",
          "dtype": "f8"
         },
         "yaxis": "y"
        },
        {
         "hovertemplate": "Status=%{x}<br>vote_correct=%{y}<br>Percent=%{text}<extra></extra>",
         "legendgroup": "Government",
         "marker": {
          "color": "#1f77b4",
          "pattern": {
           "shape": ""
          }
         },
         "name": "Government",
         "orientation": "v",
         "showlegend": true,
         "text": [
          "63.1%"
         ],
         "textposition": "auto",
         "type": "bar",
         "x": [
          "Government"
         ],
         "xaxis": "x",
         "y": {
          "bdata": "AAAAAAAw5D8=",
          "dtype": "f8"
         },
         "yaxis": "y"
        }
       ],
       "layout": {
        "barmode": "relative",
        "height": 600,
        "legend": {
         "title": {
          "text": "Status"
         },
         "tracegroupgap": 0
        },
        "margin": {
         "t": 60
        },
        "showlegend": false,
        "template": {
         "data": {
          "bar": [
           {
            "error_x": {
             "color": "#2a3f5f"
            },
            "error_y": {
             "color": "#2a3f5f"
            },
            "marker": {
             "line": {
              "color": "#E5ECF6",
              "width": 0.5
             },
             "pattern": {
              "fillmode": "overlay",
              "size": 10,
              "solidity": 0.2
             }
            },
            "type": "bar"
           }
          ],
          "barpolar": [
           {
            "marker": {
             "line": {
              "color": "#E5ECF6",
              "width": 0.5
             },
             "pattern": {
              "fillmode": "overlay",
              "size": 10,
              "solidity": 0.2
             }
            },
            "type": "barpolar"
           }
          ],
          "carpet": [
           {
            "aaxis": {
             "endlinecolor": "#2a3f5f",
             "gridcolor": "white",
             "linecolor": "white",
             "minorgridcolor": "white",
             "startlinecolor": "#2a3f5f"
            },
            "baxis": {
             "endlinecolor": "#2a3f5f",
             "gridcolor": "white",
             "linecolor": "white",
             "minorgridcolor": "white",
             "startlinecolor": "#2a3f5f"
            },
            "type": "carpet"
           }
          ],
          "choropleth": [
           {
            "colorbar": {
             "outlinewidth": 0,
             "ticks": ""
            },
            "type": "choropleth"
           }
          ],
          "contour": [
           {
            "colorbar": {
             "outlinewidth": 0,
             "ticks": ""
            },
            "colorscale": [
             [
              0,
              "#0d0887"
             ],
             [
              0.1111111111111111,
              "#46039f"
             ],
             [
              0.2222222222222222,
              "#7201a8"
             ],
             [
              0.3333333333333333,
              "#9c179e"
             ],
             [
              0.4444444444444444,
              "#bd3786"
             ],
             [
              0.5555555555555556,
              "#d8576b"
             ],
             [
              0.6666666666666666,
              "#ed7953"
             ],
             [
              0.7777777777777778,
              "#fb9f3a"
             ],
             [
              0.8888888888888888,
              "#fdca26"
             ],
             [
              1,
              "#f0f921"
             ]
            ],
            "type": "contour"
           }
          ],
          "contourcarpet": [
           {
            "colorbar": {
             "outlinewidth": 0,
             "ticks": ""
            },
            "type": "contourcarpet"
           }
          ],
          "heatmap": [
           {
            "colorbar": {
             "outlinewidth": 0,
             "ticks": ""
            },
            "colorscale": [
             [
              0,
              "#0d0887"
             ],
             [
              0.1111111111111111,
              "#46039f"
             ],
             [
              0.2222222222222222,
              "#7201a8"
             ],
             [
              0.3333333333333333,
              "#9c179e"
             ],
             [
              0.4444444444444444,
              "#bd3786"
             ],
             [
              0.5555555555555556,
              "#d8576b"
             ],
             [
              0.6666666666666666,
              "#ed7953"
             ],
             [
              0.7777777777777778,
              "#fb9f3a"
             ],
             [
              0.8888888888888888,
              "#fdca26"
             ],
             [
              1,
              "#f0f921"
             ]
            ],
            "type": "heatmap"
           }
          ],
          "histogram": [
           {
            "marker": {
             "pattern": {
              "fillmode": "overlay",
              "size": 10,
              "solidity": 0.2
             }
            },
            "type": "histogram"
           }
          ],
          "histogram2d": [
           {
            "colorbar": {
             "outlinewidth": 0,
             "ticks": ""
            },
            "colorscale": [
             [
              0,
              "#0d0887"
             ],
             [
              0.1111111111111111,
              "#46039f"
             ],
             [
              0.2222222222222222,
              "#7201a8"
             ],
             [
              0.3333333333333333,
              "#9c179e"
             ],
             [
              0.4444444444444444,
              "#bd3786"
             ],
             [
              0.5555555555555556,
              "#d8576b"
             ],
             [
              0.6666666666666666,
              "#ed7953"
             ],
             [
              0.7777777777777778,
              "#fb9f3a"
             ],
             [
              0.8888888888888888,
              "#fdca26"
             ],
             [
              1,
              "#f0f921"
             ]
            ],
            "type": "histogram2d"
           }
          ],
          "histogram2dcontour": [
           {
            "colorbar": {
             "outlinewidth": 0,
             "ticks": ""
            },
            "colorscale": [
             [
              0,
              "#0d0887"
             ],
             [
              0.1111111111111111,
              "#46039f"
             ],
             [
              0.2222222222222222,
              "#7201a8"
             ],
             [
              0.3333333333333333,
              "#9c179e"
             ],
             [
              0.4444444444444444,
              "#bd3786"
             ],
             [
              0.5555555555555556,
              "#d8576b"
             ],
             [
              0.6666666666666666,
              "#ed7953"
             ],
             [
              0.7777777777777778,
              "#fb9f3a"
             ],
             [
              0.8888888888888888,
              "#fdca26"
             ],
             [
              1,
              "#f0f921"
             ]
            ],
            "type": "histogram2dcontour"
           }
          ],
          "mesh3d": [
           {
            "colorbar": {
             "outlinewidth": 0,
             "ticks": ""
            },
            "type": "mesh3d"
           }
          ],
          "parcoords": [
           {
            "line": {
             "colorbar": {
              "outlinewidth": 0,
              "ticks": ""
             }
            },
            "type": "parcoords"
           }
          ],
          "pie": [
           {
            "automargin": true,
            "type": "pie"
           }
          ],
          "scatter": [
           {
            "fillpattern": {
             "fillmode": "overlay",
             "size": 10,
             "solidity": 0.2
            },
            "type": "scatter"
           }
          ],
          "scatter3d": [
           {
            "line": {
             "colorbar": {
              "outlinewidth": 0,
              "ticks": ""
             }
            },
            "marker": {
             "colorbar": {
              "outlinewidth": 0,
              "ticks": ""
             }
            },
            "type": "scatter3d"
           }
          ],
          "scattercarpet": [
           {
            "marker": {
             "colorbar": {
              "outlinewidth": 0,
              "ticks": ""
             }
            },
            "type": "scattercarpet"
           }
          ],
          "scattergeo": [
           {
            "marker": {
             "colorbar": {
              "outlinewidth": 0,
              "ticks": ""
             }
            },
            "type": "scattergeo"
           }
          ],
          "scattergl": [
           {
            "marker": {
             "colorbar": {
              "outlinewidth": 0,
              "ticks": ""
             }
            },
            "type": "scattergl"
           }
          ],
          "scattermap": [
           {
            "marker": {
             "colorbar": {
              "outlinewidth": 0,
              "ticks": ""
             }
            },
            "type": "scattermap"
           }
          ],
          "scattermapbox": [
           {
            "marker": {
             "colorbar": {
              "outlinewidth": 0,
              "ticks": ""
             }
            },
            "type": "scattermapbox"
           }
          ],
          "scatterpolar": [
           {
            "marker": {
             "colorbar": {
              "outlinewidth": 0,
              "ticks": ""
             }
            },
            "type": "scatterpolar"
           }
          ],
          "scatterpolargl": [
           {
            "marker": {
             "colorbar": {
              "outlinewidth": 0,
              "ticks": ""
             }
            },
            "type": "scatterpolargl"
           }
          ],
          "scatterternary": [
           {
            "marker": {
             "colorbar": {
              "outlinewidth": 0,
              "ticks": ""
             }
            },
            "type": "scatterternary"
           }
          ],
          "surface": [
           {
            "colorbar": {
             "outlinewidth": 0,
             "ticks": ""
            },
            "colorscale": [
             [
              0,
              "#0d0887"
             ],
             [
              0.1111111111111111,
              "#46039f"
             ],
             [
              0.2222222222222222,
              "#7201a8"
             ],
             [
              0.3333333333333333,
              "#9c179e"
             ],
             [
              0.4444444444444444,
              "#bd3786"
             ],
             [
              0.5555555555555556,
              "#d8576b"
             ],
             [
              0.6666666666666666,
              "#ed7953"
             ],
             [
              0.7777777777777778,
              "#fb9f3a"
             ],
             [
              0.8888888888888888,
              "#fdca26"
             ],
             [
              1,
              "#f0f921"
             ]
            ],
            "type": "surface"
           }
          ],
          "table": [
           {
            "cells": {
             "fill": {
              "color": "#EBF0F8"
             },
             "line": {
              "color": "white"
             }
            },
            "header": {
             "fill": {
              "color": "#C8D4E3"
             },
             "line": {
              "color": "white"
             }
            },
            "type": "table"
           }
          ]
         },
         "layout": {
          "annotationdefaults": {
           "arrowcolor": "#2a3f5f",
           "arrowhead": 0,
           "arrowwidth": 1
          },
          "autotypenumbers": "strict",
          "coloraxis": {
           "colorbar": {
            "outlinewidth": 0,
            "ticks": ""
           }
          },
          "colorscale": {
           "diverging": [
            [
             0,
             "#8e0152"
            ],
            [
             0.1,
             "#c51b7d"
            ],
            [
             0.2,
             "#de77ae"
            ],
            [
             0.3,
             "#f1b6da"
            ],
            [
             0.4,
             "#fde0ef"
            ],
            [
             0.5,
             "#f7f7f7"
            ],
            [
             0.6,
             "#e6f5d0"
            ],
            [
             0.7,
             "#b8e186"
            ],
            [
             0.8,
             "#7fbc41"
            ],
            [
             0.9,
             "#4d9221"
            ],
            [
             1,
             "#276419"
            ]
           ],
           "sequential": [
            [
             0,
             "#0d0887"
            ],
            [
             0.1111111111111111,
             "#46039f"
            ],
            [
             0.2222222222222222,
             "#7201a8"
            ],
            [
             0.3333333333333333,
             "#9c179e"
            ],
            [
             0.4444444444444444,
             "#bd3786"
            ],
            [
             0.5555555555555556,
             "#d8576b"
            ],
            [
             0.6666666666666666,
             "#ed7953"
            ],
            [
             0.7777777777777778,
             "#fb9f3a"
            ],
            [
             0.8888888888888888,
             "#fdca26"
            ],
            [
             1,
             "#f0f921"
            ]
           ],
           "sequentialminus": [
            [
             0,
             "#0d0887"
            ],
            [
             0.1111111111111111,
             "#46039f"
            ],
            [
             0.2222222222222222,
             "#7201a8"
            ],
            [
             0.3333333333333333,
             "#9c179e"
            ],
            [
             0.4444444444444444,
             "#bd3786"
            ],
            [
             0.5555555555555556,
             "#d8576b"
            ],
            [
             0.6666666666666666,
             "#ed7953"
            ],
            [
             0.7777777777777778,
             "#fb9f3a"
            ],
            [
             0.8888888888888888,
             "#fdca26"
            ],
            [
             1,
             "#f0f921"
            ]
           ]
          },
          "colorway": [
           "#636efa",
           "#EF553B",
           "#00cc96",
           "#ab63fa",
           "#FFA15A",
           "#19d3f3",
           "#FF6692",
           "#B6E880",
           "#FF97FF",
           "#FECB52"
          ],
          "font": {
           "color": "#2a3f5f"
          },
          "geo": {
           "bgcolor": "white",
           "lakecolor": "white",
           "landcolor": "#E5ECF6",
           "showlakes": true,
           "showland": true,
           "subunitcolor": "white"
          },
          "hoverlabel": {
           "align": "left"
          },
          "hovermode": "closest",
          "mapbox": {
           "style": "light"
          },
          "paper_bgcolor": "white",
          "plot_bgcolor": "#E5ECF6",
          "polar": {
           "angularaxis": {
            "gridcolor": "white",
            "linecolor": "white",
            "ticks": ""
           },
           "bgcolor": "#E5ECF6",
           "radialaxis": {
            "gridcolor": "white",
            "linecolor": "white",
            "ticks": ""
           }
          },
          "scene": {
           "xaxis": {
            "backgroundcolor": "#E5ECF6",
            "gridcolor": "white",
            "gridwidth": 2,
            "linecolor": "white",
            "showbackground": true,
            "ticks": "",
            "zerolinecolor": "white"
           },
           "yaxis": {
            "backgroundcolor": "#E5ECF6",
            "gridcolor": "white",
            "gridwidth": 2,
            "linecolor": "white",
            "showbackground": true,
            "ticks": "",
            "zerolinecolor": "white"
           },
           "zaxis": {
            "backgroundcolor": "#E5ECF6",
            "gridcolor": "white",
            "gridwidth": 2,
            "linecolor": "white",
            "showbackground": true,
            "ticks": "",
            "zerolinecolor": "white"
           }
          },
          "shapedefaults": {
           "line": {
            "color": "#2a3f5f"
           }
          },
          "ternary": {
           "aaxis": {
            "gridcolor": "white",
            "linecolor": "white",
            "ticks": ""
           },
           "baxis": {
            "gridcolor": "white",
            "linecolor": "white",
            "ticks": ""
           },
           "bgcolor": "#E5ECF6",
           "caxis": {
            "gridcolor": "white",
            "linecolor": "white",
            "ticks": ""
           }
          },
          "title": {
           "x": 0.05
          },
          "xaxis": {
           "automargin": true,
           "gridcolor": "white",
           "linecolor": "white",
           "ticks": "",
           "title": {
            "standoff": 15
           },
           "zerolinecolor": "white",
           "zerolinewidth": 2
          },
          "yaxis": {
           "automargin": true,
           "gridcolor": "white",
           "linecolor": "white",
           "ticks": "",
           "title": {
            "standoff": 15
           },
           "zerolinecolor": "white",
           "zerolinewidth": 2
          }
         }
        },
        "title": {
         "text": "Manifesto Consistency: Government vs. Opposition (Without AfD and Linke)"
        },
        "xaxis": {
         "anchor": "y",
         "categoryarray": [
          "Opposition",
          "Government"
         ],
         "categoryorder": "array",
         "domain": [
          0,
          1
         ],
         "title": {
          "text": ""
         }
        },
        "yaxis": {
         "anchor": "x",
         "domain": [
          0,
          1
         ],
         "tickformat": ".0%",
         "title": {
          "text": "Manifesto Consistency"
         }
        }
       }
      }
     },
     "metadata": {},
     "output_type": "display_data"
    }
   ],
   "source": [
    "import pandas as pd\n",
    "import plotly.express as px\n",
    "df = predictions[predictions[\"party\"].isin([\"Union\", \"SPD\", \"FDP\", \"DIE_GRÜNEN\"])]\n",
    "df = df.groupby(\"is_governing\")[\"vote_correct\"].mean().reset_index()\n",
    "df[\"Status\"] = df[\"is_governing\"].map({True: \"Government\", False: \"Opposition\"})\n",
    "df[\"Percent\"] = (df[\"vote_correct\"] * 100).round(1).astype(str) + \"%\"\n",
    "\n",
    "fig = px.bar(\n",
    "    df,\n",
    "    x=\"Status\",\n",
    "    y=\"vote_correct\",\n",
    "    text=\"Percent\",\n",
    "    color=\"Status\",\n",
    "    color_discrete_map={\"Government\":\"#1f77b4\",\"Opposition\":\"#ff7f0e\"}\n",
    ")\n",
    "\n",
    "fig.update_layout(\n",
    "    yaxis_title=\"Manifesto Consistency\",\n",
    "    yaxis_tickformat=\".0%\",\n",
    "    xaxis_title=\"\",\n",
    "    showlegend=False,\n",
    "    title=\"Manifesto Consistency: Government vs. Opposition (Without AfD and Linke)\",\n",
    "    height=600\n",
    ")\n",
    "\n",
    "fig.show()\n"
   ]
  },
  {
   "cell_type": "code",
   "execution_count": 4,
   "id": "ae9629e5",
   "metadata": {},
   "outputs": [
    {
     "data": {
      "text/plain": [
       "is_governing\n",
       "False    0.588424\n",
       "True     0.630859\n",
       "Name: vote_correct, dtype: float64"
      ]
     },
     "execution_count": 4,
     "metadata": {},
     "output_type": "execute_result"
    }
   ],
   "source": [
    "predictions[predictions[\"party\"].isin([\"Union\", \"SPD\", \"FDP\", \"DIE_GRÜNEN\"])].groupby(\"is_governing\")[\"vote_correct\"].mean()"
   ]
  },
  {
   "cell_type": "code",
   "execution_count": null,
   "id": "3182ffbd",
   "metadata": {},
   "outputs": [],
   "source": []
  },
  {
   "cell_type": "code",
   "execution_count": 5,
   "id": "712d6061",
   "metadata": {},
   "outputs": [
    {
     "data": {
      "application/vnd.plotly.v1+json": {
       "config": {
        "plotlyServerURL": "https://plot.ly"
       },
       "data": [
        {
         "hovertemplate": "Party=%{x}<br>Correct=%{y}<br>Percent=%{text}<extra></extra>",
         "legendgroup": "AfD",
         "marker": {
          "color": "#00A2DE",
          "pattern": {
           "shape": ""
          }
         },
         "name": "AfD",
         "orientation": "v",
         "showlegend": true,
         "text": [
          "76.4%"
         ],
         "textposition": "auto",
         "type": "bar",
         "x": [
          "AfD"
         ],
         "xaxis": "x",
         "y": {
          "bdata": "HMdxHMdx6D8=",
          "dtype": "f8"
         },
         "yaxis": "y"
        },
        {
         "hovertemplate": "Party=%{x}<br>Correct=%{y}<br>Percent=%{text}<extra></extra>",
         "legendgroup": "DIE_LINKE",
         "marker": {
          "color": "#BE3075",
          "pattern": {
           "shape": ""
          }
         },
         "name": "DIE_LINKE",
         "orientation": "v",
         "showlegend": true,
         "text": [
          "70.1%"
         ],
         "textposition": "auto",
         "type": "bar",
         "x": [
          "DIE_LINKE"
         ],
         "xaxis": "x",
         "y": {
          "bdata": "oHfqWg5u5j8=",
          "dtype": "f8"
         },
         "yaxis": "y"
        },
        {
         "hovertemplate": "Party=%{x}<br>Correct=%{y}<br>Percent=%{text}<extra></extra>",
         "legendgroup": "DIE_GRÜNEN",
         "marker": {
          "color": "#409A3C",
          "pattern": {
           "shape": ""
          }
         },
         "name": "DIE_GRÜNEN",
         "orientation": "v",
         "showlegend": true,
         "text": [
          "66.1%"
         ],
         "textposition": "auto",
         "type": "bar",
         "x": [
          "DIE_GRÜNEN"
         ],
         "xaxis": "x",
         "y": {
          "bdata": "1egj1egj5T8=",
          "dtype": "f8"
         },
         "yaxis": "y"
        },
        {
         "hovertemplate": "Party=%{x}<br>Correct=%{y}<br>Percent=%{text}<extra></extra>",
         "legendgroup": "average",
         "marker": {
          "color": "#808080",
          "pattern": {
           "shape": ""
          }
         },
         "name": "average",
         "orientation": "v",
         "showlegend": true,
         "text": [
          "64.9%"
         ],
         "textposition": "auto",
         "type": "bar",
         "x": [
          "average"
         ],
         "xaxis": "x",
         "y": {
          "bdata": "RSoh01rB5D8=",
          "dtype": "f8"
         },
         "yaxis": "y"
        },
        {
         "hovertemplate": "Party=%{x}<br>Correct=%{y}<br>Percent=%{text}<extra></extra>",
         "legendgroup": "Union",
         "marker": {
          "color": "#000000",
          "pattern": {
           "shape": ""
          }
         },
         "name": "Union",
         "orientation": "v",
         "showlegend": true,
         "text": [
          "60.6%"
         ],
         "textposition": "auto",
         "type": "bar",
         "x": [
          "Union"
         ],
         "xaxis": "x",
         "y": {
          "bdata": "UxhnUxhn4z8=",
          "dtype": "f8"
         },
         "yaxis": "y"
        },
        {
         "hovertemplate": "Party=%{x}<br>Correct=%{y}<br>Percent=%{text}<extra></extra>",
         "legendgroup": "SPD",
         "marker": {
          "color": "#E3000F",
          "pattern": {
           "shape": ""
          }
         },
         "name": "SPD",
         "orientation": "v",
         "showlegend": true,
         "text": [
          "60.2%"
         ],
         "textposition": "auto",
         "type": "bar",
         "x": [
          "SPD"
         ],
         "xaxis": "x",
         "y": {
          "bdata": "8wZC8wZC4z8=",
          "dtype": "f8"
         },
         "yaxis": "y"
        },
        {
         "hovertemplate": "Party=%{x}<br>Correct=%{y}<br>Percent=%{text}<extra></extra>",
         "legendgroup": "FDP",
         "marker": {
          "color": "#FFED00",
          "pattern": {
           "shape": ""
          }
         },
         "name": "FDP",
         "orientation": "v",
         "showlegend": true,
         "text": [
          "58.1%"
         ],
         "textposition": "auto",
         "type": "bar",
         "x": [
          "FDP"
         ],
         "xaxis": "x",
         "y": {
          "bdata": "mpmZmZmZ4j8=",
          "dtype": "f8"
         },
         "yaxis": "y"
        }
       ],
       "layout": {
        "bargap": 0.4,
        "barmode": "relative",
        "height": 600,
        "legend": {
         "title": {
          "text": "Party"
         },
         "tracegroupgap": 0
        },
        "margin": {
         "t": 60
        },
        "showlegend": false,
        "template": {
         "data": {
          "bar": [
           {
            "error_x": {
             "color": "#2a3f5f"
            },
            "error_y": {
             "color": "#2a3f5f"
            },
            "marker": {
             "line": {
              "color": "#E5ECF6",
              "width": 0.5
             },
             "pattern": {
              "fillmode": "overlay",
              "size": 10,
              "solidity": 0.2
             }
            },
            "type": "bar"
           }
          ],
          "barpolar": [
           {
            "marker": {
             "line": {
              "color": "#E5ECF6",
              "width": 0.5
             },
             "pattern": {
              "fillmode": "overlay",
              "size": 10,
              "solidity": 0.2
             }
            },
            "type": "barpolar"
           }
          ],
          "carpet": [
           {
            "aaxis": {
             "endlinecolor": "#2a3f5f",
             "gridcolor": "white",
             "linecolor": "white",
             "minorgridcolor": "white",
             "startlinecolor": "#2a3f5f"
            },
            "baxis": {
             "endlinecolor": "#2a3f5f",
             "gridcolor": "white",
             "linecolor": "white",
             "minorgridcolor": "white",
             "startlinecolor": "#2a3f5f"
            },
            "type": "carpet"
           }
          ],
          "choropleth": [
           {
            "colorbar": {
             "outlinewidth": 0,
             "ticks": ""
            },
            "type": "choropleth"
           }
          ],
          "contour": [
           {
            "colorbar": {
             "outlinewidth": 0,
             "ticks": ""
            },
            "colorscale": [
             [
              0,
              "#0d0887"
             ],
             [
              0.1111111111111111,
              "#46039f"
             ],
             [
              0.2222222222222222,
              "#7201a8"
             ],
             [
              0.3333333333333333,
              "#9c179e"
             ],
             [
              0.4444444444444444,
              "#bd3786"
             ],
             [
              0.5555555555555556,
              "#d8576b"
             ],
             [
              0.6666666666666666,
              "#ed7953"
             ],
             [
              0.7777777777777778,
              "#fb9f3a"
             ],
             [
              0.8888888888888888,
              "#fdca26"
             ],
             [
              1,
              "#f0f921"
             ]
            ],
            "type": "contour"
           }
          ],
          "contourcarpet": [
           {
            "colorbar": {
             "outlinewidth": 0,
             "ticks": ""
            },
            "type": "contourcarpet"
           }
          ],
          "heatmap": [
           {
            "colorbar": {
             "outlinewidth": 0,
             "ticks": ""
            },
            "colorscale": [
             [
              0,
              "#0d0887"
             ],
             [
              0.1111111111111111,
              "#46039f"
             ],
             [
              0.2222222222222222,
              "#7201a8"
             ],
             [
              0.3333333333333333,
              "#9c179e"
             ],
             [
              0.4444444444444444,
              "#bd3786"
             ],
             [
              0.5555555555555556,
              "#d8576b"
             ],
             [
              0.6666666666666666,
              "#ed7953"
             ],
             [
              0.7777777777777778,
              "#fb9f3a"
             ],
             [
              0.8888888888888888,
              "#fdca26"
             ],
             [
              1,
              "#f0f921"
             ]
            ],
            "type": "heatmap"
           }
          ],
          "histogram": [
           {
            "marker": {
             "pattern": {
              "fillmode": "overlay",
              "size": 10,
              "solidity": 0.2
             }
            },
            "type": "histogram"
           }
          ],
          "histogram2d": [
           {
            "colorbar": {
             "outlinewidth": 0,
             "ticks": ""
            },
            "colorscale": [
             [
              0,
              "#0d0887"
             ],
             [
              0.1111111111111111,
              "#46039f"
             ],
             [
              0.2222222222222222,
              "#7201a8"
             ],
             [
              0.3333333333333333,
              "#9c179e"
             ],
             [
              0.4444444444444444,
              "#bd3786"
             ],
             [
              0.5555555555555556,
              "#d8576b"
             ],
             [
              0.6666666666666666,
              "#ed7953"
             ],
             [
              0.7777777777777778,
              "#fb9f3a"
             ],
             [
              0.8888888888888888,
              "#fdca26"
             ],
             [
              1,
              "#f0f921"
             ]
            ],
            "type": "histogram2d"
           }
          ],
          "histogram2dcontour": [
           {
            "colorbar": {
             "outlinewidth": 0,
             "ticks": ""
            },
            "colorscale": [
             [
              0,
              "#0d0887"
             ],
             [
              0.1111111111111111,
              "#46039f"
             ],
             [
              0.2222222222222222,
              "#7201a8"
             ],
             [
              0.3333333333333333,
              "#9c179e"
             ],
             [
              0.4444444444444444,
              "#bd3786"
             ],
             [
              0.5555555555555556,
              "#d8576b"
             ],
             [
              0.6666666666666666,
              "#ed7953"
             ],
             [
              0.7777777777777778,
              "#fb9f3a"
             ],
             [
              0.8888888888888888,
              "#fdca26"
             ],
             [
              1,
              "#f0f921"
             ]
            ],
            "type": "histogram2dcontour"
           }
          ],
          "mesh3d": [
           {
            "colorbar": {
             "outlinewidth": 0,
             "ticks": ""
            },
            "type": "mesh3d"
           }
          ],
          "parcoords": [
           {
            "line": {
             "colorbar": {
              "outlinewidth": 0,
              "ticks": ""
             }
            },
            "type": "parcoords"
           }
          ],
          "pie": [
           {
            "automargin": true,
            "type": "pie"
           }
          ],
          "scatter": [
           {
            "fillpattern": {
             "fillmode": "overlay",
             "size": 10,
             "solidity": 0.2
            },
            "type": "scatter"
           }
          ],
          "scatter3d": [
           {
            "line": {
             "colorbar": {
              "outlinewidth": 0,
              "ticks": ""
             }
            },
            "marker": {
             "colorbar": {
              "outlinewidth": 0,
              "ticks": ""
             }
            },
            "type": "scatter3d"
           }
          ],
          "scattercarpet": [
           {
            "marker": {
             "colorbar": {
              "outlinewidth": 0,
              "ticks": ""
             }
            },
            "type": "scattercarpet"
           }
          ],
          "scattergeo": [
           {
            "marker": {
             "colorbar": {
              "outlinewidth": 0,
              "ticks": ""
             }
            },
            "type": "scattergeo"
           }
          ],
          "scattergl": [
           {
            "marker": {
             "colorbar": {
              "outlinewidth": 0,
              "ticks": ""
             }
            },
            "type": "scattergl"
           }
          ],
          "scattermap": [
           {
            "marker": {
             "colorbar": {
              "outlinewidth": 0,
              "ticks": ""
             }
            },
            "type": "scattermap"
           }
          ],
          "scattermapbox": [
           {
            "marker": {
             "colorbar": {
              "outlinewidth": 0,
              "ticks": ""
             }
            },
            "type": "scattermapbox"
           }
          ],
          "scatterpolar": [
           {
            "marker": {
             "colorbar": {
              "outlinewidth": 0,
              "ticks": ""
             }
            },
            "type": "scatterpolar"
           }
          ],
          "scatterpolargl": [
           {
            "marker": {
             "colorbar": {
              "outlinewidth": 0,
              "ticks": ""
             }
            },
            "type": "scatterpolargl"
           }
          ],
          "scatterternary": [
           {
            "marker": {
             "colorbar": {
              "outlinewidth": 0,
              "ticks": ""
             }
            },
            "type": "scatterternary"
           }
          ],
          "surface": [
           {
            "colorbar": {
             "outlinewidth": 0,
             "ticks": ""
            },
            "colorscale": [
             [
              0,
              "#0d0887"
             ],
             [
              0.1111111111111111,
              "#46039f"
             ],
             [
              0.2222222222222222,
              "#7201a8"
             ],
             [
              0.3333333333333333,
              "#9c179e"
             ],
             [
              0.4444444444444444,
              "#bd3786"
             ],
             [
              0.5555555555555556,
              "#d8576b"
             ],
             [
              0.6666666666666666,
              "#ed7953"
             ],
             [
              0.7777777777777778,
              "#fb9f3a"
             ],
             [
              0.8888888888888888,
              "#fdca26"
             ],
             [
              1,
              "#f0f921"
             ]
            ],
            "type": "surface"
           }
          ],
          "table": [
           {
            "cells": {
             "fill": {
              "color": "#EBF0F8"
             },
             "line": {
              "color": "white"
             }
            },
            "header": {
             "fill": {
              "color": "#C8D4E3"
             },
             "line": {
              "color": "white"
             }
            },
            "type": "table"
           }
          ]
         },
         "layout": {
          "annotationdefaults": {
           "arrowcolor": "#2a3f5f",
           "arrowhead": 0,
           "arrowwidth": 1
          },
          "autotypenumbers": "strict",
          "coloraxis": {
           "colorbar": {
            "outlinewidth": 0,
            "ticks": ""
           }
          },
          "colorscale": {
           "diverging": [
            [
             0,
             "#8e0152"
            ],
            [
             0.1,
             "#c51b7d"
            ],
            [
             0.2,
             "#de77ae"
            ],
            [
             0.3,
             "#f1b6da"
            ],
            [
             0.4,
             "#fde0ef"
            ],
            [
             0.5,
             "#f7f7f7"
            ],
            [
             0.6,
             "#e6f5d0"
            ],
            [
             0.7,
             "#b8e186"
            ],
            [
             0.8,
             "#7fbc41"
            ],
            [
             0.9,
             "#4d9221"
            ],
            [
             1,
             "#276419"
            ]
           ],
           "sequential": [
            [
             0,
             "#0d0887"
            ],
            [
             0.1111111111111111,
             "#46039f"
            ],
            [
             0.2222222222222222,
             "#7201a8"
            ],
            [
             0.3333333333333333,
             "#9c179e"
            ],
            [
             0.4444444444444444,
             "#bd3786"
            ],
            [
             0.5555555555555556,
             "#d8576b"
            ],
            [
             0.6666666666666666,
             "#ed7953"
            ],
            [
             0.7777777777777778,
             "#fb9f3a"
            ],
            [
             0.8888888888888888,
             "#fdca26"
            ],
            [
             1,
             "#f0f921"
            ]
           ],
           "sequentialminus": [
            [
             0,
             "#0d0887"
            ],
            [
             0.1111111111111111,
             "#46039f"
            ],
            [
             0.2222222222222222,
             "#7201a8"
            ],
            [
             0.3333333333333333,
             "#9c179e"
            ],
            [
             0.4444444444444444,
             "#bd3786"
            ],
            [
             0.5555555555555556,
             "#d8576b"
            ],
            [
             0.6666666666666666,
             "#ed7953"
            ],
            [
             0.7777777777777778,
             "#fb9f3a"
            ],
            [
             0.8888888888888888,
             "#fdca26"
            ],
            [
             1,
             "#f0f921"
            ]
           ]
          },
          "colorway": [
           "#636efa",
           "#EF553B",
           "#00cc96",
           "#ab63fa",
           "#FFA15A",
           "#19d3f3",
           "#FF6692",
           "#B6E880",
           "#FF97FF",
           "#FECB52"
          ],
          "font": {
           "color": "#2a3f5f"
          },
          "geo": {
           "bgcolor": "white",
           "lakecolor": "white",
           "landcolor": "#E5ECF6",
           "showlakes": true,
           "showland": true,
           "subunitcolor": "white"
          },
          "hoverlabel": {
           "align": "left"
          },
          "hovermode": "closest",
          "mapbox": {
           "style": "light"
          },
          "paper_bgcolor": "white",
          "plot_bgcolor": "#E5ECF6",
          "polar": {
           "angularaxis": {
            "gridcolor": "white",
            "linecolor": "white",
            "ticks": ""
           },
           "bgcolor": "#E5ECF6",
           "radialaxis": {
            "gridcolor": "white",
            "linecolor": "white",
            "ticks": ""
           }
          },
          "scene": {
           "xaxis": {
            "backgroundcolor": "#E5ECF6",
            "gridcolor": "white",
            "gridwidth": 2,
            "linecolor": "white",
            "showbackground": true,
            "ticks": "",
            "zerolinecolor": "white"
           },
           "yaxis": {
            "backgroundcolor": "#E5ECF6",
            "gridcolor": "white",
            "gridwidth": 2,
            "linecolor": "white",
            "showbackground": true,
            "ticks": "",
            "zerolinecolor": "white"
           },
           "zaxis": {
            "backgroundcolor": "#E5ECF6",
            "gridcolor": "white",
            "gridwidth": 2,
            "linecolor": "white",
            "showbackground": true,
            "ticks": "",
            "zerolinecolor": "white"
           }
          },
          "shapedefaults": {
           "line": {
            "color": "#2a3f5f"
           }
          },
          "ternary": {
           "aaxis": {
            "gridcolor": "white",
            "linecolor": "white",
            "ticks": ""
           },
           "baxis": {
            "gridcolor": "white",
            "linecolor": "white",
            "ticks": ""
           },
           "bgcolor": "#E5ECF6",
           "caxis": {
            "gridcolor": "white",
            "linecolor": "white",
            "ticks": ""
           }
          },
          "title": {
           "x": 0.05
          },
          "xaxis": {
           "automargin": true,
           "gridcolor": "white",
           "linecolor": "white",
           "ticks": "",
           "title": {
            "standoff": 15
           },
           "zerolinecolor": "white",
           "zerolinewidth": 2
          },
          "yaxis": {
           "automargin": true,
           "gridcolor": "white",
           "linecolor": "white",
           "ticks": "",
           "title": {
            "standoff": 15
           },
           "zerolinecolor": "white",
           "zerolinewidth": 2
          }
         }
        },
        "title": {
         "text": "Political Consistency by Party"
        },
        "width": 1600,
        "xaxis": {
         "anchor": "y",
         "categoryarray": [
          "AfD",
          "DIE_LINKE",
          "DIE_GRÜNEN",
          "average",
          "Union",
          "SPD",
          "FDP"
         ],
         "categoryorder": "array",
         "domain": [
          0,
          1
         ],
         "title": {
          "text": "Party"
         }
        },
        "yaxis": {
         "anchor": "x",
         "domain": [
          0,
          1
         ],
         "title": {
          "text": "Prozent"
         }
        }
       }
      }
     },
     "metadata": {},
     "output_type": "display_data"
    }
   ],
   "source": [
    "party_line_correct_plot_data = predictions.groupby(\"party\")[\"vote_correct\"].mean()\n",
    "party_line_correct_plot_data[\"average\"] = predictions[\"vote_correct\"].mean()\n",
    "\n",
    "\n",
    "df = party_line_correct_plot_data.reset_index().sort_values(by='vote_correct', ascending=False)\n",
    "df.columns = ['Party', 'Correct']\n",
    "df['Percent'] = (df['Correct'] * 100).round(1).astype(str) + '%'\n",
    "color_map = {\n",
    "    'DIE_LINKE': '#BE3075',\n",
    "    'AfD': '#00A2DE',\n",
    "    'Union': '#000000',\n",
    "    'FDP': '#FFED00',\n",
    "    'DIE_GRÜNEN': '#409A3C',\n",
    "    'SPD': '#E3000F',\n",
    "    'average': '#808080'\n",
    "}\n",
    "\n",
    "fig = px.bar(\n",
    "    df,\n",
    "    x='Party',\n",
    "    y='Correct',\n",
    "    color='Party',\n",
    "    color_discrete_map=color_map,\n",
    "    text='Percent'\n",
    ")\n",
    "\n",
    "fig.update_layout(\n",
    "    xaxis_title='Party',\n",
    "    yaxis_title='Prozent',\n",
    "    showlegend=False,\n",
    "    title='Political Consistency by Party',\n",
    "    bargap=0.4,\n",
    "    height=600,\n",
    "    width=1600\n",
    ")\n",
    "\n",
    "\n",
    "fig.show()\n"
   ]
  },
  {
   "cell_type": "code",
   "execution_count": 6,
   "id": "9e5093fa",
   "metadata": {},
   "outputs": [
    {
     "data": {
      "application/vnd.plotly.v1+json": {
       "config": {
        "plotlyServerURL": "https://plot.ly"
       },
       "data": [
        {
         "hoverinfo": "none",
         "line": {
          "color": "#000000"
         },
         "mode": "lines",
         "showlegend": false,
         "type": "scatter",
         "x": [
          0.45714285714285713,
          0.6754966887417219
         ],
         "y": [
          "Union",
          "Union"
         ]
        },
        {
         "hoverinfo": "none",
         "line": {
          "color": "#FFED00"
         },
         "mode": "lines",
         "showlegend": false,
         "type": "scatter",
         "x": [
          0.5540540540540541,
          0.6046511627906976
         ],
         "y": [
          "FDP",
          "FDP"
         ]
        },
        {
         "hoverinfo": "none",
         "line": {
          "color": "#E3000F"
         },
         "mode": "lines",
         "showlegend": false,
         "type": "scatter",
         "x": [
          0.625,
          0.6
         ],
         "y": [
          "SPD",
          "SPD"
         ]
        },
        {
         "hoverinfo": "none",
         "line": {
          "color": "#409A3C"
         },
         "mode": "lines",
         "showlegend": false,
         "type": "scatter",
         "x": [
          0.6622516556291391,
          0.6571428571428571
         ],
         "y": [
          "DIE_GRÜNEN",
          "DIE_GRÜNEN"
         ]
        },
        {
         "hovertemplate": "Partei: %{y}<br>Regierung: %{x:.1%}<extra></extra>",
         "marker": {
          "color": [
           "#000000",
           "#FFED00",
           "#E3000F",
           "#409A3C"
          ],
          "size": 10,
          "symbol": "circle"
         },
         "mode": "markers",
         "name": "Government",
         "type": "scatter",
         "x": {
          "bdata": "rXZWO6ud5T/WlDVlTVnjPzMzMzMzM+M/dVAHdVAH5T8=",
          "dtype": "f8"
         },
         "y": [
          "Union",
          "FDP",
          "SPD",
          "DIE_GRÜNEN"
         ]
        },
        {
         "hovertemplate": "Partei: %{y}<br>Opposition: %{x:.1%}<extra></extra>",
         "marker": {
          "color": [
           "#000000",
           "#FFED00",
           "#E3000F",
           "#409A3C"
          ],
          "size": 10,
          "symbol": "circle-open"
         },
         "mode": "markers",
         "name": "Opposition",
         "type": "scatter",
         "x": {
          "bdata": "HdRBHdRB3T+tG0yRz7rhPwAAAAAAAOQ/qsRUYiox5T8=",
          "dtype": "f8"
         },
         "y": [
          "Union",
          "FDP",
          "SPD",
          "DIE_GRÜNEN"
         ]
        }
       ],
       "layout": {
        "legend": {
         "orientation": "h",
         "x": 1,
         "xanchor": "right",
         "y": 1.02,
         "yanchor": "bottom"
        },
        "margin": {
         "b": 50,
         "l": 150,
         "r": 50,
         "t": 100
        },
        "template": {
         "data": {
          "bar": [
           {
            "error_x": {
             "color": "#2a3f5f"
            },
            "error_y": {
             "color": "#2a3f5f"
            },
            "marker": {
             "line": {
              "color": "#E5ECF6",
              "width": 0.5
             },
             "pattern": {
              "fillmode": "overlay",
              "size": 10,
              "solidity": 0.2
             }
            },
            "type": "bar"
           }
          ],
          "barpolar": [
           {
            "marker": {
             "line": {
              "color": "#E5ECF6",
              "width": 0.5
             },
             "pattern": {
              "fillmode": "overlay",
              "size": 10,
              "solidity": 0.2
             }
            },
            "type": "barpolar"
           }
          ],
          "carpet": [
           {
            "aaxis": {
             "endlinecolor": "#2a3f5f",
             "gridcolor": "white",
             "linecolor": "white",
             "minorgridcolor": "white",
             "startlinecolor": "#2a3f5f"
            },
            "baxis": {
             "endlinecolor": "#2a3f5f",
             "gridcolor": "white",
             "linecolor": "white",
             "minorgridcolor": "white",
             "startlinecolor": "#2a3f5f"
            },
            "type": "carpet"
           }
          ],
          "choropleth": [
           {
            "colorbar": {
             "outlinewidth": 0,
             "ticks": ""
            },
            "type": "choropleth"
           }
          ],
          "contour": [
           {
            "colorbar": {
             "outlinewidth": 0,
             "ticks": ""
            },
            "colorscale": [
             [
              0,
              "#0d0887"
             ],
             [
              0.1111111111111111,
              "#46039f"
             ],
             [
              0.2222222222222222,
              "#7201a8"
             ],
             [
              0.3333333333333333,
              "#9c179e"
             ],
             [
              0.4444444444444444,
              "#bd3786"
             ],
             [
              0.5555555555555556,
              "#d8576b"
             ],
             [
              0.6666666666666666,
              "#ed7953"
             ],
             [
              0.7777777777777778,
              "#fb9f3a"
             ],
             [
              0.8888888888888888,
              "#fdca26"
             ],
             [
              1,
              "#f0f921"
             ]
            ],
            "type": "contour"
           }
          ],
          "contourcarpet": [
           {
            "colorbar": {
             "outlinewidth": 0,
             "ticks": ""
            },
            "type": "contourcarpet"
           }
          ],
          "heatmap": [
           {
            "colorbar": {
             "outlinewidth": 0,
             "ticks": ""
            },
            "colorscale": [
             [
              0,
              "#0d0887"
             ],
             [
              0.1111111111111111,
              "#46039f"
             ],
             [
              0.2222222222222222,
              "#7201a8"
             ],
             [
              0.3333333333333333,
              "#9c179e"
             ],
             [
              0.4444444444444444,
              "#bd3786"
             ],
             [
              0.5555555555555556,
              "#d8576b"
             ],
             [
              0.6666666666666666,
              "#ed7953"
             ],
             [
              0.7777777777777778,
              "#fb9f3a"
             ],
             [
              0.8888888888888888,
              "#fdca26"
             ],
             [
              1,
              "#f0f921"
             ]
            ],
            "type": "heatmap"
           }
          ],
          "histogram": [
           {
            "marker": {
             "pattern": {
              "fillmode": "overlay",
              "size": 10,
              "solidity": 0.2
             }
            },
            "type": "histogram"
           }
          ],
          "histogram2d": [
           {
            "colorbar": {
             "outlinewidth": 0,
             "ticks": ""
            },
            "colorscale": [
             [
              0,
              "#0d0887"
             ],
             [
              0.1111111111111111,
              "#46039f"
             ],
             [
              0.2222222222222222,
              "#7201a8"
             ],
             [
              0.3333333333333333,
              "#9c179e"
             ],
             [
              0.4444444444444444,
              "#bd3786"
             ],
             [
              0.5555555555555556,
              "#d8576b"
             ],
             [
              0.6666666666666666,
              "#ed7953"
             ],
             [
              0.7777777777777778,
              "#fb9f3a"
             ],
             [
              0.8888888888888888,
              "#fdca26"
             ],
             [
              1,
              "#f0f921"
             ]
            ],
            "type": "histogram2d"
           }
          ],
          "histogram2dcontour": [
           {
            "colorbar": {
             "outlinewidth": 0,
             "ticks": ""
            },
            "colorscale": [
             [
              0,
              "#0d0887"
             ],
             [
              0.1111111111111111,
              "#46039f"
             ],
             [
              0.2222222222222222,
              "#7201a8"
             ],
             [
              0.3333333333333333,
              "#9c179e"
             ],
             [
              0.4444444444444444,
              "#bd3786"
             ],
             [
              0.5555555555555556,
              "#d8576b"
             ],
             [
              0.6666666666666666,
              "#ed7953"
             ],
             [
              0.7777777777777778,
              "#fb9f3a"
             ],
             [
              0.8888888888888888,
              "#fdca26"
             ],
             [
              1,
              "#f0f921"
             ]
            ],
            "type": "histogram2dcontour"
           }
          ],
          "mesh3d": [
           {
            "colorbar": {
             "outlinewidth": 0,
             "ticks": ""
            },
            "type": "mesh3d"
           }
          ],
          "parcoords": [
           {
            "line": {
             "colorbar": {
              "outlinewidth": 0,
              "ticks": ""
             }
            },
            "type": "parcoords"
           }
          ],
          "pie": [
           {
            "automargin": true,
            "type": "pie"
           }
          ],
          "scatter": [
           {
            "fillpattern": {
             "fillmode": "overlay",
             "size": 10,
             "solidity": 0.2
            },
            "type": "scatter"
           }
          ],
          "scatter3d": [
           {
            "line": {
             "colorbar": {
              "outlinewidth": 0,
              "ticks": ""
             }
            },
            "marker": {
             "colorbar": {
              "outlinewidth": 0,
              "ticks": ""
             }
            },
            "type": "scatter3d"
           }
          ],
          "scattercarpet": [
           {
            "marker": {
             "colorbar": {
              "outlinewidth": 0,
              "ticks": ""
             }
            },
            "type": "scattercarpet"
           }
          ],
          "scattergeo": [
           {
            "marker": {
             "colorbar": {
              "outlinewidth": 0,
              "ticks": ""
             }
            },
            "type": "scattergeo"
           }
          ],
          "scattergl": [
           {
            "marker": {
             "colorbar": {
              "outlinewidth": 0,
              "ticks": ""
             }
            },
            "type": "scattergl"
           }
          ],
          "scattermap": [
           {
            "marker": {
             "colorbar": {
              "outlinewidth": 0,
              "ticks": ""
             }
            },
            "type": "scattermap"
           }
          ],
          "scattermapbox": [
           {
            "marker": {
             "colorbar": {
              "outlinewidth": 0,
              "ticks": ""
             }
            },
            "type": "scattermapbox"
           }
          ],
          "scatterpolar": [
           {
            "marker": {
             "colorbar": {
              "outlinewidth": 0,
              "ticks": ""
             }
            },
            "type": "scatterpolar"
           }
          ],
          "scatterpolargl": [
           {
            "marker": {
             "colorbar": {
              "outlinewidth": 0,
              "ticks": ""
             }
            },
            "type": "scatterpolargl"
           }
          ],
          "scatterternary": [
           {
            "marker": {
             "colorbar": {
              "outlinewidth": 0,
              "ticks": ""
             }
            },
            "type": "scatterternary"
           }
          ],
          "surface": [
           {
            "colorbar": {
             "outlinewidth": 0,
             "ticks": ""
            },
            "colorscale": [
             [
              0,
              "#0d0887"
             ],
             [
              0.1111111111111111,
              "#46039f"
             ],
             [
              0.2222222222222222,
              "#7201a8"
             ],
             [
              0.3333333333333333,
              "#9c179e"
             ],
             [
              0.4444444444444444,
              "#bd3786"
             ],
             [
              0.5555555555555556,
              "#d8576b"
             ],
             [
              0.6666666666666666,
              "#ed7953"
             ],
             [
              0.7777777777777778,
              "#fb9f3a"
             ],
             [
              0.8888888888888888,
              "#fdca26"
             ],
             [
              1,
              "#f0f921"
             ]
            ],
            "type": "surface"
           }
          ],
          "table": [
           {
            "cells": {
             "fill": {
              "color": "#EBF0F8"
             },
             "line": {
              "color": "white"
             }
            },
            "header": {
             "fill": {
              "color": "#C8D4E3"
             },
             "line": {
              "color": "white"
             }
            },
            "type": "table"
           }
          ]
         },
         "layout": {
          "annotationdefaults": {
           "arrowcolor": "#2a3f5f",
           "arrowhead": 0,
           "arrowwidth": 1
          },
          "autotypenumbers": "strict",
          "coloraxis": {
           "colorbar": {
            "outlinewidth": 0,
            "ticks": ""
           }
          },
          "colorscale": {
           "diverging": [
            [
             0,
             "#8e0152"
            ],
            [
             0.1,
             "#c51b7d"
            ],
            [
             0.2,
             "#de77ae"
            ],
            [
             0.3,
             "#f1b6da"
            ],
            [
             0.4,
             "#fde0ef"
            ],
            [
             0.5,
             "#f7f7f7"
            ],
            [
             0.6,
             "#e6f5d0"
            ],
            [
             0.7,
             "#b8e186"
            ],
            [
             0.8,
             "#7fbc41"
            ],
            [
             0.9,
             "#4d9221"
            ],
            [
             1,
             "#276419"
            ]
           ],
           "sequential": [
            [
             0,
             "#0d0887"
            ],
            [
             0.1111111111111111,
             "#46039f"
            ],
            [
             0.2222222222222222,
             "#7201a8"
            ],
            [
             0.3333333333333333,
             "#9c179e"
            ],
            [
             0.4444444444444444,
             "#bd3786"
            ],
            [
             0.5555555555555556,
             "#d8576b"
            ],
            [
             0.6666666666666666,
             "#ed7953"
            ],
            [
             0.7777777777777778,
             "#fb9f3a"
            ],
            [
             0.8888888888888888,
             "#fdca26"
            ],
            [
             1,
             "#f0f921"
            ]
           ],
           "sequentialminus": [
            [
             0,
             "#0d0887"
            ],
            [
             0.1111111111111111,
             "#46039f"
            ],
            [
             0.2222222222222222,
             "#7201a8"
            ],
            [
             0.3333333333333333,
             "#9c179e"
            ],
            [
             0.4444444444444444,
             "#bd3786"
            ],
            [
             0.5555555555555556,
             "#d8576b"
            ],
            [
             0.6666666666666666,
             "#ed7953"
            ],
            [
             0.7777777777777778,
             "#fb9f3a"
            ],
            [
             0.8888888888888888,
             "#fdca26"
            ],
            [
             1,
             "#f0f921"
            ]
           ]
          },
          "colorway": [
           "#636efa",
           "#EF553B",
           "#00cc96",
           "#ab63fa",
           "#FFA15A",
           "#19d3f3",
           "#FF6692",
           "#B6E880",
           "#FF97FF",
           "#FECB52"
          ],
          "font": {
           "color": "#2a3f5f"
          },
          "geo": {
           "bgcolor": "white",
           "lakecolor": "white",
           "landcolor": "#E5ECF6",
           "showlakes": true,
           "showland": true,
           "subunitcolor": "white"
          },
          "hoverlabel": {
           "align": "left"
          },
          "hovermode": "closest",
          "mapbox": {
           "style": "light"
          },
          "paper_bgcolor": "white",
          "plot_bgcolor": "#E5ECF6",
          "polar": {
           "angularaxis": {
            "gridcolor": "white",
            "linecolor": "white",
            "ticks": ""
           },
           "bgcolor": "#E5ECF6",
           "radialaxis": {
            "gridcolor": "white",
            "linecolor": "white",
            "ticks": ""
           }
          },
          "scene": {
           "xaxis": {
            "backgroundcolor": "#E5ECF6",
            "gridcolor": "white",
            "gridwidth": 2,
            "linecolor": "white",
            "showbackground": true,
            "ticks": "",
            "zerolinecolor": "white"
           },
           "yaxis": {
            "backgroundcolor": "#E5ECF6",
            "gridcolor": "white",
            "gridwidth": 2,
            "linecolor": "white",
            "showbackground": true,
            "ticks": "",
            "zerolinecolor": "white"
           },
           "zaxis": {
            "backgroundcolor": "#E5ECF6",
            "gridcolor": "white",
            "gridwidth": 2,
            "linecolor": "white",
            "showbackground": true,
            "ticks": "",
            "zerolinecolor": "white"
           }
          },
          "shapedefaults": {
           "line": {
            "color": "#2a3f5f"
           }
          },
          "ternary": {
           "aaxis": {
            "gridcolor": "white",
            "linecolor": "white",
            "ticks": ""
           },
           "baxis": {
            "gridcolor": "white",
            "linecolor": "white",
            "ticks": ""
           },
           "bgcolor": "#E5ECF6",
           "caxis": {
            "gridcolor": "white",
            "linecolor": "white",
            "ticks": ""
           }
          },
          "title": {
           "x": 0.05
          },
          "xaxis": {
           "automargin": true,
           "gridcolor": "white",
           "linecolor": "white",
           "ticks": "",
           "title": {
            "standoff": 15
           },
           "zerolinecolor": "white",
           "zerolinewidth": 2
          },
          "yaxis": {
           "automargin": true,
           "gridcolor": "white",
           "linecolor": "white",
           "ticks": "",
           "title": {
            "standoff": 15
           },
           "zerolinecolor": "white",
           "zerolinewidth": 2
          }
         }
        },
        "title": {
         "text": "Government vs. Opposition by Party"
        },
        "xaxis": {
         "tickformat": ".0%",
         "title": {
          "text": "Manifesto Consistency"
         }
        },
        "yaxis": {
         "title": {
          "text": "Partei"
         }
        }
       }
      }
     },
     "metadata": {},
     "output_type": "display_data"
    }
   ],
   "source": [
    "import pandas as pd\n",
    "import plotly.graph_objects as go\n",
    "\n",
    "color_map = {\n",
    "    'DIE_LINKE': '#BE3075',\n",
    "    'AfD':       '#00A2DE',\n",
    "    'Union':     '#000000',\n",
    "    'FDP':       '#FFED00',\n",
    "    'DIE_GRÜNEN':'#409A3C',\n",
    "    'SPD':       '#E3000F'\n",
    "}\n",
    "\n",
    "grouped = (\n",
    "    predictions\n",
    "    .groupby(['party', 'is_governing'], as_index=False)['vote_correct']\n",
    "    .mean()\n",
    ")\n",
    "grouped = grouped[~grouped[\"party\"].isin([\"AfD\", \"DIE_LINKE\"])]\n",
    "diffs = grouped.pivot(index='party', columns='is_governing', values='vote_correct')\n",
    "diffs['gap'] = (diffs[True] - diffs[False]).abs()\n",
    "ordered_parties = diffs.sort_values('gap', ascending=False).index.tolist()\n",
    "\n",
    "fig = go.Figure()\n",
    "\n",
    "for party in ordered_parties:\n",
    "    x_vals = [diffs.loc[party, False], diffs.loc[party, True]]\n",
    "    fig.add_trace(go.Scatter(\n",
    "        x=x_vals,\n",
    "        y=[party, party],\n",
    "        mode='lines',\n",
    "        line=dict(color=color_map[party]),\n",
    "        showlegend=False,\n",
    "        hoverinfo='none'\n",
    "    ))\n",
    "\n",
    "fig.add_trace(go.Scatter(\n",
    "    x=diffs[True].reindex(ordered_parties),\n",
    "    y=ordered_parties,\n",
    "    mode='markers',\n",
    "    name='Government',\n",
    "    marker=dict(symbol='circle', size=10, color=[color_map[p] for p in ordered_parties]),\n",
    "    hovertemplate='Partei: %{y}<br>Regierung: %{x:.1%}<extra></extra>'\n",
    "))\n",
    "\n",
    "fig.add_trace(go.Scatter(\n",
    "    x=diffs[False].reindex(ordered_parties),\n",
    "    y=ordered_parties,\n",
    "    mode='markers',\n",
    "    name='Opposition',\n",
    "    marker=dict(symbol='circle-open', size=10, color=[color_map[p] for p in ordered_parties]),\n",
    "    hovertemplate='Partei: %{y}<br>Opposition: %{x:.1%}<extra></extra>'\n",
    "))\n",
    "\n",
    "fig.update_layout(\n",
    "    title=\"Government vs. Opposition by Party\",\n",
    "    xaxis_title=\"Manifesto Consistency\",\n",
    "    yaxis_title=\"Partei\",\n",
    "    xaxis_tickformat=\".0%\",\n",
    "    legend=dict(orientation=\"h\", yanchor=\"bottom\", y=1.02, xanchor=\"right\", x=1),\n",
    "    margin=dict(l=150, r=50, t=100, b=50)\n",
    ")\n",
    "\n",
    "fig.show()\n"
   ]
  },
  {
   "cell_type": "code",
   "execution_count": 7,
   "id": "39459a15",
   "metadata": {},
   "outputs": [
    {
     "data": {
      "application/vnd.plotly.v1+json": {
       "config": {
        "plotlyServerURL": "https://plot.ly"
       },
       "data": [
        {
         "hovertemplate": "category=Digitalization & Modernization<br>Category=%{x}<br>Manifesto Consistency=%{y}<br>text=%{text}<extra></extra>",
         "legendgroup": "Digitalization & Modernization",
         "marker": {
          "color": "#636efa",
          "pattern": {
           "shape": ""
          }
         },
         "name": "Digitalization & Modernization",
         "orientation": "v",
         "showlegend": true,
         "text": [
          "53.57%"
         ],
         "textposition": "auto",
         "type": "bar",
         "x": [
          "Digitalization & Modernization"
         ],
         "xaxis": "x",
         "y": {
          "bdata": "SZIkSZIk4T8=",
          "dtype": "f8"
         },
         "yaxis": "y"
        },
        {
         "hovertemplate": "category=Education, Family & Youth<br>Category=%{x}<br>Manifesto Consistency=%{y}<br>text=%{text}<extra></extra>",
         "legendgroup": "Education, Family & Youth",
         "marker": {
          "color": "#EF553B",
          "pattern": {
           "shape": ""
          }
         },
         "name": "Education, Family & Youth",
         "orientation": "v",
         "showlegend": true,
         "text": [
          "55.56%"
         ],
         "textposition": "auto",
         "type": "bar",
         "x": [
          "Education, Family & Youth"
         ],
         "xaxis": "x",
         "y": {
          "bdata": "chzHcRzH4T8=",
          "dtype": "f8"
         },
         "yaxis": "y"
        },
        {
         "hovertemplate": "category=Justice & Consumer Protection<br>Category=%{x}<br>Manifesto Consistency=%{y}<br>text=%{text}<extra></extra>",
         "legendgroup": "Justice & Consumer Protection",
         "marker": {
          "color": "#00cc96",
          "pattern": {
           "shape": ""
          }
         },
         "name": "Justice & Consumer Protection",
         "orientation": "v",
         "showlegend": true,
         "text": [
          "56.76%"
         ],
         "textposition": "auto",
         "type": "bar",
         "x": [
          "Justice & Consumer Protection"
         ],
         "xaxis": "x",
         "y": {
          "bdata": "mCKfdYMp4j8=",
          "dtype": "f8"
         },
         "yaxis": "y"
        },
        {
         "hovertemplate": "category=Finance<br>Category=%{x}<br>Manifesto Consistency=%{y}<br>text=%{text}<extra></extra>",
         "legendgroup": "Finance",
         "marker": {
          "color": "#ab63fa",
          "pattern": {
           "shape": ""
          }
         },
         "name": "Finance",
         "orientation": "v",
         "showlegend": true,
         "text": [
          "59.11%"
         ],
         "textposition": "auto",
         "type": "bar",
         "x": [
          "Finance"
         ],
         "xaxis": "x",
         "y": {
          "bdata": "QMhQ2WHq4j8=",
          "dtype": "f8"
         },
         "yaxis": "y"
        },
        {
         "hovertemplate": "category=Defense & Security<br>Category=%{x}<br>Manifesto Consistency=%{y}<br>text=%{text}<extra></extra>",
         "legendgroup": "Defense & Security",
         "marker": {
          "color": "#FFA15A",
          "pattern": {
           "shape": ""
          }
         },
         "name": "Defense & Security",
         "orientation": "v",
         "showlegend": true,
         "text": [
          "63.33%"
         ],
         "textposition": "auto",
         "type": "bar",
         "x": [
          "Defense & Security"
         ],
         "xaxis": "x",
         "y": {
          "bdata": "RERERERE5D8=",
          "dtype": "f8"
         },
         "yaxis": "y"
        },
        {
         "hovertemplate": "category=Economy & Energy<br>Category=%{x}<br>Manifesto Consistency=%{y}<br>text=%{text}<extra></extra>",
         "legendgroup": "Economy & Energy",
         "marker": {
          "color": "#19d3f3",
          "pattern": {
           "shape": ""
          }
         },
         "name": "Economy & Energy",
         "orientation": "v",
         "showlegend": true,
         "text": [
          "64.00%"
         ],
         "textposition": "auto",
         "type": "bar",
         "x": [
          "Economy & Energy"
         ],
         "xaxis": "x",
         "y": {
          "bdata": "exSuR+F65D8=",
          "dtype": "f8"
         },
         "yaxis": "y"
        },
        {
         "hovertemplate": "category=Transport & Infrastructure<br>Category=%{x}<br>Manifesto Consistency=%{y}<br>text=%{text}<extra></extra>",
         "legendgroup": "Transport & Infrastructure",
         "marker": {
          "color": "#FF6692",
          "pattern": {
           "shape": ""
          }
         },
         "name": "Transport & Infrastructure",
         "orientation": "v",
         "showlegend": true,
         "text": [
          "66.67%"
         ],
         "textposition": "auto",
         "type": "bar",
         "x": [
          "Transport & Infrastructure"
         ],
         "xaxis": "x",
         "y": {
          "bdata": "VVVVVVVV5T8=",
          "dtype": "f8"
         },
         "yaxis": "y"
        },
        {
         "hovertemplate": "category=Health<br>Category=%{x}<br>Manifesto Consistency=%{y}<br>text=%{text}<extra></extra>",
         "legendgroup": "Health",
         "marker": {
          "color": "#B6E880",
          "pattern": {
           "shape": ""
          }
         },
         "name": "Health",
         "orientation": "v",
         "showlegend": true,
         "text": [
          "67.13%"
         ],
         "textposition": "auto",
         "type": "bar",
         "x": [
          "Health"
         ],
         "xaxis": "x",
         "y": {
          "bdata": "LSkHRIZ75T8=",
          "dtype": "f8"
         },
         "yaxis": "y"
        },
        {
         "hovertemplate": "category=Environment, Climate & Nature Conservation<br>Category=%{x}<br>Manifesto Consistency=%{y}<br>text=%{text}<extra></extra>",
         "legendgroup": "Environment, Climate & Nature Conservation",
         "marker": {
          "color": "#FF97FF",
          "pattern": {
           "shape": ""
          }
         },
         "name": "Environment, Climate & Nature Conservation",
         "orientation": "v",
         "showlegend": true,
         "text": [
          "67.48%"
         ],
         "textposition": "auto",
         "type": "bar",
         "x": [
          "Environment, Climate & Nature Conservation"
         ],
         "xaxis": "x",
         "y": {
          "bdata": "mPV+We+X5T8=",
          "dtype": "f8"
         },
         "yaxis": "y"
        },
        {
         "hovertemplate": "category=Internal Affairs & Migration<br>Category=%{x}<br>Manifesto Consistency=%{y}<br>text=%{text}<extra></extra>",
         "legendgroup": "Internal Affairs & Migration",
         "marker": {
          "color": "#FECB52",
          "pattern": {
           "shape": ""
          }
         },
         "name": "Internal Affairs & Migration",
         "orientation": "v",
         "showlegend": true,
         "text": [
          "70.11%"
         ],
         "textposition": "auto",
         "type": "bar",
         "x": [
          "Internal Affairs & Migration"
         ],
         "xaxis": "x",
         "y": {
          "bdata": "D/1m69Bv5j8=",
          "dtype": "f8"
         },
         "yaxis": "y"
        },
        {
         "hovertemplate": "category=Labor & Social Affairs<br>Category=%{x}<br>Manifesto Consistency=%{y}<br>text=%{text}<extra></extra>",
         "legendgroup": "Labor & Social Affairs",
         "marker": {
          "color": "#636efa",
          "pattern": {
           "shape": ""
          }
         },
         "name": "Labor & Social Affairs",
         "orientation": "v",
         "showlegend": true,
         "text": [
          "74.53%"
         ],
         "textposition": "auto",
         "type": "bar",
         "x": [
          "Labor & Social Affairs"
         ],
         "xaxis": "x",
         "y": {
          "bdata": "DqkJxlvZ5z8=",
          "dtype": "f8"
         },
         "yaxis": "y"
        },
        {
         "hovertemplate": "category=Agriculture & Food<br>Category=%{x}<br>Manifesto Consistency=%{y}<br>text=%{text}<extra></extra>",
         "legendgroup": "Agriculture & Food",
         "marker": {
          "color": "#EF553B",
          "pattern": {
           "shape": ""
          }
         },
         "name": "Agriculture & Food",
         "orientation": "v",
         "showlegend": true,
         "text": [
          "75.00%"
         ],
         "textposition": "auto",
         "type": "bar",
         "x": [
          "Agriculture & Food"
         ],
         "xaxis": "x",
         "y": {
          "bdata": "AAAAAAAA6D8=",
          "dtype": "f8"
         },
         "yaxis": "y"
        },
        {
         "hovertemplate": "category=Research & Technology<br>Category=%{x}<br>Manifesto Consistency=%{y}<br>text=%{text}<extra></extra>",
         "legendgroup": "Research & Technology",
         "marker": {
          "color": "#00cc96",
          "pattern": {
           "shape": ""
          }
         },
         "name": "Research & Technology",
         "orientation": "v",
         "showlegend": true,
         "text": [
          "75.00%"
         ],
         "textposition": "auto",
         "type": "bar",
         "x": [
          "Research & Technology"
         ],
         "xaxis": "x",
         "y": {
          "bdata": "AAAAAAAA6D8=",
          "dtype": "f8"
         },
         "yaxis": "y"
        },
        {
         "hovertemplate": "category=Foreign Policy & European Affairs<br>Category=%{x}<br>Manifesto Consistency=%{y}<br>text=%{text}<extra></extra>",
         "legendgroup": "Foreign Policy & European Affairs",
         "marker": {
          "color": "#ab63fa",
          "pattern": {
           "shape": ""
          }
         },
         "name": "Foreign Policy & European Affairs",
         "orientation": "v",
         "showlegend": true,
         "text": [
          "81.82%"
         ],
         "textposition": "auto",
         "type": "bar",
         "x": [
          "Foreign Policy & European Affairs"
         ],
         "xaxis": "x",
         "y": {
          "bdata": "L7rooosu6j8=",
          "dtype": "f8"
         },
         "yaxis": "y"
        },
        {
         "hovertemplate": "category=Development Cooperation<br>Category=%{x}<br>Manifesto Consistency=%{y}<br>text=%{text}<extra></extra>",
         "legendgroup": "Development Cooperation",
         "marker": {
          "color": "#FFA15A",
          "pattern": {
           "shape": ""
          }
         },
         "name": "Development Cooperation",
         "orientation": "v",
         "showlegend": true,
         "text": [
          "100.00%"
         ],
         "textposition": "auto",
         "type": "bar",
         "x": [
          "Development Cooperation"
         ],
         "xaxis": "x",
         "y": {
          "bdata": "AAAAAAAA8D8=",
          "dtype": "f8"
         },
         "yaxis": "y"
        },
        {
         "hovertemplate": "category=Housing & Urban Development<br>Category=%{x}<br>Manifesto Consistency=%{y}<br>text=%{text}<extra></extra>",
         "legendgroup": "Housing & Urban Development",
         "marker": {
          "color": "#19d3f3",
          "pattern": {
           "shape": ""
          }
         },
         "name": "Housing & Urban Development",
         "orientation": "v",
         "showlegend": true,
         "text": [
          "100.00%"
         ],
         "textposition": "auto",
         "type": "bar",
         "x": [
          "Housing & Urban Development"
         ],
         "xaxis": "x",
         "y": {
          "bdata": "AAAAAAAA8D8=",
          "dtype": "f8"
         },
         "yaxis": "y"
        }
       ],
       "layout": {
        "barmode": "relative",
        "height": 800,
        "legend": {
         "title": {
          "text": "category"
         },
         "tracegroupgap": 0
        },
        "showlegend": false,
        "template": {
         "data": {
          "bar": [
           {
            "error_x": {
             "color": "#2a3f5f"
            },
            "error_y": {
             "color": "#2a3f5f"
            },
            "marker": {
             "line": {
              "color": "#E5ECF6",
              "width": 0.5
             },
             "pattern": {
              "fillmode": "overlay",
              "size": 10,
              "solidity": 0.2
             }
            },
            "type": "bar"
           }
          ],
          "barpolar": [
           {
            "marker": {
             "line": {
              "color": "#E5ECF6",
              "width": 0.5
             },
             "pattern": {
              "fillmode": "overlay",
              "size": 10,
              "solidity": 0.2
             }
            },
            "type": "barpolar"
           }
          ],
          "carpet": [
           {
            "aaxis": {
             "endlinecolor": "#2a3f5f",
             "gridcolor": "white",
             "linecolor": "white",
             "minorgridcolor": "white",
             "startlinecolor": "#2a3f5f"
            },
            "baxis": {
             "endlinecolor": "#2a3f5f",
             "gridcolor": "white",
             "linecolor": "white",
             "minorgridcolor": "white",
             "startlinecolor": "#2a3f5f"
            },
            "type": "carpet"
           }
          ],
          "choropleth": [
           {
            "colorbar": {
             "outlinewidth": 0,
             "ticks": ""
            },
            "type": "choropleth"
           }
          ],
          "contour": [
           {
            "colorbar": {
             "outlinewidth": 0,
             "ticks": ""
            },
            "colorscale": [
             [
              0,
              "#0d0887"
             ],
             [
              0.1111111111111111,
              "#46039f"
             ],
             [
              0.2222222222222222,
              "#7201a8"
             ],
             [
              0.3333333333333333,
              "#9c179e"
             ],
             [
              0.4444444444444444,
              "#bd3786"
             ],
             [
              0.5555555555555556,
              "#d8576b"
             ],
             [
              0.6666666666666666,
              "#ed7953"
             ],
             [
              0.7777777777777778,
              "#fb9f3a"
             ],
             [
              0.8888888888888888,
              "#fdca26"
             ],
             [
              1,
              "#f0f921"
             ]
            ],
            "type": "contour"
           }
          ],
          "contourcarpet": [
           {
            "colorbar": {
             "outlinewidth": 0,
             "ticks": ""
            },
            "type": "contourcarpet"
           }
          ],
          "heatmap": [
           {
            "colorbar": {
             "outlinewidth": 0,
             "ticks": ""
            },
            "colorscale": [
             [
              0,
              "#0d0887"
             ],
             [
              0.1111111111111111,
              "#46039f"
             ],
             [
              0.2222222222222222,
              "#7201a8"
             ],
             [
              0.3333333333333333,
              "#9c179e"
             ],
             [
              0.4444444444444444,
              "#bd3786"
             ],
             [
              0.5555555555555556,
              "#d8576b"
             ],
             [
              0.6666666666666666,
              "#ed7953"
             ],
             [
              0.7777777777777778,
              "#fb9f3a"
             ],
             [
              0.8888888888888888,
              "#fdca26"
             ],
             [
              1,
              "#f0f921"
             ]
            ],
            "type": "heatmap"
           }
          ],
          "histogram": [
           {
            "marker": {
             "pattern": {
              "fillmode": "overlay",
              "size": 10,
              "solidity": 0.2
             }
            },
            "type": "histogram"
           }
          ],
          "histogram2d": [
           {
            "colorbar": {
             "outlinewidth": 0,
             "ticks": ""
            },
            "colorscale": [
             [
              0,
              "#0d0887"
             ],
             [
              0.1111111111111111,
              "#46039f"
             ],
             [
              0.2222222222222222,
              "#7201a8"
             ],
             [
              0.3333333333333333,
              "#9c179e"
             ],
             [
              0.4444444444444444,
              "#bd3786"
             ],
             [
              0.5555555555555556,
              "#d8576b"
             ],
             [
              0.6666666666666666,
              "#ed7953"
             ],
             [
              0.7777777777777778,
              "#fb9f3a"
             ],
             [
              0.8888888888888888,
              "#fdca26"
             ],
             [
              1,
              "#f0f921"
             ]
            ],
            "type": "histogram2d"
           }
          ],
          "histogram2dcontour": [
           {
            "colorbar": {
             "outlinewidth": 0,
             "ticks": ""
            },
            "colorscale": [
             [
              0,
              "#0d0887"
             ],
             [
              0.1111111111111111,
              "#46039f"
             ],
             [
              0.2222222222222222,
              "#7201a8"
             ],
             [
              0.3333333333333333,
              "#9c179e"
             ],
             [
              0.4444444444444444,
              "#bd3786"
             ],
             [
              0.5555555555555556,
              "#d8576b"
             ],
             [
              0.6666666666666666,
              "#ed7953"
             ],
             [
              0.7777777777777778,
              "#fb9f3a"
             ],
             [
              0.8888888888888888,
              "#fdca26"
             ],
             [
              1,
              "#f0f921"
             ]
            ],
            "type": "histogram2dcontour"
           }
          ],
          "mesh3d": [
           {
            "colorbar": {
             "outlinewidth": 0,
             "ticks": ""
            },
            "type": "mesh3d"
           }
          ],
          "parcoords": [
           {
            "line": {
             "colorbar": {
              "outlinewidth": 0,
              "ticks": ""
             }
            },
            "type": "parcoords"
           }
          ],
          "pie": [
           {
            "automargin": true,
            "type": "pie"
           }
          ],
          "scatter": [
           {
            "fillpattern": {
             "fillmode": "overlay",
             "size": 10,
             "solidity": 0.2
            },
            "type": "scatter"
           }
          ],
          "scatter3d": [
           {
            "line": {
             "colorbar": {
              "outlinewidth": 0,
              "ticks": ""
             }
            },
            "marker": {
             "colorbar": {
              "outlinewidth": 0,
              "ticks": ""
             }
            },
            "type": "scatter3d"
           }
          ],
          "scattercarpet": [
           {
            "marker": {
             "colorbar": {
              "outlinewidth": 0,
              "ticks": ""
             }
            },
            "type": "scattercarpet"
           }
          ],
          "scattergeo": [
           {
            "marker": {
             "colorbar": {
              "outlinewidth": 0,
              "ticks": ""
             }
            },
            "type": "scattergeo"
           }
          ],
          "scattergl": [
           {
            "marker": {
             "colorbar": {
              "outlinewidth": 0,
              "ticks": ""
             }
            },
            "type": "scattergl"
           }
          ],
          "scattermap": [
           {
            "marker": {
             "colorbar": {
              "outlinewidth": 0,
              "ticks": ""
             }
            },
            "type": "scattermap"
           }
          ],
          "scattermapbox": [
           {
            "marker": {
             "colorbar": {
              "outlinewidth": 0,
              "ticks": ""
             }
            },
            "type": "scattermapbox"
           }
          ],
          "scatterpolar": [
           {
            "marker": {
             "colorbar": {
              "outlinewidth": 0,
              "ticks": ""
             }
            },
            "type": "scatterpolar"
           }
          ],
          "scatterpolargl": [
           {
            "marker": {
             "colorbar": {
              "outlinewidth": 0,
              "ticks": ""
             }
            },
            "type": "scatterpolargl"
           }
          ],
          "scatterternary": [
           {
            "marker": {
             "colorbar": {
              "outlinewidth": 0,
              "ticks": ""
             }
            },
            "type": "scatterternary"
           }
          ],
          "surface": [
           {
            "colorbar": {
             "outlinewidth": 0,
             "ticks": ""
            },
            "colorscale": [
             [
              0,
              "#0d0887"
             ],
             [
              0.1111111111111111,
              "#46039f"
             ],
             [
              0.2222222222222222,
              "#7201a8"
             ],
             [
              0.3333333333333333,
              "#9c179e"
             ],
             [
              0.4444444444444444,
              "#bd3786"
             ],
             [
              0.5555555555555556,
              "#d8576b"
             ],
             [
              0.6666666666666666,
              "#ed7953"
             ],
             [
              0.7777777777777778,
              "#fb9f3a"
             ],
             [
              0.8888888888888888,
              "#fdca26"
             ],
             [
              1,
              "#f0f921"
             ]
            ],
            "type": "surface"
           }
          ],
          "table": [
           {
            "cells": {
             "fill": {
              "color": "#EBF0F8"
             },
             "line": {
              "color": "white"
             }
            },
            "header": {
             "fill": {
              "color": "#C8D4E3"
             },
             "line": {
              "color": "white"
             }
            },
            "type": "table"
           }
          ]
         },
         "layout": {
          "annotationdefaults": {
           "arrowcolor": "#2a3f5f",
           "arrowhead": 0,
           "arrowwidth": 1
          },
          "autotypenumbers": "strict",
          "coloraxis": {
           "colorbar": {
            "outlinewidth": 0,
            "ticks": ""
           }
          },
          "colorscale": {
           "diverging": [
            [
             0,
             "#8e0152"
            ],
            [
             0.1,
             "#c51b7d"
            ],
            [
             0.2,
             "#de77ae"
            ],
            [
             0.3,
             "#f1b6da"
            ],
            [
             0.4,
             "#fde0ef"
            ],
            [
             0.5,
             "#f7f7f7"
            ],
            [
             0.6,
             "#e6f5d0"
            ],
            [
             0.7,
             "#b8e186"
            ],
            [
             0.8,
             "#7fbc41"
            ],
            [
             0.9,
             "#4d9221"
            ],
            [
             1,
             "#276419"
            ]
           ],
           "sequential": [
            [
             0,
             "#0d0887"
            ],
            [
             0.1111111111111111,
             "#46039f"
            ],
            [
             0.2222222222222222,
             "#7201a8"
            ],
            [
             0.3333333333333333,
             "#9c179e"
            ],
            [
             0.4444444444444444,
             "#bd3786"
            ],
            [
             0.5555555555555556,
             "#d8576b"
            ],
            [
             0.6666666666666666,
             "#ed7953"
            ],
            [
             0.7777777777777778,
             "#fb9f3a"
            ],
            [
             0.8888888888888888,
             "#fdca26"
            ],
            [
             1,
             "#f0f921"
            ]
           ],
           "sequentialminus": [
            [
             0,
             "#0d0887"
            ],
            [
             0.1111111111111111,
             "#46039f"
            ],
            [
             0.2222222222222222,
             "#7201a8"
            ],
            [
             0.3333333333333333,
             "#9c179e"
            ],
            [
             0.4444444444444444,
             "#bd3786"
            ],
            [
             0.5555555555555556,
             "#d8576b"
            ],
            [
             0.6666666666666666,
             "#ed7953"
            ],
            [
             0.7777777777777778,
             "#fb9f3a"
            ],
            [
             0.8888888888888888,
             "#fdca26"
            ],
            [
             1,
             "#f0f921"
            ]
           ]
          },
          "colorway": [
           "#636efa",
           "#EF553B",
           "#00cc96",
           "#ab63fa",
           "#FFA15A",
           "#19d3f3",
           "#FF6692",
           "#B6E880",
           "#FF97FF",
           "#FECB52"
          ],
          "font": {
           "color": "#2a3f5f"
          },
          "geo": {
           "bgcolor": "white",
           "lakecolor": "white",
           "landcolor": "#E5ECF6",
           "showlakes": true,
           "showland": true,
           "subunitcolor": "white"
          },
          "hoverlabel": {
           "align": "left"
          },
          "hovermode": "closest",
          "mapbox": {
           "style": "light"
          },
          "paper_bgcolor": "white",
          "plot_bgcolor": "#E5ECF6",
          "polar": {
           "angularaxis": {
            "gridcolor": "white",
            "linecolor": "white",
            "ticks": ""
           },
           "bgcolor": "#E5ECF6",
           "radialaxis": {
            "gridcolor": "white",
            "linecolor": "white",
            "ticks": ""
           }
          },
          "scene": {
           "xaxis": {
            "backgroundcolor": "#E5ECF6",
            "gridcolor": "white",
            "gridwidth": 2,
            "linecolor": "white",
            "showbackground": true,
            "ticks": "",
            "zerolinecolor": "white"
           },
           "yaxis": {
            "backgroundcolor": "#E5ECF6",
            "gridcolor": "white",
            "gridwidth": 2,
            "linecolor": "white",
            "showbackground": true,
            "ticks": "",
            "zerolinecolor": "white"
           },
           "zaxis": {
            "backgroundcolor": "#E5ECF6",
            "gridcolor": "white",
            "gridwidth": 2,
            "linecolor": "white",
            "showbackground": true,
            "ticks": "",
            "zerolinecolor": "white"
           }
          },
          "shapedefaults": {
           "line": {
            "color": "#2a3f5f"
           }
          },
          "ternary": {
           "aaxis": {
            "gridcolor": "white",
            "linecolor": "white",
            "ticks": ""
           },
           "baxis": {
            "gridcolor": "white",
            "linecolor": "white",
            "ticks": ""
           },
           "bgcolor": "#E5ECF6",
           "caxis": {
            "gridcolor": "white",
            "linecolor": "white",
            "ticks": ""
           }
          },
          "title": {
           "x": 0.05
          },
          "xaxis": {
           "automargin": true,
           "gridcolor": "white",
           "linecolor": "white",
           "ticks": "",
           "title": {
            "standoff": 15
           },
           "zerolinecolor": "white",
           "zerolinewidth": 2
          },
          "yaxis": {
           "automargin": true,
           "gridcolor": "white",
           "linecolor": "white",
           "ticks": "",
           "title": {
            "standoff": 15
           },
           "zerolinecolor": "white",
           "zerolinewidth": 2
          }
         }
        },
        "title": {
         "text": "Manifesto Consistency by Category"
        },
        "width": 1500,
        "xaxis": {
         "anchor": "y",
         "domain": [
          0,
          1
         ],
         "title": {
          "text": "Category"
         }
        },
        "yaxis": {
         "anchor": "x",
         "domain": [
          0,
          1
         ],
         "title": {
          "text": "Manifesto Consistency"
         }
        }
       }
      }
     },
     "metadata": {},
     "output_type": "display_data"
    }
   ],
   "source": [
    "\n",
    "by_category = predictions.groupby(\"category\")[\"vote_correct\"].mean().sort_values()\n",
    "\n",
    "fig = px.bar(\n",
    "    by_category,\n",
    "    x=[cat.split(\"-\")[0].strip() for cat in by_category.index],\n",
    "    y=by_category.values,\n",
    "    color=by_category.index,\n",
    "    text=[f\"{v:.2%}\" for v in by_category.values],\n",
    "    labels={\"x\": \"Category\", \"y\": \"Manifesto Consistency\"},\n",
    "    title=\"Manifesto Consistency by Category\",\n",
    "    height=800,\n",
    "    width=1500,\n",
    ")\n",
    "\n",
    "fig.update_layout(\n",
    "    xaxis_title=\"Category\",\n",
    "    yaxis_title=\"Manifesto Consistency\",\n",
    "    showlegend=False\n",
    ")\n",
    "\n",
    "fig.show()"
   ]
  },
  {
   "cell_type": "code",
   "execution_count": 8,
   "id": "617de3e8",
   "metadata": {},
   "outputs": [
    {
     "data": {
      "text/html": [
       "<div>\n",
       "<style scoped>\n",
       "    .dataframe tbody tr th:only-of-type {\n",
       "        vertical-align: middle;\n",
       "    }\n",
       "\n",
       "    .dataframe tbody tr th {\n",
       "        vertical-align: top;\n",
       "    }\n",
       "\n",
       "    .dataframe thead th {\n",
       "        text-align: right;\n",
       "    }\n",
       "</style>\n",
       "<table border=\"1\" class=\"dataframe\">\n",
       "  <thead>\n",
       "    <tr style=\"text-align: right;\">\n",
       "      <th></th>\n",
       "      <th>Party</th>\n",
       "      <th>Correct</th>\n",
       "      <th>Percent</th>\n",
       "    </tr>\n",
       "  </thead>\n",
       "  <tbody>\n",
       "    <tr>\n",
       "      <th>0</th>\n",
       "      <td>AfD</td>\n",
       "      <td>0.763889</td>\n",
       "      <td>76.4%</td>\n",
       "    </tr>\n",
       "    <tr>\n",
       "      <th>2</th>\n",
       "      <td>DIE_LINKE</td>\n",
       "      <td>0.700935</td>\n",
       "      <td>70.1%</td>\n",
       "    </tr>\n",
       "    <tr>\n",
       "      <th>1</th>\n",
       "      <td>DIE_GRÜNEN</td>\n",
       "      <td>0.660633</td>\n",
       "      <td>66.1%</td>\n",
       "    </tr>\n",
       "    <tr>\n",
       "      <th>6</th>\n",
       "      <td>average</td>\n",
       "      <td>0.648603</td>\n",
       "      <td>64.9%</td>\n",
       "    </tr>\n",
       "    <tr>\n",
       "      <th>5</th>\n",
       "      <td>Union</td>\n",
       "      <td>0.606335</td>\n",
       "      <td>60.6%</td>\n",
       "    </tr>\n",
       "    <tr>\n",
       "      <th>4</th>\n",
       "      <td>SPD</td>\n",
       "      <td>0.601810</td>\n",
       "      <td>60.2%</td>\n",
       "    </tr>\n",
       "    <tr>\n",
       "      <th>3</th>\n",
       "      <td>FDP</td>\n",
       "      <td>0.581250</td>\n",
       "      <td>58.1%</td>\n",
       "    </tr>\n",
       "  </tbody>\n",
       "</table>\n",
       "</div>"
      ],
      "text/plain": [
       "        Party   Correct Percent\n",
       "0         AfD  0.763889   76.4%\n",
       "2   DIE_LINKE  0.700935   70.1%\n",
       "1  DIE_GRÜNEN  0.660633   66.1%\n",
       "6     average  0.648603   64.9%\n",
       "5       Union  0.606335   60.6%\n",
       "4         SPD  0.601810   60.2%\n",
       "3         FDP  0.581250   58.1%"
      ]
     },
     "execution_count": 8,
     "metadata": {},
     "output_type": "execute_result"
    }
   ],
   "source": [
    "df"
   ]
  },
  {
   "cell_type": "code",
   "execution_count": 9,
   "id": "70a7367a",
   "metadata": {},
   "outputs": [
    {
     "data": {
      "application/vnd.plotly.v1+json": {
       "config": {
        "plotlyServerURL": "https://plot.ly"
       },
       "data": [
        {
         "hoverinfo": "none",
         "line": {
          "color": "lightgray"
         },
         "mode": "lines",
         "showlegend": false,
         "type": "scatter",
         "x": {
          "bdata": "Wp5EpmG76T+SJEmSJEniPw==",
          "dtype": "f8"
         },
         "y": [
          "Internal Affairs & Migration",
          "Internal Affairs & Migration"
         ]
        },
        {
         "hoverinfo": "none",
         "line": {
          "color": "lightgray"
         },
         "mode": "lines",
         "showlegend": false,
         "type": "scatter",
         "x": {
          "bdata": "ttZaa6215j900UUXXXTpPw==",
          "dtype": "f8"
         },
         "y": [
          "Labor & Social Affairs",
          "Labor & Social Affairs"
         ]
        },
        {
         "hoverinfo": "none",
         "line": {
          "color": "lightgray"
         },
         "mode": "lines",
         "showlegend": false,
         "type": "scatter",
         "x": {
          "bdata": "ObuFX42J5D+3bdu2bdvmPw==",
          "dtype": "f8"
         },
         "y": [
          "Environment, Climate & Nature Conservation",
          "Environment, Climate & Nature Conservation"
         ]
        },
        {
         "hoverinfo": "none",
         "line": {
          "color": "lightgray"
         },
         "mode": "lines",
         "showlegend": false,
         "type": "scatter",
         "x": {
          "bdata": "AAAAAACA4z8yDdvN8iTiPw==",
          "dtype": "f8"
         },
         "y": [
          "Finance",
          "Finance"
         ]
        },
        {
         "hoverinfo": "none",
         "line": {
          "color": "lightgray"
         },
         "mode": "lines",
         "showlegend": false,
         "type": "scatter",
         "x": {
          "bdata": "GG9ln0Nq4j+lI3sGotLhPw==",
          "dtype": "f8"
         },
         "y": [
          "Justice & Consumer Protection",
          "Justice & Consumer Protection"
         ]
        },
        {
         "hoverinfo": "none",
         "line": {
          "color": "lightgray"
         },
         "mode": "lines",
         "showlegend": false,
         "type": "scatter",
         "x": {
          "bdata": "VVVVVVVV5T/QcFL35bHlPw==",
          "dtype": "f8"
         },
         "y": [
          "Health",
          "Health"
         ]
        },
        {
         "marker": {
          "size": 10,
          "symbol": "circle"
         },
         "mode": "markers",
         "name": "Government",
         "type": "scatter",
         "x": {
          "bdata": "dNFFF1106T+3bdu2bdvmP9BwUvflseU/kiRJkiRJ4j8yDdvN8iTiP6Ujewai0uE/",
          "dtype": "f8"
         },
         "y": [
          "Labor & Social Affairs",
          "Environment, Climate & Nature Conservation",
          "Health",
          "Internal Affairs & Migration",
          "Finance",
          "Justice & Consumer Protection"
         ]
        },
        {
         "marker": {
          "size": 10,
          "symbol": "circle"
         },
         "mode": "markers",
         "name": "Opposition",
         "type": "scatter",
         "x": {
          "bdata": "Wp5EpmG76T+21lprrbXmP1VVVVVVVeU/ObuFX42J5D8AAAAAAIDjPxhvZZ9DauI/",
          "dtype": "f8"
         },
         "y": [
          "Internal Affairs & Migration",
          "Labor & Social Affairs",
          "Health",
          "Environment, Climate & Nature Conservation",
          "Finance",
          "Justice & Consumer Protection"
         ]
        }
       ],
       "layout": {
        "legend": {
         "orientation": "h",
         "x": 1,
         "xanchor": "right",
         "y": 1.02,
         "yanchor": "bottom"
        },
        "template": {
         "data": {
          "bar": [
           {
            "error_x": {
             "color": "#2a3f5f"
            },
            "error_y": {
             "color": "#2a3f5f"
            },
            "marker": {
             "line": {
              "color": "#E5ECF6",
              "width": 0.5
             },
             "pattern": {
              "fillmode": "overlay",
              "size": 10,
              "solidity": 0.2
             }
            },
            "type": "bar"
           }
          ],
          "barpolar": [
           {
            "marker": {
             "line": {
              "color": "#E5ECF6",
              "width": 0.5
             },
             "pattern": {
              "fillmode": "overlay",
              "size": 10,
              "solidity": 0.2
             }
            },
            "type": "barpolar"
           }
          ],
          "carpet": [
           {
            "aaxis": {
             "endlinecolor": "#2a3f5f",
             "gridcolor": "white",
             "linecolor": "white",
             "minorgridcolor": "white",
             "startlinecolor": "#2a3f5f"
            },
            "baxis": {
             "endlinecolor": "#2a3f5f",
             "gridcolor": "white",
             "linecolor": "white",
             "minorgridcolor": "white",
             "startlinecolor": "#2a3f5f"
            },
            "type": "carpet"
           }
          ],
          "choropleth": [
           {
            "colorbar": {
             "outlinewidth": 0,
             "ticks": ""
            },
            "type": "choropleth"
           }
          ],
          "contour": [
           {
            "colorbar": {
             "outlinewidth": 0,
             "ticks": ""
            },
            "colorscale": [
             [
              0,
              "#0d0887"
             ],
             [
              0.1111111111111111,
              "#46039f"
             ],
             [
              0.2222222222222222,
              "#7201a8"
             ],
             [
              0.3333333333333333,
              "#9c179e"
             ],
             [
              0.4444444444444444,
              "#bd3786"
             ],
             [
              0.5555555555555556,
              "#d8576b"
             ],
             [
              0.6666666666666666,
              "#ed7953"
             ],
             [
              0.7777777777777778,
              "#fb9f3a"
             ],
             [
              0.8888888888888888,
              "#fdca26"
             ],
             [
              1,
              "#f0f921"
             ]
            ],
            "type": "contour"
           }
          ],
          "contourcarpet": [
           {
            "colorbar": {
             "outlinewidth": 0,
             "ticks": ""
            },
            "type": "contourcarpet"
           }
          ],
          "heatmap": [
           {
            "colorbar": {
             "outlinewidth": 0,
             "ticks": ""
            },
            "colorscale": [
             [
              0,
              "#0d0887"
             ],
             [
              0.1111111111111111,
              "#46039f"
             ],
             [
              0.2222222222222222,
              "#7201a8"
             ],
             [
              0.3333333333333333,
              "#9c179e"
             ],
             [
              0.4444444444444444,
              "#bd3786"
             ],
             [
              0.5555555555555556,
              "#d8576b"
             ],
             [
              0.6666666666666666,
              "#ed7953"
             ],
             [
              0.7777777777777778,
              "#fb9f3a"
             ],
             [
              0.8888888888888888,
              "#fdca26"
             ],
             [
              1,
              "#f0f921"
             ]
            ],
            "type": "heatmap"
           }
          ],
          "histogram": [
           {
            "marker": {
             "pattern": {
              "fillmode": "overlay",
              "size": 10,
              "solidity": 0.2
             }
            },
            "type": "histogram"
           }
          ],
          "histogram2d": [
           {
            "colorbar": {
             "outlinewidth": 0,
             "ticks": ""
            },
            "colorscale": [
             [
              0,
              "#0d0887"
             ],
             [
              0.1111111111111111,
              "#46039f"
             ],
             [
              0.2222222222222222,
              "#7201a8"
             ],
             [
              0.3333333333333333,
              "#9c179e"
             ],
             [
              0.4444444444444444,
              "#bd3786"
             ],
             [
              0.5555555555555556,
              "#d8576b"
             ],
             [
              0.6666666666666666,
              "#ed7953"
             ],
             [
              0.7777777777777778,
              "#fb9f3a"
             ],
             [
              0.8888888888888888,
              "#fdca26"
             ],
             [
              1,
              "#f0f921"
             ]
            ],
            "type": "histogram2d"
           }
          ],
          "histogram2dcontour": [
           {
            "colorbar": {
             "outlinewidth": 0,
             "ticks": ""
            },
            "colorscale": [
             [
              0,
              "#0d0887"
             ],
             [
              0.1111111111111111,
              "#46039f"
             ],
             [
              0.2222222222222222,
              "#7201a8"
             ],
             [
              0.3333333333333333,
              "#9c179e"
             ],
             [
              0.4444444444444444,
              "#bd3786"
             ],
             [
              0.5555555555555556,
              "#d8576b"
             ],
             [
              0.6666666666666666,
              "#ed7953"
             ],
             [
              0.7777777777777778,
              "#fb9f3a"
             ],
             [
              0.8888888888888888,
              "#fdca26"
             ],
             [
              1,
              "#f0f921"
             ]
            ],
            "type": "histogram2dcontour"
           }
          ],
          "mesh3d": [
           {
            "colorbar": {
             "outlinewidth": 0,
             "ticks": ""
            },
            "type": "mesh3d"
           }
          ],
          "parcoords": [
           {
            "line": {
             "colorbar": {
              "outlinewidth": 0,
              "ticks": ""
             }
            },
            "type": "parcoords"
           }
          ],
          "pie": [
           {
            "automargin": true,
            "type": "pie"
           }
          ],
          "scatter": [
           {
            "fillpattern": {
             "fillmode": "overlay",
             "size": 10,
             "solidity": 0.2
            },
            "type": "scatter"
           }
          ],
          "scatter3d": [
           {
            "line": {
             "colorbar": {
              "outlinewidth": 0,
              "ticks": ""
             }
            },
            "marker": {
             "colorbar": {
              "outlinewidth": 0,
              "ticks": ""
             }
            },
            "type": "scatter3d"
           }
          ],
          "scattercarpet": [
           {
            "marker": {
             "colorbar": {
              "outlinewidth": 0,
              "ticks": ""
             }
            },
            "type": "scattercarpet"
           }
          ],
          "scattergeo": [
           {
            "marker": {
             "colorbar": {
              "outlinewidth": 0,
              "ticks": ""
             }
            },
            "type": "scattergeo"
           }
          ],
          "scattergl": [
           {
            "marker": {
             "colorbar": {
              "outlinewidth": 0,
              "ticks": ""
             }
            },
            "type": "scattergl"
           }
          ],
          "scattermap": [
           {
            "marker": {
             "colorbar": {
              "outlinewidth": 0,
              "ticks": ""
             }
            },
            "type": "scattermap"
           }
          ],
          "scattermapbox": [
           {
            "marker": {
             "colorbar": {
              "outlinewidth": 0,
              "ticks": ""
             }
            },
            "type": "scattermapbox"
           }
          ],
          "scatterpolar": [
           {
            "marker": {
             "colorbar": {
              "outlinewidth": 0,
              "ticks": ""
             }
            },
            "type": "scatterpolar"
           }
          ],
          "scatterpolargl": [
           {
            "marker": {
             "colorbar": {
              "outlinewidth": 0,
              "ticks": ""
             }
            },
            "type": "scatterpolargl"
           }
          ],
          "scatterternary": [
           {
            "marker": {
             "colorbar": {
              "outlinewidth": 0,
              "ticks": ""
             }
            },
            "type": "scatterternary"
           }
          ],
          "surface": [
           {
            "colorbar": {
             "outlinewidth": 0,
             "ticks": ""
            },
            "colorscale": [
             [
              0,
              "#0d0887"
             ],
             [
              0.1111111111111111,
              "#46039f"
             ],
             [
              0.2222222222222222,
              "#7201a8"
             ],
             [
              0.3333333333333333,
              "#9c179e"
             ],
             [
              0.4444444444444444,
              "#bd3786"
             ],
             [
              0.5555555555555556,
              "#d8576b"
             ],
             [
              0.6666666666666666,
              "#ed7953"
             ],
             [
              0.7777777777777778,
              "#fb9f3a"
             ],
             [
              0.8888888888888888,
              "#fdca26"
             ],
             [
              1,
              "#f0f921"
             ]
            ],
            "type": "surface"
           }
          ],
          "table": [
           {
            "cells": {
             "fill": {
              "color": "#EBF0F8"
             },
             "line": {
              "color": "white"
             }
            },
            "header": {
             "fill": {
              "color": "#C8D4E3"
             },
             "line": {
              "color": "white"
             }
            },
            "type": "table"
           }
          ]
         },
         "layout": {
          "annotationdefaults": {
           "arrowcolor": "#2a3f5f",
           "arrowhead": 0,
           "arrowwidth": 1
          },
          "autotypenumbers": "strict",
          "coloraxis": {
           "colorbar": {
            "outlinewidth": 0,
            "ticks": ""
           }
          },
          "colorscale": {
           "diverging": [
            [
             0,
             "#8e0152"
            ],
            [
             0.1,
             "#c51b7d"
            ],
            [
             0.2,
             "#de77ae"
            ],
            [
             0.3,
             "#f1b6da"
            ],
            [
             0.4,
             "#fde0ef"
            ],
            [
             0.5,
             "#f7f7f7"
            ],
            [
             0.6,
             "#e6f5d0"
            ],
            [
             0.7,
             "#b8e186"
            ],
            [
             0.8,
             "#7fbc41"
            ],
            [
             0.9,
             "#4d9221"
            ],
            [
             1,
             "#276419"
            ]
           ],
           "sequential": [
            [
             0,
             "#0d0887"
            ],
            [
             0.1111111111111111,
             "#46039f"
            ],
            [
             0.2222222222222222,
             "#7201a8"
            ],
            [
             0.3333333333333333,
             "#9c179e"
            ],
            [
             0.4444444444444444,
             "#bd3786"
            ],
            [
             0.5555555555555556,
             "#d8576b"
            ],
            [
             0.6666666666666666,
             "#ed7953"
            ],
            [
             0.7777777777777778,
             "#fb9f3a"
            ],
            [
             0.8888888888888888,
             "#fdca26"
            ],
            [
             1,
             "#f0f921"
            ]
           ],
           "sequentialminus": [
            [
             0,
             "#0d0887"
            ],
            [
             0.1111111111111111,
             "#46039f"
            ],
            [
             0.2222222222222222,
             "#7201a8"
            ],
            [
             0.3333333333333333,
             "#9c179e"
            ],
            [
             0.4444444444444444,
             "#bd3786"
            ],
            [
             0.5555555555555556,
             "#d8576b"
            ],
            [
             0.6666666666666666,
             "#ed7953"
            ],
            [
             0.7777777777777778,
             "#fb9f3a"
            ],
            [
             0.8888888888888888,
             "#fdca26"
            ],
            [
             1,
             "#f0f921"
            ]
           ]
          },
          "colorway": [
           "#636efa",
           "#EF553B",
           "#00cc96",
           "#ab63fa",
           "#FFA15A",
           "#19d3f3",
           "#FF6692",
           "#B6E880",
           "#FF97FF",
           "#FECB52"
          ],
          "font": {
           "color": "#2a3f5f"
          },
          "geo": {
           "bgcolor": "white",
           "lakecolor": "white",
           "landcolor": "#E5ECF6",
           "showlakes": true,
           "showland": true,
           "subunitcolor": "white"
          },
          "hoverlabel": {
           "align": "left"
          },
          "hovermode": "closest",
          "mapbox": {
           "style": "light"
          },
          "paper_bgcolor": "white",
          "plot_bgcolor": "#E5ECF6",
          "polar": {
           "angularaxis": {
            "gridcolor": "white",
            "linecolor": "white",
            "ticks": ""
           },
           "bgcolor": "#E5ECF6",
           "radialaxis": {
            "gridcolor": "white",
            "linecolor": "white",
            "ticks": ""
           }
          },
          "scene": {
           "xaxis": {
            "backgroundcolor": "#E5ECF6",
            "gridcolor": "white",
            "gridwidth": 2,
            "linecolor": "white",
            "showbackground": true,
            "ticks": "",
            "zerolinecolor": "white"
           },
           "yaxis": {
            "backgroundcolor": "#E5ECF6",
            "gridcolor": "white",
            "gridwidth": 2,
            "linecolor": "white",
            "showbackground": true,
            "ticks": "",
            "zerolinecolor": "white"
           },
           "zaxis": {
            "backgroundcolor": "#E5ECF6",
            "gridcolor": "white",
            "gridwidth": 2,
            "linecolor": "white",
            "showbackground": true,
            "ticks": "",
            "zerolinecolor": "white"
           }
          },
          "shapedefaults": {
           "line": {
            "color": "#2a3f5f"
           }
          },
          "ternary": {
           "aaxis": {
            "gridcolor": "white",
            "linecolor": "white",
            "ticks": ""
           },
           "baxis": {
            "gridcolor": "white",
            "linecolor": "white",
            "ticks": ""
           },
           "bgcolor": "#E5ECF6",
           "caxis": {
            "gridcolor": "white",
            "linecolor": "white",
            "ticks": ""
           }
          },
          "title": {
           "x": 0.05
          },
          "xaxis": {
           "automargin": true,
           "gridcolor": "white",
           "linecolor": "white",
           "ticks": "",
           "title": {
            "standoff": 15
           },
           "zerolinecolor": "white",
           "zerolinewidth": 2
          },
          "yaxis": {
           "automargin": true,
           "gridcolor": "white",
           "linecolor": "white",
           "ticks": "",
           "title": {
            "standoff": 15
           },
           "zerolinecolor": "white",
           "zerolinewidth": 2
          }
         }
        },
        "title": {
         "text": "Government vs. Opposition by Category"
        },
        "xaxis": {
         "title": {
          "text": "Manifesto Consistency"
         }
        },
        "yaxis": {
         "title": {
          "text": "Category"
         }
        }
       }
      }
     },
     "metadata": {},
     "output_type": "display_data"
    }
   ],
   "source": [
    "import plotly.graph_objects as go\n",
    "\n",
    "\n",
    "df = (\n",
    "    predictions.groupby([\"is_governing\", \"category\"])[\"vote_correct\"]\n",
    "    .mean()\n",
    "    .to_frame()\n",
    "    .reset_index()\n",
    "    .sort_values(by=[\"is_governing\", \"vote_correct\"], ascending=[True, False])\n",
    ")\n",
    "\n",
    "votes_per_category = predictions.groupby(\"category\")[\"vote_id\"].nunique()\n",
    "statistically_relevant = votes_per_category[votes_per_category > 10].index\n",
    "df = df[df[\"category\"].isin(statistically_relevant)]\n",
    "\n",
    "# assume df is your DataFrame\n",
    "# sort categories so the largest gaps stand out (optional)\n",
    "# you could sort by abs difference:\n",
    "diffs = df.pivot(index=\"category\", columns=\"is_governing\", values=\"vote_correct\")\n",
    "diffs[\"gap\"] = (diffs[True] - diffs[False]).abs()\n",
    "ordered_cats = diffs.sort_values(\"gap\", ascending=False).index.tolist()\n",
    "df[\"category\"] = pd.Categorical(df[\"category\"], categories=ordered_cats, ordered=True)\n",
    "\n",
    "fig = go.Figure()\n",
    "\n",
    "# add a line for each category\n",
    "for cat in ordered_cats:\n",
    "    sub = df[df[\"category\"] == cat]\n",
    "    fig.add_trace(\n",
    "        go.Scatter(\n",
    "            x=sub[\"vote_correct\"],\n",
    "            y=[cat, cat],\n",
    "            mode=\"lines\",\n",
    "            line=dict(color=\"lightgray\"),\n",
    "            showlegend=False,\n",
    "            hoverinfo=\"none\",\n",
    "        )\n",
    "    )\n",
    "\n",
    "# add the two sets of points\n",
    "fig.add_trace(\n",
    "    go.Scatter(\n",
    "        x=df[df[\"is_governing\"] == True][\"vote_correct\"],\n",
    "        y=df[df[\"is_governing\"] == True][\"category\"],\n",
    "        mode=\"markers\",\n",
    "        name=\"Government\",\n",
    "        marker=dict(symbol=\"circle\", size=10),\n",
    "    )\n",
    ")\n",
    "fig.add_trace(\n",
    "    go.Scatter(\n",
    "        x=df[df[\"is_governing\"] == False][\"vote_correct\"],\n",
    "        y=df[df[\"is_governing\"] == False][\"category\"],\n",
    "        mode=\"markers\",\n",
    "        name=\"Opposition\",\n",
    "        marker=dict(symbol=\"circle\", size=10),\n",
    "    )\n",
    ")\n",
    "\n",
    "fig.update_layout(\n",
    "    title=\"Government vs. Opposition by Category\",\n",
    "    xaxis_title=\"Manifesto Consistency\",\n",
    "    yaxis_title=\"Category\",\n",
    "    legend=dict(orientation=\"h\", yanchor=\"bottom\", y=1.02, xanchor=\"right\", x=1),\n",
    ")\n",
    "\n",
    "fig.show()\n"
   ]
  },
  {
   "cell_type": "code",
   "execution_count": 10,
   "id": "b0360318",
   "metadata": {},
   "outputs": [
    {
     "data": {
      "application/vnd.plotly.v1+json": {
       "config": {
        "plotlyServerURL": "https://plot.ly"
       },
       "data": [
        {
         "marker": {
          "color": [
           "#FFED00",
           "#000000"
          ]
         },
         "text": [
          "62%",
          "69%"
         ],
         "type": "bar",
         "x": [
          "FDP",
          "Union"
         ],
         "xaxis": "x",
         "y": {
          "bdata": "AAAAAAAA5D8AAAAAAADmPw==",
          "dtype": "f8"
         },
         "yaxis": "y"
        },
        {
         "marker": {
          "color": [
           "#E3000F",
           "#000000"
          ]
         },
         "text": [
          "46%",
          "72%"
         ],
         "type": "bar",
         "x": [
          "SPD",
          "Union"
         ],
         "xaxis": "x2",
         "y": {
          "bdata": "532KS4Zg3T8RrKPN+xTnPw==",
          "dtype": "f8"
         },
         "yaxis": "y2"
        },
        {
         "marker": {
          "color": [
           "#E3000F",
           "#000000"
          ]
         },
         "text": [
          "58%",
          "64%"
         ],
         "type": "bar",
         "x": [
          "SPD",
          "Union"
         ],
         "xaxis": "x3",
         "y": {
          "bdata": "gynyWTeY4j8wRT7rBlPkPw==",
          "dtype": "f8"
         },
         "yaxis": "y3"
        },
        {
         "marker": {
          "color": [
           "#409A3C",
           "#FFED00",
           "#E3000F"
          ]
         },
         "text": [
          "66%",
          "60%",
          "74%"
         ],
         "type": "bar",
         "x": [
          "DIE_GRÜNEN",
          "FDP",
          "SPD"
         ],
         "xaxis": "x4",
         "y": {
          "bdata": "dVAHdVAH5T8zMzMzMzPjP1h8xVd8xec/",
          "dtype": "f8"
         },
         "yaxis": "y4"
        }
       ],
       "layout": {
        "annotations": [
         {
          "font": {
           "size": 16
          },
          "showarrow": false,
          "text": "17",
          "x": 0.10625,
          "xanchor": "center",
          "xref": "paper",
          "y": 1,
          "yanchor": "bottom",
          "yref": "paper"
         },
         {
          "font": {
           "size": 16
          },
          "showarrow": false,
          "text": "18",
          "x": 0.36875,
          "xanchor": "center",
          "xref": "paper",
          "y": 1,
          "yanchor": "bottom",
          "yref": "paper"
         },
         {
          "font": {
           "size": 16
          },
          "showarrow": false,
          "text": "19",
          "x": 0.6312500000000001,
          "xanchor": "center",
          "xref": "paper",
          "y": 1,
          "yanchor": "bottom",
          "yref": "paper"
         },
         {
          "font": {
           "size": 16
          },
          "showarrow": false,
          "text": "20",
          "x": 0.89375,
          "xanchor": "center",
          "xref": "paper",
          "y": 1,
          "yanchor": "bottom",
          "yref": "paper"
         }
        ],
        "height": 400,
        "showlegend": false,
        "template": {
         "data": {
          "bar": [
           {
            "error_x": {
             "color": "#2a3f5f"
            },
            "error_y": {
             "color": "#2a3f5f"
            },
            "marker": {
             "line": {
              "color": "#E5ECF6",
              "width": 0.5
             },
             "pattern": {
              "fillmode": "overlay",
              "size": 10,
              "solidity": 0.2
             }
            },
            "type": "bar"
           }
          ],
          "barpolar": [
           {
            "marker": {
             "line": {
              "color": "#E5ECF6",
              "width": 0.5
             },
             "pattern": {
              "fillmode": "overlay",
              "size": 10,
              "solidity": 0.2
             }
            },
            "type": "barpolar"
           }
          ],
          "carpet": [
           {
            "aaxis": {
             "endlinecolor": "#2a3f5f",
             "gridcolor": "white",
             "linecolor": "white",
             "minorgridcolor": "white",
             "startlinecolor": "#2a3f5f"
            },
            "baxis": {
             "endlinecolor": "#2a3f5f",
             "gridcolor": "white",
             "linecolor": "white",
             "minorgridcolor": "white",
             "startlinecolor": "#2a3f5f"
            },
            "type": "carpet"
           }
          ],
          "choropleth": [
           {
            "colorbar": {
             "outlinewidth": 0,
             "ticks": ""
            },
            "type": "choropleth"
           }
          ],
          "contour": [
           {
            "colorbar": {
             "outlinewidth": 0,
             "ticks": ""
            },
            "colorscale": [
             [
              0,
              "#0d0887"
             ],
             [
              0.1111111111111111,
              "#46039f"
             ],
             [
              0.2222222222222222,
              "#7201a8"
             ],
             [
              0.3333333333333333,
              "#9c179e"
             ],
             [
              0.4444444444444444,
              "#bd3786"
             ],
             [
              0.5555555555555556,
              "#d8576b"
             ],
             [
              0.6666666666666666,
              "#ed7953"
             ],
             [
              0.7777777777777778,
              "#fb9f3a"
             ],
             [
              0.8888888888888888,
              "#fdca26"
             ],
             [
              1,
              "#f0f921"
             ]
            ],
            "type": "contour"
           }
          ],
          "contourcarpet": [
           {
            "colorbar": {
             "outlinewidth": 0,
             "ticks": ""
            },
            "type": "contourcarpet"
           }
          ],
          "heatmap": [
           {
            "colorbar": {
             "outlinewidth": 0,
             "ticks": ""
            },
            "colorscale": [
             [
              0,
              "#0d0887"
             ],
             [
              0.1111111111111111,
              "#46039f"
             ],
             [
              0.2222222222222222,
              "#7201a8"
             ],
             [
              0.3333333333333333,
              "#9c179e"
             ],
             [
              0.4444444444444444,
              "#bd3786"
             ],
             [
              0.5555555555555556,
              "#d8576b"
             ],
             [
              0.6666666666666666,
              "#ed7953"
             ],
             [
              0.7777777777777778,
              "#fb9f3a"
             ],
             [
              0.8888888888888888,
              "#fdca26"
             ],
             [
              1,
              "#f0f921"
             ]
            ],
            "type": "heatmap"
           }
          ],
          "histogram": [
           {
            "marker": {
             "pattern": {
              "fillmode": "overlay",
              "size": 10,
              "solidity": 0.2
             }
            },
            "type": "histogram"
           }
          ],
          "histogram2d": [
           {
            "colorbar": {
             "outlinewidth": 0,
             "ticks": ""
            },
            "colorscale": [
             [
              0,
              "#0d0887"
             ],
             [
              0.1111111111111111,
              "#46039f"
             ],
             [
              0.2222222222222222,
              "#7201a8"
             ],
             [
              0.3333333333333333,
              "#9c179e"
             ],
             [
              0.4444444444444444,
              "#bd3786"
             ],
             [
              0.5555555555555556,
              "#d8576b"
             ],
             [
              0.6666666666666666,
              "#ed7953"
             ],
             [
              0.7777777777777778,
              "#fb9f3a"
             ],
             [
              0.8888888888888888,
              "#fdca26"
             ],
             [
              1,
              "#f0f921"
             ]
            ],
            "type": "histogram2d"
           }
          ],
          "histogram2dcontour": [
           {
            "colorbar": {
             "outlinewidth": 0,
             "ticks": ""
            },
            "colorscale": [
             [
              0,
              "#0d0887"
             ],
             [
              0.1111111111111111,
              "#46039f"
             ],
             [
              0.2222222222222222,
              "#7201a8"
             ],
             [
              0.3333333333333333,
              "#9c179e"
             ],
             [
              0.4444444444444444,
              "#bd3786"
             ],
             [
              0.5555555555555556,
              "#d8576b"
             ],
             [
              0.6666666666666666,
              "#ed7953"
             ],
             [
              0.7777777777777778,
              "#fb9f3a"
             ],
             [
              0.8888888888888888,
              "#fdca26"
             ],
             [
              1,
              "#f0f921"
             ]
            ],
            "type": "histogram2dcontour"
           }
          ],
          "mesh3d": [
           {
            "colorbar": {
             "outlinewidth": 0,
             "ticks": ""
            },
            "type": "mesh3d"
           }
          ],
          "parcoords": [
           {
            "line": {
             "colorbar": {
              "outlinewidth": 0,
              "ticks": ""
             }
            },
            "type": "parcoords"
           }
          ],
          "pie": [
           {
            "automargin": true,
            "type": "pie"
           }
          ],
          "scatter": [
           {
            "fillpattern": {
             "fillmode": "overlay",
             "size": 10,
             "solidity": 0.2
            },
            "type": "scatter"
           }
          ],
          "scatter3d": [
           {
            "line": {
             "colorbar": {
              "outlinewidth": 0,
              "ticks": ""
             }
            },
            "marker": {
             "colorbar": {
              "outlinewidth": 0,
              "ticks": ""
             }
            },
            "type": "scatter3d"
           }
          ],
          "scattercarpet": [
           {
            "marker": {
             "colorbar": {
              "outlinewidth": 0,
              "ticks": ""
             }
            },
            "type": "scattercarpet"
           }
          ],
          "scattergeo": [
           {
            "marker": {
             "colorbar": {
              "outlinewidth": 0,
              "ticks": ""
             }
            },
            "type": "scattergeo"
           }
          ],
          "scattergl": [
           {
            "marker": {
             "colorbar": {
              "outlinewidth": 0,
              "ticks": ""
             }
            },
            "type": "scattergl"
           }
          ],
          "scattermap": [
           {
            "marker": {
             "colorbar": {
              "outlinewidth": 0,
              "ticks": ""
             }
            },
            "type": "scattermap"
           }
          ],
          "scattermapbox": [
           {
            "marker": {
             "colorbar": {
              "outlinewidth": 0,
              "ticks": ""
             }
            },
            "type": "scattermapbox"
           }
          ],
          "scatterpolar": [
           {
            "marker": {
             "colorbar": {
              "outlinewidth": 0,
              "ticks": ""
             }
            },
            "type": "scatterpolar"
           }
          ],
          "scatterpolargl": [
           {
            "marker": {
             "colorbar": {
              "outlinewidth": 0,
              "ticks": ""
             }
            },
            "type": "scatterpolargl"
           }
          ],
          "scatterternary": [
           {
            "marker": {
             "colorbar": {
              "outlinewidth": 0,
              "ticks": ""
             }
            },
            "type": "scatterternary"
           }
          ],
          "surface": [
           {
            "colorbar": {
             "outlinewidth": 0,
             "ticks": ""
            },
            "colorscale": [
             [
              0,
              "#0d0887"
             ],
             [
              0.1111111111111111,
              "#46039f"
             ],
             [
              0.2222222222222222,
              "#7201a8"
             ],
             [
              0.3333333333333333,
              "#9c179e"
             ],
             [
              0.4444444444444444,
              "#bd3786"
             ],
             [
              0.5555555555555556,
              "#d8576b"
             ],
             [
              0.6666666666666666,
              "#ed7953"
             ],
             [
              0.7777777777777778,
              "#fb9f3a"
             ],
             [
              0.8888888888888888,
              "#fdca26"
             ],
             [
              1,
              "#f0f921"
             ]
            ],
            "type": "surface"
           }
          ],
          "table": [
           {
            "cells": {
             "fill": {
              "color": "#EBF0F8"
             },
             "line": {
              "color": "white"
             }
            },
            "header": {
             "fill": {
              "color": "#C8D4E3"
             },
             "line": {
              "color": "white"
             }
            },
            "type": "table"
           }
          ]
         },
         "layout": {
          "annotationdefaults": {
           "arrowcolor": "#2a3f5f",
           "arrowhead": 0,
           "arrowwidth": 1
          },
          "autotypenumbers": "strict",
          "coloraxis": {
           "colorbar": {
            "outlinewidth": 0,
            "ticks": ""
           }
          },
          "colorscale": {
           "diverging": [
            [
             0,
             "#8e0152"
            ],
            [
             0.1,
             "#c51b7d"
            ],
            [
             0.2,
             "#de77ae"
            ],
            [
             0.3,
             "#f1b6da"
            ],
            [
             0.4,
             "#fde0ef"
            ],
            [
             0.5,
             "#f7f7f7"
            ],
            [
             0.6,
             "#e6f5d0"
            ],
            [
             0.7,
             "#b8e186"
            ],
            [
             0.8,
             "#7fbc41"
            ],
            [
             0.9,
             "#4d9221"
            ],
            [
             1,
             "#276419"
            ]
           ],
           "sequential": [
            [
             0,
             "#0d0887"
            ],
            [
             0.1111111111111111,
             "#46039f"
            ],
            [
             0.2222222222222222,
             "#7201a8"
            ],
            [
             0.3333333333333333,
             "#9c179e"
            ],
            [
             0.4444444444444444,
             "#bd3786"
            ],
            [
             0.5555555555555556,
             "#d8576b"
            ],
            [
             0.6666666666666666,
             "#ed7953"
            ],
            [
             0.7777777777777778,
             "#fb9f3a"
            ],
            [
             0.8888888888888888,
             "#fdca26"
            ],
            [
             1,
             "#f0f921"
            ]
           ],
           "sequentialminus": [
            [
             0,
             "#0d0887"
            ],
            [
             0.1111111111111111,
             "#46039f"
            ],
            [
             0.2222222222222222,
             "#7201a8"
            ],
            [
             0.3333333333333333,
             "#9c179e"
            ],
            [
             0.4444444444444444,
             "#bd3786"
            ],
            [
             0.5555555555555556,
             "#d8576b"
            ],
            [
             0.6666666666666666,
             "#ed7953"
            ],
            [
             0.7777777777777778,
             "#fb9f3a"
            ],
            [
             0.8888888888888888,
             "#fdca26"
            ],
            [
             1,
             "#f0f921"
            ]
           ]
          },
          "colorway": [
           "#636efa",
           "#EF553B",
           "#00cc96",
           "#ab63fa",
           "#FFA15A",
           "#19d3f3",
           "#FF6692",
           "#B6E880",
           "#FF97FF",
           "#FECB52"
          ],
          "font": {
           "color": "#2a3f5f"
          },
          "geo": {
           "bgcolor": "white",
           "lakecolor": "white",
           "landcolor": "#E5ECF6",
           "showlakes": true,
           "showland": true,
           "subunitcolor": "white"
          },
          "hoverlabel": {
           "align": "left"
          },
          "hovermode": "closest",
          "mapbox": {
           "style": "light"
          },
          "paper_bgcolor": "white",
          "plot_bgcolor": "#E5ECF6",
          "polar": {
           "angularaxis": {
            "gridcolor": "white",
            "linecolor": "white",
            "ticks": ""
           },
           "bgcolor": "#E5ECF6",
           "radialaxis": {
            "gridcolor": "white",
            "linecolor": "white",
            "ticks": ""
           }
          },
          "scene": {
           "xaxis": {
            "backgroundcolor": "#E5ECF6",
            "gridcolor": "white",
            "gridwidth": 2,
            "linecolor": "white",
            "showbackground": true,
            "ticks": "",
            "zerolinecolor": "white"
           },
           "yaxis": {
            "backgroundcolor": "#E5ECF6",
            "gridcolor": "white",
            "gridwidth": 2,
            "linecolor": "white",
            "showbackground": true,
            "ticks": "",
            "zerolinecolor": "white"
           },
           "zaxis": {
            "backgroundcolor": "#E5ECF6",
            "gridcolor": "white",
            "gridwidth": 2,
            "linecolor": "white",
            "showbackground": true,
            "ticks": "",
            "zerolinecolor": "white"
           }
          },
          "shapedefaults": {
           "line": {
            "color": "#2a3f5f"
           }
          },
          "ternary": {
           "aaxis": {
            "gridcolor": "white",
            "linecolor": "white",
            "ticks": ""
           },
           "baxis": {
            "gridcolor": "white",
            "linecolor": "white",
            "ticks": ""
           },
           "bgcolor": "#E5ECF6",
           "caxis": {
            "gridcolor": "white",
            "linecolor": "white",
            "ticks": ""
           }
          },
          "title": {
           "x": 0.05
          },
          "xaxis": {
           "automargin": true,
           "gridcolor": "white",
           "linecolor": "white",
           "ticks": "",
           "title": {
            "standoff": 15
           },
           "zerolinecolor": "white",
           "zerolinewidth": 2
          },
          "yaxis": {
           "automargin": true,
           "gridcolor": "white",
           "linecolor": "white",
           "ticks": "",
           "title": {
            "standoff": 15
           },
           "zerolinecolor": "white",
           "zerolinewidth": 2
          }
         }
        },
        "title": {
         "text": "Average Vote Consistency by Party and Bundestag (Only Governing Parties on their own proposals)"
        },
        "xaxis": {
         "anchor": "y",
         "domain": [
          0,
          0.2125
         ]
        },
        "xaxis2": {
         "anchor": "y2",
         "domain": [
          0.2625,
          0.475
         ]
        },
        "xaxis3": {
         "anchor": "y3",
         "domain": [
          0.525,
          0.7375
         ]
        },
        "xaxis4": {
         "anchor": "y4",
         "domain": [
          0.7875,
          1
         ]
        },
        "yaxis": {
         "anchor": "x",
         "domain": [
          0,
          1
         ]
        },
        "yaxis2": {
         "anchor": "x2",
         "domain": [
          0,
          1
         ]
        },
        "yaxis3": {
         "anchor": "x3",
         "domain": [
          0,
          1
         ]
        },
        "yaxis4": {
         "anchor": "x4",
         "domain": [
          0,
          1
         ]
        }
       }
      }
     },
     "metadata": {},
     "output_type": "display_data"
    }
   ],
   "source": [
    "\n",
    "\n",
    "import plotly.graph_objects as go\n",
    "from plotly.subplots import make_subplots\n",
    "\n",
    "only_governing = predictions[predictions[\"is_governing\"]].copy()\n",
    "\n",
    "grouped = (\n",
    "    only_governing\n",
    "    .groupby([\"bundestag\", \"party\"])[\"vote_correct\"]\n",
    "    .mean()\n",
    "    .reset_index()\n",
    ")\n",
    "\n",
    "bundestags = grouped[\"bundestag\"].unique()\n",
    "n_cols = len(bundestags)\n",
    "\n",
    "fig = make_subplots(rows=1, cols=n_cols, subplot_titles=[str(b) for b in bundestags])\n",
    "\n",
    "for i, bundestag in enumerate(bundestags, start=1):\n",
    "    df_sub = grouped[grouped[\"bundestag\"] == bundestag]\n",
    "    fig.add_trace(\n",
    "        go.Bar(\n",
    "            x=df_sub[\"party\"],\n",
    "            y=df_sub[\"vote_correct\"],\n",
    "            marker_color=[color_map.get(p, \"#cccccc\") for p in df_sub[\"party\"]],\n",
    "            text=[f\"{v:.0%}\" for v in df_sub[\"vote_correct\"]],\n",
    "        ),\n",
    "        row=1,\n",
    "        col=i\n",
    "    )\n",
    "\n",
    "fig.update_layout(\n",
    "    title_text=\"Average Vote Consistency by Party and Bundestag (Only Governing Parties on their own proposals)\",\n",
    "    showlegend=False,\n",
    "    height=400\n",
    ")\n",
    "\n",
    "fig.show()\n"
   ]
  },
  {
   "cell_type": "code",
   "execution_count": 11,
   "id": "8baa553e",
   "metadata": {},
   "outputs": [
    {
     "data": {
      "application/vnd.plotly.v1+json": {
       "config": {
        "plotlyServerURL": "https://plot.ly"
       },
       "data": [
        {
         "marker": {
          "color": [
           "#409A3C",
           "#BE3075",
           "#FFED00",
           "#E3000F",
           "#000000"
          ]
         },
         "text": [
          "75%",
          "62%",
          "62%",
          "62%",
          "69%"
         ],
         "type": "bar",
         "x": [
          "DIE_GRÜNEN",
          "DIE_LINKE",
          "FDP",
          "SPD",
          "Union"
         ],
         "xaxis": "x",
         "y": {
          "bdata": "AAAAAAAA6D8AAAAAAADkPwAAAAAAAOQ/AAAAAAAA5D8AAAAAAADmPw==",
          "dtype": "f8"
         },
         "yaxis": "y"
        },
        {
         "marker": {
          "color": [
           "#409A3C",
           "#BE3075",
           "#E3000F",
           "#000000"
          ]
         },
         "text": [
          "54%",
          "70%",
          "46%",
          "72%"
         ],
         "type": "bar",
         "x": [
          "DIE_GRÜNEN",
          "DIE_LINKE",
          "SPD",
          "Union"
         ],
         "xaxis": "x2",
         "y": {
          "bdata": "DcE62rxP4T8/xSVDsI7mP+d9ikuGYN0/EayjzfsU5z8=",
          "dtype": "f8"
         },
         "yaxis": "y2"
        },
        {
         "marker": {
          "color": [
           "#00A2DE",
           "#409A3C",
           "#BE3075",
           "#FFED00",
           "#E3000F",
           "#000000"
          ]
         },
         "text": [
          "80%",
          "74%",
          "73%",
          "55%",
          "58%",
          "64%"
         ],
         "type": "bar",
         "x": [
          "AfD",
          "DIE_GRÜNEN",
          "DIE_LINKE",
          "FDP",
          "SPD",
          "Union"
         ],
         "xaxis": "x3",
         "y": {
          "bdata": "N5gin3WD6T+KfNYNpsjnP591gynyWec/rRtMkc+64T+DKfJZN5jiPzBFPusGU+Q/",
          "dtype": "f8"
         },
         "yaxis": "y3"
        },
        {
         "marker": {
          "color": [
           "#00A2DE",
           "#409A3C",
           "#BE3075",
           "#FFED00",
           "#E3000F",
           "#000000"
          ]
         },
         "text": [
          "73%",
          "66%",
          "68%",
          "60%",
          "74%",
          "46%"
         ],
         "type": "bar",
         "x": [
          "AfD",
          "DIE_GRÜNEN",
          "DIE_LINKE",
          "FDP",
          "SPD",
          "Union"
         ],
         "xaxis": "x4",
         "y": {
          "bdata": "B3VQB3VQ5z91UAd1UAflP3Zd13Vd1+U/MzMzMzMz4z9YfMVXfMXnPx3UQR3UQd0/",
          "dtype": "f8"
         },
         "yaxis": "y4"
        }
       ],
       "layout": {
        "annotations": [
         {
          "font": {
           "size": 16
          },
          "showarrow": false,
          "text": "17",
          "x": 0.10625,
          "xanchor": "center",
          "xref": "paper",
          "y": 1,
          "yanchor": "bottom",
          "yref": "paper"
         },
         {
          "font": {
           "size": 16
          },
          "showarrow": false,
          "text": "18",
          "x": 0.36875,
          "xanchor": "center",
          "xref": "paper",
          "y": 1,
          "yanchor": "bottom",
          "yref": "paper"
         },
         {
          "font": {
           "size": 16
          },
          "showarrow": false,
          "text": "19",
          "x": 0.6312500000000001,
          "xanchor": "center",
          "xref": "paper",
          "y": 1,
          "yanchor": "bottom",
          "yref": "paper"
         },
         {
          "font": {
           "size": 16
          },
          "showarrow": false,
          "text": "20",
          "x": 0.89375,
          "xanchor": "center",
          "xref": "paper",
          "y": 1,
          "yanchor": "bottom",
          "yref": "paper"
         }
        ],
        "height": 400,
        "showlegend": false,
        "template": {
         "data": {
          "bar": [
           {
            "error_x": {
             "color": "#2a3f5f"
            },
            "error_y": {
             "color": "#2a3f5f"
            },
            "marker": {
             "line": {
              "color": "#E5ECF6",
              "width": 0.5
             },
             "pattern": {
              "fillmode": "overlay",
              "size": 10,
              "solidity": 0.2
             }
            },
            "type": "bar"
           }
          ],
          "barpolar": [
           {
            "marker": {
             "line": {
              "color": "#E5ECF6",
              "width": 0.5
             },
             "pattern": {
              "fillmode": "overlay",
              "size": 10,
              "solidity": 0.2
             }
            },
            "type": "barpolar"
           }
          ],
          "carpet": [
           {
            "aaxis": {
             "endlinecolor": "#2a3f5f",
             "gridcolor": "white",
             "linecolor": "white",
             "minorgridcolor": "white",
             "startlinecolor": "#2a3f5f"
            },
            "baxis": {
             "endlinecolor": "#2a3f5f",
             "gridcolor": "white",
             "linecolor": "white",
             "minorgridcolor": "white",
             "startlinecolor": "#2a3f5f"
            },
            "type": "carpet"
           }
          ],
          "choropleth": [
           {
            "colorbar": {
             "outlinewidth": 0,
             "ticks": ""
            },
            "type": "choropleth"
           }
          ],
          "contour": [
           {
            "colorbar": {
             "outlinewidth": 0,
             "ticks": ""
            },
            "colorscale": [
             [
              0,
              "#0d0887"
             ],
             [
              0.1111111111111111,
              "#46039f"
             ],
             [
              0.2222222222222222,
              "#7201a8"
             ],
             [
              0.3333333333333333,
              "#9c179e"
             ],
             [
              0.4444444444444444,
              "#bd3786"
             ],
             [
              0.5555555555555556,
              "#d8576b"
             ],
             [
              0.6666666666666666,
              "#ed7953"
             ],
             [
              0.7777777777777778,
              "#fb9f3a"
             ],
             [
              0.8888888888888888,
              "#fdca26"
             ],
             [
              1,
              "#f0f921"
             ]
            ],
            "type": "contour"
           }
          ],
          "contourcarpet": [
           {
            "colorbar": {
             "outlinewidth": 0,
             "ticks": ""
            },
            "type": "contourcarpet"
           }
          ],
          "heatmap": [
           {
            "colorbar": {
             "outlinewidth": 0,
             "ticks": ""
            },
            "colorscale": [
             [
              0,
              "#0d0887"
             ],
             [
              0.1111111111111111,
              "#46039f"
             ],
             [
              0.2222222222222222,
              "#7201a8"
             ],
             [
              0.3333333333333333,
              "#9c179e"
             ],
             [
              0.4444444444444444,
              "#bd3786"
             ],
             [
              0.5555555555555556,
              "#d8576b"
             ],
             [
              0.6666666666666666,
              "#ed7953"
             ],
             [
              0.7777777777777778,
              "#fb9f3a"
             ],
             [
              0.8888888888888888,
              "#fdca26"
             ],
             [
              1,
              "#f0f921"
             ]
            ],
            "type": "heatmap"
           }
          ],
          "histogram": [
           {
            "marker": {
             "pattern": {
              "fillmode": "overlay",
              "size": 10,
              "solidity": 0.2
             }
            },
            "type": "histogram"
           }
          ],
          "histogram2d": [
           {
            "colorbar": {
             "outlinewidth": 0,
             "ticks": ""
            },
            "colorscale": [
             [
              0,
              "#0d0887"
             ],
             [
              0.1111111111111111,
              "#46039f"
             ],
             [
              0.2222222222222222,
              "#7201a8"
             ],
             [
              0.3333333333333333,
              "#9c179e"
             ],
             [
              0.4444444444444444,
              "#bd3786"
             ],
             [
              0.5555555555555556,
              "#d8576b"
             ],
             [
              0.6666666666666666,
              "#ed7953"
             ],
             [
              0.7777777777777778,
              "#fb9f3a"
             ],
             [
              0.8888888888888888,
              "#fdca26"
             ],
             [
              1,
              "#f0f921"
             ]
            ],
            "type": "histogram2d"
           }
          ],
          "histogram2dcontour": [
           {
            "colorbar": {
             "outlinewidth": 0,
             "ticks": ""
            },
            "colorscale": [
             [
              0,
              "#0d0887"
             ],
             [
              0.1111111111111111,
              "#46039f"
             ],
             [
              0.2222222222222222,
              "#7201a8"
             ],
             [
              0.3333333333333333,
              "#9c179e"
             ],
             [
              0.4444444444444444,
              "#bd3786"
             ],
             [
              0.5555555555555556,
              "#d8576b"
             ],
             [
              0.6666666666666666,
              "#ed7953"
             ],
             [
              0.7777777777777778,
              "#fb9f3a"
             ],
             [
              0.8888888888888888,
              "#fdca26"
             ],
             [
              1,
              "#f0f921"
             ]
            ],
            "type": "histogram2dcontour"
           }
          ],
          "mesh3d": [
           {
            "colorbar": {
             "outlinewidth": 0,
             "ticks": ""
            },
            "type": "mesh3d"
           }
          ],
          "parcoords": [
           {
            "line": {
             "colorbar": {
              "outlinewidth": 0,
              "ticks": ""
             }
            },
            "type": "parcoords"
           }
          ],
          "pie": [
           {
            "automargin": true,
            "type": "pie"
           }
          ],
          "scatter": [
           {
            "fillpattern": {
             "fillmode": "overlay",
             "size": 10,
             "solidity": 0.2
            },
            "type": "scatter"
           }
          ],
          "scatter3d": [
           {
            "line": {
             "colorbar": {
              "outlinewidth": 0,
              "ticks": ""
             }
            },
            "marker": {
             "colorbar": {
              "outlinewidth": 0,
              "ticks": ""
             }
            },
            "type": "scatter3d"
           }
          ],
          "scattercarpet": [
           {
            "marker": {
             "colorbar": {
              "outlinewidth": 0,
              "ticks": ""
             }
            },
            "type": "scattercarpet"
           }
          ],
          "scattergeo": [
           {
            "marker": {
             "colorbar": {
              "outlinewidth": 0,
              "ticks": ""
             }
            },
            "type": "scattergeo"
           }
          ],
          "scattergl": [
           {
            "marker": {
             "colorbar": {
              "outlinewidth": 0,
              "ticks": ""
             }
            },
            "type": "scattergl"
           }
          ],
          "scattermap": [
           {
            "marker": {
             "colorbar": {
              "outlinewidth": 0,
              "ticks": ""
             }
            },
            "type": "scattermap"
           }
          ],
          "scattermapbox": [
           {
            "marker": {
             "colorbar": {
              "outlinewidth": 0,
              "ticks": ""
             }
            },
            "type": "scattermapbox"
           }
          ],
          "scatterpolar": [
           {
            "marker": {
             "colorbar": {
              "outlinewidth": 0,
              "ticks": ""
             }
            },
            "type": "scatterpolar"
           }
          ],
          "scatterpolargl": [
           {
            "marker": {
             "colorbar": {
              "outlinewidth": 0,
              "ticks": ""
             }
            },
            "type": "scatterpolargl"
           }
          ],
          "scatterternary": [
           {
            "marker": {
             "colorbar": {
              "outlinewidth": 0,
              "ticks": ""
             }
            },
            "type": "scatterternary"
           }
          ],
          "surface": [
           {
            "colorbar": {
             "outlinewidth": 0,
             "ticks": ""
            },
            "colorscale": [
             [
              0,
              "#0d0887"
             ],
             [
              0.1111111111111111,
              "#46039f"
             ],
             [
              0.2222222222222222,
              "#7201a8"
             ],
             [
              0.3333333333333333,
              "#9c179e"
             ],
             [
              0.4444444444444444,
              "#bd3786"
             ],
             [
              0.5555555555555556,
              "#d8576b"
             ],
             [
              0.6666666666666666,
              "#ed7953"
             ],
             [
              0.7777777777777778,
              "#fb9f3a"
             ],
             [
              0.8888888888888888,
              "#fdca26"
             ],
             [
              1,
              "#f0f921"
             ]
            ],
            "type": "surface"
           }
          ],
          "table": [
           {
            "cells": {
             "fill": {
              "color": "#EBF0F8"
             },
             "line": {
              "color": "white"
             }
            },
            "header": {
             "fill": {
              "color": "#C8D4E3"
             },
             "line": {
              "color": "white"
             }
            },
            "type": "table"
           }
          ]
         },
         "layout": {
          "annotationdefaults": {
           "arrowcolor": "#2a3f5f",
           "arrowhead": 0,
           "arrowwidth": 1
          },
          "autotypenumbers": "strict",
          "coloraxis": {
           "colorbar": {
            "outlinewidth": 0,
            "ticks": ""
           }
          },
          "colorscale": {
           "diverging": [
            [
             0,
             "#8e0152"
            ],
            [
             0.1,
             "#c51b7d"
            ],
            [
             0.2,
             "#de77ae"
            ],
            [
             0.3,
             "#f1b6da"
            ],
            [
             0.4,
             "#fde0ef"
            ],
            [
             0.5,
             "#f7f7f7"
            ],
            [
             0.6,
             "#e6f5d0"
            ],
            [
             0.7,
             "#b8e186"
            ],
            [
             0.8,
             "#7fbc41"
            ],
            [
             0.9,
             "#4d9221"
            ],
            [
             1,
             "#276419"
            ]
           ],
           "sequential": [
            [
             0,
             "#0d0887"
            ],
            [
             0.1111111111111111,
             "#46039f"
            ],
            [
             0.2222222222222222,
             "#7201a8"
            ],
            [
             0.3333333333333333,
             "#9c179e"
            ],
            [
             0.4444444444444444,
             "#bd3786"
            ],
            [
             0.5555555555555556,
             "#d8576b"
            ],
            [
             0.6666666666666666,
             "#ed7953"
            ],
            [
             0.7777777777777778,
             "#fb9f3a"
            ],
            [
             0.8888888888888888,
             "#fdca26"
            ],
            [
             1,
             "#f0f921"
            ]
           ],
           "sequentialminus": [
            [
             0,
             "#0d0887"
            ],
            [
             0.1111111111111111,
             "#46039f"
            ],
            [
             0.2222222222222222,
             "#7201a8"
            ],
            [
             0.3333333333333333,
             "#9c179e"
            ],
            [
             0.4444444444444444,
             "#bd3786"
            ],
            [
             0.5555555555555556,
             "#d8576b"
            ],
            [
             0.6666666666666666,
             "#ed7953"
            ],
            [
             0.7777777777777778,
             "#fb9f3a"
            ],
            [
             0.8888888888888888,
             "#fdca26"
            ],
            [
             1,
             "#f0f921"
            ]
           ]
          },
          "colorway": [
           "#636efa",
           "#EF553B",
           "#00cc96",
           "#ab63fa",
           "#FFA15A",
           "#19d3f3",
           "#FF6692",
           "#B6E880",
           "#FF97FF",
           "#FECB52"
          ],
          "font": {
           "color": "#2a3f5f"
          },
          "geo": {
           "bgcolor": "white",
           "lakecolor": "white",
           "landcolor": "#E5ECF6",
           "showlakes": true,
           "showland": true,
           "subunitcolor": "white"
          },
          "hoverlabel": {
           "align": "left"
          },
          "hovermode": "closest",
          "mapbox": {
           "style": "light"
          },
          "paper_bgcolor": "white",
          "plot_bgcolor": "#E5ECF6",
          "polar": {
           "angularaxis": {
            "gridcolor": "white",
            "linecolor": "white",
            "ticks": ""
           },
           "bgcolor": "#E5ECF6",
           "radialaxis": {
            "gridcolor": "white",
            "linecolor": "white",
            "ticks": ""
           }
          },
          "scene": {
           "xaxis": {
            "backgroundcolor": "#E5ECF6",
            "gridcolor": "white",
            "gridwidth": 2,
            "linecolor": "white",
            "showbackground": true,
            "ticks": "",
            "zerolinecolor": "white"
           },
           "yaxis": {
            "backgroundcolor": "#E5ECF6",
            "gridcolor": "white",
            "gridwidth": 2,
            "linecolor": "white",
            "showbackground": true,
            "ticks": "",
            "zerolinecolor": "white"
           },
           "zaxis": {
            "backgroundcolor": "#E5ECF6",
            "gridcolor": "white",
            "gridwidth": 2,
            "linecolor": "white",
            "showbackground": true,
            "ticks": "",
            "zerolinecolor": "white"
           }
          },
          "shapedefaults": {
           "line": {
            "color": "#2a3f5f"
           }
          },
          "ternary": {
           "aaxis": {
            "gridcolor": "white",
            "linecolor": "white",
            "ticks": ""
           },
           "baxis": {
            "gridcolor": "white",
            "linecolor": "white",
            "ticks": ""
           },
           "bgcolor": "#E5ECF6",
           "caxis": {
            "gridcolor": "white",
            "linecolor": "white",
            "ticks": ""
           }
          },
          "title": {
           "x": 0.05
          },
          "xaxis": {
           "automargin": true,
           "gridcolor": "white",
           "linecolor": "white",
           "ticks": "",
           "title": {
            "standoff": 15
           },
           "zerolinecolor": "white",
           "zerolinewidth": 2
          },
          "yaxis": {
           "automargin": true,
           "gridcolor": "white",
           "linecolor": "white",
           "ticks": "",
           "title": {
            "standoff": 15
           },
           "zerolinecolor": "white",
           "zerolinewidth": 2
          }
         }
        },
        "title": {
         "text": "Average Vote Consistency by Party and Bundestag"
        },
        "xaxis": {
         "anchor": "y",
         "domain": [
          0,
          0.2125
         ]
        },
        "xaxis2": {
         "anchor": "y2",
         "domain": [
          0.2625,
          0.475
         ]
        },
        "xaxis3": {
         "anchor": "y3",
         "domain": [
          0.525,
          0.7375
         ]
        },
        "xaxis4": {
         "anchor": "y4",
         "domain": [
          0.7875,
          1
         ]
        },
        "yaxis": {
         "anchor": "x",
         "domain": [
          0,
          1
         ]
        },
        "yaxis2": {
         "anchor": "x2",
         "domain": [
          0,
          1
         ]
        },
        "yaxis3": {
         "anchor": "x3",
         "domain": [
          0,
          1
         ]
        },
        "yaxis4": {
         "anchor": "x4",
         "domain": [
          0,
          1
         ]
        }
       }
      }
     },
     "metadata": {},
     "output_type": "display_data"
    }
   ],
   "source": [
    "\n",
    "\n",
    "import plotly.graph_objects as go\n",
    "from plotly.subplots import make_subplots\n",
    "\n",
    "grouped = (\n",
    "    predictions\n",
    "    .groupby([\"bundestag\", \"party\"])[\"vote_correct\"]\n",
    "    .mean()\n",
    "    .reset_index()\n",
    ")\n",
    "\n",
    "bundestags = grouped[\"bundestag\"].unique()\n",
    "n_cols = len(bundestags)\n",
    "\n",
    "fig = make_subplots(rows=1, cols=n_cols, subplot_titles=[str(b) for b in bundestags])\n",
    "\n",
    "for i, bundestag in enumerate(bundestags, start=1):\n",
    "    df_sub = grouped[grouped[\"bundestag\"] == bundestag]\n",
    "    fig.add_trace(\n",
    "        go.Bar(\n",
    "            x=df_sub[\"party\"],\n",
    "            y=df_sub[\"vote_correct\"],\n",
    "            marker_color=[color_map.get(p, \"#cccccc\") for p in df_sub[\"party\"]],\n",
    "            text=[f\"{v:.0%}\" for v in df_sub[\"vote_correct\"]],\n",
    "        ),\n",
    "        row=1,\n",
    "        col=i\n",
    "    )\n",
    "\n",
    "fig.update_layout(\n",
    "    title_text=\"Average Vote Consistency by Party and Bundestag\",\n",
    "    showlegend=False,\n",
    "    height=400\n",
    ")\n",
    "\n",
    "fig.show()\n"
   ]
  },
  {
   "cell_type": "code",
   "execution_count": 12,
   "id": "968b07d9",
   "metadata": {},
   "outputs": [
    {
     "name": "stderr",
     "output_type": "stream",
     "text": [
      "C:\\Users\\johnn\\AppData\\Local\\Temp\\ipykernel_25652\\3696483182.py:1: FutureWarning:\n",
      "\n",
      "'Y' is deprecated and will be removed in a future version, please use 'YE' instead.\n",
      "\n"
     ]
    },
    {
     "data": {
      "text/plain": [
       "<Axes: xlabel='date'>"
      ]
     },
     "execution_count": 12,
     "metadata": {},
     "output_type": "execute_result"
    },
    {
     "data": {
      "image/png": "[encoded data removed]",
      "text/plain": [
       "<Figure size 640x480 with 1 Axes>"
      ]
     },
     "metadata": {},
     "output_type": "display_data"
    }
   ],
   "source": [
    "predictions.groupby(pd.Grouper(key='date', freq='Y'))['vote_correct'].mean().plot()"
   ]
  },
  {
   "cell_type": "code",
   "execution_count": 13,
   "id": "76dcc18e",
   "metadata": {},
   "outputs": [
    {
     "data": {
      "text/html": [
       "<div>\n",
       "<style scoped>\n",
       "    .dataframe tbody tr th:only-of-type {\n",
       "        vertical-align: middle;\n",
       "    }\n",
       "\n",
       "    .dataframe tbody tr th {\n",
       "        vertical-align: top;\n",
       "    }\n",
       "\n",
       "    .dataframe thead th {\n",
       "        text-align: right;\n",
       "    }\n",
       "</style>\n",
       "<table border=\"1\" class=\"dataframe\">\n",
       "  <thead>\n",
       "    <tr style=\"text-align: right;\">\n",
       "      <th></th>\n",
       "      <th>vote_id</th>\n",
       "      <th>type</th>\n",
       "      <th>title</th>\n",
       "      <th>drucksache_id</th>\n",
       "      <th>beschlussempfehlung</th>\n",
       "      <th>summary</th>\n",
       "      <th>summary_embedding</th>\n",
       "      <th>date</th>\n",
       "      <th>proposers</th>\n",
       "      <th>party</th>\n",
       "      <th>reasoning</th>\n",
       "      <th>prediction</th>\n",
       "      <th>ground_truth</th>\n",
       "      <th>discipline</th>\n",
       "      <th>category</th>\n",
       "      <th>is_governing</th>\n",
       "      <th>bundestag</th>\n",
       "      <th>vote_correct</th>\n",
       "      <th>is_own_proposal</th>\n",
       "      <th>manifesto_context</th>\n",
       "    </tr>\n",
       "  </thead>\n",
       "  <tbody>\n",
       "    <tr>\n",
       "      <th>0</th>\n",
       "      <td>0</td>\n",
       "      <td>Gesetzentwurf</td>\n",
       "      <td>Gesetzentwurf der Fraktionen der SPD und CDU/C...</td>\n",
       "      <td>20/15096</td>\n",
       "      <td>None</td>\n",
       "      <td>Abgestimmt wird über eine Grundgesetzänderung,...</td>\n",
       "      <td>[-0.00992498267441988, 0.019715214148163795, 0...</td>\n",
       "      <td>2025-03-18</td>\n",
       "      <td>[SPD, Union]</td>\n",
       "      <td>AfD</td>\n",
       "      <td>stimmt nicht zu  \\nBegründung: Der Antrag sieh...</td>\n",
       "      <td>False</td>\n",
       "      <td>False</td>\n",
       "      <td>1.000000</td>\n",
       "      <td>Defense &amp; Security</td>\n",
       "      <td>False</td>\n",
       "      <td>20</td>\n",
       "      <td>True</td>\n",
       "      <td>False</td>\n",
       "      <td>- Arbeitslosenversicherung reformieren: Anspru...</td>\n",
       "    </tr>\n",
       "    <tr>\n",
       "      <th>2</th>\n",
       "      <td>2</td>\n",
       "      <td>Gesetzentwurf</td>\n",
       "      <td>Gesetzentwurf der Fraktion der FDP Entwurf ein...</td>\n",
       "      <td>20/15099</td>\n",
       "      <td>None</td>\n",
       "      <td>Im Bundestag wird über die Erweiterung des bes...</td>\n",
       "      <td>[0.014410934410989285, 0.03800387308001518, 0....</td>\n",
       "      <td>2025-03-18</td>\n",
       "      <td>[FDP]</td>\n",
       "      <td>AfD</td>\n",
       "      <td>enthält sich  \\nBegründung: Das Wahlprogramm e...</td>\n",
       "      <td>False</td>\n",
       "      <td>False</td>\n",
       "      <td>1.000000</td>\n",
       "      <td>Defense &amp; Security</td>\n",
       "      <td>False</td>\n",
       "      <td>20</td>\n",
       "      <td>True</td>\n",
       "      <td>False</td>\n",
       "      <td>- Innere Sicherheit stärken: Bundespolizei per...</td>\n",
       "    </tr>\n",
       "    <tr>\n",
       "      <th>3</th>\n",
       "      <td>3</td>\n",
       "      <td>Gesetzentwurf</td>\n",
       "      <td>Gesetzentwurf der Fraktion der CDU/CSU Entwurf...</td>\n",
       "      <td>20/12804</td>\n",
       "      <td>None</td>\n",
       "      <td>Das Gesetz stellt die Begrenzung der Zuwanderu...</td>\n",
       "      <td>[0.03507666289806366, 0.08015237003564835, 0.0...</td>\n",
       "      <td>2025-01-31</td>\n",
       "      <td>[Union]</td>\n",
       "      <td>AfD</td>\n",
       "      <td>stimmt zu  \\nBegründung: Der Antrag zur Begren...</td>\n",
       "      <td>True</td>\n",
       "      <td>True</td>\n",
       "      <td>1.000000</td>\n",
       "      <td>Internal Affairs &amp; Migration</td>\n",
       "      <td>False</td>\n",
       "      <td>20</td>\n",
       "      <td>True</td>\n",
       "      <td>False</td>\n",
       "      <td>- Rückführungsoffensive: Ausreisepflichtige ko...</td>\n",
       "    </tr>\n",
       "    <tr>\n",
       "      <th>4</th>\n",
       "      <td>10</td>\n",
       "      <td>Gesetzentwurf</td>\n",
       "      <td>Gesetzentwurf der Fraktionen SPD, CDU/CSU, BÜN...</td>\n",
       "      <td>20/12977</td>\n",
       "      <td>None</td>\n",
       "      <td>Im Bundestag wird über eine Verfassungsänderun...</td>\n",
       "      <td>[-0.01373820099979639, 0.024543749168515205, 0...</td>\n",
       "      <td>2024-12-19</td>\n",
       "      <td>[SPD, Union, DIE_GRÜNEN, FDP]</td>\n",
       "      <td>AfD</td>\n",
       "      <td>stimmt zu  \\nBegründung: Das Wahlprogramm beto...</td>\n",
       "      <td>True</td>\n",
       "      <td>False</td>\n",
       "      <td>0.982456</td>\n",
       "      <td>Justice &amp; Consumer Protection</td>\n",
       "      <td>False</td>\n",
       "      <td>20</td>\n",
       "      <td>False</td>\n",
       "      <td>False</td>\n",
       "      <td>- Demokratie und Rechtsstaat\\n  - Einführung v...</td>\n",
       "    </tr>\n",
       "    <tr>\n",
       "      <th>5</th>\n",
       "      <td>17</td>\n",
       "      <td>Gesetzentwurf</td>\n",
       "      <td>Gesetzentwurf der Fraktionen SPD, BÜNDNIS 90/D...</td>\n",
       "      <td>20/12806</td>\n",
       "      <td>None</td>\n",
       "      <td>Der Gesetzentwurf zielt darauf ab, die Terrori...</td>\n",
       "      <td>[-0.007711812853813171, 0.020280731841921806, ...</td>\n",
       "      <td>2024-10-18</td>\n",
       "      <td>[SPD, DIE_GRÜNEN, FDP]</td>\n",
       "      <td>AfD</td>\n",
       "      <td>stimmt zu  \\nBegründung: Der Antrag zur Stärku...</td>\n",
       "      <td>True</td>\n",
       "      <td>False</td>\n",
       "      <td>1.000000</td>\n",
       "      <td>Digitalization &amp; Modernization</td>\n",
       "      <td>False</td>\n",
       "      <td>20</td>\n",
       "      <td>False</td>\n",
       "      <td>False</td>\n",
       "      <td>- Innere Sicherheit\\n  - Konsequente Bekämpfun...</td>\n",
       "    </tr>\n",
       "    <tr>\n",
       "      <th>...</th>\n",
       "      <td>...</td>\n",
       "      <td>...</td>\n",
       "      <td>...</td>\n",
       "      <td>...</td>\n",
       "      <td>...</td>\n",
       "      <td>...</td>\n",
       "      <td>...</td>\n",
       "      <td>...</td>\n",
       "      <td>...</td>\n",
       "      <td>...</td>\n",
       "      <td>...</td>\n",
       "      <td>...</td>\n",
       "      <td>...</td>\n",
       "      <td>...</td>\n",
       "      <td>...</td>\n",
       "      <td>...</td>\n",
       "      <td>...</td>\n",
       "      <td>...</td>\n",
       "      <td>...</td>\n",
       "      <td>...</td>\n",
       "    </tr>\n",
       "    <tr>\n",
       "      <th>3301</th>\n",
       "      <td>303</td>\n",
       "      <td>Gesetzentwurf</td>\n",
       "      <td>Gesetzentwurf der Bundesregierung</td>\n",
       "      <td>19/14103</td>\n",
       "      <td>Annahme</td>\n",
       "      <td>Es wird über eine schrittweise Rückführung des...</td>\n",
       "      <td>[0.019990859553217888, -0.0031184873078018427,...</td>\n",
       "      <td>2019-11-14</td>\n",
       "      <td>[Bundesregierung]</td>\n",
       "      <td>Union</td>\n",
       "      <td>stimmt zu\\nBegründung: Das Wahlprogramm der Pa...</td>\n",
       "      <td>True</td>\n",
       "      <td>True</td>\n",
       "      <td>1.000000</td>\n",
       "      <td>Labor &amp; Social Affairs</td>\n",
       "      <td>True</td>\n",
       "      <td>19</td>\n",
       "      <td>True</td>\n",
       "      <td>True</td>\n",
       "      <td>- Abschaffung des Solidaritätszuschlags schrit...</td>\n",
       "    </tr>\n",
       "    <tr>\n",
       "      <th>3302</th>\n",
       "      <td>303</td>\n",
       "      <td>Gesetzentwurf</td>\n",
       "      <td>Gesetzentwurf der Abgeordneten Christian Dürr,...</td>\n",
       "      <td>19/14286</td>\n",
       "      <td>Ablehnung</td>\n",
       "      <td>Im Bundestag wird darüber abgestimmt, das Soli...</td>\n",
       "      <td>[0.013860349543392658, 0.00022564873506780714,...</td>\n",
       "      <td>2019-11-14</td>\n",
       "      <td>[FDP]</td>\n",
       "      <td>Union</td>\n",
       "      <td>stimmt zu  \\nBegründung: Das Wahlprogramm der ...</td>\n",
       "      <td>True</td>\n",
       "      <td>False</td>\n",
       "      <td>1.000000</td>\n",
       "      <td>Finance</td>\n",
       "      <td>True</td>\n",
       "      <td>19</td>\n",
       "      <td>False</td>\n",
       "      <td>False</td>\n",
       "      <td>- Abschaffung des Solidaritätszuschlags schrit...</td>\n",
       "    </tr>\n",
       "    <tr>\n",
       "      <th>3306</th>\n",
       "      <td>314</td>\n",
       "      <td>Gesetzentwurf</td>\n",
       "      <td>Gesetzentwurf der Abgeordneten Christian Kühn ...</td>\n",
       "      <td>19/8827</td>\n",
       "      <td>Ablehnung</td>\n",
       "      <td>Es wird darüber abgestimmt, die Umlagefähigkei...</td>\n",
       "      <td>[-0.020645294338464737, 0.04964518919587135, 0...</td>\n",
       "      <td>2019-10-18</td>\n",
       "      <td>[DIE_GRÜNEN]</td>\n",
       "      <td>Union</td>\n",
       "      <td>stimmt nicht zu  \\nBegründung: Der Antrag zur ...</td>\n",
       "      <td>False</td>\n",
       "      <td>False</td>\n",
       "      <td>1.000000</td>\n",
       "      <td>Finance</td>\n",
       "      <td>True</td>\n",
       "      <td>19</td>\n",
       "      <td>True</td>\n",
       "      <td>False</td>\n",
       "      <td>- Abschaffung des Solidaritätszuschlags schrit...</td>\n",
       "    </tr>\n",
       "    <tr>\n",
       "      <th>3421</th>\n",
       "      <td>629</td>\n",
       "      <td>Gesetzentwurf</td>\n",
       "      <td>Gesetzentwurf der Fraktionen BÜNDNIS 90/DIE GR...</td>\n",
       "      <td>18/380</td>\n",
       "      <td>Ablehnung</td>\n",
       "      <td>Im Bundestag wird über einen Gesetzentwurf abg...</td>\n",
       "      <td>[-0.0014615601394325495, 0.02150341309607029, ...</td>\n",
       "      <td>2014-04-03</td>\n",
       "      <td>[DIE_GRÜNEN, DIE_LINKE]</td>\n",
       "      <td>Union</td>\n",
       "      <td>enthält sich  \\nDas Wahlprogramm enthält keine...</td>\n",
       "      <td>False</td>\n",
       "      <td>False</td>\n",
       "      <td>1.000000</td>\n",
       "      <td>Justice &amp; Consumer Protection</td>\n",
       "      <td>True</td>\n",
       "      <td>18</td>\n",
       "      <td>True</td>\n",
       "      <td>False</td>\n",
       "      <td>- **Wirtschaft und Innovationsförderung:**\\n  ...</td>\n",
       "    </tr>\n",
       "    <tr>\n",
       "      <th>3422</th>\n",
       "      <td>629</td>\n",
       "      <td>Gesetzentwurf</td>\n",
       "      <td>Gesetzentwurf der Fraktion DIE LINKE. Entwurf ...</td>\n",
       "      <td>18/838</td>\n",
       "      <td>Ablehnung</td>\n",
       "      <td>Im Bundestag wird über eine Änderung der Quore...</td>\n",
       "      <td>[0.0022878851741552353, 0.0472908616065979, 0....</td>\n",
       "      <td>2014-04-03</td>\n",
       "      <td>[DIE_LINKE]</td>\n",
       "      <td>Union</td>\n",
       "      <td>enthält sich  \\nDas Wahlprogramm der Partei en...</td>\n",
       "      <td>False</td>\n",
       "      <td>False</td>\n",
       "      <td>1.000000</td>\n",
       "      <td>Justice &amp; Consumer Protection</td>\n",
       "      <td>True</td>\n",
       "      <td>18</td>\n",
       "      <td>True</td>\n",
       "      <td>False</td>\n",
       "      <td>- **Wirtschaft und Innovationsförderung:**\\n  ...</td>\n",
       "    </tr>\n",
       "  </tbody>\n",
       "</table>\n",
       "<p>1181 rows × 20 columns</p>\n",
       "</div>"
      ],
      "text/plain": [
       "      vote_id           type  \\\n",
       "0           0  Gesetzentwurf   \n",
       "2           2  Gesetzentwurf   \n",
       "3           3  Gesetzentwurf   \n",
       "4          10  Gesetzentwurf   \n",
       "5          17  Gesetzentwurf   \n",
       "...       ...            ...   \n",
       "3301      303  Gesetzentwurf   \n",
       "3302      303  Gesetzentwurf   \n",
       "3306      314  Gesetzentwurf   \n",
       "3421      629  Gesetzentwurf   \n",
       "3422      629  Gesetzentwurf   \n",
       "\n",
       "                                                  title drucksache_id  \\\n",
       "0     Gesetzentwurf der Fraktionen der SPD und CDU/C...      20/15096   \n",
       "2     Gesetzentwurf der Fraktion der FDP Entwurf ein...      20/15099   \n",
       "3     Gesetzentwurf der Fraktion der CDU/CSU Entwurf...      20/12804   \n",
       "4     Gesetzentwurf der Fraktionen SPD, CDU/CSU, BÜN...      20/12977   \n",
       "5     Gesetzentwurf der Fraktionen SPD, BÜNDNIS 90/D...      20/12806   \n",
       "...                                                 ...           ...   \n",
       "3301                  Gesetzentwurf der Bundesregierung      19/14103   \n",
       "3302  Gesetzentwurf der Abgeordneten Christian Dürr,...      19/14286   \n",
       "3306  Gesetzentwurf der Abgeordneten Christian Kühn ...       19/8827   \n",
       "3421  Gesetzentwurf der Fraktionen BÜNDNIS 90/DIE GR...        18/380   \n",
       "3422  Gesetzentwurf der Fraktion DIE LINKE. Entwurf ...        18/838   \n",
       "\n",
       "     beschlussempfehlung                                            summary  \\\n",
       "0                   None  Abgestimmt wird über eine Grundgesetzänderung,...   \n",
       "2                   None  Im Bundestag wird über die Erweiterung des bes...   \n",
       "3                   None  Das Gesetz stellt die Begrenzung der Zuwanderu...   \n",
       "4                   None  Im Bundestag wird über eine Verfassungsänderun...   \n",
       "5                   None  Der Gesetzentwurf zielt darauf ab, die Terrori...   \n",
       "...                  ...                                                ...   \n",
       "3301             Annahme  Es wird über eine schrittweise Rückführung des...   \n",
       "3302           Ablehnung  Im Bundestag wird darüber abgestimmt, das Soli...   \n",
       "3306           Ablehnung  Es wird darüber abgestimmt, die Umlagefähigkei...   \n",
       "3421           Ablehnung  Im Bundestag wird über einen Gesetzentwurf abg...   \n",
       "3422           Ablehnung  Im Bundestag wird über eine Änderung der Quore...   \n",
       "\n",
       "                                      summary_embedding       date  \\\n",
       "0     [-0.00992498267441988, 0.019715214148163795, 0... 2025-03-18   \n",
       "2     [0.014410934410989285, 0.03800387308001518, 0.... 2025-03-18   \n",
       "3     [0.03507666289806366, 0.08015237003564835, 0.0... 2025-01-31   \n",
       "4     [-0.01373820099979639, 0.024543749168515205, 0... 2024-12-19   \n",
       "5     [-0.007711812853813171, 0.020280731841921806, ... 2024-10-18   \n",
       "...                                                 ...        ...   \n",
       "3301  [0.019990859553217888, -0.0031184873078018427,... 2019-11-14   \n",
       "3302  [0.013860349543392658, 0.00022564873506780714,... 2019-11-14   \n",
       "3306  [-0.020645294338464737, 0.04964518919587135, 0... 2019-10-18   \n",
       "3421  [-0.0014615601394325495, 0.02150341309607029, ... 2014-04-03   \n",
       "3422  [0.0022878851741552353, 0.0472908616065979, 0.... 2014-04-03   \n",
       "\n",
       "                          proposers  party  \\\n",
       "0                      [SPD, Union]    AfD   \n",
       "2                             [FDP]    AfD   \n",
       "3                           [Union]    AfD   \n",
       "4     [SPD, Union, DIE_GRÜNEN, FDP]    AfD   \n",
       "5            [SPD, DIE_GRÜNEN, FDP]    AfD   \n",
       "...                             ...    ...   \n",
       "3301              [Bundesregierung]  Union   \n",
       "3302                          [FDP]  Union   \n",
       "3306                   [DIE_GRÜNEN]  Union   \n",
       "3421        [DIE_GRÜNEN, DIE_LINKE]  Union   \n",
       "3422                    [DIE_LINKE]  Union   \n",
       "\n",
       "                                              reasoning  prediction  \\\n",
       "0     stimmt nicht zu  \\nBegründung: Der Antrag sieh...       False   \n",
       "2     enthält sich  \\nBegründung: Das Wahlprogramm e...       False   \n",
       "3     stimmt zu  \\nBegründung: Der Antrag zur Begren...        True   \n",
       "4     stimmt zu  \\nBegründung: Das Wahlprogramm beto...        True   \n",
       "5     stimmt zu  \\nBegründung: Der Antrag zur Stärku...        True   \n",
       "...                                                 ...         ...   \n",
       "3301  stimmt zu\\nBegründung: Das Wahlprogramm der Pa...        True   \n",
       "3302  stimmt zu  \\nBegründung: Das Wahlprogramm der ...        True   \n",
       "3306  stimmt nicht zu  \\nBegründung: Der Antrag zur ...       False   \n",
       "3421  enthält sich  \\nDas Wahlprogramm enthält keine...       False   \n",
       "3422  enthält sich  \\nDas Wahlprogramm der Partei en...       False   \n",
       "\n",
       "      ground_truth  discipline                        category  is_governing  \\\n",
       "0            False    1.000000              Defense & Security         False   \n",
       "2            False    1.000000              Defense & Security         False   \n",
       "3             True    1.000000    Internal Affairs & Migration         False   \n",
       "4            False    0.982456   Justice & Consumer Protection         False   \n",
       "5            False    1.000000  Digitalization & Modernization         False   \n",
       "...            ...         ...                             ...           ...   \n",
       "3301          True    1.000000          Labor & Social Affairs          True   \n",
       "3302         False    1.000000                         Finance          True   \n",
       "3306         False    1.000000                         Finance          True   \n",
       "3421         False    1.000000   Justice & Consumer Protection          True   \n",
       "3422         False    1.000000   Justice & Consumer Protection          True   \n",
       "\n",
       "      bundestag  vote_correct  is_own_proposal  \\\n",
       "0            20          True            False   \n",
       "2            20          True            False   \n",
       "3            20          True            False   \n",
       "4            20         False            False   \n",
       "5            20         False            False   \n",
       "...         ...           ...              ...   \n",
       "3301         19          True             True   \n",
       "3302         19         False            False   \n",
       "3306         19          True            False   \n",
       "3421         18          True            False   \n",
       "3422         18          True            False   \n",
       "\n",
       "                                      manifesto_context  \n",
       "0     - Arbeitslosenversicherung reformieren: Anspru...  \n",
       "2     - Innere Sicherheit stärken: Bundespolizei per...  \n",
       "3     - Rückführungsoffensive: Ausreisepflichtige ko...  \n",
       "4     - Demokratie und Rechtsstaat\\n  - Einführung v...  \n",
       "5     - Innere Sicherheit\\n  - Konsequente Bekämpfun...  \n",
       "...                                                 ...  \n",
       "3301  - Abschaffung des Solidaritätszuschlags schrit...  \n",
       "3302  - Abschaffung des Solidaritätszuschlags schrit...  \n",
       "3306  - Abschaffung des Solidaritätszuschlags schrit...  \n",
       "3421  - **Wirtschaft und Innovationsförderung:**\\n  ...  \n",
       "3422  - **Wirtschaft und Innovationsförderung:**\\n  ...  \n",
       "\n",
       "[1181 rows x 20 columns]"
      ]
     },
     "execution_count": 13,
     "metadata": {},
     "output_type": "execute_result"
    }
   ],
   "source": [
    "predictions"
   ]
  },
  {
   "cell_type": "code",
   "execution_count": null,
   "id": "71676f39",
   "metadata": {},
   "outputs": [],
   "source": []
  }
 ],
 "metadata": {
  "kernelspec": {
   "display_name": "langchain",
   "language": "python",
   "name": "python3"
  },
  "language_info": {
   "codemirror_mode": {
    "name": "ipython",
    "version": 3
   },
   "file_extension": ".py",
   "mimetype": "text/x-python",
   "name": "python",
   "nbconvert_exporter": "python",
   "pygments_lexer": "ipython3",
   "version": "3.13.2"
  }
 },
 "nbformat": 4,
 "nbformat_minor": 5
}
