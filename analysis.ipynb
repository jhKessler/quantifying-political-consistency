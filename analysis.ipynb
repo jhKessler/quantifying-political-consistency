{
 "cells": [
  {
   "cell_type": "code",
   "execution_count": 5,
   "id": "13459f39",
   "metadata": {},
   "outputs": [],
   "source": [
    "import pandas as pd\n",
    "import plotly.express as px\n",
    "from src import config\n",
    "from tqdm import tqdm\n",
    "from src.utils.llm.openai_client import get_proposer\n",
    "predictions = pd.read_parquet(\"output/predictions.parquet\")"
   ]
  },
  {
   "cell_type": "code",
   "execution_count": 11,
   "id": "acb7312e",
   "metadata": {},
   "outputs": [
    {
     "name": "stderr",
     "output_type": "stream",
     "text": [
      "\u001b[32m2025-05-31 12:21:00.906\u001b[0m | \u001b[1mINFO    \u001b[0m | \u001b[36msrc.feature_engineering.categories\u001b[0m:\u001b[36mget_category_column\u001b[0m:\u001b[36m36\u001b[0m - \u001b[1mCalculating closest categories through embeddings\u001b[0m\n",
      "\u001b[32m2025-05-31 12:21:00.907\u001b[0m | \u001b[1mINFO    \u001b[0m | \u001b[36msrc.feature_engineering.categories\u001b[0m:\u001b[36mget_embeddings\u001b[0m:\u001b[36m13\u001b[0m - \u001b[1mLoading existing categories embeddings...\u001b[0m\n"
     ]
    }
   ],
   "source": [
    "from src.feature_engineering.categories import get_category_column\n",
    "from src.feature_engineering.legislature_period import get_legislature_period_metadata\n",
    "from src.feature_engineering.mirror_beschlussempfehlung import prepare_final_dataset\n",
    "\n",
    "\n",
    "dataset = prepare_final_dataset()\n",
    "dataset[\"category\"] = get_category_column(dataset[\"summary_embedding\"])\n",
    "\n",
    "dataset[\"metadata\"] = dataset.apply(\n",
    "    lambda row: get_legislature_period_metadata(row[\"party\"], row[\"date\"]), axis=1\n",
    ")\n",
    "dataset[[\n",
    "    \"is_governing\",\n",
    "    \"bundestag\",\n",
    "]] = dataset[\"metadata\"].apply(pd.Series)\n",
    "dataset.drop(columns=[\"metadata\"], inplace=True)\n",
    "dataset[\"vote_correct\"] = (dataset[\"prediction\"] == dataset[\"ground_truth\"])"
   ]
  },
  {
   "cell_type": "code",
   "execution_count": 45,
   "id": "951ffd13",
   "metadata": {},
   "outputs": [
    {
     "data": {
      "text/html": [
       "<div>\n",
       "<style scoped>\n",
       "    .dataframe tbody tr th:only-of-type {\n",
       "        vertical-align: middle;\n",
       "    }\n",
       "\n",
       "    .dataframe tbody tr th {\n",
       "        vertical-align: top;\n",
       "    }\n",
       "\n",
       "    .dataframe thead th {\n",
       "        text-align: right;\n",
       "    }\n",
       "</style>\n",
       "<table border=\"1\" class=\"dataframe\">\n",
       "  <thead>\n",
       "    <tr style=\"text-align: right;\">\n",
       "      <th></th>\n",
       "      <th>vote_id</th>\n",
       "      <th>type</th>\n",
       "      <th>drucksache_title</th>\n",
       "      <th>drucksache_id</th>\n",
       "      <th>beschlussempfehlung</th>\n",
       "      <th>content</th>\n",
       "      <th>summary</th>\n",
       "      <th>summary_embedding</th>\n",
       "      <th>date</th>\n",
       "      <th>proposers</th>\n",
       "    </tr>\n",
       "  </thead>\n",
       "  <tbody>\n",
       "    <tr>\n",
       "      <th>0</th>\n",
       "      <td>20250318_3</td>\n",
       "      <td>Gesetzentwurf</td>\n",
       "      <td>Gesetzentwurf der Fraktionen der SPD und CDU/C...</td>\n",
       "      <td>20/15096</td>\n",
       "      <td>None</td>\n",
       "      <td>A. Problem Fundamentale Veränderungen der Sich...</td>\n",
       "      <td>Abgestimmt wird über die Einrichtung einer ver...</td>\n",
       "      <td>[0.009540573693811893, 0.03497336432337761, 0....</td>\n",
       "      <td>2025-03-18</td>\n",
       "      <td>[SPD, Union]</td>\n",
       "    </tr>\n",
       "    <tr>\n",
       "      <th>1</th>\n",
       "      <td>20250318_2</td>\n",
       "      <td>Änderungsantrag</td>\n",
       "      <td>Änderungsantrag der Fraktion der FDP zu der zw...</td>\n",
       "      <td>20/15120</td>\n",
       "      <td>None</td>\n",
       "      <td>Deutscher Bundestag Drucksache 20/15120 20. Wa...</td>\n",
       "      <td>Der Bundestag soll beschließen, das Grundgeset...</td>\n",
       "      <td>[0.011175020597875118, 0.03776725009083748, 0....</td>\n",
       "      <td>2025-03-18</td>\n",
       "      <td>[FDP]</td>\n",
       "    </tr>\n",
       "    <tr>\n",
       "      <th>2</th>\n",
       "      <td>20250318_1</td>\n",
       "      <td>Gesetzentwurf</td>\n",
       "      <td>Gesetzentwurf der Fraktion der FDP Entwurf ein...</td>\n",
       "      <td>20/15099</td>\n",
       "      <td>None</td>\n",
       "      <td>A. Problem Der russische Angriffskrieg gegen d...</td>\n",
       "      <td>Im Bundestag wird über die Erweiterung des Son...</td>\n",
       "      <td>[0.012960884720087051, 0.037686433643102646, 0...</td>\n",
       "      <td>2025-03-18</td>\n",
       "      <td>[FDP]</td>\n",
       "    </tr>\n",
       "    <tr>\n",
       "      <th>3</th>\n",
       "      <td>20250131_1</td>\n",
       "      <td>Gesetzentwurf</td>\n",
       "      <td>Gesetzentwurf der Fraktion der CDU/CSU Entwurf...</td>\n",
       "      <td>20/12804</td>\n",
       "      <td>None</td>\n",
       "      <td>A. Problem § 1 Absatz 1 Satz 1 bis 3 des Aufen...</td>\n",
       "      <td>Das Gesetz soll das Ziel der Begrenzung der Zu...</td>\n",
       "      <td>[0.04290461167693138, 0.07238075137138367, 0.0...</td>\n",
       "      <td>2025-01-31</td>\n",
       "      <td>[Union]</td>\n",
       "    </tr>\n",
       "    <tr>\n",
       "      <th>4</th>\n",
       "      <td>20241219_1</td>\n",
       "      <td>Gesetzentwurf</td>\n",
       "      <td>Gesetzentwurf der Fraktionen SPD, CDU/CSU, BÜN...</td>\n",
       "      <td>20/12977</td>\n",
       "      <td>None</td>\n",
       "      <td>A. Problem und Ziel Das Grundgesetz hat sich f...</td>\n",
       "      <td>Im Bundestag wird über einen Gesetzentwurf abg...</td>\n",
       "      <td>[-0.013081829994916916, 0.0215305108577013, 0....</td>\n",
       "      <td>2024-12-19</td>\n",
       "      <td>[SPD, Union, DIE_GRÜNEN, FDP]</td>\n",
       "    </tr>\n",
       "    <tr>\n",
       "      <th>...</th>\n",
       "      <td>...</td>\n",
       "      <td>...</td>\n",
       "      <td>...</td>\n",
       "      <td>...</td>\n",
       "      <td>...</td>\n",
       "      <td>...</td>\n",
       "      <td>...</td>\n",
       "      <td>...</td>\n",
       "      <td>...</td>\n",
       "      <td>...</td>\n",
       "    </tr>\n",
       "    <tr>\n",
       "      <th>658</th>\n",
       "      <td>20130131</td>\n",
       "      <td>Antrag</td>\n",
       "      <td>Antrag der Bundesregierung Fortsetzung der Bet...</td>\n",
       "      <td>17/11685</td>\n",
       "      <td>Annahme</td>\n",
       "      <td>Deutscher Bundestag Drucksache 17/11685 17. Wa...</td>\n",
       "      <td>Der Bundestag stimmt der Fortsetzung des Einsa...</td>\n",
       "      <td>[-0.018130291253328323, 0.036971572786569595, ...</td>\n",
       "      <td>2013-01-31</td>\n",
       "      <td>[Bundesregierung]</td>\n",
       "    </tr>\n",
       "    <tr>\n",
       "      <th>659</th>\n",
       "      <td>20121214_1</td>\n",
       "      <td>Antrag</td>\n",
       "      <td>Antrag der Bundesregierung Entsendung bewaffne...</td>\n",
       "      <td>17/11783</td>\n",
       "      <td>Annahme</td>\n",
       "      <td>Deutscher Bundestag Drucksache 17/11783 17. Wa...</td>\n",
       "      <td>Der Bundestag stimmt der Entsendung bewaffnete...</td>\n",
       "      <td>[-0.03251594305038452, 0.022284308448433876, 0...</td>\n",
       "      <td>2012-12-14</td>\n",
       "      <td>[Bundesregierung]</td>\n",
       "    </tr>\n",
       "    <tr>\n",
       "      <th>660</th>\n",
       "      <td>20121213_4</td>\n",
       "      <td>Antrag</td>\n",
       "      <td>Antrag der Bundesregierung Fortsetzung des Ein...</td>\n",
       "      <td>17/11466</td>\n",
       "      <td>Annahme</td>\n",
       "      <td>Deutscher Bundestag Drucksache 17/11466 17. Wa...</td>\n",
       "      <td>Der Bundestag stimmt der Fortsetzung des Einsa...</td>\n",
       "      <td>[-0.00255092466250062, 0.07303918898105621, 0....</td>\n",
       "      <td>2012-12-13</td>\n",
       "      <td>[Bundesregierung]</td>\n",
       "    </tr>\n",
       "    <tr>\n",
       "      <th>661</th>\n",
       "      <td>20121213_2</td>\n",
       "      <td>Antrag</td>\n",
       "      <td>Antrag der Abgeordneten Johanna Voß, Ulla Lötz...</td>\n",
       "      <td>17/11328</td>\n",
       "      <td>Ablehnung</td>\n",
       "      <td>Deutscher Bundestag Drucksache 17/11328 17. Wa...</td>\n",
       "      <td>Abgestimmt wird über ein Gesetz zur vollständi...</td>\n",
       "      <td>[-0.004911317024379969, 0.06889131665229797, 0...</td>\n",
       "      <td>2012-12-13</td>\n",
       "      <td>[DIE_LINKE]</td>\n",
       "    </tr>\n",
       "    <tr>\n",
       "      <th>662</th>\n",
       "      <td>20121213_2</td>\n",
       "      <td>Antrag</td>\n",
       "      <td>Antrag der Abgeordneten Oliver Krischer, Nicol...</td>\n",
       "      <td>17/11213</td>\n",
       "      <td>Ablehnung</td>\n",
       "      <td>Deutscher Bundestag Drucksache 17/11213 17. Wa...</td>\n",
       "      <td>Der Bundestag soll über ein Moratorium für die...</td>\n",
       "      <td>[0.003851190907880664, 0.06292638927698135, -0...</td>\n",
       "      <td>2012-12-13</td>\n",
       "      <td>[DIE_GRÜNEN]</td>\n",
       "    </tr>\n",
       "  </tbody>\n",
       "</table>\n",
       "<p>663 rows × 10 columns</p>\n",
       "</div>"
      ],
      "text/plain": [
       "        vote_id             type  \\\n",
       "0    20250318_3    Gesetzentwurf   \n",
       "1    20250318_2  Änderungsantrag   \n",
       "2    20250318_1    Gesetzentwurf   \n",
       "3    20250131_1    Gesetzentwurf   \n",
       "4    20241219_1    Gesetzentwurf   \n",
       "..          ...              ...   \n",
       "658    20130131           Antrag   \n",
       "659  20121214_1           Antrag   \n",
       "660  20121213_4           Antrag   \n",
       "661  20121213_2           Antrag   \n",
       "662  20121213_2           Antrag   \n",
       "\n",
       "                                      drucksache_title drucksache_id  \\\n",
       "0    Gesetzentwurf der Fraktionen der SPD und CDU/C...      20/15096   \n",
       "1    Änderungsantrag der Fraktion der FDP zu der zw...      20/15120   \n",
       "2    Gesetzentwurf der Fraktion der FDP Entwurf ein...      20/15099   \n",
       "3    Gesetzentwurf der Fraktion der CDU/CSU Entwurf...      20/12804   \n",
       "4    Gesetzentwurf der Fraktionen SPD, CDU/CSU, BÜN...      20/12977   \n",
       "..                                                 ...           ...   \n",
       "658  Antrag der Bundesregierung Fortsetzung der Bet...      17/11685   \n",
       "659  Antrag der Bundesregierung Entsendung bewaffne...      17/11783   \n",
       "660  Antrag der Bundesregierung Fortsetzung des Ein...      17/11466   \n",
       "661  Antrag der Abgeordneten Johanna Voß, Ulla Lötz...      17/11328   \n",
       "662  Antrag der Abgeordneten Oliver Krischer, Nicol...      17/11213   \n",
       "\n",
       "    beschlussempfehlung                                            content  \\\n",
       "0                  None  A. Problem Fundamentale Veränderungen der Sich...   \n",
       "1                  None  Deutscher Bundestag Drucksache 20/15120 20. Wa...   \n",
       "2                  None  A. Problem Der russische Angriffskrieg gegen d...   \n",
       "3                  None  A. Problem § 1 Absatz 1 Satz 1 bis 3 des Aufen...   \n",
       "4                  None  A. Problem und Ziel Das Grundgesetz hat sich f...   \n",
       "..                  ...                                                ...   \n",
       "658             Annahme  Deutscher Bundestag Drucksache 17/11685 17. Wa...   \n",
       "659             Annahme  Deutscher Bundestag Drucksache 17/11783 17. Wa...   \n",
       "660             Annahme  Deutscher Bundestag Drucksache 17/11466 17. Wa...   \n",
       "661           Ablehnung  Deutscher Bundestag Drucksache 17/11328 17. Wa...   \n",
       "662           Ablehnung  Deutscher Bundestag Drucksache 17/11213 17. Wa...   \n",
       "\n",
       "                                               summary  \\\n",
       "0    Abgestimmt wird über die Einrichtung einer ver...   \n",
       "1    Der Bundestag soll beschließen, das Grundgeset...   \n",
       "2    Im Bundestag wird über die Erweiterung des Son...   \n",
       "3    Das Gesetz soll das Ziel der Begrenzung der Zu...   \n",
       "4    Im Bundestag wird über einen Gesetzentwurf abg...   \n",
       "..                                                 ...   \n",
       "658  Der Bundestag stimmt der Fortsetzung des Einsa...   \n",
       "659  Der Bundestag stimmt der Entsendung bewaffnete...   \n",
       "660  Der Bundestag stimmt der Fortsetzung des Einsa...   \n",
       "661  Abgestimmt wird über ein Gesetz zur vollständi...   \n",
       "662  Der Bundestag soll über ein Moratorium für die...   \n",
       "\n",
       "                                     summary_embedding       date  \\\n",
       "0    [0.009540573693811893, 0.03497336432337761, 0.... 2025-03-18   \n",
       "1    [0.011175020597875118, 0.03776725009083748, 0.... 2025-03-18   \n",
       "2    [0.012960884720087051, 0.037686433643102646, 0... 2025-03-18   \n",
       "3    [0.04290461167693138, 0.07238075137138367, 0.0... 2025-01-31   \n",
       "4    [-0.013081829994916916, 0.0215305108577013, 0.... 2024-12-19   \n",
       "..                                                 ...        ...   \n",
       "658  [-0.018130291253328323, 0.036971572786569595, ... 2013-01-31   \n",
       "659  [-0.03251594305038452, 0.022284308448433876, 0... 2012-12-14   \n",
       "660  [-0.00255092466250062, 0.07303918898105621, 0.... 2012-12-13   \n",
       "661  [-0.004911317024379969, 0.06889131665229797, 0... 2012-12-13   \n",
       "662  [0.003851190907880664, 0.06292638927698135, -0... 2012-12-13   \n",
       "\n",
       "                         proposers  \n",
       "0                     [SPD, Union]  \n",
       "1                            [FDP]  \n",
       "2                            [FDP]  \n",
       "3                          [Union]  \n",
       "4    [SPD, Union, DIE_GRÜNEN, FDP]  \n",
       "..                             ...  \n",
       "658              [Bundesregierung]  \n",
       "659              [Bundesregierung]  \n",
       "660              [Bundesregierung]  \n",
       "661                    [DIE_LINKE]  \n",
       "662                   [DIE_GRÜNEN]  \n",
       "\n",
       "[663 rows x 10 columns]"
      ]
     },
     "execution_count": 45,
     "metadata": {},
     "output_type": "execute_result"
    }
   ],
   "source": [
    "from src.votes.build import is_own_proposal\n",
    "\n",
    "\n",
    "votes = pd.read_parquet(\"output/votes.parquet\")\n",
    "\n",
    "votes\n"
   ]
  },
  {
   "cell_type": "code",
   "execution_count": 1,
   "id": "03b9d287",
   "metadata": {},
   "outputs": [
    {
     "name": "stderr",
     "output_type": "stream",
     "text": [
      "\u001b[32m2025-05-31 14:20:29.937\u001b[0m | \u001b[1mINFO    \u001b[0m | \u001b[36msrc.votes.gather\u001b[0m:\u001b[36mscrape_urls\u001b[0m:\u001b[36m56\u001b[0m - \u001b[1mVote metadata already exists. Skipping scraping.\u001b[0m\n",
      "Downloading and summarizing manifestos:   0%|          | 0/29 [00:00<?, ?manifesto/s]\u001b[32m2025-05-31 14:20:30.005\u001b[0m | \u001b[1mINFO    \u001b[0m | \u001b[36msrc.manifestos.download\u001b[0m:\u001b[36mdownload_manifestos\u001b[0m:\u001b[36m40\u001b[0m - \u001b[1mManifesto for FDP 2009 already downloaded. Skipping.\u001b[0m\n",
      "\u001b[32m2025-05-31 14:20:30.006\u001b[0m | \u001b[1mINFO    \u001b[0m | \u001b[36msrc.manifestos.download\u001b[0m:\u001b[36mdownload_manifestos\u001b[0m:\u001b[36m40\u001b[0m - \u001b[1mManifesto for FDP 2013 already downloaded. Skipping.\u001b[0m\n",
      "\u001b[32m2025-05-31 14:20:30.007\u001b[0m | \u001b[1mINFO    \u001b[0m | \u001b[36msrc.manifestos.download\u001b[0m:\u001b[36mdownload_manifestos\u001b[0m:\u001b[36m40\u001b[0m - \u001b[1mManifesto for FDP 2017 already downloaded. Skipping.\u001b[0m\n",
      "\u001b[32m2025-05-31 14:20:30.008\u001b[0m | \u001b[1mINFO    \u001b[0m | \u001b[36msrc.manifestos.download\u001b[0m:\u001b[36mdownload_manifestos\u001b[0m:\u001b[36m40\u001b[0m - \u001b[1mManifesto for FDP 2021 already downloaded. Skipping.\u001b[0m\n",
      "\u001b[32m2025-05-31 14:20:30.009\u001b[0m | \u001b[1mINFO    \u001b[0m | \u001b[36msrc.manifestos.download\u001b[0m:\u001b[36mdownload_manifestos\u001b[0m:\u001b[36m40\u001b[0m - \u001b[1mManifesto for FDP 2025 already downloaded. Skipping.\u001b[0m\n",
      "\u001b[32m2025-05-31 14:20:30.010\u001b[0m | \u001b[1mINFO    \u001b[0m | \u001b[36msrc.manifestos.download\u001b[0m:\u001b[36mdownload_manifestos\u001b[0m:\u001b[36m40\u001b[0m - \u001b[1mManifesto for SPD 2009 already downloaded. Skipping.\u001b[0m\n",
      "\u001b[32m2025-05-31 14:20:30.010\u001b[0m | \u001b[1mINFO    \u001b[0m | \u001b[36msrc.manifestos.download\u001b[0m:\u001b[36mdownload_manifestos\u001b[0m:\u001b[36m40\u001b[0m - \u001b[1mManifesto for SPD 2013 already downloaded. Skipping.\u001b[0m\n",
      "\u001b[32m2025-05-31 14:20:30.011\u001b[0m | \u001b[1mINFO    \u001b[0m | \u001b[36msrc.manifestos.download\u001b[0m:\u001b[36mdownload_manifestos\u001b[0m:\u001b[36m40\u001b[0m - \u001b[1mManifesto for SPD 2017 already downloaded. Skipping.\u001b[0m\n",
      "\u001b[32m2025-05-31 14:20:30.012\u001b[0m | \u001b[1mINFO    \u001b[0m | \u001b[36msrc.manifestos.download\u001b[0m:\u001b[36mdownload_manifestos\u001b[0m:\u001b[36m40\u001b[0m - \u001b[1mManifesto for SPD 2021 already downloaded. Skipping.\u001b[0m\n",
      "\u001b[32m2025-05-31 14:20:30.013\u001b[0m | \u001b[1mINFO    \u001b[0m | \u001b[36msrc.manifestos.download\u001b[0m:\u001b[36mdownload_manifestos\u001b[0m:\u001b[36m40\u001b[0m - \u001b[1mManifesto for SPD 2025 already downloaded. Skipping.\u001b[0m\n",
      "\u001b[32m2025-05-31 14:20:30.014\u001b[0m | \u001b[1mINFO    \u001b[0m | \u001b[36msrc.manifestos.download\u001b[0m:\u001b[36mdownload_manifestos\u001b[0m:\u001b[36m40\u001b[0m - \u001b[1mManifesto for Union 2009 already downloaded. Skipping.\u001b[0m\n",
      "\u001b[32m2025-05-31 14:20:30.014\u001b[0m | \u001b[1mINFO    \u001b[0m | \u001b[36msrc.manifestos.download\u001b[0m:\u001b[36mdownload_manifestos\u001b[0m:\u001b[36m40\u001b[0m - \u001b[1mManifesto for Union 2013 already downloaded. Skipping.\u001b[0m\n",
      "\u001b[32m2025-05-31 14:20:30.015\u001b[0m | \u001b[1mINFO    \u001b[0m | \u001b[36msrc.manifestos.download\u001b[0m:\u001b[36mdownload_manifestos\u001b[0m:\u001b[36m40\u001b[0m - \u001b[1mManifesto for Union 2017 already downloaded. Skipping.\u001b[0m\n",
      "\u001b[32m2025-05-31 14:20:30.016\u001b[0m | \u001b[1mINFO    \u001b[0m | \u001b[36msrc.manifestos.download\u001b[0m:\u001b[36mdownload_manifestos\u001b[0m:\u001b[36m40\u001b[0m - \u001b[1mManifesto for Union 2021 already downloaded. Skipping.\u001b[0m\n",
      "\u001b[32m2025-05-31 14:20:30.017\u001b[0m | \u001b[1mINFO    \u001b[0m | \u001b[36msrc.manifestos.download\u001b[0m:\u001b[36mdownload_manifestos\u001b[0m:\u001b[36m40\u001b[0m - \u001b[1mManifesto for Union 2025 already downloaded. Skipping.\u001b[0m\n",
      "\u001b[32m2025-05-31 14:20:30.018\u001b[0m | \u001b[1mINFO    \u001b[0m | \u001b[36msrc.manifestos.download\u001b[0m:\u001b[36mdownload_manifestos\u001b[0m:\u001b[36m40\u001b[0m - \u001b[1mManifesto for DIE_LINKE 2009 already downloaded. Skipping.\u001b[0m\n",
      "\u001b[32m2025-05-31 14:20:30.018\u001b[0m | \u001b[1mINFO    \u001b[0m | \u001b[36msrc.manifestos.download\u001b[0m:\u001b[36mdownload_manifestos\u001b[0m:\u001b[36m40\u001b[0m - \u001b[1mManifesto for DIE_LINKE 2013 already downloaded. Skipping.\u001b[0m\n",
      "\u001b[32m2025-05-31 14:20:30.019\u001b[0m | \u001b[1mINFO    \u001b[0m | \u001b[36msrc.manifestos.download\u001b[0m:\u001b[36mdownload_manifestos\u001b[0m:\u001b[36m40\u001b[0m - \u001b[1mManifesto for DIE_LINKE 2017 already downloaded. Skipping.\u001b[0m\n",
      "\u001b[32m2025-05-31 14:20:30.021\u001b[0m | \u001b[1mINFO    \u001b[0m | \u001b[36msrc.manifestos.download\u001b[0m:\u001b[36mdownload_manifestos\u001b[0m:\u001b[36m40\u001b[0m - \u001b[1mManifesto for DIE_LINKE 2021 already downloaded. Skipping.\u001b[0m\n",
      "\u001b[32m2025-05-31 14:20:30.022\u001b[0m | \u001b[1mINFO    \u001b[0m | \u001b[36msrc.manifestos.download\u001b[0m:\u001b[36mdownload_manifestos\u001b[0m:\u001b[36m40\u001b[0m - \u001b[1mManifesto for DIE_LINKE 2025 already downloaded. Skipping.\u001b[0m\n",
      "\u001b[32m2025-05-31 14:20:30.023\u001b[0m | \u001b[1mINFO    \u001b[0m | \u001b[36msrc.manifestos.download\u001b[0m:\u001b[36mdownload_manifestos\u001b[0m:\u001b[36m40\u001b[0m - \u001b[1mManifesto for AfD 2013 already downloaded. Skipping.\u001b[0m\n",
      "\u001b[32m2025-05-31 14:20:30.024\u001b[0m | \u001b[1mINFO    \u001b[0m | \u001b[36msrc.manifestos.download\u001b[0m:\u001b[36mdownload_manifestos\u001b[0m:\u001b[36m40\u001b[0m - \u001b[1mManifesto for AfD 2017 already downloaded. Skipping.\u001b[0m\n",
      "\u001b[32m2025-05-31 14:20:30.024\u001b[0m | \u001b[1mINFO    \u001b[0m | \u001b[36msrc.manifestos.download\u001b[0m:\u001b[36mdownload_manifestos\u001b[0m:\u001b[36m40\u001b[0m - \u001b[1mManifesto for AfD 2021 already downloaded. Skipping.\u001b[0m\n",
      "\u001b[32m2025-05-31 14:20:30.026\u001b[0m | \u001b[1mINFO    \u001b[0m | \u001b[36msrc.manifestos.download\u001b[0m:\u001b[36mdownload_manifestos\u001b[0m:\u001b[36m40\u001b[0m - \u001b[1mManifesto for AfD 2025 already downloaded. Skipping.\u001b[0m\n",
      "\u001b[32m2025-05-31 14:20:30.026\u001b[0m | \u001b[1mINFO    \u001b[0m | \u001b[36msrc.manifestos.download\u001b[0m:\u001b[36mdownload_manifestos\u001b[0m:\u001b[36m40\u001b[0m - \u001b[1mManifesto for DIE_GRÜNEN 2009 already downloaded. Skipping.\u001b[0m\n",
      "\u001b[32m2025-05-31 14:20:30.027\u001b[0m | \u001b[1mINFO    \u001b[0m | \u001b[36msrc.manifestos.download\u001b[0m:\u001b[36mdownload_manifestos\u001b[0m:\u001b[36m40\u001b[0m - \u001b[1mManifesto for DIE_GRÜNEN 2013 already downloaded. Skipping.\u001b[0m\n",
      "\u001b[32m2025-05-31 14:20:30.028\u001b[0m | \u001b[1mINFO    \u001b[0m | \u001b[36msrc.manifestos.download\u001b[0m:\u001b[36mdownload_manifestos\u001b[0m:\u001b[36m40\u001b[0m - \u001b[1mManifesto for DIE_GRÜNEN 2017 already downloaded. Skipping.\u001b[0m\n",
      "\u001b[32m2025-05-31 14:20:30.029\u001b[0m | \u001b[1mINFO    \u001b[0m | \u001b[36msrc.manifestos.download\u001b[0m:\u001b[36mdownload_manifestos\u001b[0m:\u001b[36m40\u001b[0m - \u001b[1mManifesto for DIE_GRÜNEN 2021 already downloaded. Skipping.\u001b[0m\n",
      "\u001b[32m2025-05-31 14:20:30.030\u001b[0m | \u001b[1mINFO    \u001b[0m | \u001b[36msrc.manifestos.download\u001b[0m:\u001b[36mdownload_manifestos\u001b[0m:\u001b[36m40\u001b[0m - \u001b[1mManifesto for DIE_GRÜNEN 2025 already downloaded. Skipping.\u001b[0m\n",
      "Downloading and summarizing manifestos: 100%|██████████| 29/29 [00:00<00:00, 1098.85manifesto/s]\n",
      "\u001b[32m2025-05-31 14:20:30.031\u001b[0m | \u001b[1mINFO    \u001b[0m | \u001b[36msrc.manifestos.download\u001b[0m:\u001b[36mdownload_manifestos\u001b[0m:\u001b[36m66\u001b[0m - \u001b[1mSaving cleaned manifestos to parquet file at output\\cleaned_manifestos.parquet.\u001b[0m\n",
      "\u001b[32m2025-05-31 14:20:30.084\u001b[0m | \u001b[1mINFO    \u001b[0m | \u001b[36msrc.votes.build\u001b[0m:\u001b[36mbuild_entrypoints\u001b[0m:\u001b[36m91\u001b[0m - \u001b[1mCalculating vote results...\u001b[0m\n",
      "Building vote entrypoints:   2%|▏         | 11/706 [00:09<07:55,  1.46vote/s]\u001b[32m2025-05-31 14:20:39.259\u001b[0m | \u001b[31m\u001b[1mERROR   \u001b[0m | \u001b[36msrc.votes.build\u001b[0m:\u001b[36mbuild_entrypoints\u001b[0m:\u001b[36m103\u001b[0m - \u001b[31m\u001b[1mError building vote 11: Title not found in 11\u001b[0m\n",
      "Building vote entrypoints:  13%|█▎        | 89/706 [01:41<09:20,  1.10vote/s]\u001b[32m2025-05-31 14:22:11.414\u001b[0m | \u001b[31m\u001b[1mERROR   \u001b[0m | \u001b[36msrc.votes.build\u001b[0m:\u001b[36mdownload_vote_documents\u001b[0m:\u001b[36m47\u001b[0m - \u001b[31m\u001b[1mError downloading 76/787: 404 Client Error: Not Found for url: https://dserver.bundestag.de/btd/76/007/7600787.pdf\u001b[0m\n",
      "Building vote entrypoints:  18%|█▊        | 125/706 [02:17<10:46,  1.11s/vote]\u001b[32m2025-05-31 14:22:48.182\u001b[0m | \u001b[31m\u001b[1mERROR   \u001b[0m | \u001b[36msrc.votes.build\u001b[0m:\u001b[36mbuild_entrypoints\u001b[0m:\u001b[36m103\u001b[0m - \u001b[31m\u001b[1mError building vote 125: Title not found in 125\u001b[0m\n",
      "Building vote entrypoints:  18%|█▊        | 126/706 [02:18<07:49,  1.23vote/s]\u001b[32m2025-05-31 14:22:48.284\u001b[0m | \u001b[33m\u001b[1mWARNING \u001b[0m | \u001b[36msrc.votes.build\u001b[0m:\u001b[36mbuild_vote\u001b[0m:\u001b[36m62\u001b[0m - \u001b[33m\u001b[1mNo drucksachen found for vote 126.\u001b[0m\n",
      "Building vote entrypoints:  22%|██▏       | 152/706 [02:46<11:34,  1.25s/vote]\u001b[32m2025-05-31 14:23:16.871\u001b[0m | \u001b[33m\u001b[1mWARNING \u001b[0m | \u001b[36msrc.votes.get_entrypoint\u001b[0m:\u001b[36mget_entrypoint\u001b[0m:\u001b[36m41\u001b[0m - \u001b[33m\u001b[1mNo drucksachen of type Gesetzentwurf found for vote Gesetzentwurf der Fraktionen SPD, BÜNDNIS 90/DIE GRÜNEN und FDP Entwurf eines Vierten Gesetzes zur Änderung des Bundesnaturschutzgesetzes Drs. 20/ 2354, 20/2593 und 20/2658. Using all available drucksachen.\u001b[0m\n",
      "Building vote entrypoints:  22%|██▏       | 157/706 [02:52<10:15,  1.12s/vote]\u001b[32m2025-05-31 14:23:22.377\u001b[0m | \u001b[33m\u001b[1mWARNING \u001b[0m | \u001b[36msrc.votes.get_entrypoint\u001b[0m:\u001b[36mget_entrypoint\u001b[0m:\u001b[36m41\u001b[0m - \u001b[33m\u001b[1mNo drucksachen of type Gesetzentwurf found for vote Gesetzentwurf der Bundesregierung Entwurf eines Gesetzes zur Errichtung eines \"Sondervermögens Bundeswehr\" (Bundeswehrsondervermögensgesetz - BwSVermG) Drs. 20/149 und 20/2090. Using all available drucksachen.\u001b[0m\n",
      "Building vote entrypoints:  25%|██▍       | 175/706 [03:10<09:28,  1.07s/vote]\u001b[32m2025-05-31 14:23:40.802\u001b[0m | \u001b[31m\u001b[1mERROR   \u001b[0m | \u001b[36msrc.votes.build\u001b[0m:\u001b[36mbuild_entrypoints\u001b[0m:\u001b[36m103\u001b[0m - \u001b[31m\u001b[1mError building vote 175: Title not found in 175\u001b[0m\n",
      "Building vote entrypoints:  28%|██▊       | 200/706 [03:30<08:15,  1.02vote/s]\u001b[32m2025-05-31 14:24:00.550\u001b[0m | \u001b[31m\u001b[1mERROR   \u001b[0m | \u001b[36msrc.votes.build\u001b[0m:\u001b[36mbuild_entrypoints\u001b[0m:\u001b[36m103\u001b[0m - \u001b[31m\u001b[1mError building vote 200: Title not found in 200\u001b[0m\n",
      "Building vote entrypoints:  34%|███▍      | 240/706 [04:11<08:14,  1.06s/vote]\u001b[32m2025-05-31 14:24:41.765\u001b[0m | \u001b[33m\u001b[1mWARNING \u001b[0m | \u001b[36msrc.votes.build\u001b[0m:\u001b[36mbuild_vote\u001b[0m:\u001b[36m62\u001b[0m - \u001b[33m\u001b[1mNo drucksachen found for vote 240.\u001b[0m\n",
      "Building vote entrypoints:  36%|███▋      | 257/706 [04:29<08:18,  1.11s/vote]\u001b[32m2025-05-31 14:24:59.969\u001b[0m | \u001b[31m\u001b[1mERROR   \u001b[0m | \u001b[36msrc.votes.build\u001b[0m:\u001b[36mbuild_entrypoints\u001b[0m:\u001b[36m103\u001b[0m - \u001b[31m\u001b[1mError building vote 257: Title not found in 257\u001b[0m\n",
      "Building vote entrypoints:  37%|███▋      | 262/706 [04:35<10:28,  1.41s/vote]\u001b[32m2025-05-31 14:25:06.304\u001b[0m | \u001b[31m\u001b[1mERROR   \u001b[0m | \u001b[36msrc.votes.build\u001b[0m:\u001b[36mdownload_vote_documents\u001b[0m:\u001b[36m47\u001b[0m - \u001b[31m\u001b[1mError downloading 96/71: 404 Client Error: Not Found for url: https://dserver.bundestag.de/btd/96/000/9600071.pdf\u001b[0m\n",
      "Building vote entrypoints:  41%|████      | 287/706 [05:00<05:16,  1.32vote/s]\u001b[32m2025-05-31 14:25:30.614\u001b[0m | \u001b[33m\u001b[1mWARNING \u001b[0m | \u001b[36msrc.votes.get_entrypoint\u001b[0m:\u001b[36mget_entrypoint\u001b[0m:\u001b[36m41\u001b[0m - \u001b[33m\u001b[1mNo drucksachen of type Entschließungsantrag found for vote Entschließungsantrag der Abgeordneten Dr. Kirsten Tackmann, Ralph Lenkert, Dr. Gesine Lötzsch, weiterer Abgeordneter und der Fraktion DIE LINKE. Entwurf eines Zweiten Gesetzes zur Änderung des Bundesnaturschutzgesetzes - Drucksachen 19/10899, 19/13289, 19/16148 und 16151 -. Using all available drucksachen.\u001b[0m\n",
      "Building vote entrypoints:  42%|████▏     | 293/706 [05:07<07:45,  1.13s/vote]\u001b[32m2025-05-31 14:25:37.583\u001b[0m | \u001b[33m\u001b[1mWARNING \u001b[0m | \u001b[36msrc.votes.get_entrypoint\u001b[0m:\u001b[36mget_entrypoint\u001b[0m:\u001b[36m41\u001b[0m - \u001b[33m\u001b[1mNo drucksachen of type Entschließungsantrag found for vote Entschließungsantrag der Abgeordneten Stefan Keuter, Albrecht Glaser, Franziska Gminder, weiterer Abgeordneter und der Fraktion der AfD auf Drs. 15512 zu der dritten Beratung des Gesetzentwurfs der Bundesregierung Drs. 19/11800, 19/11802, 19/13923, 19/13925 und 19/13926 Entwurf eines Gesetzes über die Feststellung des Bundeshaushaltsplans für das Haushaltsjahr 2020 (Haushaltsgesetz 2020). Using all available drucksachen.\u001b[0m\n",
      "Building vote entrypoints:  42%|████▏     | 294/706 [05:08<07:57,  1.16s/vote]\u001b[32m2025-05-31 14:25:38.794\u001b[0m | \u001b[33m\u001b[1mWARNING \u001b[0m | \u001b[36msrc.votes.get_entrypoint\u001b[0m:\u001b[36mget_entrypoint\u001b[0m:\u001b[36m41\u001b[0m - \u001b[33m\u001b[1mNo drucksachen of type Entschließungsantrag found for vote Entschließungsantrag der Abgeordneten Rüdiger Lucassen, Marc Bernhard, Stephan Brandner, weiterer Abgeordneter und der Fraktion der AfD auf Drucksache 15507 zu der dritten Beratung des Gesetzentwurfs der Bundesregierung Drs. 19/11800, 19/11802, 19/13913, 19/13924, 19/13925 und 19/13926. Using all available drucksachen.\u001b[0m\n",
      "Building vote entrypoints:  42%|████▏     | 296/706 [05:11<08:37,  1.26s/vote]\u001b[32m2025-05-31 14:25:41.342\u001b[0m | \u001b[31m\u001b[1mERROR   \u001b[0m | \u001b[36msrc.votes.build\u001b[0m:\u001b[36mbuild_entrypoints\u001b[0m:\u001b[36m103\u001b[0m - \u001b[31m\u001b[1mError building vote 296: Title not found in 296\u001b[0m\n",
      "Building vote entrypoints:  49%|████▉     | 347/706 [06:05<08:11,  1.37s/vote]"
     ]
    },
    {
     "name": "stdout",
     "output_type": "stream",
     "text": [
      "WARNING *** OLE2 inconsistency: SSCS size is 0 but SSAT size is non-zero\n"
     ]
    },
    {
     "name": "stderr",
     "output_type": "stream",
     "text": [
      "Building vote entrypoints:  51%|█████     | 358/706 [06:15<05:29,  1.05vote/s]\u001b[32m2025-05-31 14:26:45.214\u001b[0m | \u001b[31m\u001b[1mERROR   \u001b[0m | \u001b[36msrc.votes.build\u001b[0m:\u001b[36mbuild_entrypoints\u001b[0m:\u001b[36m103\u001b[0m - \u001b[31m\u001b[1mError building vote 358: Title not found in 358\u001b[0m\n",
      "Building vote entrypoints:  52%|█████▏    | 365/706 [06:20<05:01,  1.13vote/s]\u001b[32m2025-05-31 14:26:51.030\u001b[0m | \u001b[33m\u001b[1mWARNING \u001b[0m | \u001b[36msrc.votes.get_entrypoint\u001b[0m:\u001b[36mget_entrypoint\u001b[0m:\u001b[36m41\u001b[0m - \u001b[33m\u001b[1mNo drucksachen of type Änderungsantrag found for vote Änderungsantrag der Abgeordneten Christian Kühn (Tübingen), Canan Bayram, Daniela Wagner, weiterer Abgeordneter und der Fraktion BÜNDNIS 90/DIE GRÜNEN zu der zweiten Beratung des Gesetzentwurfs der Bundesregierung Entwurf eines Gesetzes zur Ergänzung der Regelungen über die zulässige Miethöhe bei Mietbeginn und zur Anpassung der Regelungen über die Modernisierung der Mietsache (Mietrechtsanpassungsgesetz - MietAnpG). Using all available drucksachen.\u001b[0m\n",
      "Building vote entrypoints:  52%|█████▏    | 366/706 [06:21<05:19,  1.06vote/s]\u001b[32m2025-05-31 14:26:52.123\u001b[0m | \u001b[33m\u001b[1mWARNING \u001b[0m | \u001b[36msrc.votes.get_entrypoint\u001b[0m:\u001b[36mget_entrypoint\u001b[0m:\u001b[36m41\u001b[0m - \u001b[33m\u001b[1mNo drucksachen of type Änderungsantrag found for vote Änderungsantrag der Abgeordneten Caren Lay, Dr. Gesine Lötzsch, Dr. André Hahn, Gökay Akbulut, Lorenz Gösta Beutin, Heidrun Bluhm, Jörg Cezanne, Kerstin Kassner, Sabine Leidig, Ralph Lenkert, Michael Leutert, Amira Mohamd Ali, Niema Movassat, Victor Perli, Ingrid Remmers, Martina Renner, Friedrich Straetmanns, Dr. Kirsten Tackmann, Andreas Wagner, Hubertus Zdebel und der Fraktion DIE LINKE. zu der zweiten Beratung des Gesetzentwurfs der Bundesregierung Entwurf eines Gesetzes zur Ergänzung der Regelungen über die zulässige Miethöhe bei Mietbeginn und zur Anpassung der Regelungen über die Modernisierung der Mietsache (Mietrechtsanpassungsgesetz - MietAnpG). Using all available drucksachen.\u001b[0m\n",
      "Building vote entrypoints:  53%|█████▎    | 375/706 [06:31<05:51,  1.06s/vote]\u001b[32m2025-05-31 14:27:01.970\u001b[0m | \u001b[33m\u001b[1mWARNING \u001b[0m | \u001b[36msrc.votes.build\u001b[0m:\u001b[36mbuild_vote\u001b[0m:\u001b[36m62\u001b[0m - \u001b[33m\u001b[1mNo drucksachen found for vote 375.\u001b[0m\n",
      "Building vote entrypoints:  58%|█████▊    | 407/706 [07:00<05:30,  1.10s/vote]\u001b[32m2025-05-31 14:27:30.238\u001b[0m | \u001b[31m\u001b[1mERROR   \u001b[0m | \u001b[36msrc.votes.build\u001b[0m:\u001b[36mbuild_entrypoints\u001b[0m:\u001b[36m103\u001b[0m - \u001b[31m\u001b[1mError building vote 407: Title not found in 407\u001b[0m\n",
      "Building vote entrypoints:  59%|█████▉    | 415/706 [07:07<05:34,  1.15s/vote]\u001b[32m2025-05-31 14:27:37.601\u001b[0m | \u001b[33m\u001b[1mWARNING \u001b[0m | \u001b[36msrc.votes.build\u001b[0m:\u001b[36mbuild_vote\u001b[0m:\u001b[36m62\u001b[0m - \u001b[33m\u001b[1mNo drucksachen found for vote 415.\u001b[0m\n",
      "Building vote entrypoints:  64%|██████▎   | 449/706 [07:39<04:15,  1.01vote/s]\u001b[32m2025-05-31 14:28:09.709\u001b[0m | \u001b[33m\u001b[1mWARNING \u001b[0m | \u001b[36msrc.votes.get_entrypoint\u001b[0m:\u001b[36mget_entrypoint\u001b[0m:\u001b[36m41\u001b[0m - \u001b[33m\u001b[1mNo drucksachen of type Änderungsantrag found for vote Änderungsantrag der Abgeordneten Roland Claus, Dr. Gesine Lötzsch, Caren Lay, weiterer Abgeordneter und der Fraktion DIE LINKE. zu der zweiten Beratung des Gesetzentwurfs der Bundesregierung. Entwurf eines Gesetzes zur Neuregelung des bundesstaatlichen Finanzausgleichssystems ab dem Jahr 2020 und zur Änderung haushaltsrechtlicher Vorschriften. Using all available drucksachen.\u001b[0m\n",
      "Building vote entrypoints:  64%|██████▍   | 451/706 [07:41<04:25,  1.04s/vote]\u001b[32m2025-05-31 14:28:12.114\u001b[0m | \u001b[31m\u001b[1mERROR   \u001b[0m | \u001b[36msrc.votes.build\u001b[0m:\u001b[36mdownload_vote_documents\u001b[0m:\u001b[36m47\u001b[0m - \u001b[31m\u001b[1mError downloading 11/12207: 404 Client Error: Not Found for url: https://dserver.bundestag.de/btd/11/122/1112207.pdf\u001b[0m\n",
      "Building vote entrypoints:  69%|██████▉   | 489/706 [08:24<02:20,  1.54vote/s]"
     ]
    },
    {
     "name": "stdout",
     "output_type": "stream",
     "text": [
      "WARNING *** OLE2 inconsistency: SSCS size is 0 but SSAT size is non-zero\n"
     ]
    },
    {
     "name": "stderr",
     "output_type": "stream",
     "text": [
      "Building vote entrypoints:  74%|███████▍  | 522/706 [09:01<04:40,  1.53s/vote]\u001b[32m2025-05-31 14:29:31.692\u001b[0m | \u001b[31m\u001b[1mERROR   \u001b[0m | \u001b[36msrc.votes.build\u001b[0m:\u001b[36mbuild_entrypoints\u001b[0m:\u001b[36m103\u001b[0m - \u001b[31m\u001b[1mError building vote 522: Title not found in 522\u001b[0m\n",
      "\u001b[32m2025-05-31 14:29:31.746\u001b[0m | \u001b[31m\u001b[1mERROR   \u001b[0m | \u001b[36msrc.votes.build\u001b[0m:\u001b[36mbuild_entrypoints\u001b[0m:\u001b[36m103\u001b[0m - \u001b[31m\u001b[1mError building vote 523: Title not found in 523\u001b[0m\n",
      "Building vote entrypoints:  75%|███████▍  | 527/706 [09:05<03:38,  1.22s/vote]\u001b[32m2025-05-31 14:29:35.958\u001b[0m | \u001b[31m\u001b[1mERROR   \u001b[0m | \u001b[36msrc.votes.build\u001b[0m:\u001b[36mbuild_entrypoints\u001b[0m:\u001b[36m103\u001b[0m - \u001b[31m\u001b[1mError building vote 527: Title not found in 527\u001b[0m\n",
      "Building vote entrypoints:  80%|███████▉  | 564/706 [09:41<02:30,  1.06s/vote]\u001b[32m2025-05-31 14:30:11.748\u001b[0m | \u001b[31m\u001b[1mERROR   \u001b[0m | \u001b[36msrc.votes.build\u001b[0m:\u001b[36mbuild_entrypoints\u001b[0m:\u001b[36m103\u001b[0m - \u001b[31m\u001b[1mError building vote 564: Title not found in 564\u001b[0m\n",
      "Building vote entrypoints:  86%|████████▌ | 605/706 [10:28<02:04,  1.23s/vote]"
     ]
    },
    {
     "name": "stdout",
     "output_type": "stream",
     "text": [
      "WARNING *** OLE2 inconsistency: SSCS size is 0 but SSAT size is non-zero\n"
     ]
    },
    {
     "name": "stderr",
     "output_type": "stream",
     "text": [
      "Building vote entrypoints:  86%|████████▌ | 606/706 [10:29<02:04,  1.25s/vote]"
     ]
    },
    {
     "name": "stdout",
     "output_type": "stream",
     "text": [
      "WARNING *** OLE2 inconsistency: SSCS size is 0 but SSAT size is non-zero\n"
     ]
    },
    {
     "name": "stderr",
     "output_type": "stream",
     "text": [
      "Building vote entrypoints:  86%|████████▌ | 607/706 [10:30<02:01,  1.23s/vote]"
     ]
    },
    {
     "name": "stdout",
     "output_type": "stream",
     "text": [
      "WARNING *** OLE2 inconsistency: SSCS size is 0 but SSAT size is non-zero\n"
     ]
    },
    {
     "name": "stderr",
     "output_type": "stream",
     "text": [
      "Building vote entrypoints:  86%|████████▌ | 608/706 [10:31<02:01,  1.24s/vote]"
     ]
    },
    {
     "name": "stdout",
     "output_type": "stream",
     "text": [
      "WARNING *** OLE2 inconsistency: SSCS size is 0 but SSAT size is non-zero\n"
     ]
    },
    {
     "name": "stderr",
     "output_type": "stream",
     "text": [
      "Building vote entrypoints:  86%|████████▋ | 609/706 [10:32<01:54,  1.18s/vote]"
     ]
    },
    {
     "name": "stdout",
     "output_type": "stream",
     "text": [
      "WARNING *** OLE2 inconsistency: SSCS size is 0 but SSAT size is non-zero\n"
     ]
    },
    {
     "name": "stderr",
     "output_type": "stream",
     "text": [
      "Building vote entrypoints:  86%|████████▋ | 610/706 [10:33<01:48,  1.13s/vote]"
     ]
    },
    {
     "name": "stdout",
     "output_type": "stream",
     "text": [
      "WARNING *** OLE2 inconsistency: SSCS size is 0 but SSAT size is non-zero\n"
     ]
    },
    {
     "name": "stderr",
     "output_type": "stream",
     "text": [
      "Building vote entrypoints:  87%|████████▋ | 614/706 [10:38<01:53,  1.23s/vote]\u001b[32m2025-05-31 14:31:08.757\u001b[0m | \u001b[33m\u001b[1mWARNING \u001b[0m | \u001b[36msrc.votes.get_entrypoint\u001b[0m:\u001b[36mget_entrypoint\u001b[0m:\u001b[36m41\u001b[0m - \u001b[33m\u001b[1mNo drucksachen of type Beschlussempfehlung found for vote Beschlussempfehlungen des Haushaltsauschusses (8. Ausschuss) zu dem Entwurf eines Gesetzes über die Feststellung des Bundeshaushaltsplans für das Haushaltsjahr 2014 (Haushalsgesetz 2014) hier: Einzelplan 04 Geschäftsbereich der Bundeskanzlerin und des Bundeskanzleramtes. Using all available drucksachen.\u001b[0m\n",
      "Building vote entrypoints:  89%|████████▉ | 628/706 [10:50<00:55,  1.40vote/s]\u001b[32m2025-05-31 14:31:20.160\u001b[0m | \u001b[31m\u001b[1mERROR   \u001b[0m | \u001b[36msrc.votes.build\u001b[0m:\u001b[36mbuild_entrypoints\u001b[0m:\u001b[36m103\u001b[0m - \u001b[31m\u001b[1mError building vote 628: Title not found in 628\u001b[0m\n",
      "Building vote entrypoints:  91%|█████████ | 640/706 [11:00<00:40,  1.63vote/s]"
     ]
    },
    {
     "name": "stdout",
     "output_type": "stream",
     "text": [
      "WARNING *** OLE2 inconsistency: SSCS size is 0 but SSAT size is non-zero\n",
      "WARNING *** OLE2 inconsistency: SSCS size is 0 but SSAT size is non-zero\n"
     ]
    },
    {
     "name": "stderr",
     "output_type": "stream",
     "text": [
      "Building vote entrypoints:  91%|█████████ | 642/706 [11:03<01:02,  1.02vote/s]"
     ]
    },
    {
     "name": "stdout",
     "output_type": "stream",
     "text": [
      "WARNING *** OLE2 inconsistency: SSCS size is 0 but SSAT size is non-zero\n"
     ]
    },
    {
     "name": "stderr",
     "output_type": "stream",
     "text": [
      "Building vote entrypoints:  93%|█████████▎| 654/706 [11:18<00:59,  1.14s/vote]"
     ]
    },
    {
     "name": "stdout",
     "output_type": "stream",
     "text": [
      "WARNING *** OLE2 inconsistency: SSCS size is 0 but SSAT size is non-zero\n"
     ]
    },
    {
     "name": "stderr",
     "output_type": "stream",
     "text": [
      "Building vote entrypoints:  98%|█████████▊| 692/706 [11:50<00:15,  1.09s/vote]\u001b[32m2025-05-31 14:32:20.318\u001b[0m | \u001b[31m\u001b[1mERROR   \u001b[0m | \u001b[36msrc.votes.build\u001b[0m:\u001b[36mbuild_entrypoints\u001b[0m:\u001b[36m103\u001b[0m - \u001b[31m\u001b[1mError building vote 692: Title not found in 692\u001b[0m\n",
      "Building vote entrypoints:  99%|█████████▉| 698/706 [11:56<00:10,  1.28s/vote]\u001b[32m2025-05-31 14:32:26.761\u001b[0m | \u001b[31m\u001b[1mERROR   \u001b[0m | \u001b[36msrc.votes.build\u001b[0m:\u001b[36mbuild_entrypoints\u001b[0m:\u001b[36m103\u001b[0m - \u001b[31m\u001b[1mError building vote 698: Title not found in 698\u001b[0m\n",
      "Building vote entrypoints: 100%|██████████| 706/706 [12:01<00:00,  1.02s/vote]\n",
      "\u001b[32m2025-05-31 14:32:32.573\u001b[0m | \u001b[33m\u001b[1mWARNING \u001b[0m | \u001b[36msrc.drucksachen.beschlussempfehlung\u001b[0m:\u001b[36mparse\u001b[0m:\u001b[36m56\u001b[0m - \u001b[33m\u001b[1mNo votes found in Beschlussempfehlung 20/10055\u001b[0m\n",
      "\u001b[32m2025-05-31 14:32:32.574\u001b[0m | \u001b[33m\u001b[1mWARNING \u001b[0m | \u001b[36msrc.drucksachen.beschlussempfehlung\u001b[0m:\u001b[36mbuild\u001b[0m:\u001b[36m84\u001b[0m - \u001b[33m\u001b[1mNo underlying votes found for 41 with drucksache 20/10055.\u001b[0m\n",
      "\u001b[32m2025-05-31 14:32:32.653\u001b[0m | \u001b[33m\u001b[1mWARNING \u001b[0m | \u001b[36msrc.drucksachen.beschlussempfehlung\u001b[0m:\u001b[36mparse\u001b[0m:\u001b[36m56\u001b[0m - \u001b[33m\u001b[1mNo votes found in Beschlussempfehlung 20/10410\u001b[0m\n",
      "\u001b[32m2025-05-31 14:32:32.654\u001b[0m | \u001b[33m\u001b[1mWARNING \u001b[0m | \u001b[36msrc.drucksachen.beschlussempfehlung\u001b[0m:\u001b[36mbuild\u001b[0m:\u001b[36m84\u001b[0m - \u001b[33m\u001b[1mNo underlying votes found for 45 with drucksache 20/10410.\u001b[0m\n",
      "\u001b[32m2025-05-31 14:32:32.693\u001b[0m | \u001b[33m\u001b[1mWARNING \u001b[0m | \u001b[36msrc.drucksachen.beschlussempfehlung\u001b[0m:\u001b[36mparse\u001b[0m:\u001b[36m56\u001b[0m - \u001b[33m\u001b[1mNo votes found in Beschlussempfehlung 20/9676\u001b[0m\n",
      "\u001b[32m2025-05-31 14:32:32.694\u001b[0m | \u001b[33m\u001b[1mWARNING \u001b[0m | \u001b[36msrc.drucksachen.beschlussempfehlung\u001b[0m:\u001b[36mbuild\u001b[0m:\u001b[36m84\u001b[0m - \u001b[33m\u001b[1mNo underlying votes found for 61 with drucksache 20/9676.\u001b[0m\n",
      "\u001b[32m2025-05-31 14:32:32.978\u001b[0m | \u001b[33m\u001b[1mWARNING \u001b[0m | \u001b[36msrc.drucksachen.beschlussempfehlung\u001b[0m:\u001b[36mparse\u001b[0m:\u001b[36m56\u001b[0m - \u001b[33m\u001b[1mNo votes found in Beschlussempfehlung 20/4600\u001b[0m\n",
      "\u001b[32m2025-05-31 14:32:32.979\u001b[0m | \u001b[33m\u001b[1mWARNING \u001b[0m | \u001b[36msrc.drucksachen.beschlussempfehlung\u001b[0m:\u001b[36mbuild\u001b[0m:\u001b[36m84\u001b[0m - \u001b[33m\u001b[1mNo underlying votes found for 119 with drucksache 20/4600.\u001b[0m\n",
      "\u001b[32m2025-05-31 14:32:33.786\u001b[0m | \u001b[33m\u001b[1mWARNING \u001b[0m | \u001b[36msrc.drucksachen.beschlussempfehlung\u001b[0m:\u001b[36mparse\u001b[0m:\u001b[36m56\u001b[0m - \u001b[33m\u001b[1mNo votes found in Beschlussempfehlung 20/1604\u001b[0m\n",
      "\u001b[32m2025-05-31 14:32:33.786\u001b[0m | \u001b[33m\u001b[1mWARNING \u001b[0m | \u001b[36msrc.drucksachen.beschlussempfehlung\u001b[0m:\u001b[36mbuild\u001b[0m:\u001b[36m84\u001b[0m - \u001b[33m\u001b[1mNo underlying votes found for 163 with drucksache 20/1604.\u001b[0m\n",
      "\u001b[32m2025-05-31 14:32:34.132\u001b[0m | \u001b[33m\u001b[1mWARNING \u001b[0m | \u001b[36msrc.drucksachen.beschlussempfehlung\u001b[0m:\u001b[36mparse\u001b[0m:\u001b[36m56\u001b[0m - \u001b[33m\u001b[1mNo votes found in Beschlussempfehlung 19/28740\u001b[0m\n",
      "\u001b[32m2025-05-31 14:32:34.133\u001b[0m | \u001b[33m\u001b[1mWARNING \u001b[0m | \u001b[36msrc.drucksachen.beschlussempfehlung\u001b[0m:\u001b[36mbuild\u001b[0m:\u001b[36m84\u001b[0m - \u001b[33m\u001b[1mNo underlying votes found for 211 with drucksache 19/28740.\u001b[0m\n",
      "\u001b[32m2025-05-31 14:32:34.285\u001b[0m | \u001b[33m\u001b[1mWARNING \u001b[0m | \u001b[36msrc.drucksachen.beschlussempfehlung\u001b[0m:\u001b[36mparse\u001b[0m:\u001b[36m56\u001b[0m - \u001b[33m\u001b[1mNo votes found in Beschlussempfehlung 19/26244\u001b[0m\n",
      "\u001b[32m2025-05-31 14:32:34.285\u001b[0m | \u001b[33m\u001b[1mWARNING \u001b[0m | \u001b[36msrc.drucksachen.beschlussempfehlung\u001b[0m:\u001b[36mbuild\u001b[0m:\u001b[36m84\u001b[0m - \u001b[33m\u001b[1mNo underlying votes found for 230 with drucksache 19/26244.\u001b[0m\n",
      "\u001b[32m2025-05-31 14:32:34.326\u001b[0m | \u001b[33m\u001b[1mWARNING \u001b[0m | \u001b[36msrc.drucksachen.beschlussempfehlung\u001b[0m:\u001b[36mparse\u001b[0m:\u001b[36m56\u001b[0m - \u001b[33m\u001b[1mNo votes found in Beschlussempfehlung 19/23325\u001b[0m\n",
      "\u001b[32m2025-05-31 14:32:34.327\u001b[0m | \u001b[33m\u001b[1mWARNING \u001b[0m | \u001b[36msrc.drucksachen.beschlussempfehlung\u001b[0m:\u001b[36mbuild\u001b[0m:\u001b[36m84\u001b[0m - \u001b[33m\u001b[1mNo underlying votes found for 235 with drucksache 19/23325.\u001b[0m\n",
      "\u001b[32m2025-05-31 14:32:34.343\u001b[0m | \u001b[33m\u001b[1mWARNING \u001b[0m | \u001b[36msrc.drucksachen.beschlussempfehlung\u001b[0m:\u001b[36mparse\u001b[0m:\u001b[36m56\u001b[0m - \u001b[33m\u001b[1mNo votes found in Beschlussempfehlung 19/24940\u001b[0m\n",
      "\u001b[32m2025-05-31 14:32:34.344\u001b[0m | \u001b[33m\u001b[1mWARNING \u001b[0m | \u001b[36msrc.drucksachen.beschlussempfehlung\u001b[0m:\u001b[36mbuild\u001b[0m:\u001b[36m84\u001b[0m - \u001b[33m\u001b[1mNo underlying votes found for 236 with drucksache 19/24940.\u001b[0m\n",
      "\u001b[32m2025-05-31 14:32:35.063\u001b[0m | \u001b[31m\u001b[1mERROR   \u001b[0m | \u001b[36msrc.drucksachen.beschlussempfehlung\u001b[0m:\u001b[36mget_content\u001b[0m:\u001b[36m24\u001b[0m - \u001b[31m\u001b[1mBeschlussempfehlung start not found in 19/18108\u001b[0m\n",
      "\u001b[32m2025-05-31 14:32:35.064\u001b[0m | \u001b[33m\u001b[1mWARNING \u001b[0m | \u001b[36msrc.drucksachen.beschlussempfehlung\u001b[0m:\u001b[36mbuild\u001b[0m:\u001b[36m84\u001b[0m - \u001b[33m\u001b[1mNo underlying votes found for 273 with drucksache 19/18108.\u001b[0m\n",
      "\u001b[32m2025-05-31 14:32:35.118\u001b[0m | \u001b[33m\u001b[1mWARNING \u001b[0m | \u001b[36msrc.drucksachen.beschlussempfehlung\u001b[0m:\u001b[36mparse\u001b[0m:\u001b[36m56\u001b[0m - \u001b[33m\u001b[1mNo votes found in Beschlussempfehlung 19/17198\u001b[0m\n",
      "\u001b[32m2025-05-31 14:32:35.119\u001b[0m | \u001b[33m\u001b[1mWARNING \u001b[0m | \u001b[36msrc.drucksachen.beschlussempfehlung\u001b[0m:\u001b[36mbuild\u001b[0m:\u001b[36m84\u001b[0m - \u001b[33m\u001b[1mNo underlying votes found for 276 with drucksache 19/17198.\u001b[0m\n",
      "\u001b[32m2025-05-31 14:32:35.170\u001b[0m | \u001b[33m\u001b[1mWARNING \u001b[0m | \u001b[36msrc.drucksachen.beschlussempfehlung\u001b[0m:\u001b[36mparse\u001b[0m:\u001b[36m56\u001b[0m - \u001b[33m\u001b[1mNo votes found in Beschlussempfehlung 19/16060\u001b[0m\n",
      "\u001b[32m2025-05-31 14:32:35.171\u001b[0m | \u001b[33m\u001b[1mWARNING \u001b[0m | \u001b[36msrc.drucksachen.beschlussempfehlung\u001b[0m:\u001b[36mbuild\u001b[0m:\u001b[36m84\u001b[0m - \u001b[33m\u001b[1mNo underlying votes found for 290 with drucksache 19/16060.\u001b[0m\n",
      "\u001b[32m2025-05-31 14:32:35.641\u001b[0m | \u001b[33m\u001b[1mWARNING \u001b[0m | \u001b[36msrc.drucksachen.beschlussempfehlung\u001b[0m:\u001b[36mparse\u001b[0m:\u001b[36m56\u001b[0m - \u001b[33m\u001b[1mNo votes found in Beschlussempfehlung 19/7940\u001b[0m\n",
      "\u001b[32m2025-05-31 14:32:35.642\u001b[0m | \u001b[33m\u001b[1mWARNING \u001b[0m | \u001b[36msrc.drucksachen.beschlussempfehlung\u001b[0m:\u001b[36mbuild\u001b[0m:\u001b[36m84\u001b[0m - \u001b[33m\u001b[1mNo underlying votes found for 357 with drucksache 19/7940.\u001b[0m\n",
      "\u001b[32m2025-05-31 14:32:35.674\u001b[0m | \u001b[33m\u001b[1mWARNING \u001b[0m | \u001b[36msrc.drucksachen.beschlussempfehlung\u001b[0m:\u001b[36mparse\u001b[0m:\u001b[36m56\u001b[0m - \u001b[33m\u001b[1mNo votes found in Beschlussempfehlung 19/4625\u001b[0m\n",
      "\u001b[32m2025-05-31 14:32:35.675\u001b[0m | \u001b[33m\u001b[1mWARNING \u001b[0m | \u001b[36msrc.drucksachen.beschlussempfehlung\u001b[0m:\u001b[36mbuild\u001b[0m:\u001b[36m84\u001b[0m - \u001b[33m\u001b[1mNo underlying votes found for 373 with drucksache 19/4625.\u001b[0m\n",
      "\u001b[32m2025-05-31 14:32:35.791\u001b[0m | \u001b[33m\u001b[1mWARNING \u001b[0m | \u001b[36msrc.drucksachen.beschlussempfehlung\u001b[0m:\u001b[36mparse\u001b[0m:\u001b[36m56\u001b[0m - \u001b[33m\u001b[1mNo votes found in Beschlussempfehlung 19/2425\u001b[0m\n",
      "\u001b[32m2025-05-31 14:32:35.792\u001b[0m | \u001b[33m\u001b[1mWARNING \u001b[0m | \u001b[36msrc.drucksachen.beschlussempfehlung\u001b[0m:\u001b[36mbuild\u001b[0m:\u001b[36m84\u001b[0m - \u001b[33m\u001b[1mNo underlying votes found for 393 with drucksache 19/2425.\u001b[0m\n",
      "\u001b[32m2025-05-31 14:32:36.078\u001b[0m | \u001b[33m\u001b[1mWARNING \u001b[0m | \u001b[36msrc.drucksachen.beschlussempfehlung\u001b[0m:\u001b[36mparse\u001b[0m:\u001b[36m56\u001b[0m - \u001b[33m\u001b[1mNo votes found in Beschlussempfehlung 19/177\u001b[0m\n",
      "\u001b[32m2025-05-31 14:32:36.079\u001b[0m | \u001b[33m\u001b[1mWARNING \u001b[0m | \u001b[36msrc.drucksachen.beschlussempfehlung\u001b[0m:\u001b[36mbuild\u001b[0m:\u001b[36m84\u001b[0m - \u001b[33m\u001b[1mNo underlying votes found for 425 with drucksache 19/177.\u001b[0m\n",
      "\u001b[32m2025-05-31 14:32:36.185\u001b[0m | \u001b[33m\u001b[1mWARNING \u001b[0m | \u001b[36msrc.drucksachen.beschlussempfehlung\u001b[0m:\u001b[36mparse\u001b[0m:\u001b[36m56\u001b[0m - \u001b[33m\u001b[1mNo votes found in Beschlussempfehlung 18/12372\u001b[0m\n",
      "\u001b[32m2025-05-31 14:32:36.186\u001b[0m | \u001b[33m\u001b[1mWARNING \u001b[0m | \u001b[36msrc.drucksachen.beschlussempfehlung\u001b[0m:\u001b[36mbuild\u001b[0m:\u001b[36m84\u001b[0m - \u001b[33m\u001b[1mNo underlying votes found for 437 with drucksache 18/12372.\u001b[0m\n",
      "\u001b[32m2025-05-31 14:32:36.217\u001b[0m | \u001b[33m\u001b[1mWARNING \u001b[0m | \u001b[36msrc.drucksachen.beschlussempfehlung\u001b[0m:\u001b[36mparse\u001b[0m:\u001b[36m56\u001b[0m - \u001b[33m\u001b[1mNo votes found in Beschlussempfehlung 18/11621\u001b[0m\n",
      "\u001b[32m2025-05-31 14:32:36.217\u001b[0m | \u001b[33m\u001b[1mWARNING \u001b[0m | \u001b[36msrc.drucksachen.beschlussempfehlung\u001b[0m:\u001b[36mbuild\u001b[0m:\u001b[36m84\u001b[0m - \u001b[33m\u001b[1mNo underlying votes found for 451 with drucksache 18/11621.\u001b[0m\n",
      "\u001b[32m2025-05-31 14:32:36.417\u001b[0m | \u001b[33m\u001b[1mWARNING \u001b[0m | \u001b[36msrc.drucksachen.beschlussempfehlung\u001b[0m:\u001b[36mparse\u001b[0m:\u001b[36m56\u001b[0m - \u001b[33m\u001b[1mNo votes found in Beschlussempfehlung 18/9825\u001b[0m\n",
      "\u001b[32m2025-05-31 14:32:36.418\u001b[0m | \u001b[33m\u001b[1mWARNING \u001b[0m | \u001b[36msrc.drucksachen.beschlussempfehlung\u001b[0m:\u001b[36mbuild\u001b[0m:\u001b[36m84\u001b[0m - \u001b[33m\u001b[1mNo underlying votes found for 475 with drucksache 18/9825.\u001b[0m\n",
      "\u001b[32m2025-05-31 14:32:36.742\u001b[0m | \u001b[33m\u001b[1mWARNING \u001b[0m | \u001b[36msrc.drucksachen.beschlussempfehlung\u001b[0m:\u001b[36mparse\u001b[0m:\u001b[36m56\u001b[0m - \u001b[33m\u001b[1mNo votes found in Beschlussempfehlung 18/6041\u001b[0m\n",
      "\u001b[32m2025-05-31 14:32:36.742\u001b[0m | \u001b[33m\u001b[1mWARNING \u001b[0m | \u001b[36msrc.drucksachen.beschlussempfehlung\u001b[0m:\u001b[36mbuild\u001b[0m:\u001b[36m84\u001b[0m - \u001b[33m\u001b[1mNo underlying votes found for 529 with drucksache 18/6041.\u001b[0m\n",
      "\u001b[32m2025-05-31 14:32:36.763\u001b[0m | \u001b[33m\u001b[1mWARNING \u001b[0m | \u001b[36msrc.drucksachen.beschlussempfehlung\u001b[0m:\u001b[36mparse\u001b[0m:\u001b[36m56\u001b[0m - \u001b[33m\u001b[1mNo votes found in Beschlussempfehlung 18/1963\u001b[0m\n",
      "\u001b[32m2025-05-31 14:32:36.764\u001b[0m | \u001b[33m\u001b[1mWARNING \u001b[0m | \u001b[36msrc.drucksachen.beschlussempfehlung\u001b[0m:\u001b[36mbuild\u001b[0m:\u001b[36m84\u001b[0m - \u001b[33m\u001b[1mNo underlying votes found for 537 with drucksache 18/1963.\u001b[0m\n",
      "\u001b[32m2025-05-31 14:32:37.195\u001b[0m | \u001b[33m\u001b[1mWARNING \u001b[0m | \u001b[36msrc.drucksachen.beschlussempfehlung\u001b[0m:\u001b[36mparse\u001b[0m:\u001b[36m56\u001b[0m - \u001b[33m\u001b[1mNo votes found in Beschlussempfehlung 18/1023\u001b[0m\n",
      "\u001b[32m2025-05-31 14:32:37.196\u001b[0m | \u001b[33m\u001b[1mWARNING \u001b[0m | \u001b[36msrc.drucksachen.beschlussempfehlung\u001b[0m:\u001b[36mbuild\u001b[0m:\u001b[36m84\u001b[0m - \u001b[33m\u001b[1mNo underlying votes found for 614 with drucksache 18/1023.\u001b[0m\n",
      "\u001b[32m2025-05-31 14:32:37.702\u001b[0m | \u001b[33m\u001b[1mWARNING \u001b[0m | \u001b[36msrc.drucksachen.beschlussempfehlung\u001b[0m:\u001b[36mparse\u001b[0m:\u001b[36m56\u001b[0m - \u001b[33m\u001b[1mNo votes found in Beschlussempfehlung 17/11844\u001b[0m\n",
      "\u001b[32m2025-05-31 14:32:37.703\u001b[0m | \u001b[33m\u001b[1mWARNING \u001b[0m | \u001b[36msrc.drucksachen.beschlussempfehlung\u001b[0m:\u001b[36mbuild\u001b[0m:\u001b[36m84\u001b[0m - \u001b[33m\u001b[1mNo underlying votes found for 678 with drucksache 17/11844.\u001b[0m\n",
      "\u001b[32m2025-05-31 14:32:37.762\u001b[0m | \u001b[1mINFO    \u001b[0m | \u001b[36msrc.votes.build\u001b[0m:\u001b[36mbuild\u001b[0m:\u001b[36m205\u001b[0m - \u001b[1mExtracting content from drucksachen...\u001b[0m\n",
      " 13%|█▎        | 84/669 [03:22<31:15,  3.21s/it]  \u001b[32m2025-05-31 14:36:00.648\u001b[0m | \u001b[31m\u001b[1mERROR   \u001b[0m | \u001b[36msrc.drucksachen.extract\u001b[0m:\u001b[36mgesetzentwurf\u001b[0m:\u001b[36m28\u001b[0m - \u001b[31m\u001b[1mGesetzentwurf intro not found in 20/2658\u001b[0m\n",
      " 15%|█▌        | 101/669 [04:08<22:16,  2.35s/it]\u001b[32m2025-05-31 14:36:46.492\u001b[0m | \u001b[31m\u001b[1mERROR   \u001b[0m | \u001b[36msrc.drucksachen.extract\u001b[0m:\u001b[36mgesetzentwurf\u001b[0m:\u001b[36m28\u001b[0m - \u001b[31m\u001b[1mGesetzentwurf intro not found in 20/351\u001b[0m\n",
      " 45%|████▍     | 298/669 [04:41<01:11,  5.22it/s]\u001b[32m2025-05-31 14:37:19.597\u001b[0m | \u001b[31m\u001b[1mERROR   \u001b[0m | \u001b[36msrc.drucksachen.extract\u001b[0m:\u001b[36mgesetzentwurf\u001b[0m:\u001b[36m28\u001b[0m - \u001b[31m\u001b[1mGesetzentwurf intro not found in 18/2882\u001b[0m\n",
      " 58%|█████▊    | 389/669 [05:01<01:56,  2.40it/s]\u001b[32m2025-05-31 14:37:39.659\u001b[0m | \u001b[31m\u001b[1mERROR   \u001b[0m | \u001b[36msrc.drucksachen.extract\u001b[0m:\u001b[36mgesetzentwurf\u001b[0m:\u001b[36m28\u001b[0m - \u001b[31m\u001b[1mGesetzentwurf intro not found in 17/11172\u001b[0m\n",
      " 91%|█████████▏| 611/669 [05:05<00:00, 82.16it/s]\u001b[32m2025-05-31 14:37:43.025\u001b[0m | \u001b[31m\u001b[1mERROR   \u001b[0m | \u001b[36msrc.drucksachen.extract\u001b[0m:\u001b[36mgesetzentwurf\u001b[0m:\u001b[36m28\u001b[0m - \u001b[31m\u001b[1mGesetzentwurf intro not found in 18/2882\u001b[0m\n",
      "100%|██████████| 669/669 [05:05<00:00,  2.19it/s] \n",
      "\u001b[32m2025-05-31 14:37:44.019\u001b[0m | \u001b[1mINFO    \u001b[0m | \u001b[36msrc.votes.build\u001b[0m:\u001b[36mfilter_votes_by_content\u001b[0m:\u001b[36m177\u001b[0m - \u001b[1mFiltered 16 entries with too long content or no content\u001b[0m\n",
      "\u001b[32m2025-05-31 14:37:44.019\u001b[0m | \u001b[1mINFO    \u001b[0m | \u001b[36msrc.votes.build\u001b[0m:\u001b[36mbuild\u001b[0m:\u001b[36m212\u001b[0m - \u001b[1mSummarizing texts...\u001b[0m\n",
      "100%|██████████| 653/653 [31:32<00:00,  2.90s/it]  \n",
      "\u001b[32m2025-05-31 15:09:16.618\u001b[0m | \u001b[1mINFO    \u001b[0m | \u001b[36msrc.votes.build\u001b[0m:\u001b[36mbuild\u001b[0m:\u001b[36m214\u001b[0m - \u001b[1mCalculating embeddings for summaries...\u001b[0m\n",
      "100%|██████████| 653/653 [09:37<00:00,  1.13it/s]  \n",
      "\u001b[32m2025-05-31 15:18:54.556\u001b[0m | \u001b[1mINFO    \u001b[0m | \u001b[36msrc.votes.build\u001b[0m:\u001b[36mbuild\u001b[0m:\u001b[36m221\u001b[0m - \u001b[1mExtracting vote proposers...\u001b[0m\n",
      "100%|██████████| 653/653 [13:54<00:00,  1.28s/it]\n",
      "\u001b[32m2025-05-31 15:32:48.964\u001b[0m | \u001b[1mINFO    \u001b[0m | \u001b[36msrc.votes.build\u001b[0m:\u001b[36mbuild\u001b[0m:\u001b[36m226\u001b[0m - \u001b[1mSaving data to parquet...\u001b[0m\n"
     ]
    }
   ],
   "source": [
    "from src.run_preprocessing import run_preprocessing\n",
    "\n",
    "run_preprocessing()"
   ]
  },
  {
   "cell_type": "code",
   "execution_count": null,
   "id": "660119e8",
   "metadata": {},
   "outputs": [],
   "source": []
  }
 ],
 "metadata": {
  "kernelspec": {
   "display_name": "langchain",
   "language": "python",
   "name": "python3"
  },
  "language_info": {
   "codemirror_mode": {
    "name": "ipython",
    "version": 3
   },
   "file_extension": ".py",
   "mimetype": "text/x-python",
   "name": "python",
   "nbconvert_exporter": "python",
   "pygments_lexer": "ipython3",
   "version": "3.13.2"
  }
 },
 "nbformat": 4,
 "nbformat_minor": 5
}
