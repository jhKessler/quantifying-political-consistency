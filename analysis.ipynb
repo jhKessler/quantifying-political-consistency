{
 "cells": [
  {
   "cell_type": "code",
   "execution_count": 5,
   "id": "13459f39",
   "metadata": {},
   "outputs": [],
   "source": [
    "import pandas as pd\n",
    "import plotly.express as px\n",
    "from src import config\n",
    "from tqdm import tqdm\n",
    "from src.utils.llm.openai_client import get_proposer\n",
    "predictions = pd.read_parquet(\"output/predictions.parquet\")"
   ]
  },
  {
   "cell_type": "code",
   "execution_count": 1,
   "id": "03b9d287",
   "metadata": {},
   "outputs": [
    {
     "name": "stderr",
     "output_type": "stream",
     "text": [
      "\u001b[32m2025-05-31 21:27:41.048\u001b[0m | \u001b[1mINFO    \u001b[0m | \u001b[36msrc.run_prediction\u001b[0m:\u001b[36mrun_prediction\u001b[0m:\u001b[36m47\u001b[0m - \u001b[1mProcessing party: AfD\u001b[0m\n",
      "\u001b[32m2025-05-31 21:27:41.050\u001b[0m | \u001b[1mINFO    \u001b[0m | \u001b[36msrc.manifestos.embed\u001b[0m:\u001b[36mget_rag_embeddings\u001b[0m:\u001b[36m19\u001b[0m - \u001b[1mCreating RAG embeddings for party: AfD\u001b[0m\n",
      " 53%|█████▎    | 343/653 [03:23<04:02,  1.28it/s]\u001b[32m2025-05-31 21:31:05.099\u001b[0m | \u001b[33m\u001b[1mWARNING \u001b[0m | \u001b[36msrc.prediction.predict_partyline\u001b[0m:\u001b[36mget_correct_manifesto_year\u001b[0m:\u001b[36m30\u001b[0m - \u001b[33m\u001b[1mNo manifesto found for AfD before 2013-03-01\u001b[0m\n",
      "\u001b[32m2025-05-31 21:31:05.104\u001b[0m | \u001b[33m\u001b[1mWARNING \u001b[0m | \u001b[36msrc.prediction.predict_partyline\u001b[0m:\u001b[36mget_correct_manifesto_year\u001b[0m:\u001b[36m30\u001b[0m - \u001b[33m\u001b[1mNo manifesto found for AfD before 2013-02-28\u001b[0m\n",
      " 53%|█████▎    | 345/653 [03:23<02:31,  2.03it/s]\u001b[32m2025-05-31 21:31:05.107\u001b[0m | \u001b[33m\u001b[1mWARNING \u001b[0m | \u001b[36msrc.prediction.predict_partyline\u001b[0m:\u001b[36mget_correct_manifesto_year\u001b[0m:\u001b[36m30\u001b[0m - \u001b[33m\u001b[1mNo manifesto found for AfD before 2013-02-28\u001b[0m\n",
      "\u001b[32m2025-05-31 21:31:05.111\u001b[0m | \u001b[33m\u001b[1mWARNING \u001b[0m | \u001b[36msrc.prediction.predict_partyline\u001b[0m:\u001b[36mget_correct_manifesto_year\u001b[0m:\u001b[36m30\u001b[0m - \u001b[33m\u001b[1mNo manifesto found for AfD before 2013-02-28\u001b[0m\n",
      "\u001b[32m2025-05-31 21:31:05.114\u001b[0m | \u001b[33m\u001b[1mWARNING \u001b[0m | \u001b[36msrc.prediction.predict_partyline\u001b[0m:\u001b[36mget_correct_manifesto_year\u001b[0m:\u001b[36m30\u001b[0m - \u001b[33m\u001b[1mNo manifesto found for AfD before 2012-12-13\u001b[0m\n",
      "\u001b[32m2025-05-31 21:31:05.117\u001b[0m | \u001b[33m\u001b[1mWARNING \u001b[0m | \u001b[36msrc.prediction.predict_partyline\u001b[0m:\u001b[36mget_correct_manifesto_year\u001b[0m:\u001b[36m30\u001b[0m - \u001b[33m\u001b[1mNo manifesto found for AfD before 2012-12-13\u001b[0m\n",
      "\u001b[32m2025-05-31 21:31:05.120\u001b[0m | \u001b[33m\u001b[1mWARNING \u001b[0m | \u001b[36msrc.prediction.predict_partyline\u001b[0m:\u001b[36mget_correct_manifesto_year\u001b[0m:\u001b[36m30\u001b[0m - \u001b[33m\u001b[1mNo manifesto found for AfD before 2012-12-13\u001b[0m\n",
      "\u001b[32m2025-05-31 21:31:05.124\u001b[0m | \u001b[33m\u001b[1mWARNING \u001b[0m | \u001b[36msrc.prediction.predict_partyline\u001b[0m:\u001b[36mget_correct_manifesto_year\u001b[0m:\u001b[36m30\u001b[0m - \u001b[33m\u001b[1mNo manifesto found for AfD before 2012-12-12\u001b[0m\n",
      "\u001b[32m2025-05-31 21:31:05.127\u001b[0m | \u001b[33m\u001b[1mWARNING \u001b[0m | \u001b[36msrc.prediction.predict_partyline\u001b[0m:\u001b[36mget_correct_manifesto_year\u001b[0m:\u001b[36m30\u001b[0m - \u001b[33m\u001b[1mNo manifesto found for AfD before 2012-12-12\u001b[0m\n",
      "\u001b[32m2025-05-31 21:31:05.130\u001b[0m | \u001b[33m\u001b[1mWARNING \u001b[0m | \u001b[36msrc.prediction.predict_partyline\u001b[0m:\u001b[36mget_correct_manifesto_year\u001b[0m:\u001b[36m30\u001b[0m - \u001b[33m\u001b[1mNo manifesto found for AfD before 2012-12-12\u001b[0m\n",
      "\u001b[32m2025-05-31 21:31:05.134\u001b[0m | \u001b[33m\u001b[1mWARNING \u001b[0m | \u001b[36msrc.prediction.predict_partyline\u001b[0m:\u001b[36mget_correct_manifesto_year\u001b[0m:\u001b[36m30\u001b[0m - \u001b[33m\u001b[1mNo manifesto found for AfD before 2012-12-12\u001b[0m\n",
      "\u001b[32m2025-05-31 21:31:05.137\u001b[0m | \u001b[33m\u001b[1mWARNING \u001b[0m | \u001b[36msrc.prediction.predict_partyline\u001b[0m:\u001b[36mget_correct_manifesto_year\u001b[0m:\u001b[36m30\u001b[0m - \u001b[33m\u001b[1mNo manifesto found for AfD before 2012-12-12\u001b[0m\n",
      "\u001b[32m2025-05-31 21:31:05.140\u001b[0m | \u001b[33m\u001b[1mWARNING \u001b[0m | \u001b[36msrc.prediction.predict_partyline\u001b[0m:\u001b[36mget_correct_manifesto_year\u001b[0m:\u001b[36m30\u001b[0m - \u001b[33m\u001b[1mNo manifesto found for AfD before 2012-11-30\u001b[0m\n",
      "\u001b[32m2025-05-31 21:31:05.145\u001b[0m | \u001b[33m\u001b[1mWARNING \u001b[0m | \u001b[36msrc.prediction.predict_partyline\u001b[0m:\u001b[36mget_correct_manifesto_year\u001b[0m:\u001b[36m30\u001b[0m - \u001b[33m\u001b[1mNo manifesto found for AfD before 2012-11-22\u001b[0m\n",
      "\u001b[32m2025-05-31 21:31:05.148\u001b[0m | \u001b[33m\u001b[1mWARNING \u001b[0m | \u001b[36msrc.prediction.predict_partyline\u001b[0m:\u001b[36mget_correct_manifesto_year\u001b[0m:\u001b[36m30\u001b[0m - \u001b[33m\u001b[1mNo manifesto found for AfD before 2012-11-21\u001b[0m\n",
      "\u001b[32m2025-05-31 21:31:05.151\u001b[0m | \u001b[33m\u001b[1mWARNING \u001b[0m | \u001b[36msrc.prediction.predict_partyline\u001b[0m:\u001b[36mget_correct_manifesto_year\u001b[0m:\u001b[36m30\u001b[0m - \u001b[33m\u001b[1mNo manifesto found for AfD before 2012-11-09\u001b[0m\n",
      "\u001b[32m2025-05-31 21:31:05.154\u001b[0m | \u001b[33m\u001b[1mWARNING \u001b[0m | \u001b[36msrc.prediction.predict_partyline\u001b[0m:\u001b[36mget_correct_manifesto_year\u001b[0m:\u001b[36m30\u001b[0m - \u001b[33m\u001b[1mNo manifesto found for AfD before 2012-10-25\u001b[0m\n",
      "\u001b[32m2025-05-31 21:31:05.158\u001b[0m | \u001b[33m\u001b[1mWARNING \u001b[0m | \u001b[36msrc.prediction.predict_partyline\u001b[0m:\u001b[36mget_correct_manifesto_year\u001b[0m:\u001b[36m30\u001b[0m - \u001b[33m\u001b[1mNo manifesto found for AfD before 2012-10-25\u001b[0m\n",
      "\u001b[32m2025-05-31 21:31:05.160\u001b[0m | \u001b[33m\u001b[1mWARNING \u001b[0m | \u001b[36msrc.prediction.predict_partyline\u001b[0m:\u001b[36mget_correct_manifesto_year\u001b[0m:\u001b[36m30\u001b[0m - \u001b[33m\u001b[1mNo manifesto found for AfD before 2012-10-25\u001b[0m\n",
      "\u001b[32m2025-05-31 21:31:05.163\u001b[0m | \u001b[33m\u001b[1mWARNING \u001b[0m | \u001b[36msrc.prediction.predict_partyline\u001b[0m:\u001b[36mget_correct_manifesto_year\u001b[0m:\u001b[36m30\u001b[0m - \u001b[33m\u001b[1mNo manifesto found for AfD before 2012-10-25\u001b[0m\n",
      "\u001b[32m2025-05-31 21:31:05.166\u001b[0m | \u001b[33m\u001b[1mWARNING \u001b[0m | \u001b[36msrc.prediction.predict_partyline\u001b[0m:\u001b[36mget_correct_manifesto_year\u001b[0m:\u001b[36m30\u001b[0m - \u001b[33m\u001b[1mNo manifesto found for AfD before 2012-10-18\u001b[0m\n",
      " 94%|█████████▍| 613/653 [05:47<00:16,  2.46it/s]\u001b[32m2025-05-31 21:33:29.149\u001b[0m | \u001b[33m\u001b[1mWARNING \u001b[0m | \u001b[36msrc.prediction.predict_partyline\u001b[0m:\u001b[36mget_correct_manifesto_year\u001b[0m:\u001b[36m30\u001b[0m - \u001b[33m\u001b[1mNo manifesto found for AfD before 2013-03-15\u001b[0m\n",
      " 94%|█████████▍| 614/653 [05:47<00:16,  2.43it/s]\u001b[32m2025-05-31 21:33:29.153\u001b[0m | \u001b[33m\u001b[1mWARNING \u001b[0m | \u001b[36msrc.prediction.predict_partyline\u001b[0m:\u001b[36mget_correct_manifesto_year\u001b[0m:\u001b[36m30\u001b[0m - \u001b[33m\u001b[1mNo manifesto found for AfD before 2013-03-01\u001b[0m\n",
      "\u001b[32m2025-05-31 21:33:29.157\u001b[0m | \u001b[33m\u001b[1mWARNING \u001b[0m | \u001b[36msrc.prediction.predict_partyline\u001b[0m:\u001b[36mget_correct_manifesto_year\u001b[0m:\u001b[36m30\u001b[0m - \u001b[33m\u001b[1mNo manifesto found for AfD before 2013-03-01\u001b[0m\n",
      "\u001b[32m2025-05-31 21:33:29.160\u001b[0m | \u001b[33m\u001b[1mWARNING \u001b[0m | \u001b[36msrc.prediction.predict_partyline\u001b[0m:\u001b[36mget_correct_manifesto_year\u001b[0m:\u001b[36m30\u001b[0m - \u001b[33m\u001b[1mNo manifesto found for AfD before 2013-03-01\u001b[0m\n",
      "\u001b[32m2025-05-31 21:33:29.163\u001b[0m | \u001b[33m\u001b[1mWARNING \u001b[0m | \u001b[36msrc.prediction.predict_partyline\u001b[0m:\u001b[36mget_correct_manifesto_year\u001b[0m:\u001b[36m30\u001b[0m - \u001b[33m\u001b[1mNo manifesto found for AfD before 2013-03-01\u001b[0m\n",
      "\u001b[32m2025-05-31 21:33:29.165\u001b[0m | \u001b[33m\u001b[1mWARNING \u001b[0m | \u001b[36msrc.prediction.predict_partyline\u001b[0m:\u001b[36mget_correct_manifesto_year\u001b[0m:\u001b[36m30\u001b[0m - \u001b[33m\u001b[1mNo manifesto found for AfD before 2013-03-01\u001b[0m\n",
      "\u001b[32m2025-05-31 21:33:29.169\u001b[0m | \u001b[33m\u001b[1mWARNING \u001b[0m | \u001b[36msrc.prediction.predict_partyline\u001b[0m:\u001b[36mget_correct_manifesto_year\u001b[0m:\u001b[36m30\u001b[0m - \u001b[33m\u001b[1mNo manifesto found for AfD before 2013-03-01\u001b[0m\n",
      "\u001b[32m2025-05-31 21:33:29.172\u001b[0m | \u001b[33m\u001b[1mWARNING \u001b[0m | \u001b[36msrc.prediction.predict_partyline\u001b[0m:\u001b[36mget_correct_manifesto_year\u001b[0m:\u001b[36m30\u001b[0m - \u001b[33m\u001b[1mNo manifesto found for AfD before 2013-03-01\u001b[0m\n",
      "\u001b[32m2025-05-31 21:33:29.175\u001b[0m | \u001b[33m\u001b[1mWARNING \u001b[0m | \u001b[36msrc.prediction.predict_partyline\u001b[0m:\u001b[36mget_correct_manifesto_year\u001b[0m:\u001b[36m30\u001b[0m - \u001b[33m\u001b[1mNo manifesto found for AfD before 2013-03-01\u001b[0m\n",
      "\u001b[32m2025-05-31 21:33:29.178\u001b[0m | \u001b[33m\u001b[1mWARNING \u001b[0m | \u001b[36msrc.prediction.predict_partyline\u001b[0m:\u001b[36mget_correct_manifesto_year\u001b[0m:\u001b[36m30\u001b[0m - \u001b[33m\u001b[1mNo manifesto found for AfD before 2013-03-01\u001b[0m\n",
      "\u001b[32m2025-05-31 21:33:29.182\u001b[0m | \u001b[33m\u001b[1mWARNING \u001b[0m | \u001b[36msrc.prediction.predict_partyline\u001b[0m:\u001b[36mget_correct_manifesto_year\u001b[0m:\u001b[36m30\u001b[0m - \u001b[33m\u001b[1mNo manifesto found for AfD before 2013-03-01\u001b[0m\n",
      "\u001b[32m2025-05-31 21:33:29.186\u001b[0m | \u001b[33m\u001b[1mWARNING \u001b[0m | \u001b[36msrc.prediction.predict_partyline\u001b[0m:\u001b[36mget_correct_manifesto_year\u001b[0m:\u001b[36m30\u001b[0m - \u001b[33m\u001b[1mNo manifesto found for AfD before 2013-03-01\u001b[0m\n",
      "\u001b[32m2025-05-31 21:33:29.190\u001b[0m | \u001b[33m\u001b[1mWARNING \u001b[0m | \u001b[36msrc.prediction.predict_partyline\u001b[0m:\u001b[36mget_correct_manifesto_year\u001b[0m:\u001b[36m30\u001b[0m - \u001b[33m\u001b[1mNo manifesto found for AfD before 2013-03-01\u001b[0m\n",
      "\u001b[32m2025-05-31 21:33:29.193\u001b[0m | \u001b[33m\u001b[1mWARNING \u001b[0m | \u001b[36msrc.prediction.predict_partyline\u001b[0m:\u001b[36mget_correct_manifesto_year\u001b[0m:\u001b[36m30\u001b[0m - \u001b[33m\u001b[1mNo manifesto found for AfD before 2013-03-01\u001b[0m\n",
      "\u001b[32m2025-05-31 21:33:29.197\u001b[0m | \u001b[33m\u001b[1mWARNING \u001b[0m | \u001b[36msrc.prediction.predict_partyline\u001b[0m:\u001b[36mget_correct_manifesto_year\u001b[0m:\u001b[36m30\u001b[0m - \u001b[33m\u001b[1mNo manifesto found for AfD before 2013-03-01\u001b[0m\n",
      "\u001b[32m2025-05-31 21:33:29.201\u001b[0m | \u001b[33m\u001b[1mWARNING \u001b[0m | \u001b[36msrc.prediction.predict_partyline\u001b[0m:\u001b[36mget_correct_manifesto_year\u001b[0m:\u001b[36m30\u001b[0m - \u001b[33m\u001b[1mNo manifesto found for AfD before 2013-03-01\u001b[0m\n",
      "\u001b[32m2025-05-31 21:33:29.205\u001b[0m | \u001b[33m\u001b[1mWARNING \u001b[0m | \u001b[36msrc.prediction.predict_partyline\u001b[0m:\u001b[36mget_correct_manifesto_year\u001b[0m:\u001b[36m30\u001b[0m - \u001b[33m\u001b[1mNo manifesto found for AfD before 2013-03-01\u001b[0m\n",
      "\u001b[32m2025-05-31 21:33:29.208\u001b[0m | \u001b[33m\u001b[1mWARNING \u001b[0m | \u001b[36msrc.prediction.predict_partyline\u001b[0m:\u001b[36mget_correct_manifesto_year\u001b[0m:\u001b[36m30\u001b[0m - \u001b[33m\u001b[1mNo manifesto found for AfD before 2013-02-28\u001b[0m\n",
      "\u001b[32m2025-05-31 21:33:29.212\u001b[0m | \u001b[33m\u001b[1mWARNING \u001b[0m | \u001b[36msrc.prediction.predict_partyline\u001b[0m:\u001b[36mget_correct_manifesto_year\u001b[0m:\u001b[36m30\u001b[0m - \u001b[33m\u001b[1mNo manifesto found for AfD before 2013-02-28\u001b[0m\n",
      "\u001b[32m2025-05-31 21:33:29.215\u001b[0m | \u001b[33m\u001b[1mWARNING \u001b[0m | \u001b[36msrc.prediction.predict_partyline\u001b[0m:\u001b[36mget_correct_manifesto_year\u001b[0m:\u001b[36m30\u001b[0m - \u001b[33m\u001b[1mNo manifesto found for AfD before 2013-01-31\u001b[0m\n",
      "\u001b[32m2025-05-31 21:33:29.218\u001b[0m | \u001b[33m\u001b[1mWARNING \u001b[0m | \u001b[36msrc.prediction.predict_partyline\u001b[0m:\u001b[36mget_correct_manifesto_year\u001b[0m:\u001b[36m30\u001b[0m - \u001b[33m\u001b[1mNo manifesto found for AfD before 2012-12-14\u001b[0m\n",
      "\u001b[32m2025-05-31 21:33:29.222\u001b[0m | \u001b[33m\u001b[1mWARNING \u001b[0m | \u001b[36msrc.prediction.predict_partyline\u001b[0m:\u001b[36mget_correct_manifesto_year\u001b[0m:\u001b[36m30\u001b[0m - \u001b[33m\u001b[1mNo manifesto found for AfD before 2012-12-13\u001b[0m\n",
      "\u001b[32m2025-05-31 21:33:29.225\u001b[0m | \u001b[33m\u001b[1mWARNING \u001b[0m | \u001b[36msrc.prediction.predict_partyline\u001b[0m:\u001b[36mget_correct_manifesto_year\u001b[0m:\u001b[36m30\u001b[0m - \u001b[33m\u001b[1mNo manifesto found for AfD before 2012-12-13\u001b[0m\n",
      "\u001b[32m2025-05-31 21:33:29.228\u001b[0m | \u001b[33m\u001b[1mWARNING \u001b[0m | \u001b[36msrc.prediction.predict_partyline\u001b[0m:\u001b[36mget_correct_manifesto_year\u001b[0m:\u001b[36m30\u001b[0m - \u001b[33m\u001b[1mNo manifesto found for AfD before 2012-12-13\u001b[0m\n",
      "100%|██████████| 653/653 [05:58<00:00,  1.82it/s]\n",
      "\u001b[32m2025-05-31 21:33:39.658\u001b[0m | \u001b[1mINFO    \u001b[0m | \u001b[36msrc.run_prediction\u001b[0m:\u001b[36mrun_prediction\u001b[0m:\u001b[36m47\u001b[0m - \u001b[1mProcessing party: DIE_GRÜNEN\u001b[0m\n",
      "\u001b[32m2025-05-31 21:33:39.660\u001b[0m | \u001b[1mINFO    \u001b[0m | \u001b[36msrc.manifestos.embed\u001b[0m:\u001b[36mget_rag_embeddings\u001b[0m:\u001b[36m19\u001b[0m - \u001b[1mCreating RAG embeddings for party: DIE_GRÜNEN\u001b[0m\n",
      "100%|██████████| 653/653 [06:24<00:00,  1.70it/s]\n",
      "\u001b[32m2025-05-31 21:40:04.641\u001b[0m | \u001b[1mINFO    \u001b[0m | \u001b[36msrc.run_prediction\u001b[0m:\u001b[36mrun_prediction\u001b[0m:\u001b[36m47\u001b[0m - \u001b[1mProcessing party: DIE_LINKE\u001b[0m\n",
      "\u001b[32m2025-05-31 21:40:04.642\u001b[0m | \u001b[1mINFO    \u001b[0m | \u001b[36msrc.manifestos.embed\u001b[0m:\u001b[36mget_rag_embeddings\u001b[0m:\u001b[36m19\u001b[0m - \u001b[1mCreating RAG embeddings for party: DIE_LINKE\u001b[0m\n",
      "100%|██████████| 653/653 [06:10<00:00,  1.76it/s]\n",
      "\u001b[32m2025-05-31 21:46:14.965\u001b[0m | \u001b[1mINFO    \u001b[0m | \u001b[36msrc.run_prediction\u001b[0m:\u001b[36mrun_prediction\u001b[0m:\u001b[36m47\u001b[0m - \u001b[1mProcessing party: FDP\u001b[0m\n",
      "\u001b[32m2025-05-31 21:46:14.966\u001b[0m | \u001b[1mINFO    \u001b[0m | \u001b[36msrc.manifestos.embed\u001b[0m:\u001b[36mget_rag_embeddings\u001b[0m:\u001b[36m19\u001b[0m - \u001b[1mCreating RAG embeddings for party: FDP\u001b[0m\n",
      "100%|██████████| 653/653 [06:25<00:00,  1.70it/s]\n",
      "\u001b[32m2025-05-31 21:52:40.247\u001b[0m | \u001b[1mINFO    \u001b[0m | \u001b[36msrc.run_prediction\u001b[0m:\u001b[36mrun_prediction\u001b[0m:\u001b[36m47\u001b[0m - \u001b[1mProcessing party: SPD\u001b[0m\n",
      "\u001b[32m2025-05-31 21:52:40.249\u001b[0m | \u001b[1mINFO    \u001b[0m | \u001b[36msrc.manifestos.embed\u001b[0m:\u001b[36mget_rag_embeddings\u001b[0m:\u001b[36m19\u001b[0m - \u001b[1mCreating RAG embeddings for party: SPD\u001b[0m\n",
      "100%|██████████| 653/653 [06:13<00:00,  1.75it/s]\n",
      "\u001b[32m2025-05-31 21:58:54.289\u001b[0m | \u001b[1mINFO    \u001b[0m | \u001b[36msrc.run_prediction\u001b[0m:\u001b[36mrun_prediction\u001b[0m:\u001b[36m47\u001b[0m - \u001b[1mProcessing party: Union\u001b[0m\n",
      "\u001b[32m2025-05-31 21:58:54.290\u001b[0m | \u001b[1mINFO    \u001b[0m | \u001b[36msrc.manifestos.embed\u001b[0m:\u001b[36mget_rag_embeddings\u001b[0m:\u001b[36m19\u001b[0m - \u001b[1mCreating RAG embeddings for party: Union\u001b[0m\n",
      "100%|██████████| 653/653 [06:05<00:00,  1.79it/s]\n",
      "\u001b[32m2025-05-31 22:05:01.096\u001b[0m | \u001b[1mINFO    \u001b[0m | \u001b[36msrc.feature_engineering.categories\u001b[0m:\u001b[36mget_category_column\u001b[0m:\u001b[36m36\u001b[0m - \u001b[1mCalculating closest categories through embeddings\u001b[0m\n",
      "\u001b[32m2025-05-31 22:05:01.097\u001b[0m | \u001b[1mINFO    \u001b[0m | \u001b[36msrc.feature_engineering.categories\u001b[0m:\u001b[36mget_embeddings\u001b[0m:\u001b[36m13\u001b[0m - \u001b[1mLoading existing categories embeddings...\u001b[0m\n"
     ]
    }
   ],
   "source": [
    "from src.run_prediction import run_prediction\n",
    "\n",
    "run_prediction(name=\"deepseek_chat\")"
   ]
  },
  {
   "cell_type": "code",
   "execution_count": null,
   "id": "c67dc8bf",
   "metadata": {},
   "outputs": [],
   "source": []
  }
 ],
 "metadata": {
  "kernelspec": {
   "display_name": "langchain",
   "language": "python",
   "name": "python3"
  },
  "language_info": {
   "codemirror_mode": {
    "name": "ipython",
    "version": 3
   },
   "file_extension": ".py",
   "mimetype": "text/x-python",
   "name": "python",
   "nbconvert_exporter": "python",
   "pygments_lexer": "ipython3",
   "version": "3.13.2"
  }
 },
 "nbformat": 4,
 "nbformat_minor": 5
}
