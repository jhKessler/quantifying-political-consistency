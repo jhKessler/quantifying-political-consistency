{
 "cells": [
  {
   "cell_type": "code",
   "execution_count": 10,
   "id": "ccc2cd90",
   "metadata": {},
   "outputs": [],
   "source": [
    "import pandas as pd\n",
    "from collections import Counter\n",
    "\n",
    "models = [\"deepseek_reasoner\", \"gpt_4_1\", \"gpt_4_1_mini\"]\n",
    "predictions = {model: pd.read_parquet(f\"output/predictions_{model}.parquet\") for model in models}\n",
    "\n",
    "base_df = predictions['deepseek_reasoner'].copy()\n",
    "base_df = base_df.rename(columns={'prediction': 'deepseek_reasoner_prediction'})\n",
    "\n",
    "\n",
    "merged_df = pd.merge(base_df, predictions['gpt_4_1'][['vote_id', 'drucksache_id', 'party', 'prediction']],\n",
    "                     on=['vote_id', 'drucksache_id', 'party'], how='left').rename(\n",
    "                         columns={'prediction': 'gpt_4_1_prediction'}\n",
    "                     )\n",
    "\n",
    "merged_df = pd.merge(merged_df, predictions['gpt_4_1_mini'][['vote_id', 'drucksache_id', 'party', 'prediction']],\n",
    "                     on=['vote_id', 'drucksache_id', 'party'], how='left').rename(\n",
    "                         columns={'prediction': 'gpt_4_1_mini_prediction'}\n",
    "                     )\n",
    "\n",
    "def get_majority_vote(row):\n",
    "    \"\"\"\n",
    "    Finds the majority vote from a row of predictions.\n",
    "    If there's a tie, it chooses the first one.\n",
    "    \"\"\"\n",
    "    votes = [row['deepseek_reasoner_prediction'], row['gpt_4_1_prediction'], row['gpt_4_1_mini_prediction']]\n",
    "    votes = [vote for vote in votes if pd.notna(vote)] \n",
    "    \n",
    "    if not votes:\n",
    "        return None \n",
    "        \n",
    "    counts = Counter(votes)\n",
    "    max_count = max(counts.values())\n",
    "    majority_choices = [vote for vote, count in counts.items() if count == max_count]\n",
    "    \n",
    "    return majority_choices[0]\n",
    "\n",
    "merged_df['prediction'] = merged_df.apply(get_majority_vote, axis=1)\n",
    "\n",
    "final_df = merged_df.copy()\n"
   ]
  },
  {
   "cell_type": "code",
   "execution_count": 12,
   "id": "4fcfdc2a",
   "metadata": {},
   "outputs": [],
   "source": [
    "final_df.to_parquet(\"output/predictions_majority_vote.parquet\", index=False)"
   ]
  },
  {
   "cell_type": "code",
   "execution_count": null,
   "id": "8e4646db",
   "metadata": {},
   "outputs": [],
   "source": []
  }
 ],
 "metadata": {
  "kernelspec": {
   "display_name": "langchain",
   "language": "python",
   "name": "python3"
  },
  "language_info": {
   "codemirror_mode": {
    "name": "ipython",
    "version": 3
   },
   "file_extension": ".py",
   "mimetype": "text/x-python",
   "name": "python",
   "nbconvert_exporter": "python",
   "pygments_lexer": "ipython3",
   "version": "3.13.2"
  }
 },
 "nbformat": 4,
 "nbformat_minor": 5
}
